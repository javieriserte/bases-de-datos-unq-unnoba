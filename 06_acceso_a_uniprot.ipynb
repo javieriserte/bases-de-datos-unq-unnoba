{
 "cells": [
  {
   "cell_type": "markdown",
   "id": "922f4a8c",
   "metadata": {},
   "source": [
    "# Acceso programático a Uniprot\n",
    "\n",
    "Uniprot también ofrece una REST-API para acceder a sus datos.\n",
    "\n",
    "Esta interfaz es bastante mas sencilla que la de NCBI."
   ]
  },
  {
   "cell_type": "code",
   "execution_count": null,
   "id": "1476a20a",
   "metadata": {
    "vscode": {
     "languageId": "r"
    }
   },
   "outputs": [],
   "source": [
    "library(httr)"
   ]
  },
  {
   "cell_type": "code",
   "execution_count": null,
   "id": "49452f26",
   "metadata": {
    "vscode": {
     "languageId": "r"
    }
   },
   "outputs": [],
   "source": [
    "base_url   <- \"https://rest.uniprot.org/uniprotkb/search\""
   ]
  },
  {
   "cell_type": "markdown",
   "id": "d658a94b",
   "metadata": {},
   "source": [
    "Al igual que NCBI, podemos hacer búsquedas por texto, especificando campos lo hacíamos en NCBI, aunque con un formato diferente.\n",
    "\n",
    "Para escribir nuestra búsqueda tenemos que conocer los campos disponibles:\n",
    "\n",
    "Estos están en: https://www.uniprot.org/help/query-fields.\n",
    "\n",
    "El texto de búsqueda tiene que tener una cierta sintaxis: https://www.uniprot.org/help/text-search.\n",
    "\n",
    "Además tenemos que buscar definir el formato en el que queremos los datos: Tipicamente, en formato tabular y fasta para las secuencias.\n",
    "\n",
    "Por último que tenemos que definir que datos queremos recuperar: https://www.uniprot.org/help/return_fields"
   ]
  },
  {
   "cell_type": "markdown",
   "id": "2b492efd",
   "metadata": {},
   "source": [
    "Por ejemplo: queremos recuperar datos de proteínas polymerases de E. coli que\n",
    "\n",
    "pertenezcan a Swiss-Prot (es decir que estén curadas manualmente)."
   ]
  },
  {
   "cell_type": "code",
   "execution_count": null,
   "id": "d47b3d9d",
   "metadata": {
    "vscode": {
     "languageId": "r"
    }
   },
   "outputs": [],
   "source": [
    "query <- 'protein_name:(RNA polymerase) AND (organism_name:\"Escherichia coli\") AND (reviewed:true)'\n",
    "\n",
    "respuesta <- GET(\n",
    "    base_url,\n",
    "    query=list(query=query, format=\"tsv\", fields=\"id,accession,protein_name,go_id\")\n",
    ")\n"
   ]
  },
  {
   "cell_type": "code",
   "execution_count": null,
   "id": "9e2efa0a",
   "metadata": {
    "vscode": {
     "languageId": "r"
    }
   },
   "outputs": [],
   "source": [
    "read.table(text=content(respuesta), header=TRUE, sep=\"\\t\")"
   ]
  },
  {
   "cell_type": "code",
   "execution_count": null,
   "id": "551221fc",
   "metadata": {
    "scrolled": true,
    "vscode": {
     "languageId": "r"
    }
   },
   "outputs": [],
   "source": [
    "ecoli_pol <- read.table(text=content(respuesta), header=TRUE, sep=\"\\t\")\n",
    "head(ecoli_pol)"
   ]
  },
  {
   "cell_type": "markdown",
   "id": "3d94a176",
   "metadata": {},
   "source": [
    "Podemos descargar los secuencias de estas proteinas en formato fasta\n",
    "cambiando el formato de la respuesta.\n",
    "\n",
    "[Uniprot reference](https://www.uniprot.org/help/api_queries#list-of-all-formats)"
   ]
  },
  {
   "cell_type": "code",
   "execution_count": null,
   "id": "651d9f94",
   "metadata": {
    "vscode": {
     "languageId": "r"
    }
   },
   "outputs": [],
   "source": [
    "query <- 'protein_name:(RNA polymerase) AND (organism_name:\"Escherichia coli\") AND (reviewed:true)'\n",
    "\n",
    "respuesta <- GET(\n",
    "    base_url,\n",
    "    query=list(\n",
    "        query=query,\n",
    "        format=\"fasta\",\n",
    "        fields=\"id,protein_name\"\n",
    "    )\n",
    ")\n"
   ]
  },
  {
   "cell_type": "code",
   "execution_count": null,
   "id": "639a14f4",
   "metadata": {
    "vscode": {
     "languageId": "r"
    }
   },
   "outputs": [],
   "source": [
    "?httr"
   ]
  },
  {
   "cell_type": "code",
   "execution_count": null,
   "id": "3629e6d2",
   "metadata": {
    "vscode": {
     "languageId": "r"
    }
   },
   "outputs": [],
   "source": [
    "status_code(respuesta)"
   ]
  },
  {
   "cell_type": "code",
   "execution_count": null,
   "id": "7405fa8c",
   "metadata": {
    "vscode": {
     "languageId": "r"
    }
   },
   "outputs": [],
   "source": [
    "# Podemos recuperar las secuencias de los registros de a uno\n",
    "query <- paste(paste(\"accession:\", ecoli_pol$Entry[1]), collapse=\" \")\n",
    "respuesta <- GET(\n",
    "    base_url,\n",
    "    query=list(query=query, format=\"fasta\")\n",
    ")\n"
   ]
  },
  {
   "cell_type": "code",
   "execution_count": null,
   "id": "3656e323",
   "metadata": {
    "scrolled": true,
    "vscode": {
     "languageId": "r"
    }
   },
   "outputs": [],
   "source": [
    "cat(content(respuesta))"
   ]
  },
  {
   "cell_type": "markdown",
   "id": "abe721e0",
   "metadata": {},
   "source": [
    "Como acceder a las secuencias"
   ]
  },
  {
   "cell_type": "code",
   "execution_count": null,
   "id": "a4f3f433",
   "metadata": {
    "vscode": {
     "languageId": "r"
    }
   },
   "outputs": [],
   "source": [
    "# Para leer formato fasta\n",
    "# install.packages('seqinr')\n",
    "# library(seqinr)\n",
    "sequences <- read.fasta(file=textConnection(content(respuesta, as=\"text\")))\n",
    "\n",
    "# sequences[[1]]\n",
    "\n",
    "# summary(sequences[[1]])\n",
    "\n",
    "# attributes(sequences[[1]])\n",
    "\n",
    "# attributes(sequences[[1]])"
   ]
  },
  {
   "cell_type": "markdown",
   "id": "6b44670f",
   "metadata": {},
   "source": [
    "## Servicio IDMapping\n",
    "\n",
    "Uniprot tiene un servicio que permite mapear identificadores entre diferentes bases de datos.\n",
    "\n",
    "Es necesario pasarle un lista de identificadores, y decir cuales son las bases\n",
    "\n",
    "de datos (o tipo de identificadores) de origen y destino.\n",
    "\n",
    "Lista de los tipos de identificadores que se pueden usar están en:\n",
    "\n",
    "- https://rest.uniprot.org/configure/idmapping/fields"
   ]
  },
  {
   "cell_type": "code",
   "execution_count": null,
   "id": "80642b8a",
   "metadata": {
    "vscode": {
     "languageId": "r"
    }
   },
   "outputs": [],
   "source": [
    "library(httr2)"
   ]
  },
  {
   "cell_type": "code",
   "execution_count": null,
   "id": "902b5126",
   "metadata": {
    "vscode": {
     "languageId": "r"
    }
   },
   "outputs": [],
   "source": [
    "req <- request(url)\n",
    "\n",
    "req %>% req_body_multipart(\n",
    "  ids=\"P21802\",\n",
    "  from=\"UniProtKB_AC-ID\",\n",
    "  to=\"UniRef90\"\n",
    ") %>%\n",
    "  req_perform()"
   ]
  },
  {
   "cell_type": "code",
   "execution_count": null,
   "id": "2b672b66",
   "metadata": {
    "vscode": {
     "languageId": "r"
    }
   },
   "outputs": [],
   "source": [
    "url <- \"https://rest.uniprot.org/idmapping/run\"\n",
    "\n",
    "# Define the parameters\n",
    "params <- list(\n",
    "  ids=\"P21802\",\n",
    "  from=\"UniProtKB_AC-ID\",\n",
    "  to=\"UniRef90\"\n",
    ")\n",
    "\n",
    "# Perform the POST request\n",
    "response <- POST(\n",
    "  url ,\n",
    "  body = params,\n",
    "  encode=\"multipart\"\n",
    ")\n"
   ]
  },
  {
   "cell_type": "code",
   "execution_count": null,
   "id": "72108617",
   "metadata": {
    "vscode": {
     "languageId": "r"
    }
   },
   "outputs": [],
   "source": [
    "response"
   ]
  },
  {
   "cell_type": "code",
   "execution_count": null,
   "id": "0c231c4e",
   "metadata": {
    "vscode": {
     "languageId": "r"
    }
   },
   "outputs": [],
   "source": [
    "retrieve_url <- 'https://rest.uniprot.org/idmapping/run/'\n",
    "POST(\n",
    "    url=retrieve_url,\n",
    "    body=list(\n",
    "        ids='P21802,P12345',\n",
    "        from='UniProtKB_AC-ID',\n",
    "        to='UniRef90'\n",
    "    ),\n",
    "    encode=\"json\"\n",
    ")\n"
   ]
  },
  {
   "cell_type": "code",
   "execution_count": null,
   "id": "9378fa3c",
   "metadata": {
    "vscode": {
     "languageId": "r"
    }
   },
   "outputs": [],
   "source": [
    "content(respuesta)"
   ]
  },
  {
   "cell_type": "code",
   "execution_count": null,
   "id": "c304c6e8",
   "metadata": {
    "vscode": {
     "languageId": "r"
    }
   },
   "outputs": [],
   "source": [
    "mapping <- head(read.table(text=content(respuesta), header=TRUE))"
   ]
  },
  {
   "cell_type": "code",
   "execution_count": null,
   "id": "9315f403",
   "metadata": {
    "vscode": {
     "languageId": "r"
    }
   },
   "outputs": [],
   "source": [
    "mapping"
   ]
  },
  {
   "cell_type": "markdown",
   "id": "e9dce68b",
   "metadata": {},
   "source": [
    "## Paquetes de R para conectarse a Uniprot\n",
    "\n",
    "Hay dos paquetes de R que permiten conectarse a Uniprot:\n",
    "\n",
    "- Uniprot.ws: https://www.bioconductor.org/packages/release/bioc/html/UniProt.ws.html\n",
    "- UniprotR: https://cran.r-project.org/web/packages/UniprotR/index.html\n",
    "\n",
    "No tienen una funcionalidad muy completa, por ejemplo carecen de la capacidad de hacer búsquedas de texto.\n",
    "\n",
    "Aunque permiten descargar datos si se tienen los identificadores de los registros."
   ]
  }
 ],
 "metadata": {
  "kernelspec": {
   "display_name": "R",
   "language": "R",
   "name": "ir"
  },
  "language_info": {
   "codemirror_mode": "r",
   "file_extension": ".r",
   "mimetype": "text/x-r-source",
   "name": "R",
   "pygments_lexer": "r",
   "version": "4.1.2"
  }
 },
 "nbformat": 4,
 "nbformat_minor": 5
}
