{
 "cells": [
  {
   "cell_type": "markdown",
   "id": "922f4a8c",
   "metadata": {},
   "source": [
    "# Acceso programático a Uniprot\n",
    "\n",
    "Uniprot también ofrece una REST-API para acceder a sus datos.\n",
    "\n",
    "Esta interfaz es bastante mas sencilla que la de NCBI."
   ]
  },
  {
   "cell_type": "markdown",
   "id": "28390287",
   "metadata": {},
   "source": [
    "La url de uniprot es \"https://www.uniprot.org/uniprot\", \n",
    "pero en algunos sistemas no puede usarse correctamente.\n",
    "En su lugar podemos usar \"https://histidine.dbi.udel.edu/uniprot/\"."
   ]
  },
  {
   "cell_type": "code",
   "execution_count": null,
   "id": "1476a20a",
   "metadata": {},
   "outputs": [],
   "source": [
    "library(httr)"
   ]
  },
  {
   "cell_type": "code",
   "execution_count": null,
   "id": "49452f26",
   "metadata": {},
   "outputs": [],
   "source": [
    "# base_url   <- \"https://histidine.dbi.udel.edu/uniprot/\"\n",
    "base_url   <- \"https://www.uniprot.org/uniprot/\""
   ]
  },
  {
   "cell_type": "markdown",
   "id": "d658a94b",
   "metadata": {},
   "source": [
    "Al igual que NCBI, podemos hacer búsquedas por texto, especificando campos lo hacíamos en NCBI, aunque con un formato diferente.\n",
    "\n",
    "Para escribir nuestra búsqueda tenemos que conocer los campos disponibles:\n",
    "\n",
    "Estos están en: https://www.uniprot.org/help/query-fields.\n",
    "\n",
    "El texto de búsqueda tiene que tener una cierta sintaxis: https://www.uniprot.org/help/text-search.\n",
    "\n",
    "Además tenemos que buscar definir el formato en el que queremos los datos: Tipicamente, en formato tabular y fasta para las secuencias.\n",
    "\n",
    "Por último que tenemos que definir que datos queremos recuperar (columnas): https://www.uniprot.org/help/uniprotkb_column_names."
   ]
  },
  {
   "cell_type": "markdown",
   "id": "2b492efd",
   "metadata": {},
   "source": [
    "Por ejemplo: queremos recuperar datos de proteínas polymerases de E. coli que pertenezcan a Swiss-Prot (es decir que estén curadas manualmente)."
   ]
  },
  {
   "cell_type": "code",
   "execution_count": null,
   "id": "d47b3d9d",
   "metadata": {},
   "outputs": [],
   "source": [
    "query <- 'name:RNA polymerase AND organism:\"Escherichia coli\" AND reviewed:yes'\n",
    "\n",
    "respuesta <- GET(\n",
    "    base_url,\n",
    "    query=list(query=query, format=\"tab\", columns=\"id,entry name,protein names\")\n",
    ")\n"
   ]
  },
  {
   "cell_type": "code",
   "execution_count": null,
   "id": "551221fc",
   "metadata": {
    "scrolled": true
   },
   "outputs": [],
   "source": [
    "ecoli_pol <- read.table(text=content(respuesta), header=TRUE, sep=\"\\t\")\n",
    "head(ecoli_pol)"
   ]
  },
  {
   "cell_type": "code",
   "execution_count": null,
   "id": "7405fa8c",
   "metadata": {},
   "outputs": [],
   "source": [
    "# Podemos recuperar las secuencias de los registros de a uno\n",
    "query <- paste(paste(\"accession:\", ecoli_pol$Entry[1]), collapse=\" \")\n",
    "respuesta <- GET(\n",
    "    base_url,\n",
    "    query=list(query=query, format=\"fasta\")\n",
    ")\n"
   ]
  },
  {
   "cell_type": "code",
   "execution_count": null,
   "id": "3656e323",
   "metadata": {
    "scrolled": true
   },
   "outputs": [],
   "source": [
    "cat(content(respuesta))"
   ]
  },
  {
   "cell_type": "code",
   "execution_count": null,
   "id": "79eac38c",
   "metadata": {},
   "outputs": [],
   "source": [
    "# O podemos usar un servicio especial para recuperar varias secuencias.\n",
    "retrieve_url <- 'https://www.uniprot.org/uploadlists'\n",
    "respuesta <- GET(\n",
    "    url=retrieve_url,\n",
    "    query=list(\n",
    "        query=paste(ecoli_pol$Entry,collapse=\" \"),\n",
    "        format=\"fasta\",\n",
    "        from='ACC+ID',\n",
    "        to='ACC'\n",
    "    )\n",
    ")"
   ]
  },
  {
   "cell_type": "code",
   "execution_count": null,
   "id": "930b116e",
   "metadata": {},
   "outputs": [],
   "source": [
    "cat(content(respuesta, as=\"text\"))"
   ]
  },
  {
   "cell_type": "code",
   "execution_count": null,
   "id": "a4f3f433",
   "metadata": {},
   "outputs": [],
   "source": [
    "# install.packages('seqinr')\n",
    "# Para leer formato fasta\n",
    "library(seqinr)\n",
    "sequences <- read.fasta(file=textConnection(content(respuesta, as=\"text\")))\n",
    "\n",
    "sequences[[1]]\n",
    "\n",
    "# summary(sequences[[1]])\n",
    "\n",
    "# attributes(sequences[[1]])\n",
    "\n",
    "# attributes(sequences[[1]])$Name"
   ]
  },
  {
   "cell_type": "markdown",
   "id": "6b44670f",
   "metadata": {},
   "source": [
    "## Servicio IDMapping\n",
    "\n",
    "Uniprot tiene un servicio que permite mapear identificadores entre diferentes bases de datos.\n",
    "\n",
    "Es necesario pasarle un lista de identificadores, y decir cuales son las bases de datos (o tipo de identificadores)\n",
    "de origen y destino.\n",
    "\n",
    "Lista de los tipos de identificadores que se pueden usar están en: https://www.uniprot.org/help/api_idmapping."
   ]
  },
  {
   "cell_type": "code",
   "execution_count": null,
   "id": "0c231c4e",
   "metadata": {},
   "outputs": [],
   "source": [
    "retrieve_url <- 'https://www.uniprot.org/uploadlists'\n",
    "respuesta <- GET(\n",
    "    url=retrieve_url,\n",
    "    query=list(\n",
    "        query=paste(ecoli_pol$Entry,collapse=\" \"),\n",
    "        format=\"tab\",\n",
    "        from='ACC+ID',\n",
    "        to='PDB_ID'\n",
    "    )\n",
    ")\n"
   ]
  },
  {
   "cell_type": "code",
   "execution_count": null,
   "id": "c304c6e8",
   "metadata": {},
   "outputs": [],
   "source": [
    "mapping <- head(read.table(text=content(respuesta), header=TRUE))"
   ]
  },
  {
   "cell_type": "code",
   "execution_count": null,
   "id": "9315f403",
   "metadata": {},
   "outputs": [],
   "source": [
    "mapping"
   ]
  },
  {
   "cell_type": "markdown",
   "id": "e9dce68b",
   "metadata": {},
   "source": [
    "## Paquetes de R para conectarse a Uniprot\n",
    "\n",
    "Hay dos paquetes de R que permiten conectarse a Uniprot:\n",
    "\n",
    "- Uniprot.ws: https://www.bioconductor.org/packages/release/bioc/html/UniProt.ws.html\n",
    "- UniprotR: https://cran.r-project.org/web/packages/UniprotR/index.html\n",
    "\n",
    "No tienen una funcionalidad muy completa, por ejemplo carecen de la capacidad de hacer búsquedas de texto.\n",
    "\n",
    "Aunque permiten descargar datos si se tienen los identificadores de los registros."
   ]
  }
 ],
 "metadata": {
  "kernelspec": {
   "display_name": "R",
   "language": "R",
   "name": "ir"
  },
  "language_info": {
   "codemirror_mode": "r",
   "file_extension": ".r",
   "mimetype": "text/x-r-source",
   "name": "R",
   "pygments_lexer": "r",
   "version": "4.0.3"
  }
 },
 "nbformat": 4,
 "nbformat_minor": 5
}
