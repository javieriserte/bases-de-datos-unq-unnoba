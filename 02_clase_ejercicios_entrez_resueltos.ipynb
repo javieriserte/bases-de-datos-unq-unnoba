{
 "cells": [
  {
   "cell_type": "markdown",
   "id": "65050495-68f9-4671-a47b-7ecf006c3af9",
   "metadata": {},
   "source": [
    "\n",
    "\n",
    " # **Ejercicios prácticos de acceso vía Entrez/E-utilities**"
   ]
  },
  {
   "cell_type": "code",
   "execution_count": 1,
   "metadata": {},
   "outputs": [],
   "source": [
    "from typing import Optional\n",
    "from io import StringIO\n",
    "import json\n",
    "import requests\n",
    "import jsonpath_ng.ext as jp\n",
    "import pandas as pd\n",
    "from Bio import SeqIO\n",
    "from lxml import etree\n",
    "import time\n",
    "import matplotlib.pyplot as plt\n",
    "\n",
    "EInfo = \"https://eutils.ncbi.nlm.nih.gov/entrez/eutils/einfo.fcgi\"\n",
    "ESearch = \"https://eutils.ncbi.nlm.nih.gov/entrez/eutils/esearch.fcgi\"\n",
    "ESummary = \"https://eutils.ncbi.nlm.nih.gov/entrez/eutils/esummary.fcgi\"\n",
    "EFetch = \"https://eutils.ncbi.nlm.nih.gov/entrez/eutils/efetch.fcgi\""
   ]
  },
  {
   "cell_type": "code",
   "execution_count": 2,
   "metadata": {},
   "outputs": [],
   "source": [
    "def get_einfo(db:Optional[str]= None) -> dict:\n",
    "    params = { \"retmode\": \"json\" }\n",
    "    if db:\n",
    "        params.update({\"db\": db})\n",
    "    response = requests.get(EInfo, params=params, timeout=10)\n",
    "    response.raise_for_status()\n",
    "    return response.json()"
   ]
  },
  {
   "cell_type": "code",
   "execution_count": 3,
   "metadata": {},
   "outputs": [],
   "source": [
    "def eSearch(term: str, db: str, retstart=0, retmax=20) -> dict:\n",
    "    params = {\n",
    "        \"retmode\": \"json\",\n",
    "        \"db\":db,\n",
    "        \"term\": term,\n",
    "        \"retstart\": retstart,\n",
    "        \"retmax\": retmax\n",
    "    }\n",
    "    response = requests.get(ESearch, params=params, timeout=10)\n",
    "    response.raise_for_status()\n",
    "    return response.json()"
   ]
  },
  {
   "cell_type": "code",
   "execution_count": 4,
   "metadata": {},
   "outputs": [],
   "source": [
    "def eSummary(id:str, db:str) -> dict:\n",
    "    params = {\n",
    "        \"id\": id,\n",
    "        \"retmode\": \"json\",\n",
    "        \"db\": db\n",
    "    }\n",
    "    response = requests.get(ESummary, params=params, timeout=20)\n",
    "    response.raise_for_status()\n",
    "    return response.json()"
   ]
  },
  {
   "cell_type": "code",
   "execution_count": 5,
   "metadata": {},
   "outputs": [],
   "source": [
    "def efetch(id: str, db: str, format: str):\n",
    "    if format == \"xml\":\n",
    "        retmode = 'xml'\n",
    "        rettype = None\n",
    "    if format == \"genbank\":\n",
    "        retmode = \"text\"\n",
    "        rettype = \"gb\"\n",
    "    if format == \"fasta\":\n",
    "        retmode = \"text\"\n",
    "        rettype = \"fasta\"\n",
    "    if format == \"ft\":\n",
    "        retmode = \"text\"\n",
    "        rettype = \"ft\"\n",
    "    params = {\n",
    "        \"db\": db,\n",
    "        \"id\": id,\n",
    "        \"retmode\": retmode,\n",
    "        \"rettype\": rettype\n",
    "    }\n",
    "    response = requests.get(EFetch, params=params, timeout=10)\n",
    "    response.raise_for_status()\n",
    "    return response.content.decode()"
   ]
  },
  {
   "cell_type": "markdown",
   "id": "059f2988-2b4c-4659-afa9-deacb17e3543",
   "metadata": {},
   "source": [
    "# 1. **EInfo: buscar todas las bases de datos disponibles**\n",
    " Genera una tabla con:\n",
    " - Nombre de la base de datos\n",
    " - Descripción\n",
    " - Número de registros\n",
    " - Fecha de última Actualización."
   ]
  },
  {
   "cell_type": "code",
   "execution_count": null,
   "metadata": {},
   "outputs": [],
   "source": [
    "all_dbs = [ x.value for x in jp.parse(\"$..dblist[*]\").find(get_einfo()) ]"
   ]
  },
  {
   "cell_type": "code",
   "execution_count": null,
   "metadata": {},
   "outputs": [],
   "source": [
    "all_dbs_data = []\n",
    "for current_db in all_dbs:\n",
    "    data = get_einfo(current_db)\n",
    "    dbname = jp.parse(\"$..dbname\").find(data)[0].value\n",
    "    dbdescription = jp.parse(\"$..description\").find(data)[0].value\n",
    "    dbcount = jp.parse(\"$..count\").find(data)[0].value\n",
    "    dblastupdate = jp.parse(\"$..lastupdate\").find(data)[0].value\n",
    "    all_dbs_data.append([dbname, dbdescription, dbcount, dblastupdate])\n",
    "\n",
    "all_dbs_table = pd.DataFrame(\n",
    "    all_dbs_data,\n",
    "    columns=[\"name\", \"dbdescription\", \"count\", \"lastupadte\"]\n",
    ")"
   ]
  },
  {
   "cell_type": "code",
   "execution_count": null,
   "metadata": {},
   "outputs": [],
   "source": [
    "display(all_dbs_table)"
   ]
  },
  {
   "cell_type": "markdown",
   "id": "d759b307-5f61-404f-a105-cbbb9e92bf3c",
   "metadata": {},
   "source": [
    "\n",
    "\n",
    " ## 2. **Buscar el ID de una secuencia de GenBank por nombre**\n",
    " Usa `esearch` para encontrar el **ID** de la secuencia del gen **BRCA1\n",
    " humano** en GenBank."
   ]
  },
  {
   "cell_type": "code",
   "execution_count": null,
   "metadata": {},
   "outputs": [],
   "source": [
    "term = 'BRCA1[Gene Name] AND \"Homo sapiens\"[Organism] AND BRCA1[Title] AND (biomol_genomic[PROP] AND refseq[filter])'\n",
    "data = eSearch(term, \"nuccore\")\n",
    "\n",
    "n_results = jp.parse(\"$..count\").find(data)[0].value\n",
    "print(f\"Se encontraron: {n_results} registros.\")\n",
    "print(\"El id es:\", jp.parse(\"$..idlist[0]\").find(data)[0].value)"
   ]
  },
  {
   "cell_type": "markdown",
   "id": "379f7cd1-7c84-417b-b60f-48020d5acbc0",
   "metadata": {},
   "source": [
    "\n",
    "\n",
    " ## 3. **Obtener el archivo GenBank completo para un Accession ID**\n",
    " Usa `efetch` para descargar el archivo GenBank (`retmode=gb`) del gen\n",
    " **COX1** de *Homo sapiens*."
   ]
  },
  {
   "cell_type": "code",
   "execution_count": null,
   "metadata": {},
   "outputs": [],
   "source": [
    "# Hay dos genes COX1 humanos, uno en cromosoma 9 y otro en mitocondria\n",
    "# La cromosomica se llama oficialmente PTGS1 y la mitocondrial MT-CO1\n",
    "\n",
    "term = 'COX1[Gene Name] AND \"Homo sapiens\"[Organism] AND PTGS1[Title] AND (biomol_genomic[PROP] AND refseq[filter])'\n",
    "data = eSearch(term, \"nuccore\")\n",
    "\n",
    "n_results = jp.parse(\"$..count\").find(data)[0].value\n",
    "print(f\"Se encontraron: {n_results} registros.\")\n",
    "current_id = jp.parse(\"$..idlist[0]\").find(data)[0].value\n",
    "print(\"El id es:\", current_id)"
   ]
  },
  {
   "cell_type": "code",
   "execution_count": null,
   "metadata": {},
   "outputs": [],
   "source": [
    "gb = efetch(current_id, \"nuccore\", \"genbank\")\n",
    "\n",
    "with open(\"cox1.genbank\", \"w\", encoding=\"utf-8\") as fout:\n",
    "    fout.write(gb)"
   ]
  },
  {
   "cell_type": "markdown",
   "id": "ce241ee0-c223-4378-8064-bf00d291a536",
   "metadata": {},
   "source": [
    "\n",
    "\n",
    " ## 4. **Descargar la secuencia en formato FASTA**\n",
    " Busca y descarga la secuencia en formato **FASTA** del gen **16S rRNA** de\n",
    " *Escherichia coli*."
   ]
  },
  {
   "cell_type": "code",
   "execution_count": null,
   "metadata": {},
   "outputs": [],
   "source": [
    "term = '\"16S rRNA\"[Gene Name] AND \"Escherichia coli\"[Organism] AND 16S[Title] NOT partial[title] AND biomol_genomic[PROP]'\n",
    "\n",
    "search = eSearch(term, \"nuccore\")\n",
    "\n",
    "n_results = jp.parse(\"$..count\").find(search)[0].value\n",
    "print(f\"Se encontraron: {n_results} registros.\")\n",
    "current_ids = [x.value for x in jp.parse(\"$..idlist[*]\").find(search) ]\n",
    "print(\"Los Ids son:\", current_ids)"
   ]
  },
  {
   "cell_type": "code",
   "execution_count": null,
   "metadata": {},
   "outputs": [],
   "source": [
    "result = efetch(\",\".join(current_ids), db=\"nuccore\", format=\"fasta\")\n",
    "with open(\"16s.fasta\", \"w\", encoding=\"utf8\") as fout:\n",
    "    fout.write(result)\n"
   ]
  },
  {
   "cell_type": "markdown",
   "id": "37f949eb-b353-4f53-8356-6079d0a8baf9",
   "metadata": {},
   "source": [
    "\n",
    "\n",
    " ## 5. **Listar todos los Accessions de un organismo**\n",
    " Usa `esearch` + `efetch` para listar los **primeros 20 Accessions** de\n",
    " secuencias de *Arabidopsis thaliana* en RefSeq."
   ]
  },
  {
   "cell_type": "code",
   "execution_count": null,
   "metadata": {},
   "outputs": [],
   "source": [
    "term = 'Arabidopsis thaliana[Organism] and srcdb_refseq'\n",
    "\n",
    "search = eSearch(term, \"nuccore\")\n",
    "\n",
    "for c_id in jp.parse(\"$..idlist[*]\").find(search):\n",
    "    print(f\"Id: {c_id.value}\")"
   ]
  },
  {
   "cell_type": "markdown",
   "id": "8e76665e-f0f9-4aeb-86bd-c9bcf9dff485",
   "metadata": {},
   "source": [
    "\n",
    "\n",
    " ## 6. **Obtener los metadatos de una secuencia**\n",
    " Con `esummary`, extrae información como el título, longitud y fecha de\n",
    " publicación para una secuencia dada."
   ]
  },
  {
   "cell_type": "code",
   "execution_count": null,
   "metadata": {},
   "outputs": [],
   "source": [
    "def get_metadata(id:str):\n",
    "    data = eSummary(id, \"nuccore\")\n",
    "    title = jp.parse(\"$..title\").find(data)[0].value\n",
    "    sequence_length = jp.parse(\"$..slen\").find(data)[0].value\n",
    "    create_date = jp.parse(\"$..createdate\").find(data)[0].value\n",
    "    return {\n",
    "        \"title\": title,\n",
    "        \"sequence_length\": sequence_length,\n",
    "        \"create_date\": create_date\n",
    "    }"
   ]
  },
  {
   "cell_type": "code",
   "execution_count": null,
   "metadata": {},
   "outputs": [],
   "source": [
    "get_metadata(\"1162502436\")"
   ]
  },
  {
   "cell_type": "markdown",
   "id": "7d688eda-433d-4582-9493-f99d791e8e4e",
   "metadata": {},
   "source": [
    "\n",
    "\n",
    " ## 7. **Buscar genes por palabra clave en la definición**\n",
    " Busca secuencias que contengan la palabra \"photosystem II\" en su definición y\n",
    " recupera los primeros 10 Accessions."
   ]
  },
  {
   "cell_type": "code",
   "execution_count": null,
   "metadata": {},
   "outputs": [],
   "source": [
    "# La definición en un archivo Genbank es lo que muestra como título.\n",
    "term = '\"photosystem II\"[Title]'\n",
    "search = eSearch(term, \"nuccore\")\n",
    "\n",
    "\n",
    "n_results = jp.parse(\"$..count\").find(search)[0].value\n",
    "print(f\"Se encontraron: {n_results} registros.\")\n",
    "\n",
    "current_ids = [x.value for x in jp.parse(\"$..idlist[*]\").find(search)][:10]\n",
    "print(\"Los 10 primeros Ids son:\", current_ids)\n"
   ]
  },
  {
   "cell_type": "code",
   "execution_count": null,
   "metadata": {},
   "outputs": [],
   "source": [
    "\n",
    "summaries = eSummary(\",\".join(current_ids), \"nuccore\")\n",
    "\n",
    "\n",
    "summaries"
   ]
  },
  {
   "cell_type": "code",
   "execution_count": null,
   "metadata": {},
   "outputs": [],
   "source": [
    "id_acc = []\n",
    "for c_id in current_ids:\n",
    "    query = f'$.result.[\"{c_id}\"].accessionversion'\n",
    "    accession = jp.parse(query).find(summaries)[0].value\n",
    "    id_acc.append([c_id, accession])\n",
    "\n",
    "id_acc_table = pd.DataFrame(\n",
    "    id_acc,\n",
    "    columns=[\"ID\", \"Accession\"]\n",
    ")\n",
    "display(id_acc_table)"
   ]
  },
  {
   "cell_type": "markdown",
   "id": "df7e2d15-3472-482c-8500-2384c9822a1a",
   "metadata": {},
   "source": [
    "\n",
    "\n",
    " ## 8. **Filtrar por tipo de molécula**\n",
    " Busca secuencias de ARN mensajero (**mRNA**) en *Mus musculus* relacionadas\n",
    " con \"interleukin\"."
   ]
  },
  {
   "cell_type": "code",
   "execution_count": null,
   "metadata": {},
   "outputs": [],
   "source": [
    "term = '\"Mus musculus\"[Organism] AND interleukin[Title] AND biomol_mrna[PROP]'\n",
    "\n",
    "search = eSearch(term, \"nuccore\")\n",
    "\n",
    "count = jp.parse(\"$..count\").find(search)[0].value\n",
    "\n",
    "print(f\"Count: {count}\")\n",
    "\n",
    "ids = [x.value for x in  jp.parse(\"$..idlist[*]\").find(search)]\n",
    "\n",
    "summaries = eSummary(\",\".join(ids), \"nuccore\")\n",
    "\n",
    "for title in jp.parse(\"$..title\").find(summaries):\n",
    "    print(\"Title: \", title.value)"
   ]
  },
  {
   "cell_type": "code",
   "execution_count": null,
   "metadata": {},
   "outputs": [],
   "source": [
    "fetch = efetch(\",\".join(ids), \"nuccore\", format=\"fasta\")\n",
    "print(fetch)"
   ]
  },
  {
   "cell_type": "markdown",
   "id": "0cd9097f-9f09-42db-9173-c3a675f17378",
   "metadata": {},
   "source": [
    "\n",
    "\n",
    " ## 9. **Obtener la traducción de una proteína a partir del CDS**\n",
    "  Extrae el campo `/translation` de una entrada GenBank que contenga una\n",
    "  secuencia codificante (CDS)."
   ]
  },
  {
   "cell_type": "code",
   "execution_count": null,
   "metadata": {},
   "outputs": [],
   "source": [
    "def extract_translations(prot_id:str):\n",
    "    fetch = efetch(prot_id, \"nuccore\", \"genbank\")\n",
    "    translations = []\n",
    "    for record in SeqIO.parse(StringIO(fetch), \"genbank\"):\n",
    "        cdss = [\n",
    "            f\n",
    "            for f in record.features\n",
    "            if f.type == \"CDS\"\n",
    "        ]\n",
    "        c_translations = [\n",
    "            tr\n",
    "            for cds in cdss\n",
    "            if \"translation\" in cds.qualifiers\n",
    "            for tr in cds.qualifiers[\"translation\"]\n",
    "        ]\n",
    "        for tr in c_translations:\n",
    "            translations.append(tr)\n",
    "    return translations\n",
    "\n",
    "extract_translations(12545)"
   ]
  },
  {
   "cell_type": "markdown",
   "id": "53993e84-d544-423f-99ea-a05b2754f69d",
   "metadata": {},
   "source": [
    "\n",
    "\n",
    " ## 10 **Buscar todos los genomas completos de un organismo**\n",
    "  Encuentra todas las entradas de genomas **completos** de *Mycobacterium\n",
    "  tuberculosis*."
   ]
  },
  {
   "cell_type": "code",
   "execution_count": null,
   "metadata": {},
   "outputs": [],
   "source": [
    "term = '\"Mycobacterium tuberculosis\"[Organism] and \"complete genome\"[title]'\n",
    "received_ids = []\n",
    "total_received = 0\n",
    "count = 1\n",
    "tries_left = 100\n",
    "while total_received < count and tries_left>0:\n",
    "    tries_left -= 1\n",
    "    search = eSearch(term, \"nuccore\", retstart=total_received, retmax=100)\n",
    "    count = int(jp.parse(\"$..count\").find(search)[0].value)\n",
    "    current_ids = [x.value for x in jp.parse(\"$..idlist[*]\").find(search)]\n",
    "    received_ids.extend(current_ids)\n",
    "    total_received += len(current_ids)\n",
    "\n",
    "\n",
    "print(f\"Recupere: {len(received_ids)} ids.\")"
   ]
  },
  {
   "cell_type": "markdown",
   "id": "5ec28153-aad2-4460-aafb-6c881cd5bb7f",
   "metadata": {},
   "source": [
    "\n",
    "\n",
    " ## 11. **Extraer estadísticas de longitud**\n",
    "  Descarga 100 secuencias de genes de *Saccharomyces cerevisiae* y calcula la\n",
    "  distribución de longitudes."
   ]
  },
  {
   "cell_type": "code",
   "execution_count": null,
   "metadata": {},
   "outputs": [],
   "source": [
    "term = '\"Saccharomyces cerevisiae\"[Organism]'\n",
    "\n",
    "search = eSearch(term, \"gene\", retmax=100)\n",
    "\n",
    "identifiers = [x.value for x in jp.parse(\"$..idlist[*]\").find(search)]\n",
    "\n",
    "print(identifiers)"
   ]
  },
  {
   "cell_type": "code",
   "execution_count": null,
   "metadata": {},
   "outputs": [],
   "source": [
    "all_data ={}\n",
    "for identifier in identifiers:\n",
    "    time.sleep(1)\n",
    "    data = efetch(identifier, \"gene\", format=\"xml\")\n",
    "    all_data[identifier] = data"
   ]
  },
  {
   "cell_type": "code",
   "execution_count": null,
   "metadata": {},
   "outputs": [],
   "source": [
    "\n",
    "rows = []\n",
    "for cid, c_data in all_data.items():\n",
    "    root = etree.parse(StringIO(c_data))\n",
    "    seq_accession = root.xpath(\".//Entrezgene_locus/Gene-commentary/Gene-commentary_accession/text()\")\n",
    "    seq_from = root.xpath(\".//Entrezgene_locus/Gene-commentary/Gene-commentary_seqs//Seq-interval_from/text()\")\n",
    "    seq_to = root.xpath(\".//Entrezgene_locus/Gene-commentary/Gene-commentary_seqs//Seq-interval_to/text()\")\n",
    "    gene_length = abs(int(seq_from[0])-int(seq_to[0]))+1\n",
    "    rows.append([seq_accession[0], int(seq_from[0]), int(seq_to[0]), gene_length])"
   ]
  },
  {
   "cell_type": "code",
   "execution_count": null,
   "metadata": {},
   "outputs": [],
   "source": [
    "sacc_table = pd.DataFrame(rows, columns = [\"accession\", \"from\", \"to\", \"len\"])\n",
    "\n",
    "sacc_table"
   ]
  },
  {
   "cell_type": "code",
   "execution_count": null,
   "metadata": {},
   "outputs": [],
   "source": [
    "fig, axes = plt.subplots()\n",
    "axes.hist(sacc_table.len, bins=20)\n"
   ]
  },
  {
   "cell_type": "markdown",
   "id": "b308dd5d-f908-46fa-b369-006024f53f51",
   "metadata": {},
   "source": [
    "\n",
    "\n",
    " ## 12. **Buscar entradas con anotaciones específicas**\n",
    " Buscar 10 entradas que tengan el qualifier\n",
    " `/product=\"cytochrome c oxidase subunit I\"`\n",
    "  y guarda sus FASTA en archivos separados."
   ]
  },
  {
   "cell_type": "code",
   "execution_count": null,
   "metadata": {},
   "outputs": [],
   "source": [
    "# /product == Prot Name o Gene Name\n",
    "\n",
    "term = '\"cytochrome c oxidase subunit I\"[Prot name]'\n",
    "\n",
    "search = eSearch(term, \"nuccore\", retmax=10)\n",
    "\n",
    "identifiers = [x.value for x in jp.parse(\"$..idlist[*]\").find(search)]\n",
    "\n",
    "for i in identifiers:\n",
    "    data = efetch(i, \"nuccore\", format=\"fasta\")\n",
    "    with open(f\"{i}.fasta\", \"w\", encoding=\"utf8\") as fout:\n",
    "        fout.write(data)\n",
    "    data = efetch(i, \"nuccore\", format=\"genbank\")\n",
    "    with open(f\"{i}.gb\", \"w\", encoding=\"utf8\") as fout:\n",
    "        fout.write(data)"
   ]
  },
  {
   "cell_type": "markdown",
   "id": "ee4cb33d-4882-462e-9591-57fadd0f7bdb",
   "metadata": {},
   "source": [
    "\n",
    "\n",
    " ## 13. **Número de registros en el tiempo**\n",
    " Usa `esearch` para contar el número de registros en GenBank de secuencias de\n",
    " genomas completos de HIV1 por mes desde 1986 hasta la actualidad. Elimina\n",
    " todas aquellas que en el título diga \"UNVERIFIED\"."
   ]
  },
  {
   "cell_type": "code",
   "execution_count": null,
   "metadata": {},
   "outputs": [],
   "source": [
    "import itertools\n",
    "\n",
    "counts = []\n",
    "for year, month in itertools.product(range(1986,2026), range(1,13)):\n",
    "    term = f'txid11676[organism] AND \"{year}/{month:02d}\"[Publication Date] AND \"complete genome\"[Title]'\n",
    "    time.sleep(0.01)\n",
    "    search = eSearch(term, \"nuccore\")\n",
    "    c_counts = int(jp.parse(\"$..count\").find(search)[0].value)\n",
    "    counts.append([f\"{year}/{month:02d}\", c_counts])\n",
    "\n",
    "counts"
   ]
  },
  {
   "cell_type": "code",
   "execution_count": null,
   "metadata": {},
   "outputs": [],
   "source": [
    "fig, axes = plt.subplots(figsize=(12, 8))\n",
    "axes.plot(\n",
    "    range(len(counts)),\n",
    "    [x[1] for x in counts]\n",
    ")\n",
    "axes.set_xticks([x for x in range(len(counts)) if x % 12 == 0])\n",
    "_ = axes.set_xticklabels(\n",
    "    [x[0]  for x in counts if x[0].endswith(\"01\")],\n",
    "    rotation=90\n",
    ")"
   ]
  },
  {
   "cell_type": "markdown",
   "id": "65d542f0-f94f-40f2-8d9c-61128806969f",
   "metadata": {},
   "source": [
    "\n",
    "\n",
    " ## 14. **Comparar Tabla de CDS**\n",
    " Descarga las tablas de features para todos genomas mitocondriales completos\n",
    " de C. elegans y compara sus CDS. ¿Cuántos son iguales?\n",
    " ¿Cuántos son diferentes?"
   ]
  },
  {
   "cell_type": "code",
   "execution_count": null,
   "metadata": {},
   "outputs": [],
   "source": [
    "term = '\"Caenorhabditis elegans\"[Organism] AND \"complete genome\"[title] AND mitochondrion[filter]'\n",
    "\n",
    "search = eSearch(term, \"nuccore\")\n",
    "\n",
    "identifiers = [x.value for x in jp.parse(\"$..idlist[*]\").find(search)]\n",
    "identifiers\n",
    "\n"
   ]
  },
  {
   "cell_type": "code",
   "execution_count": null,
   "metadata": {},
   "outputs": [],
   "source": [
    "all_ft = []\n",
    "for i in identifiers:\n",
    "    data = efetch(i, \"nuccore\", \"ft\")\n",
    "    all_ft.append(data)"
   ]
  },
  {
   "cell_type": "code",
   "execution_count": null,
   "metadata": {},
   "outputs": [],
   "source": [
    "\n",
    "def ft_to_dataframe(ft:str) -> Optional[pd.DataFrame]:\n",
    "    lines = ft.split(\"\\n\")\n",
    "    lines = [l for l in lines if not l.startswith(\">\")]\n",
    "    last_feat = None\n",
    "    new_lines = []\n",
    "    for line in lines:\n",
    "        fields = line.split(\"\\t\")\n",
    "        if len(fields) == 3:\n",
    "            last_feat = fields\n",
    "            continue\n",
    "        if len(fields) == 5:\n",
    "            fields = last_feat + fields[3:5]\n",
    "            new_lines.append(fields)\n",
    "    if not new_lines:\n",
    "        return None\n",
    "    return pd.DataFrame(\n",
    "        new_lines,\n",
    "        columns=[\"start\", \"end\", \"feature\", \"qualifier\", \"value\"]\n",
    "    )\n",
    "\n",
    "ft_tables = [\n",
    "    ft_to_dataframe(x)\n",
    "    for x in all_ft\n",
    "]\n",
    "\n",
    "ft_tables\n",
    "\n"
   ]
  },
  {
   "cell_type": "markdown",
   "metadata": {},
   "source": [
    "## 15. **Recuperar genes en region cromosómica**\n",
    "\n",
    "Recupera los nombre de todos los genes que se encuentran en el cromosoma 10,\n",
    "entre las posiciones 100000 y 1000000 en humanos y en ratón.\n",
    "\n"
   ]
  },
  {
   "cell_type": "code",
   "execution_count": 15,
   "metadata": {},
   "outputs": [],
   "source": [
    "term = '(\"homo sapiens\"[Organism] OR \"mus musculus\"[ORGANISM]) AND 10[Chromosome] AND 100000:1000000[Base Position]'\n",
    "\n",
    "search = eSearch(term, \"gene\", retmax=100)\n",
    "\n",
    "identifiers = [x.value for x in jp.parse(\"$..idlist[*]\").find(search)]"
   ]
  },
  {
   "cell_type": "code",
   "execution_count": null,
   "metadata": {},
   "outputs": [],
   "source": [
    "summaries = eSummary(\",\".join(identifiers), 'gene')"
   ]
  },
  {
   "cell_type": "code",
   "execution_count": 21,
   "metadata": {},
   "outputs": [
    {
     "data": {
      "text/html": [
       "<div>\n",
       "<style scoped>\n",
       "    .dataframe tbody tr th:only-of-type {\n",
       "        vertical-align: middle;\n",
       "    }\n",
       "\n",
       "    .dataframe tbody tr th {\n",
       "        vertical-align: top;\n",
       "    }\n",
       "\n",
       "    .dataframe thead th {\n",
       "        text-align: right;\n",
       "    }\n",
       "</style>\n",
       "<table border=\"1\" class=\"dataframe\">\n",
       "  <thead>\n",
       "    <tr style=\"text-align: right;\">\n",
       "      <th></th>\n",
       "      <th>uid</th>\n",
       "      <th>name</th>\n",
       "      <th>description</th>\n",
       "      <th>scientific_name</th>\n",
       "    </tr>\n",
       "  </thead>\n",
       "  <tbody>\n",
       "    <tr>\n",
       "      <th>0</th>\n",
       "      <td>23560</td>\n",
       "      <td>GTPBP4</td>\n",
       "      <td>GTP binding protein 4</td>\n",
       "      <td>Homo sapiens</td>\n",
       "    </tr>\n",
       "    <tr>\n",
       "      <th>1</th>\n",
       "      <td>10771</td>\n",
       "      <td>ZMYND11</td>\n",
       "      <td>zinc finger MYND-type containing 11</td>\n",
       "      <td>Homo sapiens</td>\n",
       "    </tr>\n",
       "    <tr>\n",
       "      <th>2</th>\n",
       "      <td>23185</td>\n",
       "      <td>LARP4B</td>\n",
       "      <td>La ribonucleoprotein 4B</td>\n",
       "      <td>Homo sapiens</td>\n",
       "    </tr>\n",
       "    <tr>\n",
       "      <th>3</th>\n",
       "      <td>22982</td>\n",
       "      <td>DIP2C</td>\n",
       "      <td>disco interacting protein 2 homolog C</td>\n",
       "      <td>Homo sapiens</td>\n",
       "    </tr>\n",
       "    <tr>\n",
       "      <th>4</th>\n",
       "      <td>100847086</td>\n",
       "      <td>MIR5699</td>\n",
       "      <td>microRNA 5699</td>\n",
       "      <td>Homo sapiens</td>\n",
       "    </tr>\n",
       "    <tr>\n",
       "      <th>...</th>\n",
       "      <td>...</td>\n",
       "      <td>...</td>\n",
       "      <td>...</td>\n",
       "      <td>...</td>\n",
       "    </tr>\n",
       "    <tr>\n",
       "      <th>76</th>\n",
       "      <td>107984285</td>\n",
       "      <td>LOC107984285</td>\n",
       "      <td>uncharacterized LOC107984285</td>\n",
       "      <td>Homo sapiens</td>\n",
       "    </tr>\n",
       "    <tr>\n",
       "      <th>77</th>\n",
       "      <td>107984191</td>\n",
       "      <td>LOC107984191</td>\n",
       "      <td>uncharacterized LOC107984191</td>\n",
       "      <td>Homo sapiens</td>\n",
       "    </tr>\n",
       "    <tr>\n",
       "      <th>78</th>\n",
       "      <td>107984190</td>\n",
       "      <td>LOC107984190</td>\n",
       "      <td>uncharacterized LOC107984190</td>\n",
       "      <td>Homo sapiens</td>\n",
       "    </tr>\n",
       "    <tr>\n",
       "      <th>79</th>\n",
       "      <td>105376341</td>\n",
       "      <td>LOC105376341</td>\n",
       "      <td>uncharacterized LOC105376341</td>\n",
       "      <td>Homo sapiens</td>\n",
       "    </tr>\n",
       "    <tr>\n",
       "      <th>80</th>\n",
       "      <td>105376340</td>\n",
       "      <td>LOC105376340</td>\n",
       "      <td>uncharacterized LOC105376340</td>\n",
       "      <td>Homo sapiens</td>\n",
       "    </tr>\n",
       "  </tbody>\n",
       "</table>\n",
       "<p>81 rows × 4 columns</p>\n",
       "</div>"
      ],
      "text/plain": [
       "          uid          name                            description  \\\n",
       "0       23560        GTPBP4                  GTP binding protein 4   \n",
       "1       10771       ZMYND11    zinc finger MYND-type containing 11   \n",
       "2       23185        LARP4B                La ribonucleoprotein 4B   \n",
       "3       22982         DIP2C  disco interacting protein 2 homolog C   \n",
       "4   100847086       MIR5699                          microRNA 5699   \n",
       "..        ...           ...                                    ...   \n",
       "76  107984285  LOC107984285           uncharacterized LOC107984285   \n",
       "77  107984191  LOC107984191           uncharacterized LOC107984191   \n",
       "78  107984190  LOC107984190           uncharacterized LOC107984190   \n",
       "79  105376341  LOC105376341           uncharacterized LOC105376341   \n",
       "80  105376340  LOC105376340           uncharacterized LOC105376340   \n",
       "\n",
       "   scientific_name  \n",
       "0     Homo sapiens  \n",
       "1     Homo sapiens  \n",
       "2     Homo sapiens  \n",
       "3     Homo sapiens  \n",
       "4     Homo sapiens  \n",
       "..             ...  \n",
       "76    Homo sapiens  \n",
       "77    Homo sapiens  \n",
       "78    Homo sapiens  \n",
       "79    Homo sapiens  \n",
       "80    Homo sapiens  \n",
       "\n",
       "[81 rows x 4 columns]"
      ]
     },
     "execution_count": 21,
     "metadata": {},
     "output_type": "execute_result"
    }
   ],
   "source": [
    "data = []\n",
    "for i in identifiers:\n",
    "    query = f'$..[\"{i}\"].uid'\n",
    "    uid = jp.parse(query).find(summaries)[0].value\n",
    "    query = f'$..[\"{i}\"].description'\n",
    "    description = jp.parse(query).find(summaries)[0].value\n",
    "    query = f'$..[\"{i}\"].name'\n",
    "    name = jp.parse(query).find(summaries)[0].value\n",
    "    organism = jp.parse(f'$..[\"{i}\"].organism.scientificname').find(summaries)[0].value\n",
    "    data.append((uid, name, description, organism))\n",
    "\n",
    "chr10_table = pd.DataFrame(data, columns=[\"uid\", \"name\", \"description\", \"scientific_name\"])\n",
    "chr10_table\n"
   ]
  },
  {
   "cell_type": "markdown",
   "metadata": {},
   "source": [
    "## 16. **Recuperar variantes**\n",
    "\n",
    "Recuperar cuantas variantes existen para el gen FUS humano en la base de datos\n",
    "dbVar, que tengan una frecuencia alélica global menor al 1%.\n",
    "\n"
   ]
  },
  {
   "cell_type": "code",
   "execution_count": 25,
   "metadata": {},
   "outputs": [
    {
     "data": {
      "text/plain": [
       "'58'"
      ]
     },
     "execution_count": 25,
     "metadata": {},
     "output_type": "execute_result"
    }
   ],
   "source": [
    "\n",
    "term = 'FUS[Gene] AND human[ORGANSIM] AND 0:0.01[Global Allele Frequency]'\n",
    "\n",
    "search = eSearch(term, \"dbVar\")\n",
    "\n",
    "total_variants = jp.parse(\"$..count\").find(search)[0].value\n",
    "total_variants"
   ]
  }
 ],
 "metadata": {
  "kernelspec": {
   "display_name": ".venv",
   "language": "python",
   "name": "python3"
  },
  "language_info": {
   "codemirror_mode": {
    "name": "ipython",
    "version": 3
   },
   "file_extension": ".py",
   "mimetype": "text/x-python",
   "name": "python",
   "nbconvert_exporter": "python",
   "pygments_lexer": "ipython3",
   "version": "3.13.0"
  }
 },
 "nbformat": 4,
 "nbformat_minor": 2
}
