{
 "cells": [
  {
   "cell_type": "markdown",
   "metadata": {},
   "source": [
    "# Accesso programático a bases de datos de NCBI\n",
    "\n",
    "La mayoría de las bases de datos NCBI comparten un único sistema de búsqueda y recuperación de datos, llamado Entrez/E-utils.\n",
    "\n",
    "Entrez es el sistema que maneja a las bases de datos.\n",
    "\n",
    "E-Utils son aplicaciones/interfaces que permiten trabajar con entrez."
   ]
  },
  {
   "cell_type": "markdown",
   "metadata": {},
   "source": [
    "## Entrez Programming Utilities (E-utilities) \n",
    "\n",
    "Es un conjunto de nueve programas en servidores web que parmiten acceder a sistema Entrez:\n",
    "\n",
    "Se accede a cada uno de estos programas con una URL particular y permite hacer consultas mediante una REST-API por HTTP. Las respuestas con generalmente en formato XML, pero puede ser fasta u otro formato especial para algunos pedidos.\n",
    "\n",
    "Los programas son:\n",
    "\n",
    "### EInfo (database statistics)\n",
    "\n",
    "url: eutils.ncbi.nlm.nih.gov/entrez/eutils/einfo.fcgi\n",
    "\n",
    "Provee datos de cada base de datos, como ser la fecha de la última actualización, cantidad de registros, los campos de cada registros.\n",
    "\n",
    "### ESearch (text searches)\n",
    "\n",
    "url: eutils.ncbi.nlm.nih.gov/entrez/eutils/esearch.fcgi\n",
    "\n",
    "Permite hacer búsqueda por texto. Devuelte una lista de identificadores de los registros seleccionados para ser luego usados en otros servicios como ESummary, EFetch o Elink.\n",
    "\n",
    "### ESummary (document summary downloads)\n",
    "\n",
    "url: eutils.ncbi.nlm.nih.gov/entrez/eutils/esummary.fcgi\n",
    "\n",
    "Devuelve resúmenes de cada registro a partir de una lista de identificadores.\n",
    "\n",
    "### EFetch (data record downloads)\n",
    "\n",
    "url: eutils.ncbi.nlm.nih.gov/entrez/eutils/efetch.fcgi\n",
    "\n",
    "Devuelve registros completos a partir de una lista de identificadores.\n",
    "\n",
    "### ELink (Entrez links)\n",
    "\n",
    "url: eutils.ncbi.nlm.nih.gov/entrez/eutils/elink.fcgi\n",
    "\n",
    "Acepta una lista de identificadores y devuelve una lista de identificadores de registros relacionadoes de la misma base de datos u otra base de datos.\n",
    "\n",
    "### EPost (UID uploads)\n",
    "\n",
    "url: eutils.ncbi.nlm.nih.gov/entrez/eutils/epost.fcgi\n",
    "\n",
    "Acepta una lista de identificadores que se almacenan en un History Server, lo que permite acceder a ellos más tarde.\n",
    "\n",
    "### EGQuery (global query)\n",
    "\n",
    "url: eutils.ncbi.nlm.nih.gov/entrez/eutils/egquery.fcgi\n",
    "\n",
    "Hace una búsqueda de texto global en todas las bases de datos.\n",
    "\n",
    "### ESpell (spelling suggestions)\n",
    "\n",
    "url: eutils.ncbi.nlm.nih.gov/entrez/eutils/espell.fcgi\n",
    "\n",
    "Recupera sugerencias de escritura para entradas de texto.\n",
    "\n",
    "### ECitMatch (batch citation searching in PubMed)\n",
    "\n",
    "url: eutils.ncbi.nlm.nih.gov/entrez/eutils/ecitmatch.cgi\n",
    "\n",
    "Recupera PMCIDs para una listas de citas."
   ]
  },
  {
   "cell_type": "markdown",
   "metadata": {},
   "source": [
    "Nosotros vamos a centrarnos en algunos de estos programas:\n",
    "\n",
    "- EInfo\n",
    "- ESearch\n",
    "- ESummary\n",
    "- EFetch"
   ]
  },
  {
   "cell_type": "code",
   "execution_count": null,
   "metadata": {},
   "outputs": [],
   "source": [
    "# Cargamos la librerías necesarias\n",
    "library(httr)\n",
    "library(xml2)\n",
    "library(rentrez)"
   ]
  },
  {
   "cell_type": "markdown",
   "metadata": {},
   "source": [
    "## EInfo - Estadísticas de las bases de datos"
   ]
  },
  {
   "cell_type": "markdown",
   "metadata": {},
   "source": [
    "### De la forma complicada"
   ]
  },
  {
   "cell_type": "code",
   "execution_count": null,
   "metadata": {},
   "outputs": [],
   "source": [
    "# Defino la url del programa\n",
    "einfo_url <- \"https://eutils.ncbi.nlm.nih.gov/entrez/eutils/einfo.fcgi\"\n",
    "\n",
    "# Hago el pedido http y obtengo la respuesta\n",
    "response <- GET(einfo_url)"
   ]
  },
  {
   "cell_type": "code",
   "execution_count": null,
   "metadata": {},
   "outputs": [],
   "source": [
    "# Me aseguro que la respuesta es exitosa.\n",
    "# El status code debe ser 200\n",
    "status_code(response)"
   ]
  },
  {
   "cell_type": "code",
   "execution_count": null,
   "metadata": {},
   "outputs": [],
   "source": [
    "# Convierto la respuesta a una lista de R\n",
    "contenido <- as_list(content(response))\n",
    "head(contenido)"
   ]
  },
  {
   "cell_type": "code",
   "execution_count": null,
   "metadata": {},
   "outputs": [],
   "source": [
    "# La función names me ayuda a ver la estructura de la lista.\n",
    "\n",
    "# names(contenido)\n",
    "\n",
    "# contenido$eInfoResult\n",
    "\n",
    "# contenido$eInfoResult$DbList\n",
    "\n",
    "nombres_db <- unlist(contenido$eInfoResult$DbList)\n",
    "nombres_db\n"
   ]
  },
  {
   "cell_type": "code",
   "execution_count": null,
   "metadata": {},
   "outputs": [],
   "source": [
    "?GET"
   ]
  },
  {
   "cell_type": "code",
   "execution_count": null,
   "metadata": {},
   "outputs": [],
   "source": [
    "# Ahora veamos una base de datos con más detalles\n",
    "mi_db <- 'pubmed'\n",
    "\n",
    "# EInfo acepta un argumento 'db' para pedir detalles de una base de datos en particular.\n",
    "response <- GET(einfo_url, query=list(db=mi_db))\n",
    "\n",
    "# Verifico el status_code\n",
    "status_code(response)"
   ]
  },
  {
   "cell_type": "code",
   "execution_count": null,
   "metadata": {},
   "outputs": [],
   "source": [
    "contenido <- as_list(content(response))\n",
    "contenido"
   ]
  },
  {
   "cell_type": "code",
   "execution_count": null,
   "metadata": {},
   "outputs": [],
   "source": [
    "# ¿Qué datos devuelve?\n",
    "names(contenido)\n",
    "names(contenido$eInfoResult)\n",
    "names(contenido$eInfoResult$DbInfo)"
   ]
  },
  {
   "cell_type": "code",
   "execution_count": null,
   "metadata": {},
   "outputs": [],
   "source": [
    "# Recuperamos el nombre de la db\n",
    "contenido$eInfoResult$DbInfo$DbName"
   ]
  },
  {
   "cell_type": "code",
   "execution_count": null,
   "metadata": {},
   "outputs": [],
   "source": [
    "# Recuperamos la descripción\n",
    "contenido$eInfoResult$DbInfo$Description"
   ]
  },
  {
   "cell_type": "code",
   "execution_count": null,
   "metadata": {},
   "outputs": [],
   "source": [
    "# Recuperamos la cantidad de registros\n",
    "contenido$eInfoResult$DbInfo$Count"
   ]
  },
  {
   "cell_type": "code",
   "execution_count": null,
   "metadata": {},
   "outputs": [],
   "source": [
    "# Recuperamos la lista de campos de los registros\n",
    "contenido$eInfoResult$DbInfo$FieldList"
   ]
  },
  {
   "cell_type": "code",
   "execution_count": null,
   "metadata": {
    "scrolled": false
   },
   "outputs": [],
   "source": [
    "# Armamos un dataframe con la descripción de cada campo\n",
    "tabla <- sapply(\n",
    "    contenido$eInfoResult$DbInfo$FieldList,\n",
    "    function(x) {return(unlist(x[c(\"Name\", \"Description\")]))}\n",
    ")\n",
    "\n",
    "tabla <- t(tabla)\n",
    "head(tabla)"
   ]
  },
  {
   "cell_type": "code",
   "execution_count": null,
   "metadata": {},
   "outputs": [],
   "source": [
    "# Probemos con otras bases de datos\n",
    "# Armar una tabla similar a la anterior, con los campos Name, Description y TermCount"
   ]
  },
  {
   "cell_type": "markdown",
   "metadata": {},
   "source": [
    "### Usar EInfo con el paquete rentrez\n",
    "\n",
    "Ahora que hicimos un ejemplo de la forma complicada,\n",
    "veamos como podemos hacer esto más sencillo usando la\n",
    "librería de R **rentrez**."
   ]
  },
  {
   "cell_type": "code",
   "execution_count": null,
   "metadata": {
    "scrolled": true
   },
   "outputs": [],
   "source": [
    "# Cargamos el la librería de R que \n",
    "library(rentrez)"
   ]
  },
  {
   "cell_type": "code",
   "execution_count": null,
   "metadata": {},
   "outputs": [],
   "source": [
    "# Recupero la lista de todas las bases de datos de NCBI\n",
    "ncbi_dbs <- entrez_dbs()\n",
    "ncbi_dbs"
   ]
  },
  {
   "cell_type": "code",
   "execution_count": null,
   "metadata": {},
   "outputs": [],
   "source": [
    "# Muestra un resumen de la base de datos\n",
    "entrez_db_summary(\"pubmed\")"
   ]
  },
  {
   "cell_type": "code",
   "execution_count": null,
   "metadata": {},
   "outputs": [],
   "source": [
    "# Muestra un resumen de la base de datos\n",
    "entrez_db_summary(\"pubmed\")"
   ]
  },
  {
   "cell_type": "code",
   "execution_count": null,
   "metadata": {},
   "outputs": [],
   "source": [
    "# Muestra los campos de búsqueda disponible en una base de datos\n",
    "campos <- entrez_db_searchable(\"pubmed\")"
   ]
  },
  {
   "cell_type": "code",
   "execution_count": null,
   "metadata": {},
   "outputs": [],
   "source": [
    "campos_mat <- sapply(campos, function(x) {return(unlist(x[c('Name','FullName')]))})\n",
    "campos_df <- as.data.frame(t(campos_mat))\n",
    "head(campos_df)"
   ]
  },
  {
   "cell_type": "markdown",
   "metadata": {},
   "source": [
    "## ESearch - Búsquedas de texto\n",
    "\n",
    "Para usar ESearch tenemos que:\n",
    "\n",
    "- Definir una base de datos.\n",
    "- Establecer el texto de la búsqueda.\n",
    "- Definir el número máximo de identificadores a recuperar.\n",
    "\n",
    "Vamos a usar la función 'entrez_search' de la librería 'rentrez'."
   ]
  },
  {
   "cell_type": "code",
   "execution_count": null,
   "metadata": {},
   "outputs": [],
   "source": [
    "?entrez_search"
   ]
  },
  {
   "cell_type": "markdown",
   "metadata": {},
   "source": [
    "#### ¿Cómo escribir el texto de búsqueda?\n",
    "\n",
    "Cuando vimos los ejemplos de EInfo, vimos que cada base de datos tiene definido una serie de campos de búsqueda.\n",
    "Para hacer las búsquedas tenemos que definir los términos que queremos buscar y en qué campos queremos hacer la búsqueda.\n",
    "\n",
    "Por ejemplo, si queremos buscar artículos del autor Huntington, pero no queremos que nos devuelvan artículos sobre la enfermedad de Huntington, tenemos que poder especificar que el término de búsqueda \"Huntington\" se realice únicamente sobre el campo de los autores.\n",
    "\n",
    "El formato básico para definir las búsquedas es este:\n",
    "\n",
    "    texto_de_busqueda[campo]\n",
    "    # El campo puede ser el Name o el FullName\n",
    "    # por ejemplo:\n",
    "    huntington[AUTH]\n",
    "    huntington[Author]\n"
   ]
  },
  {
   "cell_type": "code",
   "execution_count": null,
   "metadata": {},
   "outputs": [],
   "source": [
    "# Probemos el ejemplo\n",
    "mi_db <- \"pubmed\"\n",
    "mi_term <- \"huntington[Author]\"\n",
    "max_artic <- 10\n",
    "\n",
    "# Con la función entrez_search \n",
    "resultado <- entrez_search(db=mi_db, term=mi_term, retmax=max_artic)"
   ]
  },
  {
   "cell_type": "code",
   "execution_count": null,
   "metadata": {},
   "outputs": [],
   "source": [
    "# Vemos el contenido del resultado\n",
    "names(resultado)\n",
    "\n",
    "# Nos muestra la cantidad de resultados de la búsqueda\n",
    "resultado$count\n",
    "\n",
    "# Nos devuelve los IDS de los 10 que le pedimos\n",
    "resultado$ids"
   ]
  },
  {
   "cell_type": "markdown",
   "metadata": {},
   "source": [
    "Podemos hacer búsquedas más complejos combinando búsquedas en más campos con operadores lógicos: AND, OR, NOT\n",
    "\n",
    "    texto_de_busqueda_1[campo_1] OP texto_de_busqueda_2[campo_2] OP texto_de_busqueda_3[campo_3] ...\n",
    "    # El campo puede ser el Name o el FullName\n",
    "    # por ejemplo:\n",
    "    huntington[Author] AND review[Publication Type]"
   ]
  },
  {
   "cell_type": "code",
   "execution_count": null,
   "metadata": {},
   "outputs": [],
   "source": [
    "# Probemos el ejemplo\n",
    "mi_db <- \"pubmed\"\n",
    "mi_term <- \"huntington[Author] AND review[Publication Type]\"\n",
    "max_artic <- 10\n",
    "\n",
    "# Con la función entrez_search \n",
    "resultado <- entrez_search(db=mi_db, term=mi_term, retmax=max_artic)"
   ]
  },
  {
   "cell_type": "code",
   "execution_count": null,
   "metadata": {},
   "outputs": [],
   "source": [
    "resultado$count"
   ]
  },
  {
   "cell_type": "code",
   "execution_count": null,
   "metadata": {},
   "outputs": [],
   "source": [
    "# Probemos el ejemplo\n",
    "mi_db <- \"pubmed\"\n",
    "mi_term <- \"huntington[Author] AND review[Publication Type] AND (2000[Publication Date] OR 2010[Publication Date])\"\n",
    "max_artic <- 10\n",
    "\n",
    "# Con la función entrez_search \n",
    "resultado <- entrez_search(db=mi_db, term=mi_term, retmax=max_artic)"
   ]
  },
  {
   "cell_type": "code",
   "execution_count": null,
   "metadata": {},
   "outputs": [],
   "source": [
    "resultado$ids"
   ]
  },
  {
   "cell_type": "markdown",
   "metadata": {},
   "source": [
    "## ESummary - Resumenes de registros\n",
    "\n",
    "Para usar ESummary tenemos que:\n",
    "\n",
    "- Definir una base de datos.\n",
    "- Pasarle un identificador o una lista separados por comas (no más de 100)\n",
    "\n",
    "Usamos la función 'entrez_summary' de 'rentrez'.\n",
    "\n",
    "Continuemos con el ejemplo que venimos trabajando y recuperemos el resumen de los registros que seleccionamos en la búsqueda anterior."
   ]
  },
  {
   "cell_type": "code",
   "execution_count": null,
   "metadata": {},
   "outputs": [],
   "source": [
    "summary <- entrez_summary(db='pubmed', id=resultado$ids)"
   ]
  },
  {
   "cell_type": "code",
   "execution_count": null,
   "metadata": {},
   "outputs": [],
   "source": [
    "names(summary)\n",
    "summary$'21117518'"
   ]
  },
  {
   "cell_type": "code",
   "execution_count": null,
   "metadata": {
    "scrolled": true
   },
   "outputs": [],
   "source": [
    "# Armemos un dataframe con el id, el título, \n",
    "# el nombre del primer autor y del ultimo autor, y el nombre de la revista.\n",
    "\n",
    "selected_fields <- c('uid', 'title', 'lastauthor', 'sortfirstauthor', 'source')\n",
    "data <- sapply(summary, function(x) unlist(x[selected_fields]) )\n",
    "data <- as.data.frame(t(data))\n",
    "data"
   ]
  },
  {
   "cell_type": "markdown",
   "metadata": {},
   "source": [
    "## EFetch - Recuperar registros completos\n",
    "\n",
    "Para usar EFetch tenemos que:\n",
    "\n",
    "- Definir una base de datos.\n",
    "- Pasarle un identificador o una lista separados por comas (no más de 100)\n",
    "- El formato de los datos a recuperar.\n",
    "\n",
    "Usamos la función 'entrez_fetch' de 'rentrez'.\n",
    "\n",
    "Continuemos con el ejemplo que venimos trabajando y recuperemos el resumen de los registros que seleccionamos en la búsqueda anterior."
   ]
  },
  {
   "cell_type": "code",
   "execution_count": null,
   "metadata": {},
   "outputs": [],
   "source": [
    "records <- entrez_fetch(db='pubmed', id=resultado$ids, rettype='xml')"
   ]
  },
  {
   "cell_type": "code",
   "execution_count": null,
   "metadata": {
    "scrolled": true
   },
   "outputs": [],
   "source": [
    "library(xml2)\n",
    "doc <- as_list(read_xml(records))\n",
    "names(doc)\n",
    "\n",
    "names(doc$PubmedArticleSet)\n",
    "\n",
    "names(doc$PubmedArticleSet[[1]])\n",
    "\n",
    "names(doc$PubmedArticleSet[[1]]$MedlineCitation)\n",
    "\n",
    "doc$PubmedArticleSet[[1]]$MedlineCitation$PMID\n",
    "\n",
    "doc$PubmedArticleSet[[1]]$MedlineCitation$Article$Abstract"
   ]
  },
  {
   "cell_type": "code",
   "execution_count": null,
   "metadata": {
    "scrolled": true
   },
   "outputs": [],
   "source": [
    "# Recupero todos los abstracts\n",
    "abstracts <- sapply(doc$PubmedArticleSet, function(x) unlist(x$MedlineCitation$Article$Abstract))\n",
    "abstracts"
   ]
  },
  {
   "cell_type": "code",
   "execution_count": null,
   "metadata": {},
   "outputs": [],
   "source": [
    "# Si solo queremos los abstracts podemos cambiar el tipo de \n",
    "# datos que queremos recuperar en la función entrez_fetch\n",
    "# Aunque es más dificil manipular los resultados después.\n",
    "# https://www.ncbi.nlm.nih.gov/books/NBK25499/table/chapter4.T._valid_values_of__retmode_and/?report=objectonly\n",
    "\n",
    "records <- entrez_fetch(db='pubmed', id=resultado$ids, rettype='abstract')"
   ]
  },
  {
   "cell_type": "code",
   "execution_count": null,
   "metadata": {},
   "outputs": [],
   "source": [
    "cat(records)"
   ]
  },
  {
   "cell_type": "markdown",
   "metadata": {},
   "source": [
    "## Ejemplos con otras bases de datos"
   ]
  },
  {
   "cell_type": "markdown",
   "metadata": {},
   "source": [
    "### Ejemplo 1 - Busquemos secuencias de genomas completos de *E. coli*\n",
    "\n"
   ]
  },
  {
   "cell_type": "code",
   "execution_count": null,
   "metadata": {},
   "outputs": [],
   "source": [
    "entrez_db_searchable(db='nuccore')"
   ]
  },
  {
   "cell_type": "code",
   "execution_count": null,
   "metadata": {},
   "outputs": [],
   "source": [
    "# Primer paso, consulta con ESearch\n",
    "mi_db <- \"nuccore\"\n",
    "mi_term <- \"escherichia coli[ORGANISM] AND plasmid[Title]\"\n",
    "max_artic <- 100\n",
    "\n",
    "resultados <- entrez_search(db=mi_db, term=mi_term, retmax=max_artic)"
   ]
  },
  {
   "cell_type": "code",
   "execution_count": null,
   "metadata": {},
   "outputs": [],
   "source": [
    "# Recupero el resumen\n",
    "records <- entrez_summary(\n",
    "    db='nuccore',\n",
    "    id=resultados$ids\n",
    ")"
   ]
  },
  {
   "cell_type": "code",
   "execution_count": null,
   "metadata": {
    "scrolled": true
   },
   "outputs": [],
   "source": [
    "plasmid_size <- t(sapply(records, function(x) unlist(x[c(\"genome\", \"slen\")])))\n",
    "hist(log(as.numeric(plasmid_size[,\"slen\"]), 10), 20)"
   ]
  },
  {
   "cell_type": "code",
   "execution_count": null,
   "metadata": {},
   "outputs": [],
   "source": [
    "resultados$ids[1]"
   ]
  },
  {
   "cell_type": "code",
   "execution_count": null,
   "metadata": {},
   "outputs": [],
   "source": [
    "# Recupero la secuencia en formato fasta\n",
    "records <- entrez_fetch(\n",
    "    db='nuccore',\n",
    "    id=resultados$ids[1],\n",
    "    rettype='fasta'\n",
    ")"
   ]
  },
  {
   "cell_type": "code",
   "execution_count": null,
   "metadata": {},
   "outputs": [],
   "source": [
    "substr(records[[1]], 1, 500)"
   ]
  },
  {
   "cell_type": "code",
   "execution_count": null,
   "metadata": {},
   "outputs": [],
   "source": [
    "# Recupero la secuencia en formato gb, anotaciones\n",
    "records <- entrez_fetch(\n",
    "    db='nuccore',\n",
    "    id=resultados$ids[2],\n",
    "    rettype='gb'\n",
    ")"
   ]
  },
  {
   "cell_type": "code",
   "execution_count": null,
   "metadata": {
    "scrolled": true
   },
   "outputs": [],
   "source": [
    "cat(records)"
   ]
  },
  {
   "cell_type": "code",
   "execution_count": null,
   "metadata": {},
   "outputs": [],
   "source": [
    "# Puedo convertir este formato a un formato de texto\n",
    "# if (!requireNamespace(\"BiocManager\", quietly = TRUE))\n",
    "#     install.packages(\"BiocManager\")\n",
    "# BiocManager::install(\"genbankr\", force=TRUE)\n",
    "# install.packages(\"stringi\")\n",
    "# library(\"stringi\")\n"
   ]
  },
  {
   "cell_type": "code",
   "execution_count": null,
   "metadata": {},
   "outputs": [],
   "source": [
    "# Puedo convertir este formato a un formato de texto\n",
    "library(genbankr)\n",
    "library(GenomicRanges)\n",
    "gb <- readGenBank(text = records)"
   ]
  },
  {
   "cell_type": "code",
   "execution_count": null,
   "metadata": {
    "scrolled": true
   },
   "outputs": [],
   "source": [
    "gb"
   ]
  },
  {
   "cell_type": "code",
   "execution_count": null,
   "metadata": {
    "scrolled": true
   },
   "outputs": [],
   "source": [
    "genes(gb)"
   ]
  },
  {
   "cell_type": "code",
   "execution_count": null,
   "metadata": {},
   "outputs": [],
   "source": [
    "transcripts(gb)"
   ]
  },
  {
   "cell_type": "code",
   "execution_count": null,
   "metadata": {},
   "outputs": [],
   "source": [
    "entrez_db_searchable(db=\"structure\")"
   ]
  },
  {
   "cell_type": "code",
   "execution_count": null,
   "metadata": {},
   "outputs": [],
   "source": [
    "term <- \"nucleoprotein[Protein Name] AND 0:3.0[Resolution] AND complex_protein[filt] AND arenaviridae[ORGN]\"\n",
    "resultados <- entrez_search(\n",
    "    db='structure',\n",
    "    term=term\n",
    ")"
   ]
  },
  {
   "cell_type": "code",
   "execution_count": null,
   "metadata": {},
   "outputs": [],
   "source": [
    "resumen <- entrez_summary(id=resultados$ids, db='structure', ret_type=\"xml\")"
   ]
  },
  {
   "cell_type": "code",
   "execution_count": null,
   "metadata": {},
   "outputs": [],
   "source": [
    "names(resumen$'152393')"
   ]
  },
  {
   "cell_type": "code",
   "execution_count": null,
   "metadata": {
    "scrolled": true
   },
   "outputs": [],
   "source": [
    "structures <- sapply(resumen, function(x) unlist(x[c('pdbacc', 'pdbdescr', 'pdbclass', 'proteinmoleculecount')]))\n",
    "structures <- t(structures)\n",
    "structures"
   ]
  },
  {
   "cell_type": "code",
   "execution_count": null,
   "metadata": {},
   "outputs": [],
   "source": [
    "record <- entrez_link(\n",
    "    dbfrom='structure',\n",
    "    db='protein',\n",
    "    id=resultados$ids[1]\n",
    ")"
   ]
  },
  {
   "cell_type": "code",
   "execution_count": null,
   "metadata": {},
   "outputs": [],
   "source": [
    "record$links"
   ]
  },
  {
   "cell_type": "code",
   "execution_count": null,
   "metadata": {},
   "outputs": [],
   "source": [
    "sequences <- entrez_fetch(\n",
    "    db='protein',\n",
    "    id=record$links$structure_protein,\n",
    "    rettype='fasta'\n",
    ")"
   ]
  },
  {
   "cell_type": "code",
   "execution_count": null,
   "metadata": {},
   "outputs": [],
   "source": [
    "cat(sequences)"
   ]
  }
 ],
 "metadata": {
  "kernelspec": {
   "display_name": "R",
   "language": "R",
   "name": "ir"
  },
  "language_info": {
   "codemirror_mode": "r",
   "file_extension": ".r",
   "mimetype": "text/x-r-source",
   "name": "R",
   "pygments_lexer": "r",
   "version": "4.0.3"
  }
 },
 "nbformat": 4,
 "nbformat_minor": 2
}
