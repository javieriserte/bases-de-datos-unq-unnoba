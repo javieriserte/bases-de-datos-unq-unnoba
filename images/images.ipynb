{
 "cells": [
  {
   "cell_type": "markdown",
   "metadata": {},
   "source": [
    "# Genbank Stats plot"
   ]
  },
  {
   "cell_type": "code",
   "execution_count": null,
   "metadata": {},
   "outputs": [],
   "source": [
    "options(bitmapType = \"cairo\")"
   ]
  },
  {
   "cell_type": "code",
   "execution_count": null,
   "metadata": {},
   "outputs": [],
   "source": [
    "gb_data <- read.table(\n",
    "    \"genbank-stat.txt\",\n",
    "    sep = \"\\t\",\n",
    "    header = TRUE\n",
    ")"
   ]
  },
  {
   "cell_type": "code",
   "execution_count": null,
   "metadata": {},
   "outputs": [],
   "source": [
    "\n",
    "gb_data_date <- data.frame(\n",
    "    do.call(rbind, strsplit(gb_data$Date, \" \"))\n",
    ")\n",
    "\n",
    "month_values <- data.frame(\n",
    "    row.names = c(\n",
    "        \"Jan\", \"Feb\", \"Mar\", \"Apr\", \"May\", \"Jun\",\n",
    "        \"Jul\", \"Aug\", \"Sep\", \"Oct\", \"Nov\", \"Dec\"\n",
    "    ),\n",
    "    values = seq(12) / 12\n",
    ")\n",
    "\n",
    "gb_data$time <- as.numeric(gb_data_date[, 2]) +\n",
    "    month_values[gb_data_date[, 1], 1]\n"
   ]
  },
  {
   "cell_type": "code",
   "execution_count": null,
   "metadata": {},
   "outputs": [],
   "source": [
    "options(\"help_type\" = \"html\")"
   ]
  },
  {
   "cell_type": "code",
   "execution_count": null,
   "metadata": {},
   "outputs": [],
   "source": [
    "help(pdf, help_type = \"html\")"
   ]
  },
  {
   "cell_type": "code",
   "execution_count": null,
   "metadata": {},
   "outputs": [],
   "source": [
    "pdf(\n",
    "    file = \"genbank_stats.pdf\",\n",
    "    width = 12,\n",
    "    height = 7\n",
    ")\n",
    "par(\n",
    "    mar = c(5, 7, 3, 3)\n",
    ")\n",
    "plot(\n",
    "    x = gb_data$time,\n",
    "    y = log10(gb_data$Sequences),\n",
    "    lwd = 4,\n",
    "    type = \"l\",\n",
    "    col = \"red\",\n",
    "    xlab = \"Fecha\",\n",
    "    ylab = \"\",\n",
    "    cex.lab = 1.5,\n",
    "    yaxt = \"n\"\n",
    ")\n",
    "lines(\n",
    "    x = gb_data$time,\n",
    "    y = log10(gb_data$Sequences.1),\n",
    "    col = \"blue\",\n",
    "    lwd = 4\n",
    ")\n",
    "legend(\n",
    "    \"topleft\",\n",
    "    legend = c(\"GenBank\", \"Whole Genome Sequences\"),\n",
    "    col = c(\"red\", \"blue\"),\n",
    "    pch = 19,\n",
    "    bty = \"n\"\n",
    ")\n",
    "axis(\n",
    "    2,\n",
    "    at = seq(3, 8),\n",
    "    labels = 10**seq(3, 8),\n",
    "    las = 1\n",
    ")\n",
    "title(\n",
    "    ylab = \"log(seqs)\",\n",
    "    line = 4.5,\n",
    "    cex.lab = 1.5\n",
    ")\n",
    "dev.off()"
   ]
  }
 ],
 "metadata": {
  "interpreter": {
   "hash": "1d6c67460a72175d5a591d54b14259382968a2c0d6f10a1f637cfe161356ea27"
  },
  "kernelspec": {
   "display_name": "R",
   "language": "R",
   "name": "ir"
  },
  "language_info": {
   "codemirror_mode": "r",
   "file_extension": ".r",
   "mimetype": "text/x-r-source",
   "name": "R",
   "pygments_lexer": "r",
   "version": "4.1.2"
  },
  "orig_nbformat": 4
 },
 "nbformat": 4,
 "nbformat_minor": 2
}
