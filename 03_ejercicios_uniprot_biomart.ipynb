{
 "cells": [
  {
   "cell_type": "code",
   "execution_count": 2,
   "id": "9d1a229a-c34c-4536-8603-155a4f85fae3",
   "metadata": {},
   "outputs": [],
   "source": [
    "import re\n",
    "from io import StringIO\n",
    "import time\n",
    "import pandas as pd\n",
    "import requests\n",
    "import jsonpath_ng as jp"
   ]
  },
  {
   "cell_type": "markdown",
   "id": "713b0cfa-f881-4fc5-9c00-22161def4487",
   "metadata": {},
   "source": [
    "\n",
    "\n",
    " ## Acceso a Uniprot API"
   ]
  },
  {
   "cell_type": "code",
   "execution_count": null,
   "id": "abb48722-0761-4643-84b2-5108fb572ab3",
   "metadata": {},
   "outputs": [],
   "source": [
    "\n",
    "\n",
    "# Define the base URL for the Uniprot API\n",
    "base_url = \"https://rest.uniprot.org/uniprotkb/search\"\n",
    "# Define the parameters for the API request\n",
    "params = {\n",
    "  # TP53 in mammals (taxonomy ID 40674)\n",
    "  \"query\": \"(reviewed:true) AND (taxonomy_id:40674) AND (gene:TP53)\",\n",
    "  \"format\": \"tsv\",\n",
    "  \"fields\": \"accession,id,sequence,protein_name,organism_name,go\",\n",
    "  \"size\": 10\n",
    "}\n",
    "\n",
    "# Make the API request\n",
    "response = requests.get(base_url, params=params, timeout=30)\n",
    "\n",
    "response.raise_for_status()"
   ]
  },
  {
   "cell_type": "markdown",
   "id": "3fb24df1-11a7-45de-bd80-e6985774880f",
   "metadata": {},
   "source": [
    "\n",
    "\n",
    " ### Extract and print protein information"
   ]
  },
  {
   "cell_type": "code",
   "execution_count": null,
   "id": "6db15750-56e1-46fb-8199-33be930f4847",
   "metadata": {},
   "outputs": [],
   "source": [
    "data = pd.read_csv(\n",
    "  StringIO(response.content.decode(\"utf-8\")),\n",
    "  sep=\"\\t\",\n",
    "  header=0\n",
    ")\n",
    "\n",
    "print(data)"
   ]
  },
  {
   "cell_type": "markdown",
   "id": "5e6d4e91-429c-44b7-81e1-67bbc453369c",
   "metadata": {},
   "source": [
    "\n",
    "\n",
    " ### Obtener el resto de los resultados"
   ]
  },
  {
   "cell_type": "code",
   "execution_count": null,
   "id": "62ed70af-7d33-4814-8b9f-824562881c88",
   "metadata": {},
   "outputs": [],
   "source": [
    "pattern = re.compile(\".*<(.+)>.*$\")\n",
    "\n",
    "match = re.match(pattern, response.headers[\"link\"])\n",
    "\n",
    "if match:\n",
    "  next_page_url = match.group(1)\n",
    "  print(next_page_url)\n",
    "else:\n",
    "  print(\"No match found in the link header.\")"
   ]
  },
  {
   "cell_type": "code",
   "execution_count": null,
   "id": "4a18bfc0-2c8d-4861-9eca-caf9e458ebdb",
   "metadata": {},
   "outputs": [],
   "source": [
    "\n",
    "\n",
    "response = requests.get(next_page_url, timeout=30)\n",
    "\n",
    "response.raise_for_status()\n",
    "data = pd.read_csv(\n",
    "  StringIO(response.content.decode(\"utf-8\")),\n",
    "  sep=\"\\t\",\n",
    "  header=0\n",
    ")\n",
    "print(data)"
   ]
  },
  {
   "cell_type": "markdown",
   "id": "44df9a11-8e00-4a2d-9654-62204632f446",
   "metadata": {},
   "source": [
    "\n",
    "\n",
    " ### Formatos de salida\n",
    " | Formato                              | Tipo MIME                   | Ext.  |\n",
    " |--------------------------------------|-----------------------------|------ |\n",
    " | JavaScript Object Notation (JSON)    | application/json            | json  |\n",
    " | Extensible Markup Language (XML)     | application/xml             | xml   |\n",
    " | Text file representation             | text/plain; format=flatfile | txt   |\n",
    " | List of one or more IDs              | text/plain; format=list     | list  |\n",
    " | Tab-Separated-Values                 | text/plain; format=tsv      | tsv   |\n",
    " | FASTA: a text-based                  | text/plain; format=fasta    | fasta |\n",
    " | Genomic Feature Format (GFF)         | text/plain; format=gff      | gff   |\n",
    " | Open Biomedical Ontologies (OBO)     | text/plain; format=obo      | obo   |\n",
    " | Resource Description Framework (RDF) | application/rdf+xml         | rdf   |\n",
    " | Excel                                | application/vnd.ms-excel    | xlsx  |"
   ]
  },
  {
   "cell_type": "markdown",
   "id": "d9ee386e-b468-44bc-97b1-ff462c6c9d0a",
   "metadata": {},
   "source": [
    "\n",
    "\n",
    " ### Campos disponibles\n",
    " | Campo                   | Descripción                           |\n",
    " |-------------------------|---------------------------------------|\n",
    " | accession               | Acceso principal de la entrada        |\n",
    " | id                      | Nombre del entry (como `INSR_HUMAN`)  |\n",
    " | protein_name            | Nombre de la proteína                 |\n",
    " | gene_primary            | Nombre principal del gen              |\n",
    " | gene_synonym            | Sinónimos del gen                     |\n",
    " | organism_name           | Nombre del organismo                  |\n",
    " | organism_id             | ID taxonómico (NCBI) del organismo    |\n",
    " | length                  | Longitud de la secuencia              |\n",
    " | sequence                | Secuencia de aminoácidos completa     |\n",
    " | function / cc_function  | Función biológica anotada             |\n",
    " | cc_subcellular_location | Localización subcelular               |\n",
    " | cc_pathway              | Rutas metabólicas en las que participa|\n",
    " | go                      | Anotaciones Gene Ontology (todas)     |\n",
    " | xref_pdb                | Referencias a estructuras 3D (PDB)    |\n",
    " | xref_geneid             | Enlace al NCBI Gene ID                |\n",
    " | xref_kegg               | Enlace a la base de datos KEGG        |\n",
    " | ft_binding              | Sitios de unión                       |\n",
    " | ft_active               | Sitios activos                        |\n",
    " | ft_domain               | Dominios anotados                     |\n",
    "\n",
    " Lista completa: [https://www.uniprot.org/help/return_fields](https://rest.uniprot.org/uniprotkb/search/fields)"
   ]
  },
  {
   "cell_type": "code",
   "execution_count": null,
   "id": "3802ab3e-fe2f-468f-b979-556bb1a4d7f3",
   "metadata": {},
   "outputs": [],
   "source": [
    "\n",
    "\n",
    "base_url = \"https://rest.uniprot.org/uniparc/search\"\n",
    "# Define the parameters for the API request\n",
    "params = {\n",
    "  # TP53 in mammals (taxonomy ID 40674)\n",
    "  \"query\": \"(taxonomy_id:40674) AND (gene:TP53)\",\n",
    "  \"format\": \"json\",\n",
    "  \"fields\": \"accession,sequence\",\n",
    "  \"size\": 10\n",
    "}\n",
    "\n",
    "# Make the API request\n",
    "response = requests.get(base_url, params=params, timeout=30)\n",
    "\n",
    "response.raise_for_status()\n",
    "\n",
    "data = response.json()"
   ]
  },
  {
   "cell_type": "code",
   "execution_count": null,
   "id": "12de6dad-93a3-41a0-aedf-4a15a92936dc",
   "metadata": {},
   "outputs": [],
   "source": [
    "\n",
    "\n",
    "sequences = [x.value for x in jp.parse(\"$..sequence.value\").find(data)]\n",
    "print(sequences)"
   ]
  },
  {
   "cell_type": "code",
   "execution_count": null,
   "id": "9054db0b-61e9-4201-8e28-9a447ca067c5",
   "metadata": {},
   "outputs": [],
   "source": [
    "\n",
    "\n",
    "base_url = \"https://rest.uniprot.org/uniref/search\"\n",
    "# Define the parameters for the API request\n",
    "params = {\n",
    "  \"query\": \"(taxonomy_id:9606) AND (name:FUS) AND (identity:0.5)\",\n",
    "  \"format\": \"json\",\n",
    "  \"fields\": \"id,members\",\n",
    "  \"size\": 10\n",
    "}\n",
    "\n",
    "# Make the API request\n",
    "response = requests.get(base_url, params=params, timeout=30)\n",
    "\n",
    "response.raise_for_status()\n",
    "\n",
    "data = response.json()\n",
    "print(data)"
   ]
  },
  {
   "cell_type": "code",
   "execution_count": null,
   "id": "4253bf5b-c03e-431a-a165-150db1e5fe25",
   "metadata": {},
   "outputs": [],
   "source": [
    "\n",
    "\n",
    "sequences = [x.value for x in jp.parse(\"$..members\").find(data)]\n",
    "print(sequences)"
   ]
  },
  {
   "cell_type": "markdown",
   "id": "6ed6cccc-f0a9-44d1-8eb0-6f67098b3146",
   "metadata": {},
   "source": [
    "\n",
    "\n",
    " ## Ejercicios\n",
    " 1. Recuperar de UniprotKB todas las proteínas del género *Caenorhabditis* que\n",
    "    estén anotadas con el E.C. number 1.1.1.1 (alcohol dehidrogenasa).\n",
    "    Recuperar los campos `accession`, `id`, `sequence`, `protein_name`,\n",
    "    `organism_name`, `gene_name` y `reviewed`, en formato TSV."
   ]
  },
  {
   "cell_type": "markdown",
   "id": "12587f5a-6aa5-418a-96dd-c242fb4eb010",
   "metadata": {},
   "source": [
    "\n",
    "\n",
    " 2. Recuperar de UniprotKB todas las proteínas que interactúan\n",
    "    con la proteína *BRCA1* en humanos (revisada). Recuperar además los campos\n",
    "   `accession`, `id`, y las proteínas que interactúan con cada una de ellas.\n",
    "    Generar una matriz de interacción, en formato TSV."
   ]
  },
  {
   "cell_type": "markdown",
   "id": "21c66b3a-61ad-4bf3-a481-967061fe5286",
   "metadata": {},
   "source": [
    "\n",
    "\n",
    " 3. Recuperar de swissprot todas las proteínas humanas cuya ubicación\n",
    "    subcelular se la mitocondria y el peroxisoma (que contengan ambas\n",
    "    anotaciones), en formato TSV."
   ]
  },
  {
   "cell_type": "markdown",
   "id": "a1cd38e0-fa3c-4375-892a-e968b1d7a3de",
   "metadata": {},
   "source": [
    "\n",
    "\n",
    " 4. Recuperar de UniprotKB todas DNA helicasas de bacterias del grupo\n",
    "    Cyanobacteriota.\n",
    "    Recuperar los el accession, el id, la secuencia, el nombre de la proteína,\n",
    "    el nombre del organismo, el nombre del gen y la longitud de la secuencia."
   ]
  },
  {
   "cell_type": "markdown",
   "id": "ed9a7f78-3396-41df-8580-7747844dfbbf",
   "metadata": {},
   "source": [
    "\n",
    "\n",
    " 5. Recuperar de Uniref los grupos de proteínas al 50% de identidad que\n",
    "    contengan, alguna de las isoformas humanas de la enzima\n",
    "    phosphofructokinase. ¿Las isoformas humanas están en el mismo grupo?\n",
    "    ¿Cuantos organismos diferentes hay en cada grupo?"
   ]
  },
  {
   "cell_type": "markdown",
   "id": "6ac675e7-ac6d-452d-953b-800c66515346",
   "metadata": {},
   "source": [
    "\n",
    "\n",
    " 6. Recuperar de UniprotKb las anotaciones de Regiones, dominios y Zinc-finger\n",
    "    de todas las proteínas del gene *FUS* (revisadas).\n",
    "    Para cada entrada, generar un tabla que contenga estas anotaciones."
   ]
  },
  {
   "cell_type": "markdown",
   "metadata": {},
   "source": [
    "7. Recuperar los Uniprot AC de los miembros del clusters UniRef50 en el que se encuentra la proteía \"HELI_NPVAC\".\n",
    "   Para cada miembro recuperar el organismo y el linaje taxonomico y si son parte de swissprot."
   ]
  },
  {
   "cell_type": "markdown",
   "id": "a342d53e-7ec7-4e88-a9e2-ca10b122ddf4",
   "metadata": {},
   "source": [
    "\n",
    "\n",
    " ## Uniprot Mapping ID API"
   ]
  },
  {
   "cell_type": "code",
   "execution_count": null,
   "id": "3558e03e-5e72-421b-8158-dee63909068b",
   "metadata": {},
   "outputs": [],
   "source": [
    "\n",
    "\n",
    "base_url = \"https://rest.uniprot.org/idmapping/run\"\n",
    "\n",
    "params = {\n",
    "  \"from\": \"UniProtKB_AC-ID\",\n",
    "  \"to\": \"PDB\",\n",
    "  \"ids\": \"P12345,Q8N158\"\n",
    "}\n",
    "\n",
    "response = requests.post(base_url, data=params, timeout=30)\n",
    "response.raise_for_status()\n",
    "\n",
    "job_id = response.json()[\"jobId\"]"
   ]
  },
  {
   "cell_type": "code",
   "execution_count": null,
   "id": "b8614ea6-237f-4c70-95bc-c68421d57ccd",
   "metadata": {},
   "outputs": [],
   "source": [
    "\n",
    "\n",
    "# Check the status of the job\n",
    "status_url = f\"https://rest.uniprot.org/idmapping/status/{job_id}\"\n",
    "while True:\n",
    "  time.sleep(2)\n",
    "  status_response = requests.get(status_url, timeout=30, allow_redirects=False)\n",
    "  status_response.raise_for_status()\n",
    "  status_data = status_response.json()\n",
    "  if \"jobStatus\" not in status_data:\n",
    "    print(\"Job status not found in response.\")\n",
    "    print(status_data)\n",
    "    break\n",
    "  if status_data[\"jobStatus\"] == \"FINISHED\":\n",
    "    break"
   ]
  },
  {
   "cell_type": "code",
   "execution_count": null,
   "id": "78f3a39f-3f75-4d69-80ae-4c041a479097",
   "metadata": {},
   "outputs": [],
   "source": [
    "\n",
    "\n",
    "# Retrieve the results\n",
    "results_url = f\"https://rest.uniprot.org/idmapping/results/{job_id}\"\n",
    "results_response = requests.get(results_url, timeout=30)\n",
    "results_response.raise_for_status()\n",
    "\n",
    "# Parse and display the results\n",
    "results_data = results_response.json()\n",
    "for result in results_data[\"results\"]:\n",
    "  print(f\"From: {result['from']} -> To: {result['to']}\")"
   ]
  },
  {
   "cell_type": "markdown",
   "id": "b942b79d-67b1-4657-99cb-d56caca16e1c",
   "metadata": {},
   "source": [
    "\n",
    "\n",
    " ## Biomart Service"
   ]
  },
  {
   "cell_type": "code",
   "execution_count": null,
   "id": "0837130b-1fbf-47a1-bd42-03e445f3c7bf",
   "metadata": {},
   "outputs": [],
   "source": [
    "url = 'http://www.ensembl.org/biomart/martservice'\n",
    "\n",
    "query = \"\"\"<?xml version=\"1.0\" encoding=\"UTF-8\"?>\n",
    "<!DOCTYPE Query>\n",
    "<Query virtualSchemaName = \"default\" formatter = \"TSV\" header = \"0\" uniqueRows = \"0\" count = \"\" datasetConfigVersion = \"0.6\" >\n",
    "\t<Dataset name = \"hsapiens_gene_ensembl\" interface = \"default\" >\n",
    "\t\t<Filter name = \"entrezgene_id\" value = \"207\"/>\n",
    "\t\t<Attribute name = \"ensembl_gene_id\" />\n",
    "\t\t<Attribute name = \"ensembl_gene_id_version\" />\n",
    "\t\t<Attribute name = \"ensembl_transcript_id\" />\n",
    "\t\t<Attribute name = \"ensembl_transcript_id_version\" />\n",
    "\t</Dataset>\n",
    "</Query>\"\"\"\n",
    "\n",
    "query = query.replace(\"\\n\", \"\").replace(\"\\t\", \"\")\n",
    "\n",
    "params = {\n",
    "  \"query\": query\n",
    "}\n",
    "\n",
    "response = requests.get(url, params, timeout=30)\n",
    "\n",
    "print(response.request.url)\n",
    "\n",
    "response.raise_for_status()\n",
    "\n",
    "data = response.content.decode(\"utf-8\")"
   ]
  },
  {
   "cell_type": "code",
   "execution_count": null,
   "id": "c2486c12-dac3-4b4b-bd97-3399826adc78",
   "metadata": {},
   "outputs": [],
   "source": [
    "pd.read_csv(\n",
    "  StringIO(data),\n",
    "  sep=\"\\t\",\n",
    "  header=None\n",
    ")"
   ]
  },
  {
   "cell_type": "markdown",
   "id": "b9339b53-32b3-4a53-ae7d-b0d90606c2ff",
   "metadata": {},
   "source": [
    "\n",
    "\n",
    " ## Ejercicios Uniprot Mapping y Biomart\n",
    "\n"
   ]
  },
  {
   "cell_type": "markdown",
   "metadata": {},
   "source": [
    " 1. Recuperar todas las todos los identificadores de UniProtKB de la proteína\n",
    "    codificada en el gen *ATK1* en humanos, Mus musculus, Drosophila\n",
    "    melanogaster, Danio rerio y Sus scrofa. Primero recuperar los Gene IDs de\n",
    "    NCBI Gene y luego mapearlos a UniProtKB, usando la API de Uniprot Mapping.\n"
   ]
  },
  {
   "cell_type": "markdown",
   "metadata": {},
   "source": [
    "\n",
    " 2. Repetir el ejercicio anterior, pero usando la API de Biomart. Comparar los\n",
    "    resultados obtenidos con ambos métodos.\n",
    "\n"
   ]
  },
  {
   "cell_type": "markdown",
   "metadata": {},
   "source": [
    " 3. Recuperar las secuencias de todos los exones de todos los transcriptos del\n",
    "    gen *TP53* humano."
   ]
  },
  {
   "cell_type": "markdown",
   "metadata": {},
   "source": [
    "4. Recuperar los nombres de todos los genes humanos que están asociados con el\n",
    "   término GO \"apoptosis\" (GO:0006915), junto con sus identificadores NCBI Gene ID\n",
    "   y el Gene symbol, utilizando la API de Biomart.\n",
    "\n",
    "   ```\n"
   ]
  }
 ],
 "metadata": {
  "kernelspec": {
   "display_name": ".venv",
   "language": "python",
   "name": "python3"
  },
  "language_info": {
   "codemirror_mode": {
    "name": "ipython",
    "version": 3
   },
   "file_extension": ".py",
   "mimetype": "text/x-python",
   "name": "python",
   "nbconvert_exporter": "python",
   "pygments_lexer": "ipython3",
   "version": "3.13.0"
  }
 },
 "nbformat": 4,
 "nbformat_minor": 2
}
