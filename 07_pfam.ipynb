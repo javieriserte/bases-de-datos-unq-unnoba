{
 "cells": [
  {
   "cell_type": "markdown",
   "id": "f3fd7649",
   "metadata": {},
   "source": [
    "# Acceso a Pfam"
   ]
  },
  {
   "cell_type": "markdown",
   "id": "dc0017c7",
   "metadata": {},
   "source": [
    "Buscamos datos de todas la familias de Pfam\n",
    "\n",
    "La url base de Pfam es \"https://pfam.xfam.org/\", pero en algunos sistemas no se\n",
    "puede acceder bien, en esos casos, se puede usar \"http://pfam.xfam.org/\" (notar que es \"https\" en un\n",
    "caso y \"http\" en el otro.\n",
    "\n",
    "Pfam provee unos pocos servicios que se pueden usar para acceder programaticamente."
   ]
  },
  {
   "cell_type": "code",
   "execution_count": 27,
   "id": "3f836157",
   "metadata": {},
   "outputs": [],
   "source": [
    "library(httr)\n",
    "library(xml2)"
   ]
  },
  {
   "cell_type": "markdown",
   "id": "adb8d883",
   "metadata": {},
   "source": [
    "## Recuperar datos de las familias disponibles\n",
    "\n",
    "Uno de los servicios permite recuperar el nombre, código de acceso y descripción de todas las familias de proteínas disponibles."
   ]
  },
  {
   "cell_type": "code",
   "execution_count": 6,
   "id": "fa842ac1",
   "metadata": {},
   "outputs": [],
   "source": [
    "url   <- \"http://pfam.xfam.org/families\"\n",
    "respuesta <- GET(url, query=list(output=\"text\"))"
   ]
  },
  {
   "cell_type": "code",
   "execution_count": 12,
   "id": "e2f0adb1",
   "metadata": {
    "scrolled": true
   },
   "outputs": [
    {
     "data": {
      "text/html": [
       "<table class=\"dataframe\">\n",
       "<caption>A data.frame: 6 × 3</caption>\n",
       "<thead>\n",
       "\t<tr><th></th><th scope=col>Accession</th><th scope=col>Name</th><th scope=col>Description</th></tr>\n",
       "\t<tr><th></th><th scope=col>&lt;chr&gt;</th><th scope=col>&lt;chr&gt;</th><th scope=col>&lt;chr&gt;</th></tr>\n",
       "</thead>\n",
       "<tbody>\n",
       "\t<tr><th scope=row>1</th><td>PF00001</td><td>7tm_1      </td><td>7 transmembrane receptor (rhodopsin family)                    </td></tr>\n",
       "\t<tr><th scope=row>2</th><td>PF00002</td><td>7tm_2      </td><td>7 transmembrane receptor (Secretin family)                     </td></tr>\n",
       "\t<tr><th scope=row>3</th><td>PF00003</td><td>7tm_3      </td><td>7 transmembrane sweet-taste receptor of 3 GCPR                 </td></tr>\n",
       "\t<tr><th scope=row>4</th><td>PF00004</td><td>AAA        </td><td>ATPase family associated with various cellular activities (AAA)</td></tr>\n",
       "\t<tr><th scope=row>5</th><td>PF00005</td><td>ABC_tran   </td><td>ABC transporter                                                </td></tr>\n",
       "\t<tr><th scope=row>6</th><td>PF00006</td><td>ATP-synt_ab</td><td>ATP synthase alpha/beta family, nucleotide-binding domain      </td></tr>\n",
       "</tbody>\n",
       "</table>\n"
      ],
      "text/latex": [
       "A data.frame: 6 × 3\n",
       "\\begin{tabular}{r|lll}\n",
       "  & Accession & Name & Description\\\\\n",
       "  & <chr> & <chr> & <chr>\\\\\n",
       "\\hline\n",
       "\t1 & PF00001 & 7tm\\_1       & 7 transmembrane receptor (rhodopsin family)                    \\\\\n",
       "\t2 & PF00002 & 7tm\\_2       & 7 transmembrane receptor (Secretin family)                     \\\\\n",
       "\t3 & PF00003 & 7tm\\_3       & 7 transmembrane sweet-taste receptor of 3 GCPR                 \\\\\n",
       "\t4 & PF00004 & AAA         & ATPase family associated with various cellular activities (AAA)\\\\\n",
       "\t5 & PF00005 & ABC\\_tran    & ABC transporter                                                \\\\\n",
       "\t6 & PF00006 & ATP-synt\\_ab & ATP synthase alpha/beta family, nucleotide-binding domain      \\\\\n",
       "\\end{tabular}\n"
      ],
      "text/markdown": [
       "\n",
       "A data.frame: 6 × 3\n",
       "\n",
       "| <!--/--> | Accession &lt;chr&gt; | Name &lt;chr&gt; | Description &lt;chr&gt; |\n",
       "|---|---|---|---|\n",
       "| 1 | PF00001 | 7tm_1       | 7 transmembrane receptor (rhodopsin family)                     |\n",
       "| 2 | PF00002 | 7tm_2       | 7 transmembrane receptor (Secretin family)                      |\n",
       "| 3 | PF00003 | 7tm_3       | 7 transmembrane sweet-taste receptor of 3 GCPR                  |\n",
       "| 4 | PF00004 | AAA         | ATPase family associated with various cellular activities (AAA) |\n",
       "| 5 | PF00005 | ABC_tran    | ABC transporter                                                 |\n",
       "| 6 | PF00006 | ATP-synt_ab | ATP synthase alpha/beta family, nucleotide-binding domain       |\n",
       "\n"
      ],
      "text/plain": [
       "  Accession Name       \n",
       "1 PF00001   7tm_1      \n",
       "2 PF00002   7tm_2      \n",
       "3 PF00003   7tm_3      \n",
       "4 PF00004   AAA        \n",
       "5 PF00005   ABC_tran   \n",
       "6 PF00006   ATP-synt_ab\n",
       "  Description                                                    \n",
       "1 7 transmembrane receptor (rhodopsin family)                    \n",
       "2 7 transmembrane receptor (Secretin family)                     \n",
       "3 7 transmembrane sweet-taste receptor of 3 GCPR                 \n",
       "4 ATPase family associated with various cellular activities (AAA)\n",
       "5 ABC transporter                                                \n",
       "6 ATP synthase alpha/beta family, nucleotide-binding domain      "
      ]
     },
     "metadata": {},
     "output_type": "display_data"
    }
   ],
   "source": [
    "families <-read.table(\n",
    "    text=content(respuesta),\n",
    "    header=FALSE,\n",
    "    sep=\"\\t\",\n",
    "    quote=\"\",\n",
    "    comment.char=\"#\",\n",
    "    col.names=c('Accession', 'Name', 'Description')\n",
    ")\n",
    "head(families)"
   ]
  },
  {
   "cell_type": "markdown",
   "id": "7a22e683",
   "metadata": {},
   "source": [
    "## Conversión de identificadores\n",
    "\n",
    "Podemos convertit el código de acceso y el identificador de nombres.\n"
   ]
  },
  {
   "cell_type": "code",
   "execution_count": 51,
   "id": "6119b8f6",
   "metadata": {},
   "outputs": [],
   "source": [
    "# url <- \"http://pfam.xfam.org/family/id?output=xml&acc=PF00082\"\n",
    "url <- \"http://pfam.xfam.org/family/id\"\n",
    "\n",
    "family_acc <- 'PF00082'\n",
    "respuesta <- GET(url, query=list(output=\"xml\", acc=family_acc))\n",
    "data <- content(respuesta)"
   ]
  },
  {
   "cell_type": "code",
   "execution_count": 52,
   "id": "9ddc51ea",
   "metadata": {},
   "outputs": [
    {
     "data": {
      "text/html": [
       "<ol>\n",
       "\t<li><style>\n",
       ".dl-inline {width: auto; margin:0; padding: 0}\n",
       ".dl-inline>dt, .dl-inline>dd {float: none; width: auto; display: inline-block}\n",
       ".dl-inline>dt::after {content: \":\\0020\"; padding-right: .5ex}\n",
       ".dl-inline>dt:not(:first-of-type) {padding-left: .5ex}\n",
       "</style><dl class=dl-inline><dt>entry_type</dt><dd>'Pfam-A'</dd><dt>accession</dt><dd>'PF00082'</dd><dt>id</dt><dd>'Peptidase_S8'</dd></dl>\n",
       "</li>\n",
       "</ol>\n"
      ],
      "text/latex": [
       "\\begin{enumerate}\n",
       "\\item \\begin{description*}\n",
       "\\item[entry\\textbackslash{}\\_type] 'Pfam-A'\n",
       "\\item[accession] 'PF00082'\n",
       "\\item[id] 'Peptidase\\_S8'\n",
       "\\end{description*}\n",
       "\n",
       "\\end{enumerate}\n"
      ],
      "text/markdown": [
       "1. entry_type\n",
       ":   'Pfam-A'accession\n",
       ":   'PF00082'id\n",
       ":   'Peptidase_S8'\n",
       "\n",
       "\n",
       "\n",
       "\n"
      ],
      "text/plain": [
       "[[1]]\n",
       "    entry_type      accession             id \n",
       "      \"Pfam-A\"      \"PF00082\" \"Peptidase_S8\" \n"
      ]
     },
     "metadata": {},
     "output_type": "display_data"
    }
   ],
   "source": [
    "xml_attrs(xml_children(data))"
   ]
  },
  {
   "cell_type": "markdown",
   "id": "35289e1b",
   "metadata": {},
   "source": [
    "## Recuperar anotaciones"
   ]
  },
  {
   "cell_type": "code",
   "execution_count": 58,
   "id": "040667fc",
   "metadata": {},
   "outputs": [],
   "source": [
    "url <- \"http://pfam.xfam.org/family\"\n",
    "\n",
    "family_acc <- 'PF00082'\n",
    "respuesta <- GET(url, query=list(output=\"xml\", acc=family_acc))\n",
    "data <- as_list(content(respuesta))"
   ]
  },
  {
   "cell_type": "code",
   "execution_count": 81,
   "id": "faa26d93",
   "metadata": {},
   "outputs": [
    {
     "data": {
      "text/html": [
       "<style>\n",
       ".list-inline {list-style: none; margin:0; padding: 0}\n",
       ".list-inline>li {display: inline-block}\n",
       ".list-inline>li:not(:last-child)::after {content: \"\\00b7\"; padding: 0 .5ex}\n",
       "</style>\n",
       "<ol class=list-inline><li>'description'</li><li>'comment'</li><li>'go_terms'</li><li>'curation_details'</li><li>'hmm_details'</li></ol>\n"
      ],
      "text/latex": [
       "\\begin{enumerate*}\n",
       "\\item 'description'\n",
       "\\item 'comment'\n",
       "\\item 'go\\_terms'\n",
       "\\item 'curation\\_details'\n",
       "\\item 'hmm\\_details'\n",
       "\\end{enumerate*}\n"
      ],
      "text/markdown": [
       "1. 'description'\n",
       "2. 'comment'\n",
       "3. 'go_terms'\n",
       "4. 'curation_details'\n",
       "5. 'hmm_details'\n",
       "\n",
       "\n"
      ],
      "text/plain": [
       "[1] \"description\"      \"comment\"          \"go_terms\"         \"curation_details\"\n",
       "[5] \"hmm_details\"     "
      ]
     },
     "metadata": {},
     "output_type": "display_data"
    }
   ],
   "source": [
    "names(data$pfam$entry)"
   ]
  },
  {
   "cell_type": "code",
   "execution_count": 82,
   "id": "421a59bd",
   "metadata": {},
   "outputs": [
    {
     "data": {
      "text/html": [
       "<style>\n",
       ".list-inline {list-style: none; margin:0; padding: 0}\n",
       ".list-inline>li {display: inline-block}\n",
       ".list-inline>li:not(:last-child)::after {content: \"\\00b7\"; padding: 0 .5ex}\n",
       "</style>\n",
       "<ol class=list-inline><li>'status'</li><li>'seed_source'</li><li>'previous_id'</li><li>'num_archs'</li><li>'num_seqs'</li><li>'num_species'</li><li>'num_structures'</li><li>'percentage_identity'</li><li>'av_length'</li><li>'av_coverage'</li><li>'type'</li></ol>\n"
      ],
      "text/latex": [
       "\\begin{enumerate*}\n",
       "\\item 'status'\n",
       "\\item 'seed\\_source'\n",
       "\\item 'previous\\_id'\n",
       "\\item 'num\\_archs'\n",
       "\\item 'num\\_seqs'\n",
       "\\item 'num\\_species'\n",
       "\\item 'num\\_structures'\n",
       "\\item 'percentage\\_identity'\n",
       "\\item 'av\\_length'\n",
       "\\item 'av\\_coverage'\n",
       "\\item 'type'\n",
       "\\end{enumerate*}\n"
      ],
      "text/markdown": [
       "1. 'status'\n",
       "2. 'seed_source'\n",
       "3. 'previous_id'\n",
       "4. 'num_archs'\n",
       "5. 'num_seqs'\n",
       "6. 'num_species'\n",
       "7. 'num_structures'\n",
       "8. 'percentage_identity'\n",
       "9. 'av_length'\n",
       "10. 'av_coverage'\n",
       "11. 'type'\n",
       "\n",
       "\n"
      ],
      "text/plain": [
       " [1] \"status\"              \"seed_source\"         \"previous_id\"        \n",
       " [4] \"num_archs\"           \"num_seqs\"            \"num_species\"        \n",
       " [7] \"num_structures\"      \"percentage_identity\" \"av_length\"          \n",
       "[10] \"av_coverage\"         \"type\"               "
      ]
     },
     "metadata": {},
     "output_type": "display_data"
    }
   ],
   "source": [
    "names(data$pfam$entry$curation_details)"
   ]
  },
  {
   "cell_type": "markdown",
   "id": "2bf75d97",
   "metadata": {},
   "source": [
    "Recuperamos el tipo de familia, la descripción, la cobertura promedio, y la longitud promedio."
   ]
  },
  {
   "cell_type": "code",
   "execution_count": 80,
   "id": "4e80d39f",
   "metadata": {
    "scrolled": true
   },
   "outputs": [
    {
     "data": {
      "text/html": [
       "'Subtilase family'"
      ],
      "text/latex": [
       "'Subtilase family'"
      ],
      "text/markdown": [
       "'Subtilase family'"
      ],
      "text/plain": [
       "[1] \"Subtilase family\""
      ]
     },
     "metadata": {},
     "output_type": "display_data"
    },
    {
     "data": {
      "text/html": [
       "'Domain'"
      ],
      "text/latex": [
       "'Domain'"
      ],
      "text/markdown": [
       "'Domain'"
      ],
      "text/plain": [
       "[1] \"Domain\""
      ]
     },
     "metadata": {},
     "output_type": "display_data"
    },
    {
     "data": {
      "text/html": [
       "'44.46'"
      ],
      "text/latex": [
       "'44.46'"
      ],
      "text/markdown": [
       "'44.46'"
      ],
      "text/plain": [
       "[1] \"44.46\""
      ]
     },
     "metadata": {},
     "output_type": "display_data"
    },
    {
     "data": {
      "text/html": [
       "'302.00'"
      ],
      "text/latex": [
       "'302.00'"
      ],
      "text/markdown": [
       "'302.00'"
      ],
      "text/plain": [
       "[1] \"302.00\""
      ]
     },
     "metadata": {},
     "output_type": "display_data"
    }
   ],
   "source": [
    "# descripcion\n",
    "trimws(data$pfam$entry$description)\n",
    "\n",
    "# tipo\n",
    "unlist(data$pfam$entry$curation_details$type)\n",
    "\n",
    "# cobertura promedio\n",
    "unlist(data$pfam$entry$curation_details$av_coverage)\n",
    "\n",
    "# cobertura promedio\n",
    "unlist(data$pfam$entry$curation_details$av_length)"
   ]
  },
  {
   "cell_type": "markdown",
   "id": "e3c0cdf3",
   "metadata": {},
   "source": [
    "## Buscar datos de una proteína\n",
    "\n",
    "Podemos buscar si una proteína "
   ]
  },
  {
   "cell_type": "code",
   "execution_count": 154,
   "id": "fac1bf9f",
   "metadata": {},
   "outputs": [],
   "source": [
    "url <- \"http://pfam.xfam.org/protein\"\n",
    "\n",
    "uniprot <- 'P0AA25'\n",
    "respuesta <- GET(url, query=list(output=\"xml\", entry=uniprot))\n",
    "data <- content(respuesta)\n",
    "data_list <- as_list(data)"
   ]
  },
  {
   "cell_type": "code",
   "execution_count": 155,
   "id": "46554f2c",
   "metadata": {},
   "outputs": [
    {
     "data": {
      "text/html": [
       "<strong>$pfam</strong> = <strong>$entry</strong> = <dl>\n",
       "\t<dt>$description</dt>\n",
       "\t\t<dd><ol>\n",
       "\t<li>'\\nThioredoxin 1\\n'</li>\n",
       "</ol>\n",
       "</dd>\n",
       "\t<dt>$taxonomy</dt>\n",
       "\t\t<dd><ol>\n",
       "\t<li>'Bacteria; Proteobacteria; Gammaproteobacteria; Enterobacterales; Enterobacteriaceae; Escherichia.'</li>\n",
       "</ol>\n",
       "</dd>\n",
       "\t<dt>$sequence</dt>\n",
       "\t\t<dd><ol>\n",
       "\t<li>'MSDKIIHLTDDSFDTDVLKADGAILVDFWAEWCGPCKMIAPILDEIADEYQGKLTVAKLNIDQNPGTAPKYGIRGIPTLLLFKNGEVAATKVGALSKGQLKEFLDANLA'</li>\n",
       "</ol>\n",
       "</dd>\n",
       "\t<dt>$matches</dt>\n",
       "\t\t<dd><strong>$match</strong> = <strong>$location</strong> = <ol>\n",
       "</ol>\n",
       "</dd>\n",
       "</dl>\n"
      ],
      "text/latex": [
       "\\textbf{\\$pfam} = \\textbf{\\$entry} = \\begin{description}\n",
       "\\item[\\$description] \\begin{enumerate}\n",
       "\\item '\\textbackslash{}nThioredoxin 1\\textbackslash{}n'\n",
       "\\end{enumerate}\n",
       "\n",
       "\\item[\\$taxonomy] \\begin{enumerate}\n",
       "\\item 'Bacteria; Proteobacteria; Gammaproteobacteria; Enterobacterales; Enterobacteriaceae; Escherichia.'\n",
       "\\end{enumerate}\n",
       "\n",
       "\\item[\\$sequence] \\begin{enumerate}\n",
       "\\item 'MSDKIIHLTDDSFDTDVLKADGAILVDFWAEWCGPCKMIAPILDEIADEYQGKLTVAKLNIDQNPGTAPKYGIRGIPTLLLFKNGEVAATKVGALSKGQLKEFLDANLA'\n",
       "\\end{enumerate}\n",
       "\n",
       "\\item[\\$matches] \\textbf{\\$match} = \\textbf{\\$location} = \\begin{enumerate}\n",
       "\\end{enumerate}\n",
       "\n",
       "\\end{description}\n"
      ],
      "text/markdown": [
       "**$pfam** = **$entry** = $description\n",
       ":   1. '\\nThioredoxin 1\\n'\n",
       "\n",
       "\n",
       "\n",
       "$taxonomy\n",
       ":   1. 'Bacteria; Proteobacteria; Gammaproteobacteria; Enterobacterales; Enterobacteriaceae; Escherichia.'\n",
       "\n",
       "\n",
       "\n",
       "$sequence\n",
       ":   1. 'MSDKIIHLTDDSFDTDVLKADGAILVDFWAEWCGPCKMIAPILDEIADEYQGKLTVAKLNIDQNPGTAPKYGIRGIPTLLLFKNGEVAATKVGALSKGQLKEFLDANLA'\n",
       "\n",
       "\n",
       "\n",
       "$matches\n",
       ":   **$match** = **$location** = \n",
       "\n",
       "\n",
       "\n",
       "\n"
      ],
      "text/plain": [
       "$pfam\n",
       "$pfam$entry\n",
       "$pfam$entry$description\n",
       "$pfam$entry$description[[1]]\n",
       "[1] \"\\nThioredoxin 1\\n\"\n",
       "\n",
       "\n",
       "$pfam$entry$taxonomy\n",
       "$pfam$entry$taxonomy[[1]]\n",
       "[1] \"Bacteria; Proteobacteria; Gammaproteobacteria; Enterobacterales; Enterobacteriaceae; Escherichia.\"\n",
       "\n",
       "attr(,\"tax_id\")\n",
       "[1] \"83333\"\n",
       "attr(,\"species_name\")\n",
       "[1] \"Escherichia coli (strain K12)\"\n",
       "\n",
       "$pfam$entry$sequence\n",
       "$pfam$entry$sequence[[1]]\n",
       "[1] \"MSDKIIHLTDDSFDTDVLKADGAILVDFWAEWCGPCKMIAPILDEIADEYQGKLTVAKLNIDQNPGTAPKYGIRGIPTLLLFKNGEVAATKVGALSKGQLKEFLDANLA\"\n",
       "\n",
       "attr(,\"length\")\n",
       "[1] \"109\"\n",
       "attr(,\"md5\")\n",
       "[1] \"850143d49315e8891aad60bd107000ef\"\n",
       "attr(,\"crc64\")\n",
       "[1] \"EF5933EA29668EE9\"\n",
       "attr(,\"version\")\n",
       "[1] \"2\"\n",
       "\n",
       "$pfam$entry$matches\n",
       "$pfam$entry$matches$match\n",
       "$pfam$entry$matches$match$location\n",
       "list()\n",
       "attr(,\"start\")\n",
       "[1] \"4\"\n",
       "attr(,\"end\")\n",
       "[1] \"106\"\n",
       "attr(,\"ali_start\")\n",
       "[1] \"5\"\n",
       "attr(,\"ali_end\")\n",
       "[1] \"105\"\n",
       "attr(,\"hmm_start\")\n",
       "[1] \"2\"\n",
       "attr(,\"hmm_end\")\n",
       "[1] \"102\"\n",
       "attr(,\"evalue\")\n",
       "[1] \"1.1e-30\"\n",
       "attr(,\"bitscore\")\n",
       "[1] \"116.90\"\n",
       "\n",
       "attr(,\"accession\")\n",
       "[1] \"PF00085\"\n",
       "attr(,\"id\")\n",
       "[1] \"Thioredoxin\"\n",
       "attr(,\"type\")\n",
       "[1] \"Pfam-A\"\n",
       "\n",
       "\n",
       "attr(,\"entry_type\")\n",
       "[1] \"sequence\"\n",
       "attr(,\"db\")\n",
       "[1] \"uniprot\"\n",
       "attr(,\"db_release\")\n",
       "[1] \"2020_06\"\n",
       "attr(,\"accession\")\n",
       "[1] \"P0AA25\"\n",
       "attr(,\"id\")\n",
       "[1] \"THIO_ECOLI\"\n",
       "\n",
       "attr(,\"schemaLocation\")\n",
       "[1] \"https://pfam.xfam.org/                           https://pfam.xfam.org/static/documents/schemas/protein.xsd\"\n",
       "attr(,\"release\")\n",
       "[1] \"34.0\"\n",
       "attr(,\"release_date\")\n",
       "[1] \"2021-03-04\"\n",
       "attr(,\"xmlns:xsi\")\n",
       "[1] \"http://www.w3.org/2001/XMLSchema-instance\"\n",
       "attr(,\"xmlns\")\n",
       "[1] \"https://pfam.xfam.org/\"\n"
      ]
     },
     "metadata": {},
     "output_type": "display_data"
    }
   ],
   "source": [
    "data_list"
   ]
  },
  {
   "cell_type": "code",
   "execution_count": 156,
   "id": "1ce1d10f",
   "metadata": {},
   "outputs": [
    {
     "data": {
      "text/html": [
       "<ol>\n",
       "\t<li>'MSDKIIHLTDDSFDTDVLKADGAILVDFWAEWCGPCKMIAPILDEIADEYQGKLTVAKLNIDQNPGTAPKYGIRGIPTLLLFKNGEVAATKVGALSKGQLKEFLDANLA'</li>\n",
       "</ol>\n"
      ],
      "text/latex": [
       "\\begin{enumerate}\n",
       "\\item 'MSDKIIHLTDDSFDTDVLKADGAILVDFWAEWCGPCKMIAPILDEIADEYQGKLTVAKLNIDQNPGTAPKYGIRGIPTLLLFKNGEVAATKVGALSKGQLKEFLDANLA'\n",
       "\\end{enumerate}\n"
      ],
      "text/markdown": [
       "1. 'MSDKIIHLTDDSFDTDVLKADGAILVDFWAEWCGPCKMIAPILDEIADEYQGKLTVAKLNIDQNPGTAPKYGIRGIPTLLLFKNGEVAATKVGALSKGQLKEFLDANLA'\n",
       "\n",
       "\n"
      ],
      "text/plain": [
       "[[1]]\n",
       "[1] \"MSDKIIHLTDDSFDTDVLKADGAILVDFWAEWCGPCKMIAPILDEIADEYQGKLTVAKLNIDQNPGTAPKYGIRGIPTLLLFKNGEVAATKVGALSKGQLKEFLDANLA\"\n",
       "\n",
       "attr(,\"length\")\n",
       "[1] \"109\"\n",
       "attr(,\"md5\")\n",
       "[1] \"850143d49315e8891aad60bd107000ef\"\n",
       "attr(,\"crc64\")\n",
       "[1] \"EF5933EA29668EE9\"\n",
       "attr(,\"version\")\n",
       "[1] \"2\""
      ]
     },
     "metadata": {},
     "output_type": "display_data"
    }
   ],
   "source": [
    "# Recupero la secuencia en formato fasta\n",
    "data_list$pfam$entry$sequence"
   ]
  },
  {
   "cell_type": "code",
   "execution_count": 152,
   "id": "6babc6f2",
   "metadata": {},
   "outputs": [
    {
     "data": {
      "text/html": [
       "<style>\n",
       ".dl-inline {width: auto; margin:0; padding: 0}\n",
       ".dl-inline>dt, .dl-inline>dd {float: none; width: auto; display: inline-block}\n",
       ".dl-inline>dt::after {content: \":\\0020\"; padding-right: .5ex}\n",
       ".dl-inline>dt:not(:first-of-type) {padding-left: .5ex}\n",
       "</style><dl class=dl-inline><dt>accession</dt><dd>'PF00085'</dd><dt>id</dt><dd>'Thioredoxin'</dd><dt>type</dt><dd>'Pfam-A'</dd></dl>\n"
      ],
      "text/latex": [
       "\\begin{description*}\n",
       "\\item[accession] 'PF00085'\n",
       "\\item[id] 'Thioredoxin'\n",
       "\\item[type] 'Pfam-A'\n",
       "\\end{description*}\n"
      ],
      "text/markdown": [
       "accession\n",
       ":   'PF00085'id\n",
       ":   'Thioredoxin'type\n",
       ":   'Pfam-A'\n",
       "\n"
      ],
      "text/plain": [
       "    accession            id          type \n",
       "    \"PF00085\" \"Thioredoxin\"      \"Pfam-A\" "
      ]
     },
     "metadata": {},
     "output_type": "display_data"
    },
    {
     "data": {
      "text/html": [
       "<ol>\n",
       "\t<li><style>\n",
       ".dl-inline {width: auto; margin:0; padding: 0}\n",
       ".dl-inline>dt, .dl-inline>dd {float: none; width: auto; display: inline-block}\n",
       ".dl-inline>dt::after {content: \":\\0020\"; padding-right: .5ex}\n",
       ".dl-inline>dt:not(:first-of-type) {padding-left: .5ex}\n",
       "</style><dl class=dl-inline><dt>start</dt><dd>'4'</dd><dt>end</dt><dd>'106'</dd><dt>ali_start</dt><dd>'5'</dd><dt>ali_end</dt><dd>'105'</dd><dt>hmm_start</dt><dd>'2'</dd><dt>hmm_end</dt><dd>'102'</dd><dt>evalue</dt><dd>'1.1e-30'</dd><dt>bitscore</dt><dd>'116.90'</dd></dl>\n",
       "</li>\n",
       "</ol>\n"
      ],
      "text/latex": [
       "\\begin{enumerate}\n",
       "\\item \\begin{description*}\n",
       "\\item[start] '4'\n",
       "\\item[end] '106'\n",
       "\\item[ali\\textbackslash{}\\_start] '5'\n",
       "\\item[ali\\textbackslash{}\\_end] '105'\n",
       "\\item[hmm\\textbackslash{}\\_start] '2'\n",
       "\\item[hmm\\textbackslash{}\\_end] '102'\n",
       "\\item[evalue] '1.1e-30'\n",
       "\\item[bitscore] '116.90'\n",
       "\\end{description*}\n",
       "\n",
       "\\end{enumerate}\n"
      ],
      "text/markdown": [
       "1. start\n",
       ":   '4'end\n",
       ":   '106'ali_start\n",
       ":   '5'ali_end\n",
       ":   '105'hmm_start\n",
       ":   '2'hmm_end\n",
       ":   '102'evalue\n",
       ":   '1.1e-30'bitscore\n",
       ":   '116.90'\n",
       "\n",
       "\n",
       "\n",
       "\n"
      ],
      "text/plain": [
       "[[1]]\n",
       "    start       end ali_start   ali_end hmm_start   hmm_end    evalue  bitscore \n",
       "      \"4\"     \"106\"       \"5\"     \"105\"       \"2\"     \"102\" \"1.1e-30\"  \"116.90\" \n"
      ]
     },
     "metadata": {},
     "output_type": "display_data"
    }
   ],
   "source": [
    "# Recupero datos del match de la proteína los pfams\n",
    "matches <- xml_find_all(data, \".//d1:match\")\n",
    "\n",
    "# Datos del match\n",
    "xml_attrs(matches[[1]])\n",
    "\n",
    "# Datos de la unibación del match\n",
    "xml_attrs(xml_children(matches[[1]]))\n",
    "\n"
   ]
  },
  {
   "cell_type": "code",
   "execution_count": 160,
   "id": "a7bd8828",
   "metadata": {},
   "outputs": [],
   "source": [
    "## Buscar dominios en un secuencia de una proteína\n",
    "url <- \"https://pfam.xfam.org/search/sequence\"\n",
    "seq <- \"NQEFLSQEFPDIHILKIDVDECEELTVDYEIQDMPTIKKKKTLESFTGANIEQVKHYS\"\n",
    "\n",
    "body <- list(\n",
    "    seq = seq,\n",
    "    output=\"xml\"\n",
    ")\n",
    "\n",
    "response <- POST(\n",
    "    url,\n",
    "    body=body\n",
    ")"
   ]
  },
  {
   "cell_type": "code",
   "execution_count": 167,
   "id": "0a60352c",
   "metadata": {},
   "outputs": [
    {
     "data": {
      "text/html": [
       "<ol>\n",
       "\t<li>'/search/sequence/resultset/61D23A1C-CB12-11EB-A1FF-987E6EC84B9E?output=xml'</li>\n",
       "</ol>\n"
      ],
      "text/latex": [
       "\\begin{enumerate}\n",
       "\\item '/search/sequence/resultset/61D23A1C-CB12-11EB-A1FF-987E6EC84B9E?output=xml'\n",
       "\\end{enumerate}\n"
      ],
      "text/markdown": [
       "1. '/search/sequence/resultset/61D23A1C-CB12-11EB-A1FF-987E6EC84B9E?output=xml'\n",
       "\n",
       "\n"
      ],
      "text/plain": [
       "[[1]]\n",
       "[1] \"/search/sequence/resultset/61D23A1C-CB12-11EB-A1FF-987E6EC84B9E?output=xml\"\n"
      ]
     },
     "metadata": {},
     "output_type": "display_data"
    }
   ],
   "source": [
    "data <- as_list(content(response))\n",
    "data$html$body$jobs$job$result_url"
   ]
  },
  {
   "cell_type": "code",
   "execution_count": 172,
   "id": "1b97d9f1",
   "metadata": {},
   "outputs": [],
   "source": [
    "url <- paste0(\"https://pfam.xfam.org/\", unlist(data$html$body$jobs$job$result_url))\n",
    "response_job <- GET(url, query=list(output=\"xml\"))"
   ]
  },
  {
   "cell_type": "code",
   "execution_count": 195,
   "id": "09005feb",
   "metadata": {},
   "outputs": [
    {
     "name": "stdout",
     "output_type": "stream",
     "text": [
      "<?xml version=\"1.0\" encoding=\"UTF-8\"?>\n",
      "<pfam xmlns:xsi=\"http://www.w3.org/2001/XMLSchema-instance\"\n",
      "      xmlns=\"https://pfam.xfam.org/\"\n",
      "      xsi:schemaLocation=\"https://pfam.xfam.org/\n",
      "                          https://pfam.xfam.org/static/documents/schemas/pfam_family.xsd\"\n",
      "      release=\"34.0\"\n",
      "      release_date=\"2021-03-04\">\n",
      "  <results job_id=\"61D23A1C-CB12-11EB-A1FF-987E6EC84B9E\">\n",
      "    <matches>\n",
      "      <protein length=\"58\">\n",
      "        <database id=\"pfam\" release=\"34.0\" release_date=\"2021-03-04\">\n",
      "          <match accession=\"PF00085.20\" id=\"Thioredoxin\" type=\"Pfam-A\" class=\"Domain\">\n",
      "            <location start=\"2\" end=\"57\" ali_start=\"5\" ali_end=\"51\" hmm_start=\"43\" hmm_end=\"93\" evalue=\"1.0e-06\" bitscore=\"28.7\" evidence=\"hmmer v3.1b2\" significant=\"1\">\n",
      "              <hmm>\n",
      "                <![CDATA[laeelkdkvklakvdvdenedlakkyevegiPtlklfkngkevkkyegare]]>\n",
      "              </hmm>\n",
      "              <match_string>\n",
      "                <![CDATA[l++e+  ++ ++k+dvde+e+l  +ye++ +Pt+   k+ k+ ++++ga+ ]]>\n",
      "              </match_string>\n",
      "              <pp>\n",
      "                <![CDATA[677888.9**************************...78888899998875]]>\n",
      "              </pp>\n",
      "              <seq>\n",
      "                <![CDATA[LSQEFP-DIHILKIDVDECEELTVDYEIQDMPTI---KKKKTLESFTGANI]]>\n",
      "              </seq>\n",
      "              <raw>\n",
      "                <![CDATA[\n",
      "#HMM       laeelkdkvklakvdvdenedlakkyevegiPtlklfkngkevkkyegare\n",
      "#MATCH     l++e+  ++ ++k+dvde+e+l  +ye++ +Pt+   k+ k+ ++++ga+ \n",
      "#PP        677888.9**************************...78888899998875\n",
      "#SEQ       LSQEFP-DIHILKIDVDECEELTVDYEIQDMPTI---KKKKTLESFTGANI\n",
      "                ]]>\n",
      "              </raw>\n",
      "            </location>\n",
      "          </match>\n",
      "        </database>\n",
      "      </protein>\n",
      "    </matches>\n",
      "  </results>\n",
      "</pfam>\n"
     ]
    }
   ],
   "source": [
    "cat(content(response_job, as=\"text\"))"
   ]
  },
  {
   "cell_type": "code",
   "execution_count": 222,
   "id": "eb2deed5",
   "metadata": {},
   "outputs": [
    {
     "data": {
      "text/html": [
       "<ol>\n",
       "\t<li><style>\n",
       ".dl-inline {width: auto; margin:0; padding: 0}\n",
       ".dl-inline>dt, .dl-inline>dd {float: none; width: auto; display: inline-block}\n",
       ".dl-inline>dt::after {content: \":\\0020\"; padding-right: .5ex}\n",
       ".dl-inline>dt:not(:first-of-type) {padding-left: .5ex}\n",
       "</style><dl class=dl-inline><dt>accession</dt><dd>'PF00085.20'</dd><dt>id</dt><dd>'Thioredoxin'</dd><dt>type</dt><dd>'Pfam-A'</dd><dt>class</dt><dd>'Domain'</dd></dl>\n",
       "</li>\n",
       "</ol>\n"
      ],
      "text/latex": [
       "\\begin{enumerate}\n",
       "\\item \\begin{description*}\n",
       "\\item[accession] 'PF00085.20'\n",
       "\\item[id] 'Thioredoxin'\n",
       "\\item[type] 'Pfam-A'\n",
       "\\item[class] 'Domain'\n",
       "\\end{description*}\n",
       "\n",
       "\\end{enumerate}\n"
      ],
      "text/markdown": [
       "1. accession\n",
       ":   'PF00085.20'id\n",
       ":   'Thioredoxin'type\n",
       ":   'Pfam-A'class\n",
       ":   'Domain'\n",
       "\n",
       "\n",
       "\n",
       "\n"
      ],
      "text/plain": [
       "[[1]]\n",
       "    accession            id          type         class \n",
       " \"PF00085.20\" \"Thioredoxin\"      \"Pfam-A\"      \"Domain\" \n"
      ]
     },
     "metadata": {},
     "output_type": "display_data"
    }
   ],
   "source": [
    "data <- content(response_job)\n",
    "\n",
    "matches <- xml_find_all(data, './/match')\n",
    "\n",
    "xml_attrs(matches)"
   ]
  },
  {
   "cell_type": "code",
   "execution_count": 225,
   "id": "d535d377",
   "metadata": {},
   "outputs": [
    {
     "data": {
      "text/html": [
       "<ol>\n",
       "\t<li><style>\n",
       ".dl-inline {width: auto; margin:0; padding: 0}\n",
       ".dl-inline>dt, .dl-inline>dd {float: none; width: auto; display: inline-block}\n",
       ".dl-inline>dt::after {content: \":\\0020\"; padding-right: .5ex}\n",
       ".dl-inline>dt:not(:first-of-type) {padding-left: .5ex}\n",
       "</style><dl class=dl-inline><dt>start</dt><dd>'2'</dd><dt>end</dt><dd>'57'</dd><dt>ali_start</dt><dd>'5'</dd><dt>ali_end</dt><dd>'51'</dd><dt>hmm_start</dt><dd>'43'</dd><dt>hmm_end</dt><dd>'93'</dd><dt>evalue</dt><dd>'1.0e-06'</dd><dt>bitscore</dt><dd>'28.7'</dd><dt>evidence</dt><dd>'hmmer v3.1b2'</dd><dt>significant</dt><dd>'1'</dd></dl>\n",
       "</li>\n",
       "</ol>\n"
      ],
      "text/latex": [
       "\\begin{enumerate}\n",
       "\\item \\begin{description*}\n",
       "\\item[start] '2'\n",
       "\\item[end] '57'\n",
       "\\item[ali\\textbackslash{}\\_start] '5'\n",
       "\\item[ali\\textbackslash{}\\_end] '51'\n",
       "\\item[hmm\\textbackslash{}\\_start] '43'\n",
       "\\item[hmm\\textbackslash{}\\_end] '93'\n",
       "\\item[evalue] '1.0e-06'\n",
       "\\item[bitscore] '28.7'\n",
       "\\item[evidence] 'hmmer v3.1b2'\n",
       "\\item[significant] '1'\n",
       "\\end{description*}\n",
       "\n",
       "\\end{enumerate}\n"
      ],
      "text/markdown": [
       "1. start\n",
       ":   '2'end\n",
       ":   '57'ali_start\n",
       ":   '5'ali_end\n",
       ":   '51'hmm_start\n",
       ":   '43'hmm_end\n",
       ":   '93'evalue\n",
       ":   '1.0e-06'bitscore\n",
       ":   '28.7'evidence\n",
       ":   'hmmer v3.1b2'significant\n",
       ":   '1'\n",
       "\n",
       "\n",
       "\n",
       "\n"
      ],
      "text/plain": [
       "[[1]]\n",
       "         start            end      ali_start        ali_end      hmm_start \n",
       "           \"2\"           \"57\"            \"5\"           \"51\"           \"43\" \n",
       "       hmm_end         evalue       bitscore       evidence    significant \n",
       "          \"93\"      \"1.0e-06\"         \"28.7\" \"hmmer v3.1b2\"            \"1\" \n"
      ]
     },
     "metadata": {},
     "output_type": "display_data"
    }
   ],
   "source": [
    "location <- xml_child(matches, \"location\")\n",
    "xml_attrs(location)"
   ]
  },
  {
   "cell_type": "markdown",
   "id": "a76451e5",
   "metadata": {},
   "source": [
    "## Descargar alineamientos\n",
    "\n",
    "Podemos descargas varios tipos de alineamientos de pfam\n"
   ]
  },
  {
   "cell_type": "code",
   "execution_count": 228,
   "id": "5529a115",
   "metadata": {},
   "outputs": [],
   "source": [
    "# Descargamos alineamientos Seed\n",
    "accession <- \"PF00085\"\n",
    "url <- paste0(\"https://pfam.xfam.org/family/\", accession, \"/alignment/seed\")\n",
    "seed_msa <- GET(url)"
   ]
  },
  {
   "cell_type": "code",
   "execution_count": 231,
   "id": "f4565b1e",
   "metadata": {
    "collapsed": true
   },
   "outputs": [
    {
     "name": "stdout",
     "output_type": "stream",
     "text": [
      "# STOCKHOLM 1.0\n",
      "#=GF ID   Thioredoxin\n",
      "#=GF AC   PF00085.22\n",
      "#=GF DE   Thioredoxin\n",
      "#=GF PI   thiored; \n",
      "#=GF AU   Sonnhammer ELL;0000-0002-9015-5588\n",
      "#=GF AU   Eddy SR;0000-0001-6676-4706\n",
      "#=GF SE   Prosite\n",
      "#=GF GA   23.50 23.50;\n",
      "#=GF TC   23.50 23.50;\n",
      "#=GF NC   23.40 23.40;\n",
      "#=GF BM   hmmbuild HMM.ann SEED.ann\n",
      "#=GF SM   hmmsearch -Z 57096847 -E 1000 --cpu 4 HMM pfamseq\n",
      "#=GF TP   Domain\n",
      "#=GF WK   Thioredoxin\n",
      "#=GF WK   Thioredoxin_fold\n",
      "#=GF WK   Thioredoxin_domain\n",
      "#=GF CL   CL0172\n",
      "#=GF DR   INTERPRO; IPR013766;\n",
      "#=GF DR   PROSITE; PDOC00172;\n",
      "#=GF DR   PRINTS; PR00421;\n",
      "#=GF DR   SCOP; 3trx; fa;\n",
      "#=GF DR   HOMSTRAD; thiored;\n",
      "#=GF DR   SO; 0000417; polypeptide_domain;\n",
      "#=GF CC   Thioredoxins are small enzymes that participate in redox\n",
      "#=GF CC   reactions, via the reversible oxidation of an active centre\n",
      "#=GF CC   disulfide bond. Some members with only the active site are not\n",
      "#=GF CC   separated from the noise.\n",
      "#=GF SQ   34\n",
      "#=GS I3M694_ICTTR/22-125   AC I3M694.2\n",
      "#=GS Q38AE1_TRYB2/20-121   AC Q38AE1.1\n",
      "#=GS EPS1_YEAST/33-139     AC P40557.1\n",
      "#=GS PDI_YEAST/33-137      AC P17967.2\n",
      "#=GS PDI_YEAST/33-137      DR PDB; 2B5E A; 377-482;\n",
      "#=GS PDI_YEAST/33-137      DR PDB; 3BOA A; 377-482;\n",
      "#=GS PDIA3_MOUSE/26-130    AC P27773.2\n",
      "#=GS G4VFC2_SCHMA/18-122   AC G4VFC2.1\n",
      "#=GS PDIA4_CAEEL/148-251   AC P34329.2\n",
      "#=GS PDIA4_RAT/176-279     AC P38659.2\n",
      "#=GS THIO3_DICDI/4-102     AC P29447.2\n",
      "#=GS THIO_MOUSE/2-103      AC P10639.3\n",
      "#=GS A8IZR5_CHLRE/5-109    AC A8IZR5.1\n",
      "#=GS TRXH1_ARATH/8-111     AC P29448.1\n",
      "#=GS TRXH1_ARATH/8-111     DR PDB; 1XFL A; 8-111;\n",
      "#=GS K7WNV9_SOLTU/7-110    AC K7WNV9.1\n",
      "#=GS TRX3_YEAST/27-126     AC P25372.1\n",
      "#=GS TRX3_YEAST/27-126     DR PDB; 2OE1 A; 4-103;\n",
      "#=GS TRX3_YEAST/27-126     DR PDB; 2OE3 A; 4-103;\n",
      "#=GS TRX3_YEAST/27-126     DR PDB; 2OE0 B; 4-103;\n",
      "#=GS TRX3_YEAST/27-126     DR PDB; 2OE0 A; 4-103;\n",
      "#=GS TRX3_YEAST/27-126     DR PDB; 2OE3 B; 4-103;\n",
      "#=GS TRX3_YEAST/27-126     DR PDB; 5YKW A; 4-103;\n",
      "#=GS TRX3_YEAST/27-126     DR PDB; 2OE1 B; 4-103;\n",
      "#=GS TXLA_SYNE7/39-145     AC P35088.1\n",
      "#=GS A6WX34_OCHA4/2-104    AC A6WX34.1\n",
      "#=GS Q3J6B4_RHOS4/2-104    AC Q3J6B4.1\n",
      "#=GS Q6F877_ACIAD/8-110    AC Q6F877.1\n",
      "#=GS THIO_HAEIN/3-105      AC P43785.1\n",
      "#=GS Q329V9_SHIDS/22-124   AC Q329V9.1\n",
      "#=GS THIO1_SYNE7/3-105     AC P12243.2\n",
      "#=GS THIO2_NOSS1/4-106     AC P20857.3\n",
      "#=GS THIO2_NOSS1/4-106     DR PDB; 1THX A; 3-105;\n",
      "#=GS TRXB_MYCLE/350-452    AC P46843.1\n",
      "#=GS TRX1_YEAST/2-101      AC P22217.3\n",
      "#=GS TRX1_YEAST/2-101      DR PDB; 3F3Q A; 2-101;\n",
      "#=GS TRX1_YEAST/2-101      DR PDB; 3F3R B; 2-101;\n",
      "#=GS TRX1_YEAST/2-101      DR PDB; 2N5A A; 2-101;\n",
      "#=GS TRX1_YEAST/2-101      DR PDB; 2I9H A; 2-101;\n",
      "#=GS TRX1_YEAST/2-101      DR PDB; 3F3R A; 2-101;\n",
      "#=GS TRX1_YEAST/2-101      DR PDB; 2N5B A; 2-101;\n",
      "#=GS THIO_EMENI/7-107      AC P29429.2\n",
      "#=GS THIO1_CAEEL/10-110    AC Q09433.1\n",
      "#=GS I1L7R5_SOYBN/147-252  AC I1L7R5.2\n",
      "#=GS PDI_YEAST/377-482     AC P17967.2\n",
      "#=GS PDI_YEAST/377-482     DR PDB; 2B5E A; 377-482;\n",
      "#=GS PDI_YEAST/377-482     DR PDB; 3BOA A; 377-482;\n",
      "#=GS PDIA4_RAT/524-631     AC P38659.2\n",
      "#=GS PDIA3_RAT/377-482     AC P11598.2\n",
      "#=GS PDIA4_CAEEL/500-606   AC P34329.2\n",
      "#=GS PDIA4_CAEEL/37-136    AC P34329.2\n",
      "#=GS PDIA1_CHICK/30-136    AC P09102.3\n",
      "#=GS PDIA4_MOUSE/56-159    AC P08003.3\n",
      "#=GS PDIA4_MOUSE/56-159    DR PDB; 2DJ1 A; 133-134;\n",
      "I3M694_ICTTR/22-125              DVIELTPSN..FNREVIQ...SNSLWLVEFYAPWCGHCQRLTPEWKKAATALKD.....VVKVGAVDADKHQSLGGQYGVQGFPTIKIFGSNKN.RPEDYQGG.RTGEAIVDAALS\n",
      "Q38AE1_TRYB2/20-121              ESLKLTKEN..FNETIAK....SEIFLVKFYVDTCGYCQMLAPEWEKAANETID.....NALMGEVDCHSQPELAANFSIRGYPTIILFRNGK..EAEHYGGA.RTKDDIIKYIKA\n",
      "EPS1_YEAST/33-139                FPEPLNPTN..FKEELSK.....GLHIIDFYSPYCPHCKHLAPVWMETWEEFKEESKTLNITFSQVNCIESADLCGDENIEYFPEIRLYNPSG..YIKSFTETPRTKESLIAFARR\n",
      "PDI_YEAST/33-137                 AVVKLATDS..FNEYIQS....HDLVLAEFFAPWCGHCKNMAPEYVKAAETLVEK....NITLAQIDCTENQDLCMEHNIPGFPSLKIFKNSDVNNSIDYEGP.RTAEAIVQFMIK\n",
      "#=GR PDI_YEAST/33-137      SS    S-EE--CCC..HHHHHTT....SSCEEEEEE-TT-HHHHCCHHHHHHCCCCTTTT....T-EEEEEETTTSHHHHHCTT--SSSEEEEECTT-TT-EEE--S-.-SHHHHHHHCCC\n",
      "PDIA3_MOUSE/26-130               DVLELTDEN..FESRVSD.TGSAGLMLVEFFAPWCGHCKRLAPEYEAAATRLKG.....IVPLAKVDCTANTNTCNKYGVSGYPTLKIFRDGE..EAGAYDGP.RTADGIVSHLKK\n",
      "G4VFC2_SCHMA/18-122              KVLELTKDN..FHSELKS....IPVALVKFYAPWCGHCKKLAPEFTSAAQIISGKTN..DVKLVKVDCTTQESICSEFGVSGYPTLKIFRNGD..LDGEYNGP.RNANGIANYMIS\n",
      "PDIA4_CAEEL/148-251              EVVTLTTEN..FDDFISN....NELVLVEFYAPWCGHCKKLAPEYEKAAQKLKAQGS..KVKLGKVDATIEKDLGTKYGVSGYPTMKIIRNGR...RFDYNGP.REAAGIIKYMTD\n",
      "PDIA4_RAT/176-279                VTLTLTKEN..FDDVVNN....ADIILVEFYAPWCGHCKKLAPEYEKAAKELSKRSP..PIPLAKVDATEQTDLAKRFDVSGYPTLKIFRKGR...PFDYNGP.REKYGIVDYMVE\n",
      "THIO3_DICDI/4-102                VIHVTSNEE..LDKYLQH.....QRVVVDFSAEWCGPCRAIAPVFDKLSNEFT......TFTFVHVDIDKVNTHPIVKEIRSVPTFYFYVNGA..KVSEFSGA.NE.ATLRSTLEA\n",
      "THIO_MOUSE/2-103                 VKLIESKEA..FQEALAA..AGDKLVVVDFSATWCGPCKMIKPFFHSLCDKYS......NVVFLEVDVDDCQDVAADCEVKCMPTFQFYKKGQ..KVGEFSGA.NK.EKLEASITE\n",
      "A8IZR5_CHLRE/5-109               VIVIDSKAA..WDAQLAKGKEEHKPIVVDFTATWCGPCKMIAPLFETLSNDYAG.....KVIFLKVDVDAVAAVAEAAGITAMPTFHVYKDGV..KADDLVGA.SQ.DKLKALVAK\n",
      "TRXH1_ARATH/8-111                VIACHTVET..WNEQLQKANESKTLVVVDFTASWCGPCRFIAPFFADLAKKLP......NVLFLKVDTDELKSVASDWAIQAMPTFMFLKEGK..ILDKVVGA.KK.DELQSTIAK\n",
      "#=GR TRXH1_ARATH/8-111     SS    -EEESSHHH..HHHHHHHHHHTT-EEEEEEE-TT-HHHHHHHHHHHHHHHH-S......SEEEEEEETTTSHHHHHHTT--SSSEEEEEETTE..EEEEEES-.-H.HHHHHHHHH\n",
      "K7WNV9_SOLTU/7-110               VFGVHAVDE..WNQHLQKGIDNKKLIVVDFTASWCGPCKFIAPFLAELAKKIP......TVTFLKVDVDELKSVATDWAVEAMPTFMFIKEGK..IVDKVVGA.KK.DELQQTIAK\n",
      "TRX3_YEAST/27-126                ITKLTNLTE..FRNLIKQ....NDKLVIDFYATWCGPCKMMQPHLTKLIQAYP......DVRFVKCDVDESPDIAKECEVTAMPTFVLGKDGQ..LIGKIIGA.NP.TALEKGIKD\n",
      "#=GR TRX3_YEAST/27-126     SS    SEBE-SHHH..HHHHHHH....-SEEEEEEE-TT-HHHHHHHHHHHHHHHH-T......TSEEEEEETTT-HHHHHHTT--SSSEEEEEETTE..EEEEEESS.-H.HHHHHHHHT\n",
      "TXLA_SYNE7/39-145                SLASLAEQATPYEVAIAN....DRPMLLEFYADWCTSCQAMAGRIAALKQDYSDRL...DFVMLNIDNDKWLPEVLDYNVDGIPQF.VYLNGQGQPQGISIGE.LPRSVLAANLDA\n",
      "A6WX34_OCHA4/2-104               ATVKVDNSN..FQSDVLQ...SSEPVVVDFWAEWCGPCKMIAPALDEIATEMAG.....QVKIAKVNIDENPELAAQFGVRSIPTLLMFKDGE..LAANMVGA.APKSRLADWIKA\n",
      "Q3J6B4_RHOS4/2-104               STVPVTDAT..FDTEVRK...SDVPVVVDFWAEWCGPCRQIGPALEELSKEYAG.....KVKIVKVNVDENPESPAMLGVRGIPALFLFKNGQ..VVSNKVGA.APKAALATWIAS\n",
      "Q6F877_ACIAD/8-110               NIVNTTDAN..FQADVLD...AETPVLVDFWAGWCAPCKAIAPVLEDLSREYEG.....KVKIVKVDVTACEDTAVKYNIRNIPALLLFKDGK..VVAQQVGA.APRSKLAAFIDE\n",
      "THIO_HAEIN/3-105                 EVLHINDAD..FESVVVN...SDIPILLDFWAPWCGPCKMIAPVLDELAPEFAG.....KVKIVKMNVDDNQATPAQFGVRSIPTLLLIKNGQ..VVATQVGA.LPKTQLANFINQ\n",
      "Q329V9_SHIDS/22-124              KIIHLTDDS..FDTDVLK...ADGAILVDFWAEWCGPCKMIAPILDEIADEYQG.....KLTVAKLNIDQNPGTAPKYGIRGIPTLLLFKNGE..VAATKVGA.LSKGQLKEFLDA\n",
      "THIO1_SYNE7/3-105                VAAAVTDAT..FKQEVLE...SSIPVLVDFWAPWCGPCRMVAPVVDEIAQQYSD.....QVKVVKVNTDENPSVASQYGIRSIPTLMIFKDGQ..RVDTVVGA.VPKTTLANTLDK\n",
      "THIO2_NOSS1/4-106                GVITITDAE..FESEVLK...AEQPVLVYFWASWCGPCQLMSPLINLAANTYSD.....RLKVVKLEIDPNPTTVKKYKVEGVPALRLVKGEQ..ILDSTEGV.ISKDKLLSFLDT\n",
      "#=GR THIO2_NOSS1/4-106     SS    SEEE--GGG..HHHHTTT...-SS-EEEEEE-TT-TTHHHHHHHHHHHHHHTTT.....T-EEEEEESTT-HHHHHHTT--SSSEEEEEETTE..EEEEEES-.--HHHHHHHHHH\n",
      "TRXB_MYCLE/350-452               VTIEVTDAS..FFADVLS...SNKPVLVDFWATWCGPCKMVAPVLEEIASEQRN.....QLTVAKLDVDTNPEMAREFQVVSIPTMILFQGGQ..PVKRIVGA.KGKAALLRDLSD\n",
      "TRX1_YEAST/2-101                 VTQFKTASE..FDSAIAQ....DKLVVVDFYATWCGPCKMIAPMIEKFSEQYP......QADFYKLDVDELGDVAQKNEVSAMPTLLLFKNGK..EVAKVVGA.NP.AAIKQAIAA\n",
      "#=GR TRX1_YEAST/2-101      SS    EEE-SSHHH..HHHHHTS....SSEEEEEEE-TTSCHHHCHHHHHHHHHHH-T......TSEEEEEETTTSHHHHHHTT--SSSEEEEEETTE..EEEEEESS.-H.HHHHHHHHH\n",
      "THIO_EMENI/7-107                 VPPITSKAE..FQEKVLN...AKGFVVVDCFATWCGPCKAIAPTVEKFAQTYT......DASFYQIDVDELSEVAAELGIRAMPTFLLFKDGQ..KVSDVVGA.NP.GALEAGIKA\n",
      "THIO1_CAEEL/10-110               QVKYFQSD...FEQLIRQ..HPEKIIILDFYATWCGPCKAIAPLYKELATTHK......GIIFCKVDVDEAEDLCSKYDVKMMPTFIFTKNGD..AIEALEGC.VE.DELRQKVLE\n",
      "I1L7R5_SOYBN/147-252             NVVVLTPEN..FNEVVLD...EAKDVLVEFYAPWCGHCKSLAPTYEKVATAFKLEE...DVVIANLDADKYRDLAEKYDVSGFPTLKFFPKGNK.AGEDYGGG.RDLDDFVAFINE\n",
      "PDI_YEAST/377-482                SVFQLVGKN..HDEIVND...PKKDVLVLYYAPWCGHCKRLAPTYQELADTYANATS..DVLIAKLDHTENDVRGVV..IEGYPTIVLYPGGKKSESVVYQGS.RSLDSLFDFIKE\n",
      "#=GR PDI_YEAST/377-482     SS    SCEEE-CCC..HHHHHH-...TTS-EEEEEE-TT-CCCCCCHHHHHHHHHHHHHCSS..SSEEEEEECCC---SS--..-SSSSEEEEE--TTS---EE--S-.--HHHHHHHHHH\n",
      "PDIA4_RAT/524-631                PVRVVVGKT..FDAIVMD...PKKDVLIEFYAPWCGHCKQLEPVYTSLGKKYKGQK...DLVIAKMDATANDITNDRYKVEGFPTIYFAPSGDKKNPIKFEGGNRDLEHLSKFIDE\n",
      "PDIA3_RAT/377-482                PVKVVVAES..FDDIVNA...EDKDVLIEFYAPWCGHCKNLEPKYKELGEKLSKDP...NIVIAKMDATAN.DVPSPYEVKGFPTIYFSPANKKLTPKKYEGG.RELNDFISYLQR\n",
      "PDIA4_CAEEL/500-606              PVKTVVGSN..FDKIVND...ESKDVLIEFYAPWCGHCKSFESKYVELAQALKKTQP..NVVLAKMDATIN.DAPSQFAVEGFPTIYFAPAGKKSEPIKYSGN.RDLEDLKKFMTK\n",
      "PDIA4_CAEEL/37-136               GVVVLTDKN..FDAFLKK....NPSVLVKFYAPWCGHCKHLAPEYEKASSKVS.......IPLAKVDATVETELGKRFEIQGYPTLKFWKDGK..GPNDYDGG.RDEAGIVEWVES\n",
      "PDIA1_CHICK/30-136               GVLVLRAAN..FEQALAA....HRHLLVEFYAPWCGHCKALAPEYAKAAAQLKAEGS..EIRLAKVDATEEAELAQQFGVRGYPTIKFFRNGDKAAPREYTAG.READDIVSWLKK\n",
      "PDIA4_MOUSE/56-159               GVWVLNDGN..FDNFVAD....KDTVLLEFYAPWCGHCKQFAPEYEKIASTLKDNDP..PIAVAKIDATSASMLASKFDVSGYPTIKILKKGQ...AVDYDGS.RTQEEIVAKVRE\n",
      "#=GR PDIA4_MOUSE/56-159    SS    TEEE--TTT..HHHHHTT....-SEEEEEE--TT-HHHHTTHHHHHHHHHHHHSSSS..--EEEEE-TTT-HHHHHHTT--SSSEEEEEETTE...EEE--S-.--HHHHHHHHHH\n",
      "#=GC SS_cons                     SEEESSHHH..HHHHHTTHHHTSSEEEEEEE-TTSHHHHCHHHHHHHHHHHCTTCSS..TSEEEEEETTTSHHHHHHTT-SSSSEEEEEETTETTEEEEEESS.-HHHHHHHHHHH\n",
      "#=GC seq_cons                    slhhlssss..Fcphltp....pp.lLV-FaAsWCG.CKtlAPhacclApphpt.....plhlsKlDsspstsluscasVpuhPTlhla+sGp..hsschsGu.pshssLhshlpc\n",
      "//\n"
     ]
    }
   ],
   "source": [
    "# Lo guardamos en el disco\n",
    "write(content(seed_msa, as=\"text\"), file=\"pf_00085_seed.stockholm\")"
   ]
  },
  {
   "cell_type": "code",
   "execution_count": null,
   "id": "711465f6",
   "metadata": {},
   "outputs": [],
   "source": [
    "# Descargamos alineamientos full\n",
    "\n",
    "accession <- \"PF00085\"\n",
    "url <- paste0(\"https://pfam.xfam.org/family/\", accession, \"/alignment/full\")\n",
    "full_msa <- GET(url)"
   ]
  },
  {
   "cell_type": "code",
   "execution_count": 234,
   "id": "27b7b9e3",
   "metadata": {},
   "outputs": [],
   "source": [
    "# Lo guardamos en el disco\n",
    "write(content(full_msa, as=\"text\"), file=\"pf_00085_full.stockholm\")"
   ]
  },
  {
   "cell_type": "markdown",
   "id": "697d018b",
   "metadata": {},
   "source": [
    "Podemos descargar  proteomas representativos con diferente grado de indentidad de secuencia,\n",
    "que pertenecen a una familia.\n",
    "\n",
    "- RP15 Proteinas con 15% de identidad o mayor\n",
    "- RP35 Proteinas con 35% de identidad o mayor\n",
    "- RP55 Proteinas con 55% de identidad o mayor\n",
    "- RP75 Proteinas con 75% de identidad o mayor\n",
    "\n",
    "Para ello, hay que modificar la url."
   ]
  },
  {
   "cell_type": "code",
   "execution_count": null,
   "id": "88952dc6",
   "metadata": {},
   "outputs": [],
   "source": [
    "url <- paste0(\"https://pfam.xfam.org/family/\", accession, \"/alignment/rp15\")\n",
    "url <- paste0(\"https://pfam.xfam.org/family/\", accession, \"/alignment/rp35\")\n",
    "url <- paste0(\"https://pfam.xfam.org/family/\", accession, \"/alignment/rp55\")\n",
    "url <- paste0(\"https://pfam.xfam.org/family/\", accession, \"/alignment/rp75\")"
   ]
  }
 ],
 "metadata": {
  "kernelspec": {
   "display_name": "R",
   "language": "R",
   "name": "ir"
  },
  "language_info": {
   "codemirror_mode": "r",
   "file_extension": ".r",
   "mimetype": "text/x-r-source",
   "name": "R",
   "pygments_lexer": "r",
   "version": "4.0.3"
  }
 },
 "nbformat": 4,
 "nbformat_minor": 5
}
