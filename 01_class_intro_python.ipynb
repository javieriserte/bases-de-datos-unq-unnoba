{
 "cells": [
  {
   "cell_type": "markdown",
   "id": "4e9e2529-c2f1-46a6-8399-a89c0ca64dfb",
   "metadata": {},
   "source": [
    "\n",
    "\n",
    " # Revision de Python\n",
    " En esta notebook vamos a repasar algunos conceptos basicos de Python\n",
    " con algunos ejercicios.\n",
    "\n",
    " Más adelante trabajaremos con algunas librerias de comunes de Python."
   ]
  },
  {
   "cell_type": "markdown",
   "id": "c99b67bd-0f88-4b41-823d-3b0254babd76",
   "metadata": {},
   "source": [
    "\n",
    "\n",
    " ## Ejercicios de Python\n",
    "\n"
   ]
  },
  {
   "cell_type": "markdown",
   "metadata": {},
   "source": [
    "### Contar nucleótidos\n",
    "\n",
    "Dada una cadena de ADN, cuenta cuántas veces aparece cada nucleótido (A, T, C, G).\n"
   ]
  },
  {
   "cell_type": "markdown",
   "metadata": {},
   "source": [
    "\n",
    "### Transcripción de ADN a ARN\n",
    "\n",
    "Convierte una cadena de ADN en ARN reemplazando todas las T por U.\n"
   ]
  },
  {
   "cell_type": "markdown",
   "metadata": {},
   "source": [
    "\n",
    "### Secuencia reversa complementaria\n",
    "\n",
    "Devuelve la cadena reversa complementaria de una secuencia de ADN.\n"
   ]
  },
  {
   "cell_type": "markdown",
   "metadata": {},
   "source": [
    "\n",
    "### GC content\n",
    "\n",
    "Calcula el porcentaje de contenido GC de una secuencia de ADN.\n"
   ]
  },
  {
   "cell_type": "markdown",
   "metadata": {},
   "source": [
    "\n",
    "### Palíndromos en ADN\n",
    "\n",
    "Verifica si una cadena de ADN es palindrómica (igual a su reversa complementaria).\n"
   ]
  },
  {
   "cell_type": "markdown",
   "metadata": {},
   "source": [
    "\n",
    "### Traducción de ADN a proteína\n",
    "\n",
    "Dada una cadena de ADN y la tabla de codones, tradúcela en su secuencia de aminoácidos.\n"
   ]
  },
  {
   "cell_type": "markdown",
   "metadata": {},
   "source": [
    "\n",
    "### Buscar codones de inicio y stop\n",
    "\n",
    "Encuentra todas las posiciones donde aparece un codón de inicio (ATG) y su correspondiente codón stop (TAA, TAG, TGA).\n"
   ]
  },
  {
   "cell_type": "markdown",
   "metadata": {},
   "source": [
    "\n",
    "### Conteo de motivos\n",
    "\n",
    "Dada una secuencia y un motivo (subsecuencia), cuenta cuántas veces aparece (posiciones solapadas incluidas).\n"
   ]
  },
  {
   "cell_type": "markdown",
   "metadata": {},
   "source": [
    "\n",
    "### Generador de FASTA\n",
    "\n",
    "Crea una función que reciba un identificador y una secuencia, y genere una entrada en formato FASTA.\n"
   ]
  },
  {
   "cell_type": "markdown",
   "metadata": {},
   "source": [
    "\n",
    "### Parseador de FASTA\n",
    "\n",
    "Lee un archivo FASTA y devuelve un diccionario con identificadores como claves y secuencias como valores.\n"
   ]
  },
  {
   "cell_type": "markdown",
   "metadata": {},
   "source": [
    "\n",
    "### Distancia de Hamming\n",
    "\n",
    "Calcula la distancia de Hamming entre dos secuencias de igual longitud.\n"
   ]
  },
  {
   "cell_type": "markdown",
   "metadata": {},
   "source": [
    "\n",
    "### Subregiones palindrómicas\n",
    "\n",
    "Dada una secuencia encuentra las subregiones palindrómicas de al menos 5 bases.\n",
    "Las regiones pueden solaparse, pero no estar una contenida dentro de otra. En\n",
    "estos casos traer la de mayor tamaño.\n"
   ]
  },
  {
   "cell_type": "markdown",
   "metadata": {},
   "source": [
    "\n",
    " ### Datos de Disprot\n",
    " Leer los datos del archivo classes/data/DisProt.tsv\n",
    " 1. Contar la cantidad de regiones para cada accession.\n",
    " 2. En aquellos casos donde hay más de una región, contar las que tienen\n",
    "    posiciones de principio y fin diferentes.\n",
    " 3  Estimar la longitud total de las proteínas en el archivo.\n",
    " 4. Contar los regiones que tienen una longitud mayor a 10 aminoácidos.\n",
    " 5. Generar una nueva tabla Las filas correposden\n",
    "    a las proteinas y las columnas son: accession, y luego tiene una columna\n",
    "    por cada valor de term_namespace. En cada celda se debe contar la cantidad\n",
    "    de veces que aparece el valor de term_namespace en la proteina."
   ]
  },
  {
   "cell_type": "markdown",
   "id": "4f97607a-a88e-49d5-a682-78d563fc7be7",
   "metadata": {},
   "source": [
    "\n",
    "\n",
    " ### Datos de taxonomy\n",
    " Leer los datos del archivo classes/data/nodes.csv.\n",
    " El archivo tiene las siguientes columnas: tax_id, parent_tax_id, rank.\n",
    " 1. Verificar que los datos forma un grafo aciclico con una unica\n",
    "    componente.\n",
    " 2. Contar la cantidad de nodos hoja.\n",
    " 3. Contar la cantidad de nodos internos.\n",
    " 4. Contar la profundidad de cada hoja.\n",
    " 5. Calcular el ancestro comun mas cercano entre dos nodos.\n",
    " 6. Calcular la distancia entre dos nodos.\n",
    " 7. Contar la cantidad de nodos que tienen un ranking inferior a especie."
   ]
  },
  {
   "cell_type": "markdown",
   "id": "625015dc-6d72-4851-abff-c1a36925b528",
   "metadata": {},
   "source": [
    "\n",
    "\n",
    " ### Simulación de secuencias de aminoácidos\n",
    "1. A partir de una secuencia de aminoácidos, simular un proceso de evolución\n",
    "   de la secuencia. Para esto se debe definir una matriz de probabilidades de\n",
    "   sustitución de aminoácidos.\n",
    "   - La evolución de la secuencia se puede simular de a pasos de tiempo hasta\n",
    "     un tiempo total de evolución (1000 años).\n",
    "   - Cada paso de tiempo es elegido al azar entre 25 y 200 años.\n",
    "   - En cada paso de tiempo, se generan dos secuencias hijas a partir de cada\n",
    "     secuencia padre.\n",
    "   - Para cada secuencia hija, todos los aminoácidos pueden ser sustituidos\n",
    "     por otro aminoácido con una tasa dada por la matriz de\n",
    "     sustitución y el tiempo de evolución (substitution_rates.csv).\n",
    "   - La composicion del aminoácidos de la secuencia inicial debe corresponderse\n",
    "     con la composición de aminoácidos general observada en la en naturaleza\n",
    "     (ver tabla de amino_frq.csv). Asuma que las probabilidades de sustitución\n",
    "     son independientes de la posición en la secuencia y que la tasa\n",
    "     de sustitución esta dada en sustituciones cada mil años.\n",
    " 2. Calcular el porcentaje de identidad entre las secuencias hijas y la\n",
    "    secuencia padre.\n",
    " 3. Hacer lo mismo asumiendo que la puede haber inserciones y deleciones en la\n",
    "    secuencia. En este caso, la probabilidad de inserción y deleción es\n",
    "    independiente de la posición en la secuencia y de la longitud de la\n",
    "    secuencia. La probabilidad de inserción es 0.0001 cada 100 años y la\n",
    "    probabilidad de deleción es 0.0001 cada 100 años. La cantidad de aminoácidos\n",
    "    insertados o eliminados es un número al azar entre 1 y 5."
   ]
  },
  {
   "cell_type": "markdown",
   "id": "574af66a-7c72-4749-8cd3-557bd8cb42fb",
   "metadata": {},
   "source": [
    "\n",
    "\n",
    " ## Pandas\n",
    " - Pandas es una libreria que permite el trabajar con datos tabulares.\n",
    " - Permite leer y escribir datos en diferentes formatos.\n",
    " - Permite hacer operaciones de filtrado, agrupamiento, y transformación de\n",
    "   datos."
   ]
  },
  {
   "cell_type": "markdown",
   "id": "63abbee1-0328-4096-ae13-7f639ae01641",
   "metadata": {},
   "source": [
    "\n",
    "\n",
    " Como ejemplo, vamos a leer los datos de DisProt."
   ]
  },
  {
   "cell_type": "code",
   "execution_count": null,
   "id": "b5326410-5717-4ff2-baf7-b6d5e40822a1",
   "metadata": {},
   "outputs": [],
   "source": [
    "\n",
    "\n",
    "import pandas as pd\n",
    "disprot = pd.read_csv('data/DisProt.tsv', sep='\\t')"
   ]
  },
  {
   "cell_type": "markdown",
   "id": "3dc5fa69-8cba-4eb7-947d-d128b6db05f3",
   "metadata": {},
   "source": [
    "\n",
    "\n",
    " ### Información de general de los datos"
   ]
  },
  {
   "cell_type": "code",
   "execution_count": null,
   "id": "3d3f3a0b-eae6-4f36-86b4-d12723420526",
   "metadata": {},
   "outputs": [],
   "source": [
    "disprot.info()"
   ]
  },
  {
   "cell_type": "markdown",
   "id": "52fa9817-3b6f-49af-8c87-58f410a7ea35",
   "metadata": {},
   "source": [
    "\n",
    "\n",
    " ### Mostrar las columnas"
   ]
  },
  {
   "cell_type": "code",
   "execution_count": null,
   "id": "a0a6c4b7-f67e-4eb5-b88a-ff9deec28188",
   "metadata": {},
   "outputs": [],
   "source": [
    "\n",
    "\n",
    "# disprot.columns"
   ]
  },
  {
   "cell_type": "markdown",
   "id": "ce1a9a21-9a2c-46a6-b47b-d0acdf7f5a2e",
   "metadata": {},
   "source": [
    "\n",
    "\n",
    " ### Mostrar los primeros registros"
   ]
  },
  {
   "cell_type": "code",
   "execution_count": null,
   "id": "e45dc617-8321-466d-8b19-f23794d6212f",
   "metadata": {},
   "outputs": [],
   "source": [
    "\n",
    "\n",
    "disprot.head()"
   ]
  },
  {
   "cell_type": "markdown",
   "id": "81cb03cb-17d7-4ca0-a95d-7e4aef2dee12",
   "metadata": {},
   "source": [
    "\n",
    "\n",
    " ### Subsettear los datos"
   ]
  },
  {
   "cell_type": "code",
   "execution_count": null,
   "id": "6d7cb126-e3d7-432b-8b3c-46223d033641",
   "metadata": {},
   "outputs": [],
   "source": [
    "\n",
    "\n",
    "# disprot['acc']\n",
    "# Devuelve una pd.Serie\n",
    "\n",
    "# disprot.acc\n",
    "# Devuelve una pd.Serie\n",
    "\n",
    "# disprot.filter(['acc'])\n",
    "# Devuelve un pd.DataFrame\n",
    "\n",
    "# disprot[['acc']]\n",
    "# Devuelve un pd.DataFrame\n",
    "\n",
    "# disprot[['acc', 'term_namespace']]\n",
    "\n",
    "# disprot.loc[0:5, ['acc', 'term_namespace']]\n",
    "# Aqui 0:5 hace referencia a los indices de las filas, no a la posicion de las\n",
    "# filas, aunque en este caso coinciden.\n",
    "\n",
    "# disprot.iloc[0:5, [0, 2]]\n",
    "# Aqui 0:5 hace referencia a los posiciones de las filas, no al indice de las\n",
    "# filas, aunque en este caso coinciden."
   ]
  },
  {
   "cell_type": "markdown",
   "id": "5ef9be83-4f0d-4c2a-ab91-82368467880b",
   "metadata": {},
   "source": [
    "\n",
    "\n",
    " ### Filtrar los datos"
   ]
  },
  {
   "cell_type": "code",
   "execution_count": null,
   "id": "cb623418-3b2c-42b7-8bfe-f12baf420812",
   "metadata": {},
   "outputs": [],
   "source": [
    "\n",
    "\n",
    "disprot.query('disorder_content > 50')\n",
    "\n",
    "# disprot.loc[disprot.disorder_content>50, :]\n",
    "\n",
    "# disprot.iloc[disprot.disorder_content>50, :] # Error\n",
    "\n",
    "upper = 60\n",
    "lower = 40\n",
    "disprot.query('disorder_content > @lower and disorder_content < @upper')"
   ]
  },
  {
   "cell_type": "markdown",
   "id": "7ca2a3c5-b06e-4c3b-a597-13b8304f4b12",
   "metadata": {},
   "source": [
    "\n",
    "\n",
    " ### Transformar los datos / Agregar columnas"
   ]
  },
  {
   "cell_type": "code",
   "execution_count": null,
   "id": "21420d03-3728-4227-9db3-d6b451425d02",
   "metadata": {},
   "outputs": [],
   "source": [
    "\n",
    "\n",
    "disprot.assign(disorder_content_norm = disprot.disorder_content / 100)\n",
    "# No es in-place\n",
    "\n",
    "#disprot['disorder_content_norm'] = disprot.disorder_content / 100"
   ]
  },
  {
   "cell_type": "markdown",
   "id": "d53c6077-89bc-4aa8-83a5-bed4bcbd1b68",
   "metadata": {},
   "source": [
    "\n",
    "\n",
    " ### Transformar los datos / Apply"
   ]
  },
  {
   "cell_type": "code",
   "execution_count": null,
   "id": "9a78fbbb-c3b5-4de1-bf8c-fa152edbd316",
   "metadata": {},
   "outputs": [],
   "source": [
    "\n",
    "\n",
    "# Applicar la misma función a todas las columnas o filas\n",
    "\n",
    "(\n",
    "  disprot\n",
    "    .filter(['disorder_content', 'start', 'end'])\n",
    "    .apply(lambda x: x/100)\n",
    "    .apply(max, axis=1)\n",
    ")"
   ]
  },
  {
   "cell_type": "markdown",
   "id": "54d26eec-1618-4e36-bd76-eaa7ef19f75b",
   "metadata": {},
   "source": [
    "a\n",
    "\n",
    " ### Transformar los datos / Groupby"
   ]
  },
  {
   "cell_type": "code",
   "execution_count": null,
   "id": "d6e0f713-c7d0-408b-a18e-2d04731b15a9",
   "metadata": {},
   "outputs": [],
   "source": [
    "\n",
    "\n",
    "# Agrupar los datos por una columna y aplicar una función a cada grupo\n",
    "disprot.groupby('acc').size()\n",
    "\n",
    "disprot.groupby('acc').agg(\n",
    "  {'disorder_content': ['mean', 'std', 'sum', 'count']}\n",
    ")\n",
    "\n",
    "disprot.groupby('acc').apply(\n",
    "  lambda x: max(x.disorder_content)\n",
    ")"
   ]
  },
  {
   "cell_type": "markdown",
   "id": "bce20dad-a4a1-41b0-ac27-ee6f8d3b0f76",
   "metadata": {},
   "source": [
    "\n",
    "\n",
    " ### Concat y Merge"
   ]
  },
  {
   "cell_type": "code",
   "execution_count": null,
   "id": "2c43ba81-0cb7-4321-a28f-2d960d1692ea",
   "metadata": {},
   "outputs": [],
   "source": [
    "\n",
    "\n",
    "# Concatenar dos dataframes\n",
    "\n",
    "df1 = disprot.iloc[0:5, :]\n",
    "df2 = disprot.iloc[20:25, :]\n",
    "\n",
    "concatenated = pd.concat([df1, df2])\n",
    "concatenated\n",
    "\n",
    "# Merge dos dataframes\n",
    "\n",
    "disprot_b = (\n",
    "  disprot\n",
    "    .groupby('acc')\n",
    "    .apply(lambda x: x.iloc[0, :])\n",
    "    .reset_index(drop=True)\n",
    ")\n",
    "\n",
    "df1 = disprot_b.loc[0:5, ['acc', 'disorder_content']]\n",
    "df2 = disprot_b.loc[0:5, ['acc', 'start']]\n",
    "merged = pd.merge(df1, df2, on='acc')\n",
    "merged"
   ]
  },
  {
   "cell_type": "markdown",
   "id": "7c9e534c-369c-4ea3-9fac-e7369970ff76",
   "metadata": {},
   "source": [
    "\n",
    "\n",
    " ### Pivotear los datos"
   ]
  },
  {
   "cell_type": "code",
   "execution_count": null,
   "id": "c5b13c77-66a6-4fa5-ad39-9dec7dbe28ed",
   "metadata": {},
   "outputs": [],
   "source": [
    "df = pd.DataFrame(\n",
    "  [\n",
    "    ['ID1', 'Len', 100],\n",
    "    ['ID1', 'Dis', 0.6],\n",
    "    ['ID2', 'Len', 200],\n",
    "    ['ID2', 'Dis', 0.7],\n",
    "  ],\n",
    "  columns=['ID', 'Property', 'Value']\n",
    ")\n",
    "\n",
    "df_pivot = df.pivot(index=[\"ID\"], columns=[\"Property\"], values=[\"Value\"])\n",
    "df_pivot"
   ]
  },
  {
   "cell_type": "markdown",
   "id": "53979a23-6265-4bdd-8f43-2ee69f028ccd",
   "metadata": {},
   "source": [
    "\n",
    "\n",
    " ### Melting"
   ]
  },
  {
   "cell_type": "code",
   "execution_count": null,
   "id": "175143e3-347c-48f4-b40b-13fd952068b7",
   "metadata": {},
   "outputs": [],
   "source": [
    "\n",
    "\n",
    "melt_df = (\n",
    "  df_pivot\n",
    "    .reset_index()\n",
    "    .melt(\n",
    "      id_vars=[(\"ID\", \"\")],\n",
    "      var_name=\"Property\",\n",
    "      value_vars=[(\"Value\", \"Dis\"), (\"Value\", \"Len\")]\n",
    "    )\n",
    "    .rename(columns={(\"ID\", \"\"): \"ID\"})\n",
    ")\n",
    "melt_df"
   ]
  },
  {
   "cell_type": "markdown",
   "id": "85019f0b-d013-469b-8571-01449f403eb4",
   "metadata": {},
   "source": [
    "\n",
    "\n",
    " ## Gráficos con matplotlib"
   ]
  },
  {
   "cell_type": "code",
   "execution_count": null,
   "id": "6c8cc14d-5eb8-4b6a-af7c-62652c02887e",
   "metadata": {},
   "outputs": [],
   "source": [
    "\n",
    "\n",
    "import matplotlib.pyplot as plt\n",
    "\n",
    "import pandas as pd"
   ]
  },
  {
   "cell_type": "markdown",
   "id": "5a8c07e7-18b2-4985-bdaa-ccad24764c32",
   "metadata": {},
   "source": [
    "\n",
    "\n",
    " ### Scatter plots"
   ]
  },
  {
   "cell_type": "code",
   "execution_count": null,
   "id": "29fd9215-ffae-4784-abf8-47ae70ef737e",
   "metadata": {},
   "outputs": [],
   "source": [
    "\n",
    "\n",
    "data = pd.read_csv('data/gse260897_counts.csv', sep='\\t')\n",
    "avg_data = (\n",
    "  data\n",
    "    .set_index(\"gene_id\")\n",
    "    .assign(\n",
    "    con = lambda df: df[[\"C1\", \"C2\", \"C3\"]]\n",
    "      .mean(axis=1)\n",
    "      .astype(int),\n",
    "    lip = lambda df: df[[\"L1\", \"L2\", \"L3\"]]\n",
    "      .mean(axis=1)\n",
    "      .astype(int),\n",
    "    )\n",
    "    .filter([\"con\", \"lip\"])\n",
    ")\n",
    "\n",
    "names = pd.read_csv(\"data/gse260897_names.csv\", sep=\"\\t\", header=0)\n",
    "merged_data = pd.merge(\n",
    "  avg_data,\n",
    "  names,\n",
    "  on=\"gene_id\"\n",
    ")\n",
    "\n",
    "fig, axes = plt.subplots(figsize=(10, 5))\n",
    "axes.scatter(\n",
    "  merged_data[\"con\"],\n",
    "  merged_data[\"lip\"],\n",
    "  c=\"red\",\n",
    "  s=10,\n",
    "  alpha=0.5\n",
    ")\n",
    "\n",
    "axes.set_xlabel(\"Mean Raw Counts Control\")\n",
    "axes.set_ylabel(\"Mean Raw Counts Lipid\")\n",
    "axes.set_title(\"Scatter plot of mean raw counts (Control vs Lipid)\")\n",
    "\n",
    "for i, txt in enumerate(merged_data.gene_name):\n",
    "  axes.annotate(\n",
    "    txt,\n",
    "    (merged_data[\"con\"][i], merged_data[\"lip\"][i] + 5000),\n",
    "    ha='center',\n",
    "    va='bottom',\n",
    "    fontsize=12\n",
    "  )"
   ]
  },
  {
   "cell_type": "markdown",
   "id": "4b944d62-7b39-42c1-a0ac-1d7ab5472864",
   "metadata": {},
   "source": [
    "\n",
    "\n",
    " ### Line plots"
   ]
  },
  {
   "cell_type": "code",
   "execution_count": null,
   "id": "19d544a4-bed0-4c53-9f8b-90026405f785",
   "metadata": {},
   "outputs": [],
   "source": [
    "\n",
    "\n",
    "fig, axes = plt.subplots(\n",
    "  ncols=3,\n",
    "  figsize=(15, 5)\n",
    ")\n",
    "for i, (index, row) in enumerate(data.iloc[0:3,:].iterrows()):\n",
    "  axes[i].plot(\n",
    "    [0, 1, 2],\n",
    "    row.loc[[\"C1\", \"C2\", \"C3\"]],\n",
    "    label=\"Control\",\n",
    "    color=\"red\",\n",
    "  )\n",
    "  axes[i].plot(\n",
    "    [0, 1, 2],\n",
    "    row.loc[[\"L1\", \"L2\", \"L3\"]],\n",
    "    label=\"Lipid\",\n",
    "    color=\"blue\",\n",
    "  )\n",
    "  axes[i].set_title(row.gene_id)\n",
    "  axes[i].set_xlabel(\"Sample\")\n",
    "  axes[i].set_ylabel(\"Raw Counts\")\n",
    "  axes[i].legend()"
   ]
  },
  {
   "cell_type": "markdown",
   "id": "e17cdc93-583d-4faf-b3a8-155c88281de9",
   "metadata": {},
   "source": [
    "\n",
    "\n",
    " ### Bar plots"
   ]
  },
  {
   "cell_type": "code",
   "execution_count": null,
   "id": "f827a7f9-1580-4452-982b-13ef01b18115",
   "metadata": {},
   "outputs": [],
   "source": [
    "\n",
    "\n",
    "fig, axes = plt.subplots(figsize=(15, 5))\n",
    "\n",
    "w = 0.25\n",
    "\n",
    "for i, g in enumerate([\"C1\", \"C2\", \"C3\"]):\n",
    "  axes.bar(\n",
    "    x = [x + i*w for x in range(len(data[g]))],\n",
    "    height=data[g],\n",
    "    label=g,\n",
    "    width=w-0.05,\n",
    "  )\n",
    "axes.legend()\n",
    "axes.set_xticks([x + w for x in range(len(data[g]))])\n",
    "axes.set_xticklabels(data.gene_id, rotation=45)\n",
    "axes.set_xlabel(\"Gene ID\")\n",
    "axes.set_ylabel(\"Raw Counts\")\n",
    "axes.set_title(\"Raw Counts of control samples by gene\")"
   ]
  },
  {
   "cell_type": "markdown",
   "id": "a9913eab-3a44-4c5e-b0ed-ed027c93dba2",
   "metadata": {},
   "source": [
    "\n",
    "\n",
    " ### Histograms"
   ]
  },
  {
   "cell_type": "code",
   "execution_count": null,
   "id": "0d99b232-c2e2-4152-a6e4-921ad8254dfc",
   "metadata": {},
   "outputs": [],
   "source": [
    "\n",
    "\n",
    "disprot = pd.read_csv('data/DisProt.tsv', sep='\\t')\n",
    "\n",
    "\n",
    "disorders = disprot.groupby('acc').agg(\n",
    "  {'disorder_content': 'max'}\n",
    ")\n",
    "\n",
    "fig, axes = plt.subplots(figsize=(10, 5))\n",
    "\n",
    "axes.hist(\n",
    "  disorders,\n",
    "  bins=20,\n",
    "  color='olive',\n",
    "  edgecolor='black',\n",
    ")\n",
    "axes.set_xlabel(\"Disorder content\")\n",
    "axes.set_ylabel(\"Frequency\")\n",
    "axes.set_title(\"Histogram of disorder content\")"
   ]
  },
  {
   "cell_type": "markdown",
   "id": "2ce45362-c67e-431d-93a9-2162a89acea6",
   "metadata": {},
   "source": [
    "\n",
    "\n",
    " ### Box plots"
   ]
  },
  {
   "cell_type": "code",
   "execution_count": null,
   "id": "6673203a-4bcc-4540-a068-c1af2b5232d5",
   "metadata": {},
   "outputs": [],
   "source": [
    "\n",
    "\n",
    "allp = pd.read_csv(\"data/protein_lengths.csv\", sep=\"\\t\", header=0)\n",
    "\n",
    "fig, axes = plt.subplots(figsize=(10, 5))\n",
    "\n",
    "axes.boxplot(\n",
    "  [\n",
    "    allp.query(\"organism == 'human'\")[\"Length\"],\n",
    "    allp.query(\"organism == 'e_coli'\")[\"Length\"],\n",
    "  ],\n",
    "  showfliers=False\n",
    ")\n",
    "axes.set_xticklabels([\"Human\", \"E. coli\"])\n",
    "axes.set_ylabel(\"Protein length\")\n",
    "axes.set_title(\"Boxplot of protein length by organism\")"
   ]
  }
 ],
 "metadata": {
  "language_info": {
   "codemirror_mode": {
    "name": "ipython",
    "version": 3
   },
   "file_extension": ".py",
   "mimetype": "text/x-python",
   "name": "python",
   "nbconvert_exporter": "python",
   "pygments_lexer": "ipython3",
   "version": 3
  }
 },
 "nbformat": 4,
 "nbformat_minor": 2
}
