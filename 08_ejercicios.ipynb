{
 "cells": [
  {
   "cell_type": "markdown",
   "id": "87ef7095",
   "metadata": {},
   "source": [
    "# Ejercicios"
   ]
  },
  {
   "cell_type": "code",
   "execution_count": null,
   "id": "829d3231",
   "metadata": {},
   "outputs": [],
   "source": [
    "library(rentrez)\n",
    "library(httr)\n",
    "library(ggplot2)\n",
    "library(xml2)"
   ]
  },
  {
   "cell_type": "markdown",
   "id": "3b3b1a86",
   "metadata": {},
   "source": [
    "## Ejercicio 1\n",
    "\n",
    "Utilice el servicio EInfo de Entrez para construir una tabla que contenga el nombre de la base de datos,\n",
    "la descripción, el número de registros, y la fecha de la última modificación para todas las bases de datos\n",
    "disponibles."
   ]
  },
  {
   "cell_type": "markdown",
   "id": "69135c40",
   "metadata": {},
   "source": [
    "## Ejercicio 2\n",
    "\n",
    "Obtenga de la base de datos 'nuccore' de NCBI el número de registros que corresponden con secuencias\n",
    "del virus HIV-1 que fueron publicadas en cada año desde 1980 hasta 2020. Haga un gráfico de barras para\n",
    "mostrar estos resultados.\n",
    "\n",
    "Ayuda: ?barplot"
   ]
  },
  {
   "cell_type": "markdown",
   "id": "ce5772a4",
   "metadata": {},
   "source": [
    "## Ejercicio 3\n",
    "\n",
    "Buscar información sobre la base de datos MESH (NCBI). ¿Qué información almacena?\n",
    "\n",
    "- Buscar en esta base de datos el nombre del gen relacionado con la enfermedad Fibrosis Quística (Cystic fibrosis).\n",
    "  - Ayuda: Buscar campo de búsqueda 'MeSH Terms'.\n",
    "  - Ayuda: Usar rettype='txt'\n",
    "  - Ayuda: El nombre del gen aparece en el texto de la descripción.\n",
    "- Buscar en la base de datos 'gene' de NCBI, los registros de este gen en el ser humano (en formato XML).\n",
    "- Recuperar la lista de exones. ¿En qué locus está ubicado el gen?.\n",
    "  - Ayuda: Buscar rettype=gene_table\n",
    "- Buscar en Swiss-Prot los registros que están asociados a esta proteína.\n",
    "  - Ayuda: Mapear los ID de genes de NCBI/Entrez a Uniprot.\n",
    "  - Ayuda: Buscar los tipos de Identificadores correspondientes de la web.\n",
    "- Recuperar la secuencias de la proteína"
   ]
  },
  {
   "cell_type": "markdown",
   "id": "715f251c",
   "metadata": {},
   "source": [
    "## Ejercicio 4\n",
    "\n",
    "- Recuperar los registros que corresponden a secuencias nucleotídicas de genomas completos de virus de la familia Flaviviridae. \n",
    "- Trabajar con 100.\n",
    "- Generar un histograma de los tamaños de las secuencias.\n",
    "- Obtener de cada registro el código del 'TaxID'. Buscar en la base de datos 'Taxonomy' el nombre científico, el rank y la division de cada uno.\n",
    "\n",
    "- ¿Cuantos corresponde a aislamientos?\n"
   ]
  },
  {
   "cell_type": "markdown",
   "id": "d28a055d",
   "metadata": {},
   "source": [
    "## Ejercicio 5\n",
    "\n",
    "Recuperar todos los registros que corresponden a secuencias de 'Amapari virus' en la base de datos\n",
    "'nuc_core'. Recuperar de ellos los identificadores de las publicaciones relacionadas. Obtener de 'pubmed'\n",
    "el título del artículo, los autores.\n"
   ]
  },
  {
   "cell_type": "markdown",
   "id": "bbd91490",
   "metadata": {},
   "source": [
    "## Ejercicio 6\n",
    "\n",
    "Buscar en base de datos 'SRA' (Sequence Read Archive) de NCBI los registros que corresponden a\n",
    "los proyectos de secuenciación de virus de la familia Baculoviridae (Trabajar con un máximo de 30).\n",
    "Recuperar de cada ellos el nómbre del organismo secuenciado y su 'TaxId' y el título del proyecto."
   ]
  },
  {
   "cell_type": "markdown",
   "id": "227731fd",
   "metadata": {},
   "source": [
    "## Ejercicio 7\n",
    "\n",
    "Recuperar todas las secuencias de RefSeq de los virus de la familia\n",
    "\"Coronaviridae\". Puede buscar las secuencias RefSeq en el KeyWord.\n",
    "\n",
    "1. Generar una tabla que tenga el nombre del virus, la cepa, el número de acceso\n",
    "   y la versión, y el tamaño del genoma (usando ESummary)\n",
    "2. Hacer un gráfico para mostrar las fechas originales de la secuencia.\n",
    "3. Recuparar los nombres de los hospedadores de cada virus y agregalor a la\n",
    "   tabla del punto 1 (Usando EFETCH). Exportar la tabla como un archivo de\n",
    "   texto (p.e. CSV)"
   ]
  },
  {
   "cell_type": "markdown",
   "id": "83f6bbb1",
   "metadata": {},
   "source": [
    "## Ejercicio 8\n",
    "\n",
    "La familia Macin (PF14865) son proteínas antibacteriales. El primer miembro de\n",
    "esta familia fue descripto en el organismo *Hirudo medicinalis* (La sanguijuela\n",
    "que sea utilizaba en \"medicina alternativa\").\n",
    "\n",
    "1. Recuperar de pfam el alineamiento completo para la familia Macin (PF14865).\n",
    "2. Recuparar las secuencias completas de cada una de las proteinas de Uniprot.\n",
    "3. Para cada una de las proteínas completas, buscar en pfam todos los dominios\n",
    "   que contienen.\n",
    "4. Hacer un gráfico de barras para mostrar la posición de los dominios por\n",
    "   proteína.\n",
    "5. Generalice el código para que haga los mismo con cualquier familia de\n",
    "   Pfam.\n",
    "\n",
    "Las funciones *str_split*, *barplot*, *rect*, y *seq_along* pueden ser de\n",
    "utilidad."
   ]
  }
 ],
 "metadata": {
  "kernelspec": {
   "display_name": "R",
   "language": "R",
   "name": "ir"
  },
  "language_info": {
   "codemirror_mode": "r",
   "file_extension": ".r",
   "mimetype": "text/x-r-source",
   "name": "R",
   "pygments_lexer": "r",
   "version": "4.0.3"
  }
 },
 "nbformat": 4,
 "nbformat_minor": 5
}
