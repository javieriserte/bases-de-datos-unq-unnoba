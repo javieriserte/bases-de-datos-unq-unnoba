{
 "cells": [
  {
   "cell_type": "markdown",
   "id": "65050495-68f9-4671-a47b-7ecf006c3af9",
   "metadata": {},
   "source": [
    "\n",
    "\n",
    " # **Ejercicios prácticos de acceso vía Entrez/E-utilities**"
   ]
  },
  {
   "cell_type": "markdown",
   "id": "059f2988-2b4c-4659-afa9-deacb17e3543",
   "metadata": {},
   "source": [
    "\n",
    "\n",
    "# 1. **EInfo: buscar todas las bases de datos disponibles**\n",
    " Genera una tabla con:\n",
    " - Nombre de la base de datos\n",
    " - Descripción\n",
    " - Número de registros\n",
    " - Fecha de última Actualización."
   ]
  },
  {
   "cell_type": "markdown",
   "id": "d759b307-5f61-404f-a105-cbbb9e92bf3c",
   "metadata": {},
   "source": [
    "\n",
    "\n",
    " ## 2. **Buscar el ID de una secuencia de GenBank por nombre**\n",
    " Usa `esearch` para encontrar el **ID** de la secuencia del gen **BRCA1\n",
    " humano** en GenBank."
   ]
  },
  {
   "cell_type": "markdown",
   "id": "379f7cd1-7c84-417b-b60f-48020d5acbc0",
   "metadata": {},
   "source": [
    "\n",
    "\n",
    " ## 3. **Obtener el archivo GenBank completo para un Accession ID**\n",
    " Usa `efetch` para descargar el archivo GenBank (`retmode=gb`) del gen\n",
    " **COX1** de *Homo sapiens*."
   ]
  },
  {
   "cell_type": "markdown",
   "id": "ce241ee0-c223-4378-8064-bf00d291a536",
   "metadata": {},
   "source": [
    "\n",
    "\n",
    " ## 4. **Descargar la secuencia en formato FASTA**\n",
    " Busca y descarga la secuencia en formato **FASTA** del gen **16S rRNA** de\n",
    " *Escherichia coli*."
   ]
  },
  {
   "cell_type": "markdown",
   "id": "37f949eb-b353-4f53-8356-6079d0a8baf9",
   "metadata": {},
   "source": [
    "\n",
    "\n",
    " ## 5. **Listar todos los Accessions de un organismo**\n",
    " Usa `esearch` + `efetch` para listar los **primeros 20 Accessions** de\n",
    " secuencias de *Arabidopsis thaliana* en RefSeq."
   ]
  },
  {
   "cell_type": "markdown",
   "id": "8e76665e-f0f9-4aeb-86bd-c9bcf9dff485",
   "metadata": {},
   "source": [
    "\n",
    "\n",
    " ## 6. **Obtener los metadatos de una secuencia**\n",
    " Con `esummary`, extrae información como el título, longitud y fecha de\n",
    " publicación para una secuencia dada."
   ]
  },
  {
   "cell_type": "markdown",
   "id": "7d688eda-433d-4582-9493-f99d791e8e4e",
   "metadata": {},
   "source": [
    "\n",
    "\n",
    " ## 7. **Buscar genes por palabra clave en la definición**\n",
    " Busca secuencias que contengan la palabra \"photosystem II\" en su definición y\n",
    " recupera los primeros 10 Accessions."
   ]
  },
  {
   "cell_type": "markdown",
   "id": "df7e2d15-3472-482c-8500-2384c9822a1a",
   "metadata": {},
   "source": [
    "\n",
    "\n",
    " ## 8. **Filtrar por tipo de molécula**\n",
    " Busca secuencias de ARN mensajero (**mRNA**) en *Mus musculus* relacionadas\n",
    " con \"interleukin\"."
   ]
  },
  {
   "cell_type": "markdown",
   "id": "0cd9097f-9f09-42db-9173-c3a675f17378",
   "metadata": {},
   "source": [
    "\n",
    "\n",
    " ## 9. **Obtener la traducción de una proteína a partir del CDS**\n",
    "  Extrae el campo `/translation` de una entrada GenBank que contenga una\n",
    "  secuencia codificante (CDS)."
   ]
  },
  {
   "cell_type": "markdown",
   "id": "53993e84-d544-423f-99ea-a05b2754f69d",
   "metadata": {},
   "source": [
    "\n",
    "\n",
    " ## 10 **Buscar todos los genomas completos de un organismo**\n",
    "  Encuentra todas las entradas de genomas **completos** de *Mycobacterium\n",
    "  tuberculosis*."
   ]
  },
  {
   "cell_type": "markdown",
   "id": "5ec28153-aad2-4460-aafb-6c881cd5bb7f",
   "metadata": {},
   "source": [
    "\n",
    "\n",
    " ## 11. **Extraer estadísticas de longitud**\n",
    "  Descarga 100 secuencias de genes de *Saccharomyces cerevisiae* y calcula la\n",
    "  distribución de longitudes."
   ]
  },
  {
   "cell_type": "markdown",
   "id": "b308dd5d-f908-46fa-b369-006024f53f51",
   "metadata": {},
   "source": [
    "\n",
    "\n",
    " ## 12. **Buscar entradas con anotaciones específicas**\n",
    " Buscar 10 entradas que tengan el qualifier\n",
    " `/product=\"cytochrome c oxidase subunit I\"`\n",
    "  y guarda sus FASTA en archivos separados."
   ]
  },
  {
   "cell_type": "markdown",
   "id": "ee4cb33d-4882-462e-9591-57fadd0f7bdb",
   "metadata": {},
   "source": [
    "\n",
    "\n",
    " ## 13. **Número de registros en el tiempo**\n",
    " Usa `esearch` para contar el número de registros en GenBank de secuencias de\n",
    " genomas completos de HIV1 por mes desde 1986 hasta la actualidad. Elimina\n",
    " todas aquellas que en el título diga \"UNVERIFIED\"."
   ]
  },
  {
   "cell_type": "markdown",
   "id": "65d542f0-f94f-40f2-8d9c-61128806969f",
   "metadata": {},
   "source": [
    "\n",
    "\n",
    " ## 14. **Comparar Tabla de CDS**\n",
    " Descarga las tablas de features para todos genomas mitocondriales completos\n",
    " de C. elegans y compara sus CDS. ¿Cuántos son iguales?\n",
    " ¿Cuántos son diferentes?"
   ]
  },
  {
   "cell_type": "markdown",
   "metadata": {},
   "source": [
    "## 15. **Recuperar genes en region cromosómica**\n",
    "\n",
    "Recupera los nombre de todos los genes que se encuentran en el cromosoma 10,\n",
    "entre las posiciones 100000 y 1000000 en humanos y en ratón.\n",
    "\n"
   ]
  },
  {
   "cell_type": "markdown",
   "metadata": {},
   "source": [
    "## 16. **Recuperar variantes**\n",
    "\n",
    "Recuperar cuantas variantes existen para el gen FUS humano en la base de datos\n",
    "dbVar, que tengan una frecuencia alélica global menor al 1%.\n",
    "\n"
   ]
  }
 ],
 "metadata": {
  "language_info": {
   "codemirror_mode": {
    "name": "ipython",
    "version": 3
   },
   "file_extension": ".py",
   "mimetype": "text/x-python",
   "name": "python",
   "nbconvert_exporter": "python",
   "pygments_lexer": "ipython3",
   "version": 3
  }
 },
 "nbformat": 4,
 "nbformat_minor": 2
}
