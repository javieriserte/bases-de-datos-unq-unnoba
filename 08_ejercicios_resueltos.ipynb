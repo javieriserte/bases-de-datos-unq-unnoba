{
 "cells": [
  {
   "cell_type": "markdown",
   "id": "87ef7095",
   "metadata": {},
   "source": [
    "# Ejercicios"
   ]
  },
  {
   "cell_type": "code",
   "execution_count": null,
   "id": "829d3231",
   "metadata": {},
   "outputs": [],
   "source": [
    "library(rentrez)\n",
    "library(httr)\n",
    "library(ggplot2)\n",
    "library(xml2)"
   ]
  },
  {
   "cell_type": "markdown",
   "id": "3b3b1a86",
   "metadata": {},
   "source": [
    "## Ejercicio 1\n",
    "\n",
    "Utilice el servicio EInfo de Entrez para construir una tabla que contenga el nombre de la base de datos,\n",
    "la descripción, el número de registros, y la fecha de la última modificación para todas las bases de datos\n",
    "disponibles."
   ]
  },
  {
   "cell_type": "code",
   "execution_count": null,
   "id": "3b5250dd",
   "metadata": {},
   "outputs": [],
   "source": [
    "dbs <- entrez_dbs()"
   ]
  },
  {
   "cell_type": "code",
   "execution_count": null,
   "id": "af387d3d",
   "metadata": {},
   "outputs": [],
   "source": [
    "db_data <- list()\n",
    "for (db in dbs[1:3]) {\n",
    "    data <- entrez_db_summary(db)\n",
    "    elements <- c(data[\"DbName\"], data[\"Description\"], data[\"Count\"], data[\"LastUpdate\"])\n",
    "    db_data[[length(db_data)+1]] <- elements\n",
    "}"
   ]
  },
  {
   "cell_type": "code",
   "execution_count": null,
   "id": "1e8298c5",
   "metadata": {},
   "outputs": [],
   "source": [
    "do.call(rbind, db_data)\n",
    "# t(sapply(db_data, function(x) x))"
   ]
  },
  {
   "cell_type": "markdown",
   "id": "69135c40",
   "metadata": {},
   "source": [
    "## Ejercicio 2\n",
    "\n",
    "Obtenga de la base de datos 'nuccore' de NCBI el número de registros que corresponden con secuencias\n",
    "del virus HIV-1 que fueron publicadas en cada año desde 1980 hasta 2020. Haga un gráfico de barras para\n",
    "mostrar estos resultados.\n",
    "\n",
    "Ayuda: ?barplot"
   ]
  },
  {
   "cell_type": "code",
   "execution_count": null,
   "id": "26cd2f6a",
   "metadata": {},
   "outputs": [],
   "source": [
    "years <- 1980:2020\n",
    "counter <- c()\n",
    "for (year in years) {\n",
    "    Sys.sleep(0.3)\n",
    "    query <- paste(\"Human immunodeficiency virus 1[organism] AND\", year)\n",
    "    respuesta <- entrez_search(\n",
    "        db='nuccore',\n",
    "        term=query\n",
    "    )\n",
    "    counter <- c(counter, respuesta$count)\n",
    "}"
   ]
  },
  {
   "cell_type": "code",
   "execution_count": null,
   "id": "25c6f20d",
   "metadata": {},
   "outputs": [],
   "source": [
    "ggplot(data=data.frame(counter), aes(x=years, y=counter)) + geom_bar(stat=\"identity\")"
   ]
  },
  {
   "cell_type": "markdown",
   "id": "ce5772a4",
   "metadata": {},
   "source": [
    "## Ejercicio 3\n",
    "\n",
    "Buscar información sobre la base de datos MESH (NCBI). ¿Qué información almacena?\n",
    "\n",
    "- Buscar en esta base de datos el nombre del gen relacionado con la enfermedad Fibrosis Quística (Cystic fibrosis).\n",
    "  - Ayuda: Buscar campo de búsqueda 'MeSH Terms'.\n",
    "  - Ayuda: Usar rettype='txt'\n",
    "  - Ayuda: El nombre del gen aparece en el texto de la descripción.\n",
    "- Buscar en la base de datos 'gene' de NCBI, los registros de este gen en el ser humano (en formato XML).\n",
    "- Recuperar la lista de exones. ¿En qué locus está ubicado el gen?.\n",
    "  - Ayuda: Buscar rettype=gene_table\n",
    "- Buscar en Swiss-Prot los registros que están asociados a esta proteína.\n",
    "  - Ayuda: Mapear los ID de genes de NCBI/Entrez a Uniprot.\n",
    "  - Ayuda: Buscar los tipos de Identificadores correspondientes de la web.\n",
    "- Recuperar la secuencias de la proteína"
   ]
  },
  {
   "cell_type": "code",
   "execution_count": null,
   "id": "c2258e05",
   "metadata": {},
   "outputs": [],
   "source": [
    "query <- \"Cystic fibrosis[MeSH Terms]\"\n",
    "respuesta <- entrez_search(\n",
    "    db='mesh',\n",
    "    term=query\n",
    ")"
   ]
  },
  {
   "cell_type": "code",
   "execution_count": null,
   "id": "3c6e58d0",
   "metadata": {},
   "outputs": [],
   "source": [
    "respuesta2 <- entrez_fetch(db=\"mesh\", id=respuesta$ids, rettype=\"txt\")"
   ]
  },
  {
   "cell_type": "code",
   "execution_count": null,
   "id": "1893ac1b",
   "metadata": {},
   "outputs": [],
   "source": [
    "cat(respuesta2)"
   ]
  },
  {
   "cell_type": "code",
   "execution_count": null,
   "id": "f442e7cd",
   "metadata": {},
   "outputs": [],
   "source": [
    "query <- \"CYSTIC FIBROSIS TRANSMEMBRANE CONDUCTANCE REGULATOR[Title] AND human[orgn]\"\n",
    "respuesta <- entrez_search(\n",
    "    db='gene',\n",
    "    term=query\n",
    ")\n"
   ]
  },
  {
   "cell_type": "code",
   "execution_count": null,
   "id": "f181e2d3",
   "metadata": {},
   "outputs": [],
   "source": [
    "respuesta2 <- entrez_fetch(db=\"gene\", id=respuesta$ids[1], rettype=\"gene_table\")"
   ]
  },
  {
   "cell_type": "code",
   "execution_count": null,
   "id": "179fd51b",
   "metadata": {
    "scrolled": true
   },
   "outputs": [],
   "source": [
    "cat(respuesta2)"
   ]
  },
  {
   "cell_type": "code",
   "execution_count": null,
   "id": "a87df305",
   "metadata": {},
   "outputs": [],
   "source": [
    "retrieve_url <- 'https://www.uniprot.org/uploadlists'\n",
    "respuesta3 <- GET(\n",
    "    url=retrieve_url,\n",
    "    query=list(\n",
    "        query=respuesta$ids[1],\n",
    "        format=\"tab\",\n",
    "        from='P_ENTREZGENEID',\n",
    "        to='ID'\n",
    "    )\n",
    ")"
   ]
  },
  {
   "cell_type": "code",
   "execution_count": null,
   "id": "5b62efdf",
   "metadata": {},
   "outputs": [],
   "source": [
    "respuesta3 <- read.table(text=content(respuesta3), header=TRUE)"
   ]
  },
  {
   "cell_type": "code",
   "execution_count": null,
   "id": "b52ed811",
   "metadata": {},
   "outputs": [],
   "source": [
    "respuesta3$To"
   ]
  },
  {
   "cell_type": "code",
   "execution_count": null,
   "id": "d3709491",
   "metadata": {},
   "outputs": [],
   "source": [
    "retrieve_url <- 'https://www.uniprot.org/uploadlists'\n",
    "respuesta4 <- GET(\n",
    "    url=retrieve_url,\n",
    "    query=list(\n",
    "        query=paste(respuesta3$To, collapse=\" \"),\n",
    "        format=\"fasta\",\n",
    "        from='ID',\n",
    "        to='ACC'\n",
    "    )\n",
    ")"
   ]
  },
  {
   "cell_type": "code",
   "execution_count": null,
   "id": "2e359c6a",
   "metadata": {},
   "outputs": [],
   "source": [
    "cat(content(respuesta4))"
   ]
  },
  {
   "cell_type": "markdown",
   "id": "715f251c",
   "metadata": {},
   "source": [
    "## Ejercicio 4\n",
    "\n",
    "- Recuperar los registros que corresponden a secuencias nucleotídicas de genomas completos de virus de la familia Flaviviridae. \n",
    "- Trabajar con 100.\n",
    "- Generar un histograma de los tamaños de las secuencias.\n",
    "- Obtener de cada registro el código del 'TaxID'. Buscar en la base de datos 'Taxonomy' el nombre científico, el rank y la division de cada uno.\n",
    "\n",
    "- ¿Cuantos corresponde a aislamientos?\n"
   ]
  },
  {
   "cell_type": "code",
   "execution_count": null,
   "id": "44e9ca1e",
   "metadata": {},
   "outputs": [],
   "source": [
    "respuesta <- entrez_search(\n",
    "    db='nuccore',\n",
    "    term=\"flaviviridae[orgn] AND complete genome[Title]\",\n",
    "    retmax=10000\n",
    ")"
   ]
  },
  {
   "cell_type": "code",
   "execution_count": null,
   "id": "425040b6",
   "metadata": {},
   "outputs": [],
   "source": [
    "respuesta2 <- entrez_summary(\n",
    "    db='nuccore',\n",
    "    id=respuesta$ids[1:200],\n",
    "    rettype='xmls'\n",
    ")"
   ]
  },
  {
   "cell_type": "code",
   "execution_count": null,
   "id": "4a1b84ba",
   "metadata": {},
   "outputs": [],
   "source": [
    "flavi <- sapply(\n",
    "    respuesta2,\n",
    "    function(x) unlist(x[c('slen', 'taxid', 'organism')])\n",
    ")\n",
    "flavi <- as.data.frame(t(flavi))\n",
    "head(flavi)"
   ]
  },
  {
   "cell_type": "code",
   "execution_count": null,
   "id": "f1f623a8",
   "metadata": {},
   "outputs": [],
   "source": [
    "hist(as.numeric(flavi$slen), 20)"
   ]
  },
  {
   "cell_type": "code",
   "execution_count": null,
   "id": "f45a2364",
   "metadata": {},
   "outputs": [],
   "source": [
    "flavi_tax <- entrez_summary(\n",
    "    db='taxonomy',\n",
    "    id=flavi$taxid\n",
    ")"
   ]
  },
  {
   "cell_type": "code",
   "execution_count": null,
   "id": "ef6070ef",
   "metadata": {},
   "outputs": [],
   "source": [
    "flavi2 <- sapply(\n",
    "    flavi_tax,\n",
    "    function(x) unlist(x[c('rank', 'division', 'scientificname')])\n",
    ")\n",
    "flavi2 <- as.data.frame(t(flavi2))"
   ]
  },
  {
   "cell_type": "code",
   "execution_count": null,
   "id": "08c36069",
   "metadata": {},
   "outputs": [],
   "source": [
    "head(flavi2)"
   ]
  },
  {
   "cell_type": "markdown",
   "id": "d28a055d",
   "metadata": {},
   "source": [
    "## Ejercicio 5\n",
    "\n",
    "Recuperar todos los registros que corresponden a secuencias de 'Amapari virus' en la base de datos\n",
    "'nuc_core'. Recuperar de ellos los identificadores de las publicaciones relacionadas. Obtener de 'pubmed'\n",
    "el título del artículo, los autores.\n"
   ]
  },
  {
   "cell_type": "code",
   "execution_count": null,
   "id": "cd4000cd",
   "metadata": {},
   "outputs": [],
   "source": [
    "respuesta <- entrez_search(\n",
    "    db='nuccore',\n",
    "    term='Amapari virus[orgn]',\n",
    "    retmax=30\n",
    ")"
   ]
  },
  {
   "cell_type": "code",
   "execution_count": null,
   "id": "0722d30f",
   "metadata": {},
   "outputs": [],
   "source": [
    "respuesta$ids"
   ]
  },
  {
   "cell_type": "code",
   "execution_count": null,
   "id": "6ef1c186",
   "metadata": {},
   "outputs": [],
   "source": [
    "resumenes <- entrez_fetch(\n",
    "    db='nuccore',\n",
    "    id=respuesta$ids,\n",
    "    rettype=\"text\",\n",
    "    retmode=\"xml\"\n",
    ")"
   ]
  },
  {
   "cell_type": "code",
   "execution_count": null,
   "id": "ab4dcb2c",
   "metadata": {},
   "outputs": [],
   "source": [
    "pubmed_links <- entrez_link(\n",
    "    id=respuesta$ids,\n",
    "    dbfrom='nuccore',\n",
    "    db=\"pubmed\"\n",
    ")\n"
   ]
  },
  {
   "cell_type": "code",
   "execution_count": null,
   "id": "f440ae96",
   "metadata": {},
   "outputs": [],
   "source": [
    "\n",
    "pubmed_links$links$nuccore_pubmed\n",
    "\n",
    "resumenes <- entrez_summary(\n",
    "    db=\"pubmed\",\n",
    "    id=pubmed_links$links$nuccore_pubmed\n",
    ")"
   ]
  },
  {
   "cell_type": "code",
   "execution_count": null,
   "id": "eed334c6",
   "metadata": {},
   "outputs": [],
   "source": [
    "pubmed_data <- sapply(\n",
    "    resumenes,\n",
    "    function(x) c(x[[c('title')]], paste(x[[c('authors')]]$name, collapse=\", \"))\n",
    ")\n",
    "pubmed_data <- t(pubmed_data)"
   ]
  },
  {
   "cell_type": "code",
   "execution_count": null,
   "id": "310eff83",
   "metadata": {},
   "outputs": [],
   "source": [
    "pubmed_data"
   ]
  },
  {
   "cell_type": "markdown",
   "id": "bbd91490",
   "metadata": {},
   "source": [
    "## Ejercicio 6\n",
    "\n",
    "Buscar en base de datos 'SRA' (Sequence Read Archive) de NCBI los registros que corresponden a\n",
    "los proyectos de secuenciación de virus de la familia Baculoviridae (Trabajar con un máximo de 30).\n",
    "Recuperar de cada ellos el nómbre del organismo secuenciado y su 'TaxId' y el título del proyecto."
   ]
  },
  {
   "cell_type": "code",
   "execution_count": null,
   "id": "e45be040",
   "metadata": {},
   "outputs": [],
   "source": [
    "respuesta <- entrez_search(\n",
    "    db='sra',\n",
    "    term='baculoviridae[orgn]',\n",
    "    retmax=30\n",
    ")"
   ]
  },
  {
   "cell_type": "code",
   "execution_count": null,
   "id": "e30ac0f9",
   "metadata": {},
   "outputs": [],
   "source": [
    "resumenes <- entrez_fetch(\n",
    "    db='sra',\n",
    "    id=respuesta$ids,\n",
    "    rettype=\"xml\"\n",
    ")"
   ]
  },
  {
   "cell_type": "code",
   "execution_count": null,
   "id": "868e8bc9",
   "metadata": {},
   "outputs": [],
   "source": [
    "sra_data <- as_list(read_xml(resumenes))"
   ]
  },
  {
   "cell_type": "code",
   "execution_count": null,
   "id": "f21aeba8",
   "metadata": {},
   "outputs": [],
   "source": [
    "head(t(sapply(\n",
    "    sra_data$EXPERIMENT_PACKAGE_SET,\n",
    "    function(x) c(\n",
    "        x$EXPERIMENT$'TITLE',\n",
    "        x$SAMPLE$'SAMPLE_NAME'$'TAXON_ID',\n",
    "        x$SAMPLE$'SAMPLE_NAME'$SCIENTIFIC_NAME\n",
    "    )\n",
    ")))"
   ]
  },
  {
   "cell_type": "code",
   "execution_count": null,
   "id": "fe5c5369",
   "metadata": {},
   "outputs": [],
   "source": []
  }
 ],
 "metadata": {
  "kernelspec": {
   "display_name": "R",
   "language": "R",
   "name": "ir"
  },
  "language_info": {
   "codemirror_mode": "r",
   "file_extension": ".r",
   "mimetype": "text/x-r-source",
   "name": "R",
   "pygments_lexer": "r",
   "version": "4.0.3"
  }
 },
 "nbformat": 4,
 "nbformat_minor": 5
}
