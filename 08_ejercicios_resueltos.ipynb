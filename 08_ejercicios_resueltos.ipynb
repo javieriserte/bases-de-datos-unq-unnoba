{
 "cells": [
  {
   "cell_type": "markdown",
   "id": "87ef7095",
   "metadata": {},
   "source": [
    "# Ejercicios"
   ]
  },
  {
   "cell_type": "code",
   "execution_count": null,
   "id": "829d3231",
   "metadata": {},
   "outputs": [],
   "source": [
    "if (!require(\"rentrez\")) {\n",
    "    install.packages(\"rentrez\")\n",
    "}\n",
    "\n",
    "if (!require(\"ggplot2\")) {\n",
    "    install.packages(\"ggplot2\")\n",
    "}\n",
    "\n",
    "library(rentrez)\n",
    "library(httr)\n",
    "library(ggplot2)\n",
    "library(xml2)"
   ]
  },
  {
   "cell_type": "markdown",
   "id": "3b3b1a86",
   "metadata": {},
   "source": [
    "## Ejercicio 1\n",
    "\n",
    "Utilice el servicio EInfo de Entrez para construir una tabla que contenga el nombre de la base de datos,\n",
    "la descripción, el número de registros, y la fecha de la última modificación para todas las bases de datos\n",
    "disponibles."
   ]
  },
  {
   "cell_type": "code",
   "execution_count": null,
   "id": "3b5250dd",
   "metadata": {},
   "outputs": [],
   "source": [
    "dbs <- entrez_dbs()"
   ]
  },
  {
   "cell_type": "code",
   "execution_count": null,
   "id": "af387d3d",
   "metadata": {},
   "outputs": [],
   "source": [
    "db_data <- list()\n",
    "for (db in dbs[1:3]) {\n",
    "    data <- entrez_db_summary(db)\n",
    "    elements <- c(\n",
    "        data[\"DbName\"],\n",
    "        data[\"Description\"],\n",
    "        data[\"Count\"],\n",
    "        data[\"LastUpdate\"]\n",
    "    )\n",
    "    db_data[[length(db_data) + 1]] <- elements\n",
    "}"
   ]
  },
  {
   "cell_type": "code",
   "execution_count": null,
   "id": "1e8298c5",
   "metadata": {},
   "outputs": [],
   "source": [
    "do.call(rbind, db_data)\n",
    "#t(sapply(db_data, function(x) x))\n",
    "# rbind(db_data[[1]], db_data[[2]], db_data[[3]])\n",
    "\n",
    "rbind(db_data)\n",
    "\n",
    "print(help(\"rbind\", help_type = \"html\"))\n"
   ]
  },
  {
   "cell_type": "markdown",
   "id": "69135c40",
   "metadata": {},
   "source": [
    "## Ejercicio 2\n",
    "\n",
    "Obtenga de la base de datos 'nuccore' de NCBI el número de registros que corresponden con secuencias\n",
    "del virus HIV-1 que fueron publicadas en cada año desde 1980 hasta 2020. Haga un gráfico de barras para\n",
    "mostrar estos resultados.\n",
    "\n",
    "Ayuda: ?barplot"
   ]
  },
  {
   "cell_type": "code",
   "execution_count": null,
   "id": "26cd2f6a",
   "metadata": {},
   "outputs": [],
   "source": [
    "years <- 1980:2020\n",
    "counter <- c()\n",
    "for (year in years) {\n",
    "    Sys.sleep(0.3)\n",
    "    query <- paste(\"Human immunodeficiency virus 1[organism] AND\", year)\n",
    "    respuesta <- entrez_search(\n",
    "        db = \"nuccore\",\n",
    "        term = query\n",
    "    )\n",
    "    counter <- c(counter, respuesta$count)\n",
    "}"
   ]
  },
  {
   "cell_type": "code",
   "execution_count": null,
   "id": "25c6f20d",
   "metadata": {},
   "outputs": [],
   "source": [
    "ggplot(\n",
    "    data = data.frame(counter),\n",
    "    aes(x = years, y = counter)\n",
    ") + geom_bar(stat = \"identity\")"
   ]
  },
  {
   "cell_type": "markdown",
   "id": "ce5772a4",
   "metadata": {},
   "source": [
    "## Ejercicio 3\n",
    "\n",
    "Buscar información sobre la base de datos MESH (NCBI). ¿Qué información almacena?\n",
    "\n",
    "- Buscar en esta base de datos el nombre del gen relacionado con la enfermedad Fibrosis Quística (Cystic fibrosis).\n",
    "  - Ayuda: Buscar campo de búsqueda 'MeSH Terms'.\n",
    "  - Ayuda: Usar rettype='txt'\n",
    "  - Ayuda: El nombre del gen aparece en el texto de la descripción.\n",
    "- Buscar en la base de datos 'gene' de NCBI, los registros de este gen en el ser humano (en formato XML).\n",
    "- Recuperar la lista de exones. ¿En qué locus está ubicado el gen?.\n",
    "  - Ayuda: Buscar rettype=gene_table\n",
    "- Buscar en Swiss-Prot los registros que están asociados a esta proteína.\n",
    "  - Ayuda: Mapear los ID de genes de NCBI/Entrez a Uniprot.\n",
    "  - Ayuda: Buscar los tipos de Identificadores correspondientes de la web.\n",
    "- Recuperar la secuencias de la proteína"
   ]
  },
  {
   "cell_type": "code",
   "execution_count": null,
   "id": "c2258e05",
   "metadata": {},
   "outputs": [],
   "source": [
    "query <- \"Cystic fibrosis[MeSH Terms]\"\n",
    "respuesta <- entrez_search(\n",
    "    db = \"mesh\",\n",
    "    term = query\n",
    ")"
   ]
  },
  {
   "cell_type": "code",
   "execution_count": null,
   "id": "3c6e58d0",
   "metadata": {},
   "outputs": [],
   "source": [
    "respuesta2 <- entrez_fetch(\n",
    "    db = \"mesh\",\n",
    "    id = respuesta$ids,\n",
    "    rettype = \"txt\"\n",
    ")"
   ]
  },
  {
   "cell_type": "code",
   "execution_count": null,
   "id": "1893ac1b",
   "metadata": {},
   "outputs": [],
   "source": [
    "cat(respuesta2)"
   ]
  },
  {
   "cell_type": "code",
   "execution_count": null,
   "id": "f442e7cd",
   "metadata": {},
   "outputs": [],
   "source": [
    "query <- \"CYSTIC FIBROSIS TRANSMEMBRANE CONDUCTANCE REGULATOR[Title] AND human[orgn]\"\n",
    "respuesta <- entrez_search(\n",
    "    db = \"gene\",\n",
    "    term = query\n",
    ")\n"
   ]
  },
  {
   "cell_type": "code",
   "execution_count": null,
   "id": "f181e2d3",
   "metadata": {},
   "outputs": [],
   "source": [
    "respuesta2 <- entrez_fetch(\n",
    "    db = \"gene\",\n",
    "    id = respuesta$ids[1],\n",
    "    rettype = \"gene_table\"\n",
    ")"
   ]
  },
  {
   "cell_type": "code",
   "execution_count": null,
   "id": "179fd51b",
   "metadata": {
    "scrolled": true
   },
   "outputs": [],
   "source": [
    "cat(respuesta2)"
   ]
  },
  {
   "cell_type": "code",
   "execution_count": null,
   "id": "a87df305",
   "metadata": {},
   "outputs": [],
   "source": [
    "retrieve_url <- 'https://www.uniprot.org/uploadlists'\n",
    "respuesta3 <- GET(\n",
    "    url = retrieve_url,\n",
    "    query = list(\n",
    "        query = respuesta$ids[1],\n",
    "        format = \"tab\",\n",
    "        from = 'P_ENTREZGENEID',\n",
    "        to = 'ID'\n",
    "    )\n",
    ")"
   ]
  },
  {
   "cell_type": "code",
   "execution_count": null,
   "id": "5b62efdf",
   "metadata": {},
   "outputs": [],
   "source": [
    "respuesta3 <- read.table(\n",
    "    text = content(respuesta3),\n",
    "    header = TRUE\n",
    ")"
   ]
  },
  {
   "cell_type": "code",
   "execution_count": null,
   "id": "b52ed811",
   "metadata": {},
   "outputs": [],
   "source": [
    "respuesta3"
   ]
  },
  {
   "cell_type": "code",
   "execution_count": null,
   "id": "d3709491",
   "metadata": {},
   "outputs": [],
   "source": [
    "retrieve_url <- \"https://www.uniprot.org/uploadlists\"\n",
    "respuesta4 <- GET(\n",
    "    url = retrieve_url,\n",
    "    query = list(\n",
    "        query = paste(respuesta3$To, collapse = \" \"),\n",
    "        format = \"fasta\",\n",
    "        from = \"ID\",\n",
    "        to = \"ACC\"\n",
    "    )\n",
    ")"
   ]
  },
  {
   "cell_type": "code",
   "execution_count": null,
   "id": "2e359c6a",
   "metadata": {},
   "outputs": [],
   "source": [
    "cat(content(respuesta4))"
   ]
  },
  {
   "cell_type": "markdown",
   "id": "715f251c",
   "metadata": {},
   "source": [
    "## Ejercicio 4\n",
    "\n",
    "- Recuperar los registros que corresponden a secuencias nucleotídicas de genomas completos de virus de la familia Flaviviridae. \n",
    "- Trabajar con 100.\n",
    "- Generar un histograma de los tamaños de las secuencias.\n",
    "- Obtener de cada registro el código del 'TaxID'. Buscar en la base de datos 'Taxonomy' el nombre científico, el rank y la division de cada uno.\n",
    "\n",
    "- ¿Cuantos corresponde a aislamientos?\n"
   ]
  },
  {
   "cell_type": "code",
   "execution_count": null,
   "id": "44e9ca1e",
   "metadata": {},
   "outputs": [],
   "source": [
    "respuesta <- entrez_search(\n",
    "    db='nuccore',\n",
    "    term=\"flaviviridae[orgn] AND complete genome[Title]\",\n",
    "    retmax=10000\n",
    ")"
   ]
  },
  {
   "cell_type": "code",
   "execution_count": null,
   "id": "425040b6",
   "metadata": {},
   "outputs": [],
   "source": [
    "respuesta2 <- entrez_summary(\n",
    "    db='nuccore',\n",
    "    id=respuesta$ids[1:200],\n",
    "    rettype='xmls'\n",
    ")"
   ]
  },
  {
   "cell_type": "code",
   "execution_count": null,
   "id": "4a1b84ba",
   "metadata": {},
   "outputs": [],
   "source": [
    "flavi <- sapply(\n",
    "    respuesta2,\n",
    "    function(x) unlist(x[c('slen', 'taxid', 'organism')])\n",
    ")\n",
    "flavi <- as.data.frame(t(flavi))\n",
    "head(flavi)"
   ]
  },
  {
   "cell_type": "code",
   "execution_count": null,
   "id": "f1f623a8",
   "metadata": {},
   "outputs": [],
   "source": [
    "hist(as.numeric(flavi$slen), 20)"
   ]
  },
  {
   "cell_type": "code",
   "execution_count": null,
   "id": "f45a2364",
   "metadata": {},
   "outputs": [],
   "source": [
    "flavi_tax <- entrez_summary(\n",
    "    db='taxonomy',\n",
    "    id=flavi$taxid\n",
    ")"
   ]
  },
  {
   "cell_type": "code",
   "execution_count": null,
   "id": "ef6070ef",
   "metadata": {},
   "outputs": [],
   "source": [
    "flavi2 <- sapply(\n",
    "    flavi_tax,\n",
    "    function(x) unlist(x[c('rank', 'division', 'scientificname')])\n",
    ")\n",
    "flavi2 <- as.data.frame(t(flavi2))"
   ]
  },
  {
   "cell_type": "code",
   "execution_count": null,
   "id": "08c36069",
   "metadata": {},
   "outputs": [],
   "source": [
    "head(flavi2)"
   ]
  },
  {
   "cell_type": "markdown",
   "id": "d28a055d",
   "metadata": {},
   "source": [
    "## Ejercicio 5\n",
    "\n",
    "Recuperar todos los registros que corresponden a secuencias de 'Amapari virus' en la base de datos\n",
    "'nuc_core'. Recuperar de ellos los identificadores de las publicaciones relacionadas. Obtener de 'pubmed'\n",
    "el título del artículo, los autores.\n"
   ]
  },
  {
   "cell_type": "code",
   "execution_count": null,
   "id": "cd4000cd",
   "metadata": {},
   "outputs": [],
   "source": [
    "respuesta <- entrez_search(\n",
    "    db='nuccore',\n",
    "    term='Amapari virus[orgn]',\n",
    "    retmax=30\n",
    ")"
   ]
  },
  {
   "cell_type": "code",
   "execution_count": null,
   "id": "0722d30f",
   "metadata": {},
   "outputs": [],
   "source": [
    "respuesta$ids"
   ]
  },
  {
   "cell_type": "code",
   "execution_count": null,
   "id": "6ef1c186",
   "metadata": {},
   "outputs": [],
   "source": [
    "resumenes <- entrez_fetch(\n",
    "    db='nuccore',\n",
    "    id=respuesta$ids,\n",
    "    rettype=\"text\",\n",
    "    retmode=\"xml\"\n",
    ")"
   ]
  },
  {
   "cell_type": "code",
   "execution_count": null,
   "id": "ab4dcb2c",
   "metadata": {},
   "outputs": [],
   "source": [
    "pubmed_links <- entrez_link(\n",
    "    id=respuesta$ids,\n",
    "    dbfrom='nuccore',\n",
    "    db=\"pubmed\"\n",
    ")\n"
   ]
  },
  {
   "cell_type": "code",
   "execution_count": null,
   "id": "f440ae96",
   "metadata": {},
   "outputs": [],
   "source": [
    "\n",
    "pubmed_links$links$nuccore_pubmed\n",
    "\n",
    "resumenes <- entrez_summary(\n",
    "    db=\"pubmed\",\n",
    "    id=pubmed_links$links$nuccore_pubmed\n",
    ")"
   ]
  },
  {
   "cell_type": "code",
   "execution_count": null,
   "id": "eed334c6",
   "metadata": {},
   "outputs": [],
   "source": [
    "pubmed_data <- sapply(\n",
    "    resumenes,\n",
    "    function(x) c(x[[c('title')]], paste(x[[c('authors')]]$name, collapse=\", \"))\n",
    ")\n",
    "pubmed_data <- t(pubmed_data)"
   ]
  },
  {
   "cell_type": "code",
   "execution_count": null,
   "id": "310eff83",
   "metadata": {},
   "outputs": [],
   "source": [
    "pubmed_data"
   ]
  },
  {
   "cell_type": "markdown",
   "id": "bbd91490",
   "metadata": {},
   "source": [
    "## Ejercicio 6\n",
    "\n",
    "Buscar en base de datos 'SRA' (Sequence Read Archive) de NCBI los registros que corresponden a\n",
    "los proyectos de secuenciación de virus de la familia Baculoviridae (Trabajar con un máximo de 30).\n",
    "Recuperar de cada ellos el nómbre del organismo secuenciado y su 'TaxId' y el título del proyecto."
   ]
  },
  {
   "cell_type": "code",
   "execution_count": null,
   "id": "e45be040",
   "metadata": {},
   "outputs": [],
   "source": [
    "respuesta <- entrez_search(\n",
    "    db = \"sra\",\n",
    "    term = \"baculoviridae[orgn]\",\n",
    "    retmax = 30\n",
    ")"
   ]
  },
  {
   "cell_type": "code",
   "execution_count": null,
   "id": "e30ac0f9",
   "metadata": {},
   "outputs": [],
   "source": [
    "resumenes <- entrez_fetch(\n",
    "    db = \"sra\",\n",
    "    id = respuesta$ids,\n",
    "    rettype = \"xml\"\n",
    ")"
   ]
  },
  {
   "cell_type": "code",
   "execution_count": null,
   "id": "868e8bc9",
   "metadata": {},
   "outputs": [],
   "source": [
    "sra_data <- as_list(read_xml(resumenes))"
   ]
  },
  {
   "cell_type": "code",
   "execution_count": null,
   "id": "f21aeba8",
   "metadata": {},
   "outputs": [],
   "source": [
    "head(t(sapply(\n",
    "    sra_data$EXPERIMENT_PACKAGE_SET,\n",
    "    function(x) c(\n",
    "        x$EXPERIMENT$\"TITLE\",\n",
    "        x$SAMPLE$\"SAMPLE_NAME\"$\"TAXON_ID\",\n",
    "        x$SAMPLE$\"SAMPLE_NAME\"$\"SCIENTIFIC_NAME\"\n",
    "    )\n",
    ")))"
   ]
  },
  {
   "cell_type": "markdown",
   "id": "fe5c5369",
   "metadata": {},
   "source": []
  },
  {
   "cell_type": "markdown",
   "id": "4e4cd7bc",
   "metadata": {},
   "source": [
    "## Ejercicio 7\n",
    "\n",
    "Recuperar todas las secuencias de RefSeq de los virus de la familia\n",
    "\"Coronaviridae\". Puede buscar las secuencias RefSeq en el KeyWord.\n",
    "\n",
    "1. Generar una tabla que tenga el nombre del virus, la cepa, el número de acceso\n",
    "   y la versión, y el tamaño del genoma (usando ESummary)\n",
    "2. Hacer un gráfico para mostrar las fechas originales de la secuencia.\n",
    "3. Recuparar los nombres de los hospedadores de cada virus y agregalor a la\n",
    "   tabla del punto 1 (Usando EFETCH). Exportar la tabla como un archivo de\n",
    "   texto (p.e. CSV)"
   ]
  },
  {
   "cell_type": "code",
   "execution_count": null,
   "id": "13a32d90",
   "metadata": {},
   "outputs": [],
   "source": [
    "#  srcdb_refseq[PROP]\n",
    "response <- entrez_search(\n",
    "    db = \"nuccore\",\n",
    "    term = paste(\n",
    "        \"coronaviridae[orgn] AND\",\n",
    "        \"complete genome[Title] AND\",\n",
    "        \"srcdb_refseq[PROP]\"\n",
    "    ),\n",
    "    retmax = 10000\n",
    ")\n"
   ]
  },
  {
   "cell_type": "code",
   "execution_count": null,
   "id": "370b37ea",
   "metadata": {},
   "outputs": [],
   "source": [
    "all_summaries <- entrez_summary(\n",
    "    db = \"nuccore\",\n",
    "    id = response$ids\n",
    ")"
   ]
  },
  {
   "cell_type": "code",
   "execution_count": null,
   "metadata": {},
   "outputs": [],
   "source": [
    "corona_data <- t(sapply(\n",
    "    all_summaries,\n",
    "    function(x) unlist(x[c(\"organism\", \"strain\", \"accessionversion\", \"slen\")])\n",
    "))"
   ]
  },
  {
   "cell_type": "code",
   "execution_count": null,
   "id": "7873cc9d",
   "metadata": {},
   "outputs": [],
   "source": [
    "head(corona_data)"
   ]
  },
  {
   "cell_type": "code",
   "execution_count": null,
   "id": "06a05879",
   "metadata": {},
   "outputs": [],
   "source": [
    "x <- sapply(\n",
    "    all_summaries,\n",
    "    function(x) unlist(x[c(\"createdate\")])\n",
    ")\n",
    "now <- as.numeric(\n",
    "    as.POSIXct(\n",
    "        x,\n",
    "        format = \"%Y/%m/%d\"\n",
    "    )\n",
    ") / (365 * 24 * 60 * 60) + 1970\n",
    "\n",
    "hist(now)"
   ]
  },
  {
   "cell_type": "code",
   "execution_count": null,
   "id": "8654199f",
   "metadata": {},
   "outputs": [],
   "source": [
    "full_results <- entrez_fetch(\n",
    "    db = \"nuccore\",\n",
    "    id = response$ids,\n",
    "    rettype = \"native\",\n",
    "    retmode = \"xml\"\n",
    ")"
   ]
  },
  {
   "cell_type": "code",
   "execution_count": null,
   "metadata": {},
   "outputs": [],
   "source": [
    "fr_doc <- xml2::read_xml(full_results)\n",
    "fr <- as_list(fr_doc)"
   ]
  },
  {
   "cell_type": "code",
   "execution_count": null,
   "id": "344a0129",
   "metadata": {},
   "outputs": [],
   "source": [
    "length(xml_find_all(fr_doc, \"/Bioseq-set/Bioseq-set_seq-set/Seq-entry\"))"
   ]
  },
  {
   "cell_type": "code",
   "execution_count": null,
   "metadata": {},
   "outputs": [],
   "source": [
    "hosts <- sapply(\n",
    "    xml_find_all(fr_doc, \"/Bioseq-set/Bioseq-set_seq-set/Seq-entry\"),\n",
    "    function(orgnamemod) {\n",
    "        c_node <- xml_find_first(orgnamemod, \".//OrgName/OrgName_mod\")\n",
    "        if (length(c_node) == 0) {\n",
    "            return(\"\")\n",
    "        }\n",
    "        subname <- \"\"\n",
    "        for (i in seq(xml_length(c_node))) {\n",
    "            child <- xml_child(c_node, i)\n",
    "            subtype <- xml_find_first(child, \".//OrgMod_subtype\")\n",
    "            if (xml_attr(subtype, \"value\") == \"nat-host\") {\n",
    "                subname <- xml_find_first(child, \".//OrgMod_subname\")\n",
    "                subname <- xml_text(subname)\n",
    "            }\n",
    "        }\n",
    "        return(subname)\n",
    "    }\n",
    ")\n"
   ]
  },
  {
   "cell_type": "markdown",
   "id": "0737e52a",
   "metadata": {},
   "source": [
    "## Ejercicio 8\n",
    "\n",
    "La familia Macin (PF14865) son proteínas antibacteriales. El primer miembro de\n",
    "esta familia fue descripto en el organismo *Hirudo medicinalis* (La sanguijuela\n",
    "que sea utilizaba en \"medicina alternativa\").\n",
    "\n",
    "1. Recuperar de pfam el alineamiento completo para la familia Macin (PF14865).\n",
    "2. Recuparar las secuencias completas de cada una de las proteinas de Uniprot.\n",
    "3. Para cada una de las proteínas completas, buscar en pfam todos los dominios\n",
    "   que contienen.\n",
    "4. Hacer un gráfico de barras para mostrar la posición de los dominios por\n",
    "   proteína.\n",
    "5. Generalice el código para que haga los mismo con cualquier familia de\n",
    "   Pfam.\n",
    "\n",
    "Las funciones *str_split*, *barplot*, *rect*, y *seq_along* pueden ser de\n",
    "utilidad."
   ]
  },
  {
   "cell_type": "code",
   "execution_count": null,
   "id": "6e9d952e",
   "metadata": {},
   "outputs": [],
   "source": [
    "url <- \"http://pfam.xfam.org/family\"\n",
    "\n",
    "family_acc <- \"PF14865\"\n",
    "respuesta <- GET(url, query=list(output=\"xml\", acc=family_acc))\n",
    "data <- as_list(content(respuesta))"
   ]
  },
  {
   "cell_type": "code",
   "execution_count": null,
   "id": "ef99b9f2",
   "metadata": {},
   "outputs": [],
   "source": [
    "url <- paste0(\"https://pfam.xfam.org/family/\", family_acc, \"/alignment/full\")\n",
    "seed_msa <- GET(url)"
   ]
  },
  {
   "cell_type": "code",
   "execution_count": null,
   "id": "40bf156a",
   "metadata": {},
   "outputs": [],
   "source": [
    "text_stockholm <- content(seed_msa, as = \"text\")"
   ]
  },
  {
   "cell_type": "code",
   "execution_count": null,
   "metadata": {},
   "outputs": [],
   "source": [
    "msa <- strsplit(content(seed_msa, as = \"text\"), \"\\n\")[[1]]\n",
    "\n",
    "msa <- msa[!startsWith(msa, \"#\")]\n",
    "msa <- msa[!startsWith(msa, \"//\")]\n",
    "msa <- sapply(\n",
    "    strsplit(msa, \" +\"),\n",
    "    function(x) x[1]\n",
    ")\n",
    "msa <- strsplit(msa, \"[/-]\")\n",
    "\n",
    "msa <- do.call(rbind, msa)\n"
   ]
  },
  {
   "cell_type": "code",
   "execution_count": null,
   "id": "ba57af88",
   "metadata": {},
   "outputs": [],
   "source": [
    "url <- \"http://pfam.xfam.org/protein\"\n",
    "\n",
    "uniprot <- msa[1,1]\n",
    "respuesta <- GET(url, query=list(output=\"xml\", entry=uniprot))\n",
    "data <- content(respuesta)\n",
    "data <- xml_ns_strip(data)\n"
   ]
  },
  {
   "cell_type": "code",
   "execution_count": null,
   "id": "7acbba99",
   "metadata": {},
   "outputs": [],
   "source": [
    "url <- \"http://pfam.xfam.org/protein\"\n",
    "\n",
    "msa_matches <- lapply(\n",
    "    msa[,1],\n",
    "    function(uniprot) {\n",
    "        respuesta <- GET(url, query=list(output=\"xml\", entry=uniprot))\n",
    "        data <- content(respuesta)\n",
    "        data <- xml_ns_strip(data)\n",
    "        matches <- xml_find_all(data, \".//match\")\n",
    "        seq_len <- as.numeric(\n",
    "            xml_attr(\n",
    "                xml_find_first(data, \".//sequence\"),\n",
    "                \"length\"\n",
    "            )\n",
    "        )\n",
    "        matches <- lapply(\n",
    "            matches,\n",
    "            function(m) {\n",
    "                pfamid <- xml_attr(m, \"id\")\n",
    "                loc <- xml_find_first(m, \".//location\")\n",
    "                start <- as.numeric(xml_attr(loc, \"start\"))\n",
    "                end <- as.numeric(xml_attr(loc, \"end\"))\n",
    "                return(list(id=pfamid, start=start, end=end))\n",
    "            }\n",
    "        )\n",
    "        return(list(seq_len, matches))\n",
    "    }\n",
    ")\n"
   ]
  },
  {
   "cell_type": "code",
   "execution_count": null,
   "id": "a6f4f693",
   "metadata": {},
   "outputs": [],
   "source": [
    "barplot(\n",
    "    sapply(msa_matches, function(x) x[[1]]),\n",
    "    width=1,\n",
    "    horiz = TRUE,\n",
    "    space = 0\n",
    ")\n",
    "for (i in seq_along(msa_matches)) {\n",
    "    c_match <- msa_matches[[i]]\n",
    "    for (m in c_match[[2]]) {\n",
    "        rect(\n",
    "            m$start,\n",
    "            i-1,\n",
    "            m$end,\n",
    "            i,\n",
    "            col = \"green\"\n",
    "        )\n",
    "    }\n",
    "}"
   ]
  }
 ],
 "metadata": {
  "kernelspec": {
   "display_name": "R",
   "language": "R",
   "name": "ir"
  },
  "language_info": {
   "codemirror_mode": "r",
   "file_extension": ".r",
   "mimetype": "text/x-r-source",
   "name": "R",
   "pygments_lexer": "r",
   "version": "4.1.3"
  }
 },
 "nbformat": 4,
 "nbformat_minor": 5
}
