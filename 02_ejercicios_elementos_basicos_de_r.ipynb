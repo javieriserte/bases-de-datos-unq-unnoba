{
 "cells": [
  {
   "cell_type": "markdown",
   "metadata": {},
   "source": [
    "# Ejercicios: Elementos básicos de R"
   ]
  },
  {
   "cell_type": "markdown",
   "metadata": {},
   "source": [
    "## Datos y estructuras de datos\n",
    "\n",
    "Los principales tipos de datos en R son numeric (que está reservado para los\n",
    "números naturales) y\n",
    "integer (reservado para números enteros), character (para las palabras o\n",
    "“strings”), logical (TRUE o\n",
    "FALSE).\n",
    "\n",
    "Algunos tipos de datos pueden ser convertidos en otros, así por ejemplo una\n",
    "variable puede\n",
    "tener como valor el número 1, o el string “1”. Sin embargo esto no ocurre en\n",
    "todos los casos, ¿se\n",
    "podría convertir el string “Hola” en un objeto de la clase numeric?\n",
    "\n",
    "Los 5 tipos de estructuras de datos más importantes en R son: vector, matrix,\n",
    "array, list y data.frame.\n",
    "Éstos pueden ser datos de 1 dimensión (como vector y list), de 2 dimensiones\n",
    "(matrix y data.frame) o\n",
    "de más dimensiones (array).\n",
    "\n",
    "Por otro lado, las estructuras de datos también se diferencian de\n",
    "acuerdo a si los elementos que contienen son todos del mismo tipo o no. Mientras\n",
    "que en vector,\n",
    "matrix y array todos los datos tienen que ser del mismo tipo (por ej. numeric),\n",
    "en list y dataframe ésto\n",
    "no es así (por ej. podemos tener un dataframe que en la primera columna tenga\n",
    "datos tipo character y\n",
    "en la segunda datos tipo numeric). Además de las estructuras mencionadas también\n",
    "tenemos los\n",
    "factores.\n",
    "\n",
    "Factor es un tipo especial de vector de caracteres que se reserva para asignar\n",
    "variables\n",
    "cualitativas, como por ejemplo los distintos tratamientos dentro de un\n",
    "experimento)"
   ]
  },
  {
   "cell_type": "markdown",
   "metadata": {},
   "source": [
    "### Ejercicio 1\n",
    "\n",
    "Asignale a la variable **x** el valor 2 y a la variable **y** el valor “10”.\n",
    "* Ahora asignale a la variable **w** el valor **x + y** y a la variable **z** el valor **x == y** (observá que tiene dos signos **=** y no sólo uno, ¿Por qué?).\n",
    "* ¿De qué clase son estas dos últimas variable?.\n",
    "\n",
    "Ayuda: la asignación de una variable se realiza con el operador **<-**."
   ]
  },
  {
   "cell_type": "markdown",
   "metadata": {},
   "source": [
    "### Ejercicio 2\n",
    "\n",
    "Creá una variable que se llame **GFP** y asignale el valor 509.\n",
    "\n",
    "* ¿Qué clase de dato es?\n",
    "* Ahora convierte la variable “GFP” en “character”.\n",
    "\n",
    "Ayuda: ?as.character"
   ]
  },
  {
   "cell_type": "markdown",
   "metadata": {},
   "source": [
    "### Ejercicio 3\n",
    "\n",
    "Asignale a la variable **GFP** el valor “verde” e intenta convertirla en la clase\n",
    "**numeric** ¿Qué ocurre?\n",
    "\n",
    "Ayuda: ?as.numeric"
   ]
  },
  {
   "cell_type": "markdown",
   "metadata": {},
   "source": [
    "### Ejercicio 4\n",
    "\n",
    "Crea un vector que se llame **r1** que contenga 10 números aleatorios entre\n",
    "-100 y 100.\n",
    "\n",
    "Ayuda: ?runif."
   ]
  },
  {
   "cell_type": "markdown",
   "metadata": {},
   "source": [
    "### Ejercicio 5\n",
    "\n",
    "Con la misma operación que en el ejercicio anterior crea un nuevo vector **r2**.\n",
    "\n",
    "Ahora realiza las siguientes operaciones:\n",
    "\n",
    "* r1+r2\n",
    "* r1*r2\n",
    "* r1/r2\n",
    "\n",
    "¿Cómo realiza R estas operaciones?"
   ]
  },
  {
   "cell_type": "markdown",
   "metadata": {},
   "source": [
    "### Ejercicio 6\n",
    "\n",
    "Intenten ordenar de mayor a menor y de menor a mayor el vector r1.\n",
    "\n",
    "* ¿De qué largo es el vector r1?\n",
    "* ¿Cómo podría agregarle un elemento al vector r1?\n",
    "\n",
    "Ayuda: ?sort, ?length"
   ]
  },
  {
   "cell_type": "markdown",
   "metadata": {},
   "source": [
    "### Ejercicio 7\n",
    "\n",
    "A partir de un vector **CO2** con los siguientes elementos: “Bajo”, “Medio” y\n",
    "“Alto”:\n",
    "\n",
    "* Crea un objeto de tipo factor (**CO2_factor**). ¿Qué niveles (o levels) tiene?\n",
    "* Ahora cambia el primer valor del objeto por “Medio” de la siguiente forma:\n",
    "```R\n",
    "CO2[1] <- “Medio”\n",
    "```\n",
    "* ¿Cambiaron los niveles del objeto CO2?\n",
    "* Ahora si quiero cambiar el primer valor por “Muy bajo”, ¿Qué ocurre? ¿Por qué?\n",
    "\n",
    "Ayuda: ?factor"
   ]
  },
  {
   "cell_type": "markdown",
   "metadata": {},
   "source": [
    "### Ejercicio 8\n",
    "\n",
    "Creá dos vectores. Uno llamado **fp** que contenga los siguientes datos:\n",
    "\"Sirius\", \"CFP\", \"GFP\", \"Citrine\", y otro llamado **nm** que contenga los\n",
    "siguientes valores: 424, 476, 509, 528. A partir de estos dos vectores crea un\n",
    "dataframe que se llame **df_fp**. Con la función class comprueba que el objeto\n",
    "creado es de la clase data.frame.\n",
    "\n",
    "Ayuda: ?cbind, ?as.data.frame"
   ]
  },
  {
   "cell_type": "markdown",
   "metadata": {},
   "source": [
    "### Ejercicio  9\n",
    "\n",
    "Crea una matriz m de 3x3 dimensiones que contenga en todas las posiciones el\n",
    "valor 0.\n",
    "\n",
    "Ayuda: ?matrix, ?rep"
   ]
  },
  {
   "cell_type": "markdown",
   "metadata": {},
   "source": [
    "### Ejercicio 10\n",
    "\n",
    "A la matriz del punto anterior cambiale el valor de la primera fila y\n",
    "columna por “Hola” con el siguiente código:\n",
    "\n",
    "```R\n",
    "m[1, 1] <- “hola”\n",
    "```\n",
    "\n",
    "* Imprimir el resultado en pantalla\n",
    "* ¿Qué ocurrió con el resto de los valores de la matriz? ¿Por qué?"
   ]
  },
  {
   "cell_type": "markdown",
   "metadata": {},
   "source": [
    "## Subsetting"
   ]
  },
  {
   "cell_type": "markdown",
   "metadata": {},
   "source": [
    "### Ejercicio 11\n",
    "\n",
    "Generen dos listas a partir de las siguientes sintaxis:\n",
    "```R\n",
    "nombres1 <- list(c(\"Juana\", \"Pedro\",\"Camila\"))\n",
    "nombres2 <- list(\"Juana\", \"Pedro\", \"Camila\")\n",
    "```\n",
    "* ¿Cuántos elementos tienen cada una de ellas? Para cada caso intenten\n",
    "imprimir en pantalla solamente el nombre Camila"
   ]
  },
  {
   "cell_type": "markdown",
   "metadata": {},
   "source": [
    "### Ejercicio 12\n",
    "\n",
    "A partir del paquete dataset generen un data.frame **air** que contiene datos\n",
    "climáticos de la ciudad de Nueva York, usando el siguiente comando:\n",
    "```R\n",
    "air <- datasets::airquality\n",
    "```"
   ]
  },
  {
   "cell_type": "markdown",
   "metadata": {},
   "source": [
    "### Ejercicio 13\n",
    "\n",
    "Imprime en pantalla solamente las primeras filas del data.frame y luego las\n",
    "últimas.\n",
    "\n",
    "Ayuda: ?head, ?tail"
   ]
  },
  {
   "cell_type": "markdown",
   "metadata": {},
   "source": [
    "### Ejercicio 14\n",
    "\n",
    "Imprime en pantalla todos los valores correspondientes a las temperaturas\n",
    "registradas y luego solamente el valor de las temperaturas que se registraron en\n",
    "el tercer día de cada mes."
   ]
  },
  {
   "cell_type": "markdown",
   "metadata": {},
   "source": [
    "### Ejercicio 15\n",
    "\n",
    "Seleccioná todas las filas de **air** del mes de mayo."
   ]
  },
  {
   "cell_type": "markdown",
   "metadata": {},
   "source": [
    "### Ejercicio 16\n",
    "\n",
    "¿Qué día fue en el que hubo menor radiación solar?\n",
    "\n",
    "Ayuda: ?which.min"
   ]
  },
  {
   "cell_type": "markdown",
   "metadata": {},
   "source": [
    "### Ejercicio 17\n",
    "\n",
    "¿Cuál fue la temperatura el 27 de Agosto?\n",
    "\n",
    "Ayuda: ?which, & (and)"
   ]
  },
  {
   "cell_type": "markdown",
   "metadata": {},
   "source": [
    "### Ejercicio 18\n",
    "\n",
    "Seleccioná todas las filas de air del mes de mayo cuya radiación solar sea\n",
    "mayor a 150."
   ]
  },
  {
   "cell_type": "markdown",
   "metadata": {},
   "source": [
    "### Ejercicio 19\n",
    "\n",
    "Genera un nuevo data.frame llamado **calor** que contenga la información de\n",
    "los días en los que hizo igual o más de 90 °F. Utilizando la función table\n",
    "contesta a qué meses pertenecen los días más calurosos."
   ]
  },
  {
   "cell_type": "markdown",
   "metadata": {},
   "source": [
    "### Ejercicio 20\n",
    "\n",
    "La temperatura en el data.frame está expresada en grados Fahrenheit,\n",
    "convierte la columna de temperaturas para que las mismas se expresen en grados\n",
    "Celsius.\n",
    "\n",
    "Ayuda: °C = (°F - 32)/1.8"
   ]
  },
  {
   "cell_type": "markdown",
   "metadata": {},
   "source": [
    "## Estructuras de control"
   ]
  },
  {
   "cell_type": "markdown",
   "metadata": {},
   "source": [
    "### Ejercicio 21\n",
    "\n",
    "Imprimir en pantalla los números del 1 al 100 utilizando un for."
   ]
  },
  {
   "cell_type": "markdown",
   "metadata": {},
   "source": [
    "### Ejercicio 22\n",
    "\n",
    "Elegir un número al azar entre 0 y 1 con runif. Utilizando if else imprimir\n",
    "“mayor que 0.5” o “menor que 0.5” dependiendo el caso."
   ]
  },
  {
   "cell_type": "markdown",
   "metadata": {},
   "source": [
    "### Ejercicio 23\n",
    "\n",
    "Imprimir en pantalla los números del 1 al 100 seguidos de una letra “p” si\n",
    "son pares o de una “i” si son impares, utilizando un for y un if else."
   ]
  },
  {
   "cell_type": "markdown",
   "metadata": {},
   "source": [
    "### Ejercicio 24\n",
    "\n",
    "Generar una matriz de 5x10. Colocar dentro de cada posición la suma de la\n",
    "fila y de la columna de esa posición. Utilizá un for dentro de otro for."
   ]
  },
  {
   "cell_type": "markdown",
   "metadata": {},
   "source": [
    "### Ejercicio 25\n",
    "\n",
    "Generar un vector x desde $-\\pi$ a $\\pi$ con saltos de 0.1. Imprimir cada\n",
    "elemento de x junto con el seno(x)."
   ]
  },
  {
   "cell_type": "markdown",
   "metadata": {},
   "source": [
    "### Ejercicio 26\n",
    "\n",
    "Imprimir en pantalla los números del 1 al 100 sin utilizar un for.\n",
    "\n",
    "Ayuda: : o ?seq"
   ]
  },
  {
   "cell_type": "markdown",
   "metadata": {},
   "source": [
    "### Ejercicio 27\n",
    "\n",
    "Imprimir en pantalla los números pares del 1 al 100 sin utilizar un for.\n",
    "\n",
    "Ayuda: =="
   ]
  },
  {
   "cell_type": "markdown",
   "metadata": {},
   "source": [
    "### Ejercicio 28\n",
    "\n",
    "Generar un vector x desde $-\\pi$ a $\\pi$ con saltos de 0.1. Imprimir cada\n",
    "elemento de x junto con el seno(x), sin utilizar un for.\n",
    "\n",
    "Ayuda: ?paste"
   ]
  },
  {
   "cell_type": "code",
   "execution_count": 21,
   "metadata": {},
   "outputs": [
    {
     "data": {
      "text/html": [
       "<span style=white-space:pre-wrap>'&lt;!doctype html&gt;&lt;html itemscope=\"\" itemtype=\"http://schema.org/WebPage\" lang=\"es-419\"&gt;&lt;head&gt;&lt;meta content=\"text/html; charset=UTF-8\" http-equiv=\"Content-Type\"&gt;&lt;meta content=\"/images/branding/googleg/1x/googleg_standard_color_128dp.png\" itemprop=\"image\"&gt;&lt;title&gt;Google&lt;/title&gt;&lt;script nonce=\"oGtaEPKpWZC6dEZNLgikng==\"&gt;(function(){window.google={kEI:\\'cJa3YMfPNZ-y5OUP5o2EyAw\\',kEXPI:\\'0,772215,1,530320,56873,954,756,4348,207,1698,716,2390,926,1390,383,246,5,1354,5250,16232,10,1106274,1197698,554,30,328985,51223,16115,28684,17572,4859,1361,9290,3021,17588,4020,978,13228,2054,1793,4192,6430,14527,4518,2777,919,5081,1593,1279,2212,530,149,1103,840,517,1466,4314,109,3405,606,2023,1777,520,6343,8327,3227,2845,7,12354,5096,7876,4929,108,3407,908,2,941,2614,2397,10745,3,576,1835,2550,2075,148,5990,6324,1661,4,1528,2304,1236,5227,576,1791,2893,2014,4067,14308,2658,4164,79,518,912,1028,656,30,3854,7558,2216,2305,638,1494,5587,3771,6763,665,2145,377,3302,2533,992,3102,20,3118,6,908,3,3541,1,4174,5771,1429,3336,1816,281,912,5992,1260,5494,432,552,4788,2,1394,2806,1715,2,3036,21,732,2,1282,827,2418,906,1188,4949,529,2,61,626,906,57,298,1,1,1097,923,93,2331,116,1158,326,3791,55,406,2632,1051,187,391,609,1571,145,763,107,1624,246,86,2,2,1047,1160,474,628,1421,540,1543,87,2,2,1295,121,3,80,2,501,300,28,276,238,600,93,2719,1193,1383,17,3,99,936,1033,3,285,236,203,3,37,1567,922,496,155,300,1228,386,170,225,1173,4,39,231,320,1566,501,288,61,28,69,268,5635118,3904,183,43,63,194,5995661,1170,46,2800651,882,444,1,2,80,1,1796,1,9,2,2551,1,748,141,801,557,1,4265,1,1,2,1331,3299,843,2609,155,17,13,72,139,4,2,20,2,169,13,19,38,8,5,39,96,230,58,4,4,4,4,4,8,4,4,4,24,196,29,2,2,1,2,1,2,2,7,4,1,2,2,2,2,2,2,353,323,49,1,13,7,12,7,12,12,76,1,23955362,4010274,268,1678,26621,2,2377,3,467,3\\',kBL:\\'ckvK\\'};google.sn=\\'webhp\\';google.kHL=\\'es-419\\';})();(function(){\\nvar f,h=[];function k(a){for(var b;a&amp;&amp;(!a.getAttribute||!(b=a.getAttribute(\"eid\")));)a=a.parentNode;return b||f}function l(a){for(var b=null;a&amp;&amp;(!a.getAttribute||!(b=a.getAttribute(\"leid\")));)a=a.parentNode;return b}\\nfunction m(a,b,c,d,g){var e=\"\";c||-1!=b.search(\"&amp;ei=\")||(e=\"&amp;ei=\"+k(d),-1==b.search(\"&amp;lei=\")&amp;&amp;(d=l(d))&amp;&amp;(e+=\"&amp;lei=\"+d));d=\"\";!c&amp;&amp;window._cshid&amp;&amp;-1==b.search(\"&amp;cshid=\")&amp;&amp;\"slh\"!=a&amp;&amp;(d=\"&amp;cshid=\"+window._cshid);c=c||\"/\"+(g||\"gen_204\")+\"?atyp=i&amp;ct=\"+a+\"&amp;cad=\"+b+e+\"&amp;zx=\"+Date.now()+d;/^http:/i.test(c)&amp;&amp;\"https:\"==window.location.protocol&amp;&amp;(google.ml&amp;&amp;google.ml(Error(\"a\"),!1,{src:c,glmm:1}),c=\"\");return c};f=google.kEI;google.getEI=k;google.getLEI=l;google.ml=function(){return null};google.log=function(a,b,c,d,g){if(c=m(a,b,c,d,g)){a=new Image;var e=h.length;h[e]=a;a.onerror=a.onload=a.onabort=function(){delete h[e]};a.src=c}};google.logUrl=m;}).call(this);(function(){\\ngoogle.y={};google.sy=[];google.x=function(a,b){if(a)var c=a.id;else{do c=Math.random();while(google.y[c])}google.y[c]=[a,b];return!1};google.sx=function(a){google.sy.push(a)};google.lm=[];google.plm=function(a){google.lm.push.apply(google.lm,a)};google.lq=[];google.load=function(a,b,c){google.lq.push([[a],b,c])};google.loadAll=function(a,b){google.lq.push([a,b])};google.bx=!1;google.lx=function(){};}).call(this);google.f={};(function(){\\ndocument.documentElement.addEventListener(\"submit\",function(b){var a;if(a=b.target){var c=a.getAttribute(\"data-submitfalse\");a=\"1\"==c||\"q\"==c&amp;&amp;!a.elements.q.value?!0:!1}else a=!1;a&amp;&amp;(b.preventDefault(),b.stopPropagation())},!0);document.documentElement.addEventListener(\"click\",function(b){var a;a:{for(a=b.target;a&amp;&amp;a!=document.documentElement;a=a.parentElement)if(\"A\"==a.tagName){a=\"1\"==a.getAttribute(\"data-nohref\");break a}a=!1}a&amp;&amp;b.preventDefault()},!0);}).call(this);&lt;/script&gt;&lt;style&gt;#gbar,#guser{font-size:13px;padding-top:1px !important;}#gbar{height:22px}#guser{padding-bottom:7px !important;text-align:right}.gbh,.gbd{border-top:1px solid #c9d7f1;font-size:1px}.gbh{height:0;position:absolute;top:24px;width:100%}@media all{.gb1{height:22px;margin-right:.5em;vertical-align:top}#gbar{float:left}}a.gb1,a.gb4{text-decoration:underline !important}a.gb1,a.gb4{color:#00c !important}.gbi .gb4{color:#dd8e27 !important}.gbf .gb4{color:#900 !important}\\n&lt;/style&gt;&lt;style&gt;body,td,a,p,.h{font-family:arial,sans-serif}body{margin:0;overflow-y:scroll}#gog{padding:3px 8px 0}td{line-height:.8em}.gac_m td{line-height:17px}form{margin-bottom:20px}.h{color:#1558d6}em{font-weight:bold;font-style:normal}.lst{height:25px;width:496px}.gsfi,.lst{font:18px arial,sans-serif}.gsfs{font:17px arial,sans-serif}.ds{display:inline-box;display:inline-block;margin:3px 0 4px;margin-left:4px}input{font-family:inherit}body{background:#fff;color:#000}a{color:#4b11a8;text-decoration:none}a:hover,a:active{text-decoration:underline}.fl a{color:#1558d6}a:visited{color:#4b11a8}.sblc{padding-top:5px}.sblc a{display:block;margin:2px 0;margin-left:13px;font-size:11px}.lsbb{background:#f8f9fa;border:solid 1px;border-color:#dadce0 #70757a #70757a #dadce0;height:30px}.lsbb{display:block}#WqQANb a{display:inline-block;margin:0 12px}.lsb{background:url(/images/nav_logo229.png) 0 -261px repeat-x;border:none;color:#000;cursor:pointer;height:30px;margin:0;outline:0;font:15px arial,sans-serif;vertical-align:top}.lsb:active{background:#dadce0}.lst:focus{outline:none}&lt;/style&gt;&lt;script nonce=\"oGtaEPKpWZC6dEZNLgikng==\"&gt;&lt;/script&gt;&lt;/head&gt;&lt;body bgcolor=\"#fff\"&gt;&lt;script nonce=\"oGtaEPKpWZC6dEZNLgikng==\"&gt;(function(){var src=\\'/images/nav_logo229.png\\';var iesg=false;document.body.onload = function(){window.n &amp;&amp; window.n();if (document.images){new Image().src=src;}\\nif (!iesg){document.f&amp;&amp;document.f.q.focus();document.gbqf&amp;&amp;document.gbqf.q.focus();}\\n}\\n})();&lt;/script&gt;&lt;div id=\"mngb\"&gt;&lt;div id=gbar&gt;&lt;nobr&gt;&lt;b class=gb1&gt;Búsqueda&lt;/b&gt; &lt;a class=gb1 href=\"https://www.google.com.ar/imghp?hl=es-419&amp;tab=wi\"&gt;Imágenes&lt;/a&gt; &lt;a class=gb1 href=\"https://maps.google.com.ar/maps?hl=es-419&amp;tab=wl\"&gt;Maps&lt;/a&gt; &lt;a class=gb1 href=\"https://play.google.com/?hl=es-419&amp;tab=w8\"&gt;Play&lt;/a&gt; &lt;a class=gb1 href=\"https://www.youtube.com/?gl=AR&amp;tab=w1\"&gt;YouTube&lt;/a&gt; &lt;a class=gb1 href=\"https://news.google.com/?tab=wn\"&gt;Noticias&lt;/a&gt; &lt;a class=gb1 href=\"https://mail.google.com/mail/?tab=wm\"&gt;Gmail&lt;/a&gt; &lt;a class=gb1 href=\"https://drive.google.com/?tab=wo\"&gt;Drive&lt;/a&gt; &lt;a class=gb1 style=\"text-decoration:none\" href=\"https://www.google.com.ar/intl/es-419/about/products?tab=wh\"&gt;&lt;u&gt;Más&lt;/u&gt; &amp;raquo;&lt;/a&gt;&lt;/nobr&gt;&lt;/div&gt;&lt;div id=guser width=100%&gt;&lt;nobr&gt;&lt;span id=gbn class=gbi&gt;&lt;/span&gt;&lt;span id=gbf class=gbf&gt;&lt;/span&gt;&lt;span id=gbe&gt;&lt;/span&gt;&lt;a href=\"http://www.google.com.ar/history/optout?hl=es-419\" class=gb4&gt;Historial web&lt;/a&gt; | &lt;a  href=\"/preferences?hl=es-419\" class=gb4&gt;Preferencias&lt;/a&gt; | &lt;a target=_top id=gb_70 href=\"https://accounts.google.com/ServiceLogin?hl=es-419&amp;passive=true&amp;continue=https://www.google.com/&amp;ec=GAZAAQ\" class=gb4&gt;Acceder&lt;/a&gt;&lt;/nobr&gt;&lt;/div&gt;&lt;div class=gbh style=left:0&gt;&lt;/div&gt;&lt;div class=gbh style=right:0&gt;&lt;/div&gt;&lt;/div&gt;&lt;center&gt;&lt;br clear=\"all\" id=\"lgpd\"&gt;&lt;div id=\"lga\"&gt;&lt;img alt=\"Google\" height=\"92\" src=\"/images/branding/googlelogo/1x/googlelogo_white_background_color_272x92dp.png\" style=\"padding:28px 0 14px\" width=\"272\" id=\"hplogo\"&gt;&lt;br&gt;&lt;br&gt;&lt;/div&gt;&lt;form action=\"/search\" name=\"f\"&gt;&lt;table cellpadding=\"0\" cellspacing=\"0\"&gt;&lt;tr valign=\"top\"&gt;&lt;td width=\"25%\"&gt;&amp;nbsp;&lt;/td&gt;&lt;td align=\"center\" nowrap=\"\"&gt;&lt;input name=\"ie\" value=\"ISO-8859-1\" type=\"hidden\"&gt;&lt;input value=\"es-419\" name=\"hl\" type=\"hidden\"&gt;&lt;input name=\"source\" type=\"hidden\" value=\"hp\"&gt;&lt;input name=\"biw\" type=\"hidden\"&gt;&lt;input name=\"bih\" type=\"hidden\"&gt;&lt;div class=\"ds\" style=\"height:32px;margin:4px 0\"&gt;&lt;input class=\"lst\" style=\"margin:0;padding:5px 8px 0 6px;vertical-align:top;color:#000\" autocomplete=\"off\" value=\"\" title=\"Buscar con Google\" maxlength=\"2048\" name=\"q\" size=\"57\"&gt;&lt;/div&gt;&lt;br style=\"line-height:0\"&gt;&lt;span class=\"ds\"&gt;&lt;span class=\"lsbb\"&gt;&lt;input class=\"lsb\" value=\"Buscar con Google\" name=\"btnG\" type=\"submit\"&gt;&lt;/span&gt;&lt;/span&gt;&lt;span class=\"ds\"&gt;&lt;span class=\"lsbb\"&gt;&lt;input class=\"lsb\" id=\"tsuid1\" value=\"Me siento con suerte \" name=\"btnI\" type=\"submit\"&gt;&lt;script nonce=\"oGtaEPKpWZC6dEZNLgikng==\"&gt;(function(){var id=\\'tsuid1\\';document.getElementById(id).onclick = function(){if (this.form.q.value){this.checked = 1;if (this.form.iflsig)this.form.iflsig.disabled = false;}\\nelse top.location=\\'/doodles/\\';};})();&lt;/script&gt;&lt;input value=\"AINFCbYAAAAAYLekgCNiF9ApIHaWz9lILlthaB1e20e3\" name=\"iflsig\" type=\"hidden\"&gt;&lt;/span&gt;&lt;/span&gt;&lt;/td&gt;&lt;td class=\"fl sblc\" align=\"left\" nowrap=\"\" width=\"25%\"&gt;&lt;a href=\"/advanced_search?hl=es-419&amp;amp;authuser=0\"&gt;Búsqueda avanzada&lt;/a&gt;&lt;/td&gt;&lt;/tr&gt;&lt;/table&gt;&lt;input id=\"gbv\" name=\"gbv\" type=\"hidden\" value=\"1\"&gt;&lt;script nonce=\"oGtaEPKpWZC6dEZNLgikng==\"&gt;(function(){\\nvar a,b=\"1\";if(document&amp;&amp;document.getElementById)if(\"undefined\"!=typeof XMLHttpRequest)b=\"2\";else if(\"undefined\"!=typeof ActiveXObject){var c,d,e=[\"MSXML2.XMLHTTP.6.0\",\"MSXML2.XMLHTTP.3.0\",\"MSXML2.XMLHTTP\",\"Microsoft.XMLHTTP\"];for(c=0;d=e[c++];)try{new ActiveXObject(d),b=\"2\"}catch(h){}}a=b;if(\"2\"==a&amp;&amp;-1==location.search.indexOf(\"&amp;gbv=2\")){var f=google.gbvu,g=document.getElementById(\"gbv\");g&amp;&amp;(g.value=a);f&amp;&amp;window.setTimeout(function(){location.href=f},0)};}).call(this);&lt;/script&gt;&lt;/form&gt;&lt;div id=\"gac_scont\"&gt;&lt;/div&gt;&lt;div style=\"font-size:83%;min-height:3.5em\"&gt;&lt;br&gt;&lt;/div&gt;&lt;span id=\"footer\"&gt;&lt;div style=\"font-size:10pt\"&gt;&lt;div style=\"margin:19px auto;text-align:center\" id=\"WqQANb\"&gt;&lt;a href=\"/intl/es-419/ads/\"&gt;Programas de publicidad&lt;/a&gt;&lt;a href=\"/services/\"&gt;Soluciones Empresariales&lt;/a&gt;&lt;a href=\"/intl/es-419/about.html\"&gt;Todo acerca de Google&lt;/a&gt;&lt;a href=\"https://www.google.com/setprefdomain?prefdom=AR&amp;amp;prev=https://www.google.com.ar/&amp;amp;sig=K_dXfk8xBWUYanIWGQzczMRvlIB_E%3D\"&gt;Google.com.ar&lt;/a&gt;&lt;/div&gt;&lt;/div&gt;&lt;p style=\"font-size:8pt;color:#70757a\"&gt;&amp;copy; 2021 - &lt;a href=\"/intl/es-419/policies/privacy/\"&gt;Privacidad&lt;/a&gt; - &lt;a href=\"/intl/es-419/policies/terms/\"&gt;Condiciones&lt;/a&gt;&lt;/p&gt;&lt;/span&gt;&lt;/center&gt;&lt;script nonce=\"oGtaEPKpWZC6dEZNLgikng==\"&gt;(function(){window.google.cdo={height:0,width:0};(function(){\\nvar a=window.innerWidth,b=window.innerHeight;if(!a||!b){var c=window.document,d=\"CSS1Compat\"==c.compatMode?c.documentElement:c.body;a=d.clientWidth;b=d.clientHeight}a&amp;&amp;b&amp;&amp;(a!=google.cdo.width||b!=google.cdo.height)&amp;&amp;google.log(\"\",\"\",\"/client_204?&amp;atyp=i&amp;biw=\"+a+\"&amp;bih=\"+b+\"&amp;ei=\"+google.kEI);}).call(this);})();&lt;/script&gt; &lt;script nonce=\"oGtaEPKpWZC6dEZNLgikng==\"&gt;(function(){google.xjs={ck:\\'\\',cs:\\'\\',excm:[],pml:false};})();&lt;/script&gt;  &lt;script nonce=\"oGtaEPKpWZC6dEZNLgikng==\"&gt;(function(){var u=\\'/xjs/_/js/k\\\\x3dxjs.hp.en.fHmHfL28PcU.O/m\\\\x3dsb_he,d/am\\\\x3dAHgCLA/d\\\\x3d1/ed\\\\x3d1/rs\\\\x3dACT90oGrKXOlMMh8B9sCTCn55YHPPccYkQ\\';\\nvar e=this||self,f=function(a){return a};var g;var l=function(a,b){this.g=b===h?a:\"\"};l.prototype.toString=function(){return this.g+\"\"};var h={};function m(){var a=u;google.lx=function(){n(a);google.lx=function(){}};google.bx||google.lx()}\\nfunction n(a){google.timers&amp;&amp;google.timers.load&amp;&amp;google.tick&amp;&amp;google.tick(\"load\",\"xjsls\");var b=document;var c=\"SCRIPT\";\"application/xhtml+xml\"===b.contentType&amp;&amp;(c=c.toLowerCase());c=b.createElement(c);if(void 0===g){b=null;var k=e.trustedTypes;if(k&amp;&amp;k.createPolicy){try{b=k.createPolicy(\"goog#html\",{createHTML:f,createScript:f,createScriptURL:f})}catch(p){e.console&amp;&amp;e.console.error(p.message)}g=b}else g=b}a=(b=g)?b.createScriptURL(a):a;a=new l(a,h);c.src=a instanceof l&amp;&amp;a.constructor===l?a.g:\"type_error:TrustedResourceUrl\";var d;a=(c.ownerDocument&amp;&amp;c.ownerDocument.defaultView||window).document;(d=(a=null===(d=a.querySelector)||void 0===d?void 0:d.call(a,\"script[nonce]\"))?a.nonce||a.getAttribute(\"nonce\")||\"\":\"\")&amp;&amp;c.setAttribute(\"nonce\",d);document.body.appendChild(c);google.psa=!0};setTimeout(function(){m()},0);})();(function(){window.google.xjsu=\\'/xjs/_/js/k\\\\x3dxjs.hp.en.fHmHfL28PcU.O/m\\\\x3dsb_he,d/am\\\\x3dAHgCLA/d\\\\x3d1/ed\\\\x3d1/rs\\\\x3dACT90oGrKXOlMMh8B9sCTCn55YHPPccYkQ\\';})();function _DumpException(e){throw e;}\\nfunction _F_installCss(c){}\\n(function(){google.jl={blt:\\'none\\',dw:false,emtn:0,ine:false,lls:\\'default\\',pdt:0,snet:true,uwp:true};})();(function(){var pmc=\\'{\\\\x22d\\\\x22:{},\\\\x22sb_he\\\\x22:{\\\\x22agen\\\\x22:true,\\\\x22cgen\\\\x22:true,\\\\x22client\\\\x22:\\\\x22heirloom-hp\\\\x22,\\\\x22dh\\\\x22:true,\\\\x22dhqt\\\\x22:true,\\\\x22ds\\\\x22:\\\\x22\\\\x22,\\\\x22ffql\\\\x22:\\\\x22es\\\\x22,\\\\x22fl\\\\x22:true,\\\\x22host\\\\x22:\\\\x22google.com\\\\x22,\\\\x22isbh\\\\x22:28,\\\\x22jsonp\\\\x22:true,\\\\x22msgs\\\\x22:{\\\\x22cibl\\\\x22:\\\\x22Borrar búsqueda\\\\x22,\\\\x22dym\\\\x22:\\\\x22Quizás quisiste decir:\\\\x22,\\\\x22lcky\\\\x22:\\\\x22Me siento con suerte\\\\x22,\\\\x22lml\\\\x22:\\\\x22Más información\\\\x22,\\\\x22oskt\\\\x22:\\\\x22Herramientas de captura de texto\\\\x22,\\\\x22psrc\\\\x22:\\\\x22Se ha eliminado esta búsqueda de tu \\\\\\\\u003Ca href\\\\x3d\\\\\\\\\\\\x22/history\\\\\\\\\\\\x22\\\\\\\\u003EHistorial web\\\\\\\\u003C/a\\\\\\\\u003E\\\\x22,\\\\x22psrl\\\\x22:\\\\x22Eliminar\\\\x22,\\\\x22sbit\\\\x22:\\\\x22Buscar por imágenes\\\\x22,\\\\x22srch\\\\x22:\\\\x22Buscar con Google\\\\x22},\\\\x22nrft\\\\x22:false,\\\\x22ovr\\\\x22:{},\\\\x22pq\\\\x22:\\\\x22\\\\x22,\\\\x22refpd\\\\x22:true,\\\\x22rfs\\\\x22:[],\\\\x22sbas\\\\x22:\\\\x220 3px 8px 0 rgba(0,0,0,0.2),0 0 0 1px rgba(0,0,0,0.08)\\\\x22,\\\\x22sbpl\\\\x22:16,\\\\x22sbpr\\\\x22:16,\\\\x22scd\\\\x22:10,\\\\x22stok\\\\x22:\\\\x22UYza9eRWVjDsyI4Bf4-R1JsfwXE\\\\x22,\\\\x22uhde\\\\x22:false}}\\';google.pmc=JSON.parse(pmc);})();&lt;/script&gt;        &lt;/body&gt;&lt;/html&gt;'</span>"
      ],
      "text/latex": [
       "'<!doctype html><html itemscope=\"\" itemtype=\"http://schema.org/WebPage\" lang=\"es-419\"><head><meta content=\"text/html; charset=UTF-8\" http-equiv=\"Content-Type\"><meta content=\"/images/branding/googleg/1x/googleg\\_standard\\_color\\_128dp.png\" itemprop=\"image\"><title>Google</title><script nonce=\"oGtaEPKpWZC6dEZNLgikng==\">(function()\\{window.google=\\{kEI:\\textbackslash{}'cJa3YMfPNZ-y5OUP5o2EyAw\\textbackslash{}',kEXPI:\\textbackslash{}'0,772215,1,530320,56873,954,756,4348,207,1698,716,2390,926,1390,383,246,5,1354,5250,16232,10,1106274,1197698,554,30,328985,51223,16115,28684,17572,4859,1361,9290,3021,17588,4020,978,13228,2054,1793,4192,6430,14527,4518,2777,919,5081,1593,1279,2212,530,149,1103,840,517,1466,4314,109,3405,606,2023,1777,520,6343,8327,3227,2845,7,12354,5096,7876,4929,108,3407,908,2,941,2614,2397,10745,3,576,1835,2550,2075,148,5990,6324,1661,4,1528,2304,1236,5227,576,1791,2893,2014,4067,14308,2658,4164,79,518,912,1028,656,30,3854,7558,2216,2305,638,1494,5587,3771,6763,665,2145,377,3302,2533,992,3102,20,3118,6,908,3,3541,1,4174,5771,1429,3336,1816,281,912,5992,1260,5494,432,552,4788,2,1394,2806,1715,2,3036,21,732,2,1282,827,2418,906,1188,4949,529,2,61,626,906,57,298,1,1,1097,923,93,2331,116,1158,326,3791,55,406,2632,1051,187,391,609,1571,145,763,107,1624,246,86,2,2,1047,1160,474,628,1421,540,1543,87,2,2,1295,121,3,80,2,501,300,28,276,238,600,93,2719,1193,1383,17,3,99,936,1033,3,285,236,203,3,37,1567,922,496,155,300,1228,386,170,225,1173,4,39,231,320,1566,501,288,61,28,69,268,5635118,3904,183,43,63,194,5995661,1170,46,2800651,882,444,1,2,80,1,1796,1,9,2,2551,1,748,141,801,557,1,4265,1,1,2,1331,3299,843,2609,155,17,13,72,139,4,2,20,2,169,13,19,38,8,5,39,96,230,58,4,4,4,4,4,8,4,4,4,24,196,29,2,2,1,2,1,2,2,7,4,1,2,2,2,2,2,2,353,323,49,1,13,7,12,7,12,12,76,1,23955362,4010274,268,1678,26621,2,2377,3,467,3\\textbackslash{}',kBL:\\textbackslash{}'ckvK\\textbackslash{}'\\};google.sn=\\textbackslash{}'webhp\\textbackslash{}';google.kHL=\\textbackslash{}'es-419\\textbackslash{}';\\})();(function()\\{\\textbackslash{}nvar f,h={[}{]};function k(a)\\{for(var b;a\\&\\&(!a.getAttribute\\textbar{}\\textbar{}!(b=a.getAttribute(\"eid\")));)a=a.parentNode;return b\\textbar{}\\textbar{}f\\}function l(a)\\{for(var b=null;a\\&\\&(!a.getAttribute\\textbar{}\\textbar{}!(b=a.getAttribute(\"leid\")));)a=a.parentNode;return b\\}\\textbackslash{}nfunction m(a,b,c,d,g)\\{var e=\"\";c\\textbar{}\\textbar{}-1!=b.search(\"\\&ei=\")\\textbar{}\\textbar{}(e=\"\\&ei=\"+k(d),-1==b.search(\"\\&lei=\")\\&\\&(d=l(d))\\&\\&(e+=\"\\&lei=\"+d));d=\"\";!c\\&\\&window.\\_cshid\\&\\&-1==b.search(\"\\&cshid=\")\\&\\&\"slh\"!=a\\&\\&(d=\"\\&cshid=\"+window.\\_cshid);c=c\\textbar{}\\textbar{}\"/\"+(g\\textbar{}\\textbar{}\"gen\\_204\")+\"?atyp=i\\&ct=\"+a+\"\\&cad=\"+b+e+\"\\&zx=\"+Date.now()+d;/\\textasciicircum{}http:/i.test(c)\\&\\&\"https:\"==window.location.protocol\\&\\&(google.ml\\&\\&google.ml(Error(\"a\"),!1,\\{src:c,glmm:1\\}),c=\"\");return c\\};f=google.kEI;google.getEI=k;google.getLEI=l;google.ml=function()\\{return null\\};google.log=function(a,b,c,d,g)\\{if(c=m(a,b,c,d,g))\\{a=new Image;var e=h.length;h{[}e{]}=a;a.onerror=a.onload=a.onabort=function()\\{delete h{[}e{]}\\};a.src=c\\}\\};google.logUrl=m;\\}).call(this);(function()\\{\\textbackslash{}ngoogle.y=\\{\\};google.sy={[}{]};google.x=function(a,b)\\{if(a)var c=a.id;else\\{do c=Math.random();while(google.y{[}c{]})\\}google.y{[}c{]}={[}a,b{]};return!1\\};google.sx=function(a)\\{google.sy.push(a)\\};google.lm={[}{]};google.plm=function(a)\\{google.lm.push.apply(google.lm,a)\\};google.lq={[}{]};google.load=function(a,b,c)\\{google.lq.push({[}{[}a{]},b,c{]})\\};google.loadAll=function(a,b)\\{google.lq.push({[}a,b{]})\\};google.bx=!1;google.lx=function()\\{\\};\\}).call(this);google.f=\\{\\};(function()\\{\\textbackslash{}ndocument.documentElement.addEventListener(\"submit\",function(b)\\{var a;if(a=b.target)\\{var c=a.getAttribute(\"data-submitfalse\");a=\"1\"==c\\textbar{}\\textbar{}\"q\"==c\\&\\&!a.elements.q.value?!0:!1\\}else a=!1;a\\&\\&(b.preventDefault(),b.stopPropagation())\\},!0);document.documentElement.addEventListener(\"click\",function(b)\\{var a;a:\\{for(a=b.target;a\\&\\&a!=document.documentElement;a=a.parentElement)if(\"A\"==a.tagName)\\{a=\"1\"==a.getAttribute(\"data-nohref\");break a\\}a=!1\\}a\\&\\&b.preventDefault()\\},!0);\\}).call(this);</script><style>\\#gbar,\\#guser\\{font-size:13px;padding-top:1px !important;\\}\\#gbar\\{height:22px\\}\\#guser\\{padding-bottom:7px !important;text-align:right\\}.gbh,.gbd\\{border-top:1px solid \\#c9d7f1;font-size:1px\\}.gbh\\{height:0;position:absolute;top:24px;width:100\\%\\}@media all\\{.gb1\\{height:22px;margin-right:.5em;vertical-align:top\\}\\#gbar\\{float:left\\}\\}a.gb1,a.gb4\\{text-decoration:underline !important\\}a.gb1,a.gb4\\{color:\\#00c !important\\}.gbi .gb4\\{color:\\#dd8e27 !important\\}.gbf .gb4\\{color:\\#900 !important\\}\\textbackslash{}n</style><style>body,td,a,p,.h\\{font-family:arial,sans-serif\\}body\\{margin:0;overflow-y:scroll\\}\\#gog\\{padding:3px 8px 0\\}td\\{line-height:.8em\\}.gac\\_m td\\{line-height:17px\\}form\\{margin-bottom:20px\\}.h\\{color:\\#1558d6\\}em\\{font-weight:bold;font-style:normal\\}.lst\\{height:25px;width:496px\\}.gsfi,.lst\\{font:18px arial,sans-serif\\}.gsfs\\{font:17px arial,sans-serif\\}.ds\\{display:inline-box;display:inline-block;margin:3px 0 4px;margin-left:4px\\}input\\{font-family:inherit\\}body\\{background:\\#fff;color:\\#000\\}a\\{color:\\#4b11a8;text-decoration:none\\}a:hover,a:active\\{text-decoration:underline\\}.fl a\\{color:\\#1558d6\\}a:visited\\{color:\\#4b11a8\\}.sblc\\{padding-top:5px\\}.sblc a\\{display:block;margin:2px 0;margin-left:13px;font-size:11px\\}.lsbb\\{background:\\#f8f9fa;border:solid 1px;border-color:\\#dadce0 \\#70757a \\#70757a \\#dadce0;height:30px\\}.lsbb\\{display:block\\}\\#WqQANb a\\{display:inline-block;margin:0 12px\\}.lsb\\{background:url(/images/nav\\_logo229.png) 0 -261px repeat-x;border:none;color:\\#000;cursor:pointer;height:30px;margin:0;outline:0;font:15px arial,sans-serif;vertical-align:top\\}.lsb:active\\{background:\\#dadce0\\}.lst:focus\\{outline:none\\}</style><script nonce=\"oGtaEPKpWZC6dEZNLgikng==\"></script></head><body bgcolor=\"\\#fff\"><script nonce=\"oGtaEPKpWZC6dEZNLgikng==\">(function()\\{var src=\\textbackslash{}'/images/nav\\_logo229.png\\textbackslash{}';var iesg=false;document.body.onload = function()\\{window.n \\&\\& window.n();if (document.images)\\{new Image().src=src;\\}\\textbackslash{}nif (!iesg)\\{document.f\\&\\&document.f.q.focus();document.gbqf\\&\\&document.gbqf.q.focus();\\}\\textbackslash{}n\\}\\textbackslash{}n\\})();</script><div id=\"mngb\"><div id=gbar><nobr><b class=gb1>Búsqueda</b> <a class=gb1 href=\"https://www.google.com.ar/imghp?hl=es-419\\&tab=wi\">Imágenes</a> <a class=gb1 href=\"https://maps.google.com.ar/maps?hl=es-419\\&tab=wl\">Maps</a> <a class=gb1 href=\"https://play.google.com/?hl=es-419\\&tab=w8\">Play</a> <a class=gb1 href=\"https://www.youtube.com/?gl=AR\\&tab=w1\">YouTube</a> <a class=gb1 href=\"https://news.google.com/?tab=wn\">Noticias</a> <a class=gb1 href=\"https://mail.google.com/mail/?tab=wm\">Gmail</a> <a class=gb1 href=\"https://drive.google.com/?tab=wo\">Drive</a> <a class=gb1 style=\"text-decoration:none\" href=\"https://www.google.com.ar/intl/es-419/about/products?tab=wh\"><u>Más</u> \\&raquo;</a></nobr></div><div id=guser width=100\\%><nobr><span id=gbn class=gbi></span><span id=gbf class=gbf></span><span id=gbe></span><a href=\"http://www.google.com.ar/history/optout?hl=es-419\" class=gb4>Historial web</a> \\textbar{} <a  href=\"/preferences?hl=es-419\" class=gb4>Preferencias</a> \\textbar{} <a target=\\_top id=gb\\_70 href=\"https://accounts.google.com/ServiceLogin?hl=es-419\\&passive=true\\&continue=https://www.google.com/\\&ec=GAZAAQ\" class=gb4>Acceder</a></nobr></div><div class=gbh style=left:0></div><div class=gbh style=right:0></div></div><center><br clear=\"all\" id=\"lgpd\"><div id=\"lga\"><img alt=\"Google\" height=\"92\" src=\"/images/branding/googlelogo/1x/googlelogo\\_white\\_background\\_color\\_272x92dp.png\" style=\"padding:28px 0 14px\" width=\"272\" id=\"hplogo\"><br><br></div><form action=\"/search\" name=\"f\"><table cellpadding=\"0\" cellspacing=\"0\"><tr valign=\"top\"><td width=\"25\\%\">\\&nbsp;</td><td align=\"center\" nowrap=\"\"><input name=\"ie\" value=\"ISO-8859-1\" type=\"hidden\"><input value=\"es-419\" name=\"hl\" type=\"hidden\"><input name=\"source\" type=\"hidden\" value=\"hp\"><input name=\"biw\" type=\"hidden\"><input name=\"bih\" type=\"hidden\"><div class=\"ds\" style=\"height:32px;margin:4px 0\"><input class=\"lst\" style=\"margin:0;padding:5px 8px 0 6px;vertical-align:top;color:\\#000\" autocomplete=\"off\" value=\"\" title=\"Buscar con Google\" maxlength=\"2048\" name=\"q\" size=\"57\"></div><br style=\"line-height:0\"><span class=\"ds\"><span class=\"lsbb\"><input class=\"lsb\" value=\"Buscar con Google\" name=\"btnG\" type=\"submit\"></span></span><span class=\"ds\"><span class=\"lsbb\"><input class=\"lsb\" id=\"tsuid1\" value=\"Me siento con suerte \" name=\"btnI\" type=\"submit\"><script nonce=\"oGtaEPKpWZC6dEZNLgikng==\">(function()\\{var id=\\textbackslash{}'tsuid1\\textbackslash{}';document.getElementById(id).onclick = function()\\{if (this.form.q.value)\\{this.checked = 1;if (this.form.iflsig)this.form.iflsig.disabled = false;\\}\\textbackslash{}nelse top.location=\\textbackslash{}'/doodles/\\textbackslash{}';\\};\\})();</script><input value=\"AINFCbYAAAAAYLekgCNiF9ApIHaWz9lILlthaB1e20e3\" name=\"iflsig\" type=\"hidden\"></span></span></td><td class=\"fl sblc\" align=\"left\" nowrap=\"\" width=\"25\\%\"><a href=\"/advanced\\_search?hl=es-419\\&amp;authuser=0\">Búsqueda avanzada</a></td></tr></table><input id=\"gbv\" name=\"gbv\" type=\"hidden\" value=\"1\"><script nonce=\"oGtaEPKpWZC6dEZNLgikng==\">(function()\\{\\textbackslash{}nvar a,b=\"1\";if(document\\&\\&document.getElementById)if(\"undefined\"!=typeof XMLHttpRequest)b=\"2\";else if(\"undefined\"!=typeof ActiveXObject)\\{var c,d,e={[}\"MSXML2.XMLHTTP.6.0\",\"MSXML2.XMLHTTP.3.0\",\"MSXML2.XMLHTTP\",\"Microsoft.XMLHTTP\"{]};for(c=0;d=e{[}c++{]};)try\\{new ActiveXObject(d),b=\"2\"\\}catch(h)\\{\\}\\}a=b;if(\"2\"==a\\&\\&-1==location.search.indexOf(\"\\&gbv=2\"))\\{var f=google.gbvu,g=document.getElementById(\"gbv\");g\\&\\&(g.value=a);f\\&\\&window.setTimeout(function()\\{location.href=f\\},0)\\};\\}).call(this);</script></form><div id=\"gac\\_scont\"></div><div style=\"font-size:83\\%;min-height:3.5em\"><br></div><span id=\"footer\"><div style=\"font-size:10pt\"><div style=\"margin:19px auto;text-align:center\" id=\"WqQANb\"><a href=\"/intl/es-419/ads/\">Programas de publicidad</a><a href=\"/services/\">Soluciones Empresariales</a><a href=\"/intl/es-419/about.html\">Todo acerca de Google</a><a href=\"https://www.google.com/setprefdomain?prefdom=AR\\&amp;prev=https://www.google.com.ar/\\&amp;sig=K\\_dXfk8xBWUYanIWGQzczMRvlIB\\_E\\%3D\">Google.com.ar</a></div></div><p style=\"font-size:8pt;color:\\#70757a\">\\&copy; 2021 - <a href=\"/intl/es-419/policies/privacy/\">Privacidad</a> - <a href=\"/intl/es-419/policies/terms/\">Condiciones</a></p></span></center><script nonce=\"oGtaEPKpWZC6dEZNLgikng==\">(function()\\{window.google.cdo=\\{height:0,width:0\\};(function()\\{\\textbackslash{}nvar a=window.innerWidth,b=window.innerHeight;if(!a\\textbar{}\\textbar{}!b)\\{var c=window.document,d=\"CSS1Compat\"==c.compatMode?c.documentElement:c.body;a=d.clientWidth;b=d.clientHeight\\}a\\&\\&b\\&\\&(a!=google.cdo.width\\textbar{}\\textbar{}b!=google.cdo.height)\\&\\&google.log(\"\",\"\",\"/client\\_204?\\&atyp=i\\&biw=\"+a+\"\\&bih=\"+b+\"\\&ei=\"+google.kEI);\\}).call(this);\\})();</script> <script nonce=\"oGtaEPKpWZC6dEZNLgikng==\">(function()\\{google.xjs=\\{ck:\\textbackslash{}'\\textbackslash{}',cs:\\textbackslash{}'\\textbackslash{}',excm:{[}{]},pml:false\\};\\})();</script>  <script nonce=\"oGtaEPKpWZC6dEZNLgikng==\">(function()\\{var u=\\textbackslash{}'/xjs/\\_/js/k\\textbackslash{}\\textbackslash{}x3dxjs.hp.en.fHmHfL28PcU.O/m\\textbackslash{}\\textbackslash{}x3dsb\\_he,d/am\\textbackslash{}\\textbackslash{}x3dAHgCLA/d\\textbackslash{}\\textbackslash{}x3d1/ed\\textbackslash{}\\textbackslash{}x3d1/rs\\textbackslash{}\\textbackslash{}x3dACT90oGrKXOlMMh8B9sCTCn55YHPPccYkQ\\textbackslash{}';\\textbackslash{}nvar e=this\\textbar{}\\textbar{}self,f=function(a)\\{return a\\};var g;var l=function(a,b)\\{this.g=b===h?a:\"\"\\};l.prototype.toString=function()\\{return this.g+\"\"\\};var h=\\{\\};function m()\\{var a=u;google.lx=function()\\{n(a);google.lx=function()\\{\\}\\};google.bx\\textbar{}\\textbar{}google.lx()\\}\\textbackslash{}nfunction n(a)\\{google.timers\\&\\&google.timers.load\\&\\&google.tick\\&\\&google.tick(\"load\",\"xjsls\");var b=document;var c=\"SCRIPT\";\"application/xhtml+xml\"===b.contentType\\&\\&(c=c.toLowerCase());c=b.createElement(c);if(void 0===g)\\{b=null;var k=e.trustedTypes;if(k\\&\\&k.createPolicy)\\{try\\{b=k.createPolicy(\"goog\\#html\",\\{createHTML:f,createScript:f,createScriptURL:f\\})\\}catch(p)\\{e.console\\&\\&e.console.error(p.message)\\}g=b\\}else g=b\\}a=(b=g)?b.createScriptURL(a):a;a=new l(a,h);c.src=a instanceof l\\&\\&a.constructor===l?a.g:\"type\\_error:TrustedResourceUrl\";var d;a=(c.ownerDocument\\&\\&c.ownerDocument.defaultView\\textbar{}\\textbar{}window).document;(d=(a=null===(d=a.querySelector)\\textbar{}\\textbar{}void 0===d?void 0:d.call(a,\"script{[}nonce{]}\"))?a.nonce\\textbar{}\\textbar{}a.getAttribute(\"nonce\")\\textbar{}\\textbar{}\"\":\"\")\\&\\&c.setAttribute(\"nonce\",d);document.body.appendChild(c);google.psa=!0\\};setTimeout(function()\\{m()\\},0);\\})();(function()\\{window.google.xjsu=\\textbackslash{}'/xjs/\\_/js/k\\textbackslash{}\\textbackslash{}x3dxjs.hp.en.fHmHfL28PcU.O/m\\textbackslash{}\\textbackslash{}x3dsb\\_he,d/am\\textbackslash{}\\textbackslash{}x3dAHgCLA/d\\textbackslash{}\\textbackslash{}x3d1/ed\\textbackslash{}\\textbackslash{}x3d1/rs\\textbackslash{}\\textbackslash{}x3dACT90oGrKXOlMMh8B9sCTCn55YHPPccYkQ\\textbackslash{}';\\})();function \\_DumpException(e)\\{throw e;\\}\\textbackslash{}nfunction \\_F\\_installCss(c)\\{\\}\\textbackslash{}n(function()\\{google.jl=\\{blt:\\textbackslash{}'none\\textbackslash{}',dw:false,emtn:0,ine:false,lls:\\textbackslash{}'default\\textbackslash{}',pdt:0,snet:true,uwp:true\\};\\})();(function()\\{var pmc=\\textbackslash{}'\\{\\textbackslash{}\\textbackslash{}x22d\\textbackslash{}\\textbackslash{}x22:\\{\\},\\textbackslash{}\\textbackslash{}x22sb\\_he\\textbackslash{}\\textbackslash{}x22:\\{\\textbackslash{}\\textbackslash{}x22agen\\textbackslash{}\\textbackslash{}x22:true,\\textbackslash{}\\textbackslash{}x22cgen\\textbackslash{}\\textbackslash{}x22:true,\\textbackslash{}\\textbackslash{}x22client\\textbackslash{}\\textbackslash{}x22:\\textbackslash{}\\textbackslash{}x22heirloom-hp\\textbackslash{}\\textbackslash{}x22,\\textbackslash{}\\textbackslash{}x22dh\\textbackslash{}\\textbackslash{}x22:true,\\textbackslash{}\\textbackslash{}x22dhqt\\textbackslash{}\\textbackslash{}x22:true,\\textbackslash{}\\textbackslash{}x22ds\\textbackslash{}\\textbackslash{}x22:\\textbackslash{}\\textbackslash{}x22\\textbackslash{}\\textbackslash{}x22,\\textbackslash{}\\textbackslash{}x22ffql\\textbackslash{}\\textbackslash{}x22:\\textbackslash{}\\textbackslash{}x22es\\textbackslash{}\\textbackslash{}x22,\\textbackslash{}\\textbackslash{}x22fl\\textbackslash{}\\textbackslash{}x22:true,\\textbackslash{}\\textbackslash{}x22host\\textbackslash{}\\textbackslash{}x22:\\textbackslash{}\\textbackslash{}x22google.com\\textbackslash{}\\textbackslash{}x22,\\textbackslash{}\\textbackslash{}x22isbh\\textbackslash{}\\textbackslash{}x22:28,\\textbackslash{}\\textbackslash{}x22jsonp\\textbackslash{}\\textbackslash{}x22:true,\\textbackslash{}\\textbackslash{}x22msgs\\textbackslash{}\\textbackslash{}x22:\\{\\textbackslash{}\\textbackslash{}x22cibl\\textbackslash{}\\textbackslash{}x22:\\textbackslash{}\\textbackslash{}x22Borrar búsqueda\\textbackslash{}\\textbackslash{}x22,\\textbackslash{}\\textbackslash{}x22dym\\textbackslash{}\\textbackslash{}x22:\\textbackslash{}\\textbackslash{}x22Quizás quisiste decir:\\textbackslash{}\\textbackslash{}x22,\\textbackslash{}\\textbackslash{}x22lcky\\textbackslash{}\\textbackslash{}x22:\\textbackslash{}\\textbackslash{}x22Me siento con suerte\\textbackslash{}\\textbackslash{}x22,\\textbackslash{}\\textbackslash{}x22lml\\textbackslash{}\\textbackslash{}x22:\\textbackslash{}\\textbackslash{}x22Más información\\textbackslash{}\\textbackslash{}x22,\\textbackslash{}\\textbackslash{}x22oskt\\textbackslash{}\\textbackslash{}x22:\\textbackslash{}\\textbackslash{}x22Herramientas de captura de texto\\textbackslash{}\\textbackslash{}x22,\\textbackslash{}\\textbackslash{}x22psrc\\textbackslash{}\\textbackslash{}x22:\\textbackslash{}\\textbackslash{}x22Se ha eliminado esta búsqueda de tu \\textbackslash{}\\textbackslash{}\\textbackslash{}\\textbackslash{}u003Ca href\\textbackslash{}\\textbackslash{}x3d\\textbackslash{}\\textbackslash{}\\textbackslash{}\\textbackslash{}\\textbackslash{}\\textbackslash{}x22/history\\textbackslash{}\\textbackslash{}\\textbackslash{}\\textbackslash{}\\textbackslash{}\\textbackslash{}x22\\textbackslash{}\\textbackslash{}\\textbackslash{}\\textbackslash{}u003EHistorial web\\textbackslash{}\\textbackslash{}\\textbackslash{}\\textbackslash{}u003C/a\\textbackslash{}\\textbackslash{}\\textbackslash{}\\textbackslash{}u003E\\textbackslash{}\\textbackslash{}x22,\\textbackslash{}\\textbackslash{}x22psrl\\textbackslash{}\\textbackslash{}x22:\\textbackslash{}\\textbackslash{}x22Eliminar\\textbackslash{}\\textbackslash{}x22,\\textbackslash{}\\textbackslash{}x22sbit\\textbackslash{}\\textbackslash{}x22:\\textbackslash{}\\textbackslash{}x22Buscar por imágenes\\textbackslash{}\\textbackslash{}x22,\\textbackslash{}\\textbackslash{}x22srch\\textbackslash{}\\textbackslash{}x22:\\textbackslash{}\\textbackslash{}x22Buscar con Google\\textbackslash{}\\textbackslash{}x22\\},\\textbackslash{}\\textbackslash{}x22nrft\\textbackslash{}\\textbackslash{}x22:false,\\textbackslash{}\\textbackslash{}x22ovr\\textbackslash{}\\textbackslash{}x22:\\{\\},\\textbackslash{}\\textbackslash{}x22pq\\textbackslash{}\\textbackslash{}x22:\\textbackslash{}\\textbackslash{}x22\\textbackslash{}\\textbackslash{}x22,\\textbackslash{}\\textbackslash{}x22refpd\\textbackslash{}\\textbackslash{}x22:true,\\textbackslash{}\\textbackslash{}x22rfs\\textbackslash{}\\textbackslash{}x22:{[}{]},\\textbackslash{}\\textbackslash{}x22sbas\\textbackslash{}\\textbackslash{}x22:\\textbackslash{}\\textbackslash{}x220 3px 8px 0 rgba(0,0,0,0.2),0 0 0 1px rgba(0,0,0,0.08)\\textbackslash{}\\textbackslash{}x22,\\textbackslash{}\\textbackslash{}x22sbpl\\textbackslash{}\\textbackslash{}x22:16,\\textbackslash{}\\textbackslash{}x22sbpr\\textbackslash{}\\textbackslash{}x22:16,\\textbackslash{}\\textbackslash{}x22scd\\textbackslash{}\\textbackslash{}x22:10,\\textbackslash{}\\textbackslash{}x22stok\\textbackslash{}\\textbackslash{}x22:\\textbackslash{}\\textbackslash{}x22UYza9eRWVjDsyI4Bf4-R1JsfwXE\\textbackslash{}\\textbackslash{}x22,\\textbackslash{}\\textbackslash{}x22uhde\\textbackslash{}\\textbackslash{}x22:false\\}\\}\\textbackslash{}';google.pmc=JSON.parse(pmc);\\})();</script>        </body></html>'"
      ],
      "text/markdown": [
       "<span style=white-space:pre-wrap>'&lt;!doctype html&gt;&lt;html itemscope=\"\" itemtype=\"http://schema.org/WebPage\" lang=\"es-419\"&gt;&lt;head&gt;&lt;meta content=\"text/html; charset=UTF-8\" http-equiv=\"Content-Type\"&gt;&lt;meta content=\"/images/branding/googleg/1x/googleg_standard_color_128dp.png\" itemprop=\"image\"&gt;&lt;title&gt;Google&lt;/title&gt;&lt;script nonce=\"oGtaEPKpWZC6dEZNLgikng==\"&gt;(function(){window.google={kEI:\\'cJa3YMfPNZ-y5OUP5o2EyAw\\',kEXPI:\\'0,772215,1,530320,56873,954,756,4348,207,1698,716,2390,926,1390,383,246,5,1354,5250,16232,10,1106274,1197698,554,30,328985,51223,16115,28684,17572,4859,1361,9290,3021,17588,4020,978,13228,2054,1793,4192,6430,14527,4518,2777,919,5081,1593,1279,2212,530,149,1103,840,517,1466,4314,109,3405,606,2023,1777,520,6343,8327,3227,2845,7,12354,5096,7876,4929,108,3407,908,2,941,2614,2397,10745,3,576,1835,2550,2075,148,5990,6324,1661,4,1528,2304,1236,5227,576,1791,2893,2014,4067,14308,2658,4164,79,518,912,1028,656,30,3854,7558,2216,2305,638,1494,5587,3771,6763,665,2145,377,3302,2533,992,3102,20,3118,6,908,3,3541,1,4174,5771,1429,3336,1816,281,912,5992,1260,5494,432,552,4788,2,1394,2806,1715,2,3036,21,732,2,1282,827,2418,906,1188,4949,529,2,61,626,906,57,298,1,1,1097,923,93,2331,116,1158,326,3791,55,406,2632,1051,187,391,609,1571,145,763,107,1624,246,86,2,2,1047,1160,474,628,1421,540,1543,87,2,2,1295,121,3,80,2,501,300,28,276,238,600,93,2719,1193,1383,17,3,99,936,1033,3,285,236,203,3,37,1567,922,496,155,300,1228,386,170,225,1173,4,39,231,320,1566,501,288,61,28,69,268,5635118,3904,183,43,63,194,5995661,1170,46,2800651,882,444,1,2,80,1,1796,1,9,2,2551,1,748,141,801,557,1,4265,1,1,2,1331,3299,843,2609,155,17,13,72,139,4,2,20,2,169,13,19,38,8,5,39,96,230,58,4,4,4,4,4,8,4,4,4,24,196,29,2,2,1,2,1,2,2,7,4,1,2,2,2,2,2,2,353,323,49,1,13,7,12,7,12,12,76,1,23955362,4010274,268,1678,26621,2,2377,3,467,3\\',kBL:\\'ckvK\\'};google.sn=\\'webhp\\';google.kHL=\\'es-419\\';})();(function(){\\nvar f,h=[];function k(a){for(var b;a&amp;&amp;(!a.getAttribute||!(b=a.getAttribute(\"eid\")));)a=a.parentNode;return b||f}function l(a){for(var b=null;a&amp;&amp;(!a.getAttribute||!(b=a.getAttribute(\"leid\")));)a=a.parentNode;return b}\\nfunction m(a,b,c,d,g){var e=\"\";c||-1!=b.search(\"&amp;ei=\")||(e=\"&amp;ei=\"+k(d),-1==b.search(\"&amp;lei=\")&amp;&amp;(d=l(d))&amp;&amp;(e+=\"&amp;lei=\"+d));d=\"\";!c&amp;&amp;window._cshid&amp;&amp;-1==b.search(\"&amp;cshid=\")&amp;&amp;\"slh\"!=a&amp;&amp;(d=\"&amp;cshid=\"+window._cshid);c=c||\"/\"+(g||\"gen_204\")+\"?atyp=i&amp;ct=\"+a+\"&amp;cad=\"+b+e+\"&amp;zx=\"+Date.now()+d;/^http:/i.test(c)&amp;&amp;\"https:\"==window.location.protocol&amp;&amp;(google.ml&amp;&amp;google.ml(Error(\"a\"),!1,{src:c,glmm:1}),c=\"\");return c};f=google.kEI;google.getEI=k;google.getLEI=l;google.ml=function(){return null};google.log=function(a,b,c,d,g){if(c=m(a,b,c,d,g)){a=new Image;var e=h.length;h[e]=a;a.onerror=a.onload=a.onabort=function(){delete h[e]};a.src=c}};google.logUrl=m;}).call(this);(function(){\\ngoogle.y={};google.sy=[];google.x=function(a,b){if(a)var c=a.id;else{do c=Math.random();while(google.y[c])}google.y[c]=[a,b];return!1};google.sx=function(a){google.sy.push(a)};google.lm=[];google.plm=function(a){google.lm.push.apply(google.lm,a)};google.lq=[];google.load=function(a,b,c){google.lq.push([[a],b,c])};google.loadAll=function(a,b){google.lq.push([a,b])};google.bx=!1;google.lx=function(){};}).call(this);google.f={};(function(){\\ndocument.documentElement.addEventListener(\"submit\",function(b){var a;if(a=b.target){var c=a.getAttribute(\"data-submitfalse\");a=\"1\"==c||\"q\"==c&amp;&amp;!a.elements.q.value?!0:!1}else a=!1;a&amp;&amp;(b.preventDefault(),b.stopPropagation())},!0);document.documentElement.addEventListener(\"click\",function(b){var a;a:{for(a=b.target;a&amp;&amp;a!=document.documentElement;a=a.parentElement)if(\"A\"==a.tagName){a=\"1\"==a.getAttribute(\"data-nohref\");break a}a=!1}a&amp;&amp;b.preventDefault()},!0);}).call(this);&lt;/script&gt;&lt;style&gt;#gbar,#guser{font-size:13px;padding-top:1px !important;}#gbar{height:22px}#guser{padding-bottom:7px !important;text-align:right}.gbh,.gbd{border-top:1px solid #c9d7f1;font-size:1px}.gbh{height:0;position:absolute;top:24px;width:100%}@media all{.gb1{height:22px;margin-right:.5em;vertical-align:top}#gbar{float:left}}a.gb1,a.gb4{text-decoration:underline !important}a.gb1,a.gb4{color:#00c !important}.gbi .gb4{color:#dd8e27 !important}.gbf .gb4{color:#900 !important}\\n&lt;/style&gt;&lt;style&gt;body,td,a,p,.h{font-family:arial,sans-serif}body{margin:0;overflow-y:scroll}#gog{padding:3px 8px 0}td{line-height:.8em}.gac_m td{line-height:17px}form{margin-bottom:20px}.h{color:#1558d6}em{font-weight:bold;font-style:normal}.lst{height:25px;width:496px}.gsfi,.lst{font:18px arial,sans-serif}.gsfs{font:17px arial,sans-serif}.ds{display:inline-box;display:inline-block;margin:3px 0 4px;margin-left:4px}input{font-family:inherit}body{background:#fff;color:#000}a{color:#4b11a8;text-decoration:none}a:hover,a:active{text-decoration:underline}.fl a{color:#1558d6}a:visited{color:#4b11a8}.sblc{padding-top:5px}.sblc a{display:block;margin:2px 0;margin-left:13px;font-size:11px}.lsbb{background:#f8f9fa;border:solid 1px;border-color:#dadce0 #70757a #70757a #dadce0;height:30px}.lsbb{display:block}#WqQANb a{display:inline-block;margin:0 12px}.lsb{background:url(/images/nav_logo229.png) 0 -261px repeat-x;border:none;color:#000;cursor:pointer;height:30px;margin:0;outline:0;font:15px arial,sans-serif;vertical-align:top}.lsb:active{background:#dadce0}.lst:focus{outline:none}&lt;/style&gt;&lt;script nonce=\"oGtaEPKpWZC6dEZNLgikng==\"&gt;&lt;/script&gt;&lt;/head&gt;&lt;body bgcolor=\"#fff\"&gt;&lt;script nonce=\"oGtaEPKpWZC6dEZNLgikng==\"&gt;(function(){var src=\\'/images/nav_logo229.png\\';var iesg=false;document.body.onload = function(){window.n &amp;&amp; window.n();if (document.images){new Image().src=src;}\\nif (!iesg){document.f&amp;&amp;document.f.q.focus();document.gbqf&amp;&amp;document.gbqf.q.focus();}\\n}\\n})();&lt;/script&gt;&lt;div id=\"mngb\"&gt;&lt;div id=gbar&gt;&lt;nobr&gt;&lt;b class=gb1&gt;Búsqueda&lt;/b&gt; &lt;a class=gb1 href=\"https://www.google.com.ar/imghp?hl=es-419&amp;tab=wi\"&gt;Imágenes&lt;/a&gt; &lt;a class=gb1 href=\"https://maps.google.com.ar/maps?hl=es-419&amp;tab=wl\"&gt;Maps&lt;/a&gt; &lt;a class=gb1 href=\"https://play.google.com/?hl=es-419&amp;tab=w8\"&gt;Play&lt;/a&gt; &lt;a class=gb1 href=\"https://www.youtube.com/?gl=AR&amp;tab=w1\"&gt;YouTube&lt;/a&gt; &lt;a class=gb1 href=\"https://news.google.com/?tab=wn\"&gt;Noticias&lt;/a&gt; &lt;a class=gb1 href=\"https://mail.google.com/mail/?tab=wm\"&gt;Gmail&lt;/a&gt; &lt;a class=gb1 href=\"https://drive.google.com/?tab=wo\"&gt;Drive&lt;/a&gt; &lt;a class=gb1 style=\"text-decoration:none\" href=\"https://www.google.com.ar/intl/es-419/about/products?tab=wh\"&gt;&lt;u&gt;Más&lt;/u&gt; &amp;raquo;&lt;/a&gt;&lt;/nobr&gt;&lt;/div&gt;&lt;div id=guser width=100%&gt;&lt;nobr&gt;&lt;span id=gbn class=gbi&gt;&lt;/span&gt;&lt;span id=gbf class=gbf&gt;&lt;/span&gt;&lt;span id=gbe&gt;&lt;/span&gt;&lt;a href=\"http://www.google.com.ar/history/optout?hl=es-419\" class=gb4&gt;Historial web&lt;/a&gt; | &lt;a  href=\"/preferences?hl=es-419\" class=gb4&gt;Preferencias&lt;/a&gt; | &lt;a target=_top id=gb_70 href=\"https://accounts.google.com/ServiceLogin?hl=es-419&amp;passive=true&amp;continue=https://www.google.com/&amp;ec=GAZAAQ\" class=gb4&gt;Acceder&lt;/a&gt;&lt;/nobr&gt;&lt;/div&gt;&lt;div class=gbh style=left:0&gt;&lt;/div&gt;&lt;div class=gbh style=right:0&gt;&lt;/div&gt;&lt;/div&gt;&lt;center&gt;&lt;br clear=\"all\" id=\"lgpd\"&gt;&lt;div id=\"lga\"&gt;&lt;img alt=\"Google\" height=\"92\" src=\"/images/branding/googlelogo/1x/googlelogo_white_background_color_272x92dp.png\" style=\"padding:28px 0 14px\" width=\"272\" id=\"hplogo\"&gt;&lt;br&gt;&lt;br&gt;&lt;/div&gt;&lt;form action=\"/search\" name=\"f\"&gt;&lt;table cellpadding=\"0\" cellspacing=\"0\"&gt;&lt;tr valign=\"top\"&gt;&lt;td width=\"25%\"&gt;&amp;nbsp;&lt;/td&gt;&lt;td align=\"center\" nowrap=\"\"&gt;&lt;input name=\"ie\" value=\"ISO-8859-1\" type=\"hidden\"&gt;&lt;input value=\"es-419\" name=\"hl\" type=\"hidden\"&gt;&lt;input name=\"source\" type=\"hidden\" value=\"hp\"&gt;&lt;input name=\"biw\" type=\"hidden\"&gt;&lt;input name=\"bih\" type=\"hidden\"&gt;&lt;div class=\"ds\" style=\"height:32px;margin:4px 0\"&gt;&lt;input class=\"lst\" style=\"margin:0;padding:5px 8px 0 6px;vertical-align:top;color:#000\" autocomplete=\"off\" value=\"\" title=\"Buscar con Google\" maxlength=\"2048\" name=\"q\" size=\"57\"&gt;&lt;/div&gt;&lt;br style=\"line-height:0\"&gt;&lt;span class=\"ds\"&gt;&lt;span class=\"lsbb\"&gt;&lt;input class=\"lsb\" value=\"Buscar con Google\" name=\"btnG\" type=\"submit\"&gt;&lt;/span&gt;&lt;/span&gt;&lt;span class=\"ds\"&gt;&lt;span class=\"lsbb\"&gt;&lt;input class=\"lsb\" id=\"tsuid1\" value=\"Me siento con suerte \" name=\"btnI\" type=\"submit\"&gt;&lt;script nonce=\"oGtaEPKpWZC6dEZNLgikng==\"&gt;(function(){var id=\\'tsuid1\\';document.getElementById(id).onclick = function(){if (this.form.q.value){this.checked = 1;if (this.form.iflsig)this.form.iflsig.disabled = false;}\\nelse top.location=\\'/doodles/\\';};})();&lt;/script&gt;&lt;input value=\"AINFCbYAAAAAYLekgCNiF9ApIHaWz9lILlthaB1e20e3\" name=\"iflsig\" type=\"hidden\"&gt;&lt;/span&gt;&lt;/span&gt;&lt;/td&gt;&lt;td class=\"fl sblc\" align=\"left\" nowrap=\"\" width=\"25%\"&gt;&lt;a href=\"/advanced_search?hl=es-419&amp;amp;authuser=0\"&gt;Búsqueda avanzada&lt;/a&gt;&lt;/td&gt;&lt;/tr&gt;&lt;/table&gt;&lt;input id=\"gbv\" name=\"gbv\" type=\"hidden\" value=\"1\"&gt;&lt;script nonce=\"oGtaEPKpWZC6dEZNLgikng==\"&gt;(function(){\\nvar a,b=\"1\";if(document&amp;&amp;document.getElementById)if(\"undefined\"!=typeof XMLHttpRequest)b=\"2\";else if(\"undefined\"!=typeof ActiveXObject){var c,d,e=[\"MSXML2.XMLHTTP.6.0\",\"MSXML2.XMLHTTP.3.0\",\"MSXML2.XMLHTTP\",\"Microsoft.XMLHTTP\"];for(c=0;d=e[c++];)try{new ActiveXObject(d),b=\"2\"}catch(h){}}a=b;if(\"2\"==a&amp;&amp;-1==location.search.indexOf(\"&amp;gbv=2\")){var f=google.gbvu,g=document.getElementById(\"gbv\");g&amp;&amp;(g.value=a);f&amp;&amp;window.setTimeout(function(){location.href=f},0)};}).call(this);&lt;/script&gt;&lt;/form&gt;&lt;div id=\"gac_scont\"&gt;&lt;/div&gt;&lt;div style=\"font-size:83%;min-height:3.5em\"&gt;&lt;br&gt;&lt;/div&gt;&lt;span id=\"footer\"&gt;&lt;div style=\"font-size:10pt\"&gt;&lt;div style=\"margin:19px auto;text-align:center\" id=\"WqQANb\"&gt;&lt;a href=\"/intl/es-419/ads/\"&gt;Programas de publicidad&lt;/a&gt;&lt;a href=\"/services/\"&gt;Soluciones Empresariales&lt;/a&gt;&lt;a href=\"/intl/es-419/about.html\"&gt;Todo acerca de Google&lt;/a&gt;&lt;a href=\"https://www.google.com/setprefdomain?prefdom=AR&amp;amp;prev=https://www.google.com.ar/&amp;amp;sig=K_dXfk8xBWUYanIWGQzczMRvlIB_E%3D\"&gt;Google.com.ar&lt;/a&gt;&lt;/div&gt;&lt;/div&gt;&lt;p style=\"font-size:8pt;color:#70757a\"&gt;&amp;copy; 2021 - &lt;a href=\"/intl/es-419/policies/privacy/\"&gt;Privacidad&lt;/a&gt; - &lt;a href=\"/intl/es-419/policies/terms/\"&gt;Condiciones&lt;/a&gt;&lt;/p&gt;&lt;/span&gt;&lt;/center&gt;&lt;script nonce=\"oGtaEPKpWZC6dEZNLgikng==\"&gt;(function(){window.google.cdo={height:0,width:0};(function(){\\nvar a=window.innerWidth,b=window.innerHeight;if(!a||!b){var c=window.document,d=\"CSS1Compat\"==c.compatMode?c.documentElement:c.body;a=d.clientWidth;b=d.clientHeight}a&amp;&amp;b&amp;&amp;(a!=google.cdo.width||b!=google.cdo.height)&amp;&amp;google.log(\"\",\"\",\"/client_204?&amp;atyp=i&amp;biw=\"+a+\"&amp;bih=\"+b+\"&amp;ei=\"+google.kEI);}).call(this);})();&lt;/script&gt; &lt;script nonce=\"oGtaEPKpWZC6dEZNLgikng==\"&gt;(function(){google.xjs={ck:\\'\\',cs:\\'\\',excm:[],pml:false};})();&lt;/script&gt;  &lt;script nonce=\"oGtaEPKpWZC6dEZNLgikng==\"&gt;(function(){var u=\\'/xjs/_/js/k\\\\x3dxjs.hp.en.fHmHfL28PcU.O/m\\\\x3dsb_he,d/am\\\\x3dAHgCLA/d\\\\x3d1/ed\\\\x3d1/rs\\\\x3dACT90oGrKXOlMMh8B9sCTCn55YHPPccYkQ\\';\\nvar e=this||self,f=function(a){return a};var g;var l=function(a,b){this.g=b===h?a:\"\"};l.prototype.toString=function(){return this.g+\"\"};var h={};function m(){var a=u;google.lx=function(){n(a);google.lx=function(){}};google.bx||google.lx()}\\nfunction n(a){google.timers&amp;&amp;google.timers.load&amp;&amp;google.tick&amp;&amp;google.tick(\"load\",\"xjsls\");var b=document;var c=\"SCRIPT\";\"application/xhtml+xml\"===b.contentType&amp;&amp;(c=c.toLowerCase());c=b.createElement(c);if(void 0===g){b=null;var k=e.trustedTypes;if(k&amp;&amp;k.createPolicy){try{b=k.createPolicy(\"goog#html\",{createHTML:f,createScript:f,createScriptURL:f})}catch(p){e.console&amp;&amp;e.console.error(p.message)}g=b}else g=b}a=(b=g)?b.createScriptURL(a):a;a=new l(a,h);c.src=a instanceof l&amp;&amp;a.constructor===l?a.g:\"type_error:TrustedResourceUrl\";var d;a=(c.ownerDocument&amp;&amp;c.ownerDocument.defaultView||window).document;(d=(a=null===(d=a.querySelector)||void 0===d?void 0:d.call(a,\"script[nonce]\"))?a.nonce||a.getAttribute(\"nonce\")||\"\":\"\")&amp;&amp;c.setAttribute(\"nonce\",d);document.body.appendChild(c);google.psa=!0};setTimeout(function(){m()},0);})();(function(){window.google.xjsu=\\'/xjs/_/js/k\\\\x3dxjs.hp.en.fHmHfL28PcU.O/m\\\\x3dsb_he,d/am\\\\x3dAHgCLA/d\\\\x3d1/ed\\\\x3d1/rs\\\\x3dACT90oGrKXOlMMh8B9sCTCn55YHPPccYkQ\\';})();function _DumpException(e){throw e;}\\nfunction _F_installCss(c){}\\n(function(){google.jl={blt:\\'none\\',dw:false,emtn:0,ine:false,lls:\\'default\\',pdt:0,snet:true,uwp:true};})();(function(){var pmc=\\'{\\\\x22d\\\\x22:{},\\\\x22sb_he\\\\x22:{\\\\x22agen\\\\x22:true,\\\\x22cgen\\\\x22:true,\\\\x22client\\\\x22:\\\\x22heirloom-hp\\\\x22,\\\\x22dh\\\\x22:true,\\\\x22dhqt\\\\x22:true,\\\\x22ds\\\\x22:\\\\x22\\\\x22,\\\\x22ffql\\\\x22:\\\\x22es\\\\x22,\\\\x22fl\\\\x22:true,\\\\x22host\\\\x22:\\\\x22google.com\\\\x22,\\\\x22isbh\\\\x22:28,\\\\x22jsonp\\\\x22:true,\\\\x22msgs\\\\x22:{\\\\x22cibl\\\\x22:\\\\x22Borrar búsqueda\\\\x22,\\\\x22dym\\\\x22:\\\\x22Quizás quisiste decir:\\\\x22,\\\\x22lcky\\\\x22:\\\\x22Me siento con suerte\\\\x22,\\\\x22lml\\\\x22:\\\\x22Más información\\\\x22,\\\\x22oskt\\\\x22:\\\\x22Herramientas de captura de texto\\\\x22,\\\\x22psrc\\\\x22:\\\\x22Se ha eliminado esta búsqueda de tu \\\\\\\\u003Ca href\\\\x3d\\\\\\\\\\\\x22/history\\\\\\\\\\\\x22\\\\\\\\u003EHistorial web\\\\\\\\u003C/a\\\\\\\\u003E\\\\x22,\\\\x22psrl\\\\x22:\\\\x22Eliminar\\\\x22,\\\\x22sbit\\\\x22:\\\\x22Buscar por imágenes\\\\x22,\\\\x22srch\\\\x22:\\\\x22Buscar con Google\\\\x22},\\\\x22nrft\\\\x22:false,\\\\x22ovr\\\\x22:{},\\\\x22pq\\\\x22:\\\\x22\\\\x22,\\\\x22refpd\\\\x22:true,\\\\x22rfs\\\\x22:[],\\\\x22sbas\\\\x22:\\\\x220 3px 8px 0 rgba(0,0,0,0.2),0 0 0 1px rgba(0,0,0,0.08)\\\\x22,\\\\x22sbpl\\\\x22:16,\\\\x22sbpr\\\\x22:16,\\\\x22scd\\\\x22:10,\\\\x22stok\\\\x22:\\\\x22UYza9eRWVjDsyI4Bf4-R1JsfwXE\\\\x22,\\\\x22uhde\\\\x22:false}}\\';google.pmc=JSON.parse(pmc);})();&lt;/script&gt;        &lt;/body&gt;&lt;/html&gt;'</span>"
      ],
      "text/plain": [
       "[1] \"<!doctype html><html itemscope=\\\"\\\" itemtype=\\\"http://schema.org/WebPage\\\" lang=\\\"es-419\\\"><head><meta content=\\\"text/html; charset=UTF-8\\\" http-equiv=\\\"Content-Type\\\"><meta content=\\\"/images/branding/googleg/1x/googleg_standard_color_128dp.png\\\" itemprop=\\\"image\\\"><title>Google</title><script nonce=\\\"oGtaEPKpWZC6dEZNLgikng==\\\">(function(){window.google={kEI:'cJa3YMfPNZ-y5OUP5o2EyAw',kEXPI:'0,772215,1,530320,56873,954,756,4348,207,1698,716,2390,926,1390,383,246,5,1354,5250,16232,10,1106274,1197698,554,30,328985,51223,16115,28684,17572,4859,1361,9290,3021,17588,4020,978,13228,2054,1793,4192,6430,14527,4518,2777,919,5081,1593,1279,2212,530,149,1103,840,517,1466,4314,109,3405,606,2023,1777,520,6343,8327,3227,2845,7,12354,5096,7876,4929,108,3407,908,2,941,2614,2397,10745,3,576,1835,2550,2075,148,5990,6324,1661,4,1528,2304,1236,5227,576,1791,2893,2014,4067,14308,2658,4164,79,518,912,1028,656,30,3854,7558,2216,2305,638,1494,5587,3771,6763,665,2145,377,3302,2533,992,3102,20,3118,6,908,3,3541,1,4174,5771,1429,3336,1816,281,912,5992,1260,5494,432,552,4788,2,1394,2806,1715,2,3036,21,732,2,1282,827,2418,906,1188,4949,529,2,61,626,906,57,298,1,1,1097,923,93,2331,116,1158,326,3791,55,406,2632,1051,187,391,609,1571,145,763,107,1624,246,86,2,2,1047,1160,474,628,1421,540,1543,87,2,2,1295,121,3,80,2,501,300,28,276,238,600,93,2719,1193,1383,17,3,99,936,1033,3,285,236,203,3,37,1567,922,496,155,300,1228,386,170,225,1173,4,39,231,320,1566,501,288,61,28,69,268,5635118,3904,183,43,63,194,5995661,1170,46,2800651,882,444,1,2,80,1,1796,1,9,2,2551,1,748,141,801,557,1,4265,1,1,2,1331,3299,843,2609,155,17,13,72,139,4,2,20,2,169,13,19,38,8,5,39,96,230,58,4,4,4,4,4,8,4,4,4,24,196,29,2,2,1,2,1,2,2,7,4,1,2,2,2,2,2,2,353,323,49,1,13,7,12,7,12,12,76,1,23955362,4010274,268,1678,26621,2,2377,3,467,3',kBL:'ckvK'};google.sn='webhp';google.kHL='es-419';})();(function(){\\nvar f,h=[];function k(a){for(var b;a&&(!a.getAttribute||!(b=a.getAttribute(\\\"eid\\\")));)a=a.parentNode;return b||f}function l(a){for(var b=null;a&&(!a.getAttribute||!(b=a.getAttribute(\\\"leid\\\")));)a=a.parentNode;return b}\\nfunction m(a,b,c,d,g){var e=\\\"\\\";c||-1!=b.search(\\\"&ei=\\\")||(e=\\\"&ei=\\\"+k(d),-1==b.search(\\\"&lei=\\\")&&(d=l(d))&&(e+=\\\"&lei=\\\"+d));d=\\\"\\\";!c&&window._cshid&&-1==b.search(\\\"&cshid=\\\")&&\\\"slh\\\"!=a&&(d=\\\"&cshid=\\\"+window._cshid);c=c||\\\"/\\\"+(g||\\\"gen_204\\\")+\\\"?atyp=i&ct=\\\"+a+\\\"&cad=\\\"+b+e+\\\"&zx=\\\"+Date.now()+d;/^http:/i.test(c)&&\\\"https:\\\"==window.location.protocol&&(google.ml&&google.ml(Error(\\\"a\\\"),!1,{src:c,glmm:1}),c=\\\"\\\");return c};f=google.kEI;google.getEI=k;google.getLEI=l;google.ml=function(){return null};google.log=function(a,b,c,d,g){if(c=m(a,b,c,d,g)){a=new Image;var e=h.length;h[e]=a;a.onerror=a.onload=a.onabort=function(){delete h[e]};a.src=c}};google.logUrl=m;}).call(this);(function(){\\ngoogle.y={};google.sy=[];google.x=function(a,b){if(a)var c=a.id;else{do c=Math.random();while(google.y[c])}google.y[c]=[a,b];return!1};google.sx=function(a){google.sy.push(a)};google.lm=[];google.plm=function(a){google.lm.push.apply(google.lm,a)};google.lq=[];google.load=function(a,b,c){google.lq.push([[a],b,c])};google.loadAll=function(a,b){google.lq.push([a,b])};google.bx=!1;google.lx=function(){};}).call(this);google.f={};(function(){\\ndocument.documentElement.addEventListener(\\\"submit\\\",function(b){var a;if(a=b.target){var c=a.getAttribute(\\\"data-submitfalse\\\");a=\\\"1\\\"==c||\\\"q\\\"==c&&!a.elements.q.value?!0:!1}else a=!1;a&&(b.preventDefault(),b.stopPropagation())},!0);document.documentElement.addEventListener(\\\"click\\\",function(b){var a;a:{for(a=b.target;a&&a!=document.documentElement;a=a.parentElement)if(\\\"A\\\"==a.tagName){a=\\\"1\\\"==a.getAttribute(\\\"data-nohref\\\");break a}a=!1}a&&b.preventDefault()},!0);}).call(this);</script><style>#gbar,#guser{font-size:13px;padding-top:1px !important;}#gbar{height:22px}#guser{padding-bottom:7px !important;text-align:right}.gbh,.gbd{border-top:1px solid #c9d7f1;font-size:1px}.gbh{height:0;position:absolute;top:24px;width:100%}@media all{.gb1{height:22px;margin-right:.5em;vertical-align:top}#gbar{float:left}}a.gb1,a.gb4{text-decoration:underline !important}a.gb1,a.gb4{color:#00c !important}.gbi .gb4{color:#dd8e27 !important}.gbf .gb4{color:#900 !important}\\n</style><style>body,td,a,p,.h{font-family:arial,sans-serif}body{margin:0;overflow-y:scroll}#gog{padding:3px 8px 0}td{line-height:.8em}.gac_m td{line-height:17px}form{margin-bottom:20px}.h{color:#1558d6}em{font-weight:bold;font-style:normal}.lst{height:25px;width:496px}.gsfi,.lst{font:18px arial,sans-serif}.gsfs{font:17px arial,sans-serif}.ds{display:inline-box;display:inline-block;margin:3px 0 4px;margin-left:4px}input{font-family:inherit}body{background:#fff;color:#000}a{color:#4b11a8;text-decoration:none}a:hover,a:active{text-decoration:underline}.fl a{color:#1558d6}a:visited{color:#4b11a8}.sblc{padding-top:5px}.sblc a{display:block;margin:2px 0;margin-left:13px;font-size:11px}.lsbb{background:#f8f9fa;border:solid 1px;border-color:#dadce0 #70757a #70757a #dadce0;height:30px}.lsbb{display:block}#WqQANb a{display:inline-block;margin:0 12px}.lsb{background:url(/images/nav_logo229.png) 0 -261px repeat-x;border:none;color:#000;cursor:pointer;height:30px;margin:0;outline:0;font:15px arial,sans-serif;vertical-align:top}.lsb:active{background:#dadce0}.lst:focus{outline:none}</style><script nonce=\\\"oGtaEPKpWZC6dEZNLgikng==\\\"></script></head><body bgcolor=\\\"#fff\\\"><script nonce=\\\"oGtaEPKpWZC6dEZNLgikng==\\\">(function(){var src='/images/nav_logo229.png';var iesg=false;document.body.onload = function(){window.n && window.n();if (document.images){new Image().src=src;}\\nif (!iesg){document.f&&document.f.q.focus();document.gbqf&&document.gbqf.q.focus();}\\n}\\n})();</script><div id=\\\"mngb\\\"><div id=gbar><nobr><b class=gb1>Búsqueda</b> <a class=gb1 href=\\\"https://www.google.com.ar/imghp?hl=es-419&tab=wi\\\">Imágenes</a> <a class=gb1 href=\\\"https://maps.google.com.ar/maps?hl=es-419&tab=wl\\\">Maps</a> <a class=gb1 href=\\\"https://play.google.com/?hl=es-419&tab=w8\\\">Play</a> <a class=gb1 href=\\\"https://www.youtube.com/?gl=AR&tab=w1\\\">YouTube</a> <a class=gb1 href=\\\"https://news.google.com/?tab=wn\\\">Noticias</a> <a class=gb1 href=\\\"https://mail.google.com/mail/?tab=wm\\\">Gmail</a> <a class=gb1 href=\\\"https://drive.google.com/?tab=wo\\\">Drive</a> <a class=gb1 style=\\\"text-decoration:none\\\" href=\\\"https://www.google.com.ar/intl/es-419/about/products?tab=wh\\\"><u>Más</u> &raquo;</a></nobr></div><div id=guser width=100%><nobr><span id=gbn class=gbi></span><span id=gbf class=gbf></span><span id=gbe></span><a href=\\\"http://www.google.com.ar/history/optout?hl=es-419\\\" class=gb4>Historial web</a> | <a  href=\\\"/preferences?hl=es-419\\\" class=gb4>Preferencias</a> | <a target=_top id=gb_70 href=\\\"https://accounts.google.com/ServiceLogin?hl=es-419&passive=true&continue=https://www.google.com/&ec=GAZAAQ\\\" class=gb4>Acceder</a></nobr></div><div class=gbh style=left:0></div><div class=gbh style=right:0></div></div><center><br clear=\\\"all\\\" id=\\\"lgpd\\\"><div id=\\\"lga\\\"><img alt=\\\"Google\\\" height=\\\"92\\\" src=\\\"/images/branding/googlelogo/1x/googlelogo_white_background_color_272x92dp.png\\\" style=\\\"padding:28px 0 14px\\\" width=\\\"272\\\" id=\\\"hplogo\\\"><br><br></div><form action=\\\"/search\\\" name=\\\"f\\\"><table cellpadding=\\\"0\\\" cellspacing=\\\"0\\\"><tr valign=\\\"top\\\"><td width=\\\"25%\\\">&nbsp;</td><td align=\\\"center\\\" nowrap=\\\"\\\"><input name=\\\"ie\\\" value=\\\"ISO-8859-1\\\" type=\\\"hidden\\\"><input value=\\\"es-419\\\" name=\\\"hl\\\" type=\\\"hidden\\\"><input name=\\\"source\\\" type=\\\"hidden\\\" value=\\\"hp\\\"><input name=\\\"biw\\\" type=\\\"hidden\\\"><input name=\\\"bih\\\" type=\\\"hidden\\\"><div class=\\\"ds\\\" style=\\\"height:32px;margin:4px 0\\\"><input class=\\\"lst\\\" style=\\\"margin:0;padding:5px 8px 0 6px;vertical-align:top;color:#000\\\" autocomplete=\\\"off\\\" value=\\\"\\\" title=\\\"Buscar con Google\\\" maxlength=\\\"2048\\\" name=\\\"q\\\" size=\\\"57\\\"></div><br style=\\\"line-height:0\\\"><span class=\\\"ds\\\"><span class=\\\"lsbb\\\"><input class=\\\"lsb\\\" value=\\\"Buscar con Google\\\" name=\\\"btnG\\\" type=\\\"submit\\\"></span></span><span class=\\\"ds\\\"><span class=\\\"lsbb\\\"><input class=\\\"lsb\\\" id=\\\"tsuid1\\\" value=\\\"Me siento con suerte \\\" name=\\\"btnI\\\" type=\\\"submit\\\"><script nonce=\\\"oGtaEPKpWZC6dEZNLgikng==\\\">(function(){var id='tsuid1';document.getElementById(id).onclick = function(){if (this.form.q.value){this.checked = 1;if (this.form.iflsig)this.form.iflsig.disabled = false;}\\nelse top.location='/doodles/';};})();</script><input value=\\\"AINFCbYAAAAAYLekgCNiF9ApIHaWz9lILlthaB1e20e3\\\" name=\\\"iflsig\\\" type=\\\"hidden\\\"></span></span></td><td class=\\\"fl sblc\\\" align=\\\"left\\\" nowrap=\\\"\\\" width=\\\"25%\\\"><a href=\\\"/advanced_search?hl=es-419&amp;authuser=0\\\">Búsqueda avanzada</a></td></tr></table><input id=\\\"gbv\\\" name=\\\"gbv\\\" type=\\\"hidden\\\" value=\\\"1\\\"><script nonce=\\\"oGtaEPKpWZC6dEZNLgikng==\\\">(function(){\\nvar a,b=\\\"1\\\";if(document&&document.getElementById)if(\\\"undefined\\\"!=typeof XMLHttpRequest)b=\\\"2\\\";else if(\\\"undefined\\\"!=typeof ActiveXObject){var c,d,e=[\\\"MSXML2.XMLHTTP.6.0\\\",\\\"MSXML2.XMLHTTP.3.0\\\",\\\"MSXML2.XMLHTTP\\\",\\\"Microsoft.XMLHTTP\\\"];for(c=0;d=e[c++];)try{new ActiveXObject(d),b=\\\"2\\\"}catch(h){}}a=b;if(\\\"2\\\"==a&&-1==location.search.indexOf(\\\"&gbv=2\\\")){var f=google.gbvu,g=document.getElementById(\\\"gbv\\\");g&&(g.value=a);f&&window.setTimeout(function(){location.href=f},0)};}).call(this);</script></form><div id=\\\"gac_scont\\\"></div><div style=\\\"font-size:83%;min-height:3.5em\\\"><br></div><span id=\\\"footer\\\"><div style=\\\"font-size:10pt\\\"><div style=\\\"margin:19px auto;text-align:center\\\" id=\\\"WqQANb\\\"><a href=\\\"/intl/es-419/ads/\\\">Programas de publicidad</a><a href=\\\"/services/\\\">Soluciones Empresariales</a><a href=\\\"/intl/es-419/about.html\\\">Todo acerca de Google</a><a href=\\\"https://www.google.com/setprefdomain?prefdom=AR&amp;prev=https://www.google.com.ar/&amp;sig=K_dXfk8xBWUYanIWGQzczMRvlIB_E%3D\\\">Google.com.ar</a></div></div><p style=\\\"font-size:8pt;color:#70757a\\\">&copy; 2021 - <a href=\\\"/intl/es-419/policies/privacy/\\\">Privacidad</a> - <a href=\\\"/intl/es-419/policies/terms/\\\">Condiciones</a></p></span></center><script nonce=\\\"oGtaEPKpWZC6dEZNLgikng==\\\">(function(){window.google.cdo={height:0,width:0};(function(){\\nvar a=window.innerWidth,b=window.innerHeight;if(!a||!b){var c=window.document,d=\\\"CSS1Compat\\\"==c.compatMode?c.documentElement:c.body;a=d.clientWidth;b=d.clientHeight}a&&b&&(a!=google.cdo.width||b!=google.cdo.height)&&google.log(\\\"\\\",\\\"\\\",\\\"/client_204?&atyp=i&biw=\\\"+a+\\\"&bih=\\\"+b+\\\"&ei=\\\"+google.kEI);}).call(this);})();</script> <script nonce=\\\"oGtaEPKpWZC6dEZNLgikng==\\\">(function(){google.xjs={ck:'',cs:'',excm:[],pml:false};})();</script>  <script nonce=\\\"oGtaEPKpWZC6dEZNLgikng==\\\">(function(){var u='/xjs/_/js/k\\\\x3dxjs.hp.en.fHmHfL28PcU.O/m\\\\x3dsb_he,d/am\\\\x3dAHgCLA/d\\\\x3d1/ed\\\\x3d1/rs\\\\x3dACT90oGrKXOlMMh8B9sCTCn55YHPPccYkQ';\\nvar e=this||self,f=function(a){return a};var g;var l=function(a,b){this.g=b===h?a:\\\"\\\"};l.prototype.toString=function(){return this.g+\\\"\\\"};var h={};function m(){var a=u;google.lx=function(){n(a);google.lx=function(){}};google.bx||google.lx()}\\nfunction n(a){google.timers&&google.timers.load&&google.tick&&google.tick(\\\"load\\\",\\\"xjsls\\\");var b=document;var c=\\\"SCRIPT\\\";\\\"application/xhtml+xml\\\"===b.contentType&&(c=c.toLowerCase());c=b.createElement(c);if(void 0===g){b=null;var k=e.trustedTypes;if(k&&k.createPolicy){try{b=k.createPolicy(\\\"goog#html\\\",{createHTML:f,createScript:f,createScriptURL:f})}catch(p){e.console&&e.console.error(p.message)}g=b}else g=b}a=(b=g)?b.createScriptURL(a):a;a=new l(a,h);c.src=a instanceof l&&a.constructor===l?a.g:\\\"type_error:TrustedResourceUrl\\\";var d;a=(c.ownerDocument&&c.ownerDocument.defaultView||window).document;(d=(a=null===(d=a.querySelector)||void 0===d?void 0:d.call(a,\\\"script[nonce]\\\"))?a.nonce||a.getAttribute(\\\"nonce\\\")||\\\"\\\":\\\"\\\")&&c.setAttribute(\\\"nonce\\\",d);document.body.appendChild(c);google.psa=!0};setTimeout(function(){m()},0);})();(function(){window.google.xjsu='/xjs/_/js/k\\\\x3dxjs.hp.en.fHmHfL28PcU.O/m\\\\x3dsb_he,d/am\\\\x3dAHgCLA/d\\\\x3d1/ed\\\\x3d1/rs\\\\x3dACT90oGrKXOlMMh8B9sCTCn55YHPPccYkQ';})();function _DumpException(e){throw e;}\\nfunction _F_installCss(c){}\\n(function(){google.jl={blt:'none',dw:false,emtn:0,ine:false,lls:'default',pdt:0,snet:true,uwp:true};})();(function(){var pmc='{\\\\x22d\\\\x22:{},\\\\x22sb_he\\\\x22:{\\\\x22agen\\\\x22:true,\\\\x22cgen\\\\x22:true,\\\\x22client\\\\x22:\\\\x22heirloom-hp\\\\x22,\\\\x22dh\\\\x22:true,\\\\x22dhqt\\\\x22:true,\\\\x22ds\\\\x22:\\\\x22\\\\x22,\\\\x22ffql\\\\x22:\\\\x22es\\\\x22,\\\\x22fl\\\\x22:true,\\\\x22host\\\\x22:\\\\x22google.com\\\\x22,\\\\x22isbh\\\\x22:28,\\\\x22jsonp\\\\x22:true,\\\\x22msgs\\\\x22:{\\\\x22cibl\\\\x22:\\\\x22Borrar búsqueda\\\\x22,\\\\x22dym\\\\x22:\\\\x22Quizás quisiste decir:\\\\x22,\\\\x22lcky\\\\x22:\\\\x22Me siento con suerte\\\\x22,\\\\x22lml\\\\x22:\\\\x22Más información\\\\x22,\\\\x22oskt\\\\x22:\\\\x22Herramientas de captura de texto\\\\x22,\\\\x22psrc\\\\x22:\\\\x22Se ha eliminado esta búsqueda de tu \\\\\\\\u003Ca href\\\\x3d\\\\\\\\\\\\x22/history\\\\\\\\\\\\x22\\\\\\\\u003EHistorial web\\\\\\\\u003C/a\\\\\\\\u003E\\\\x22,\\\\x22psrl\\\\x22:\\\\x22Eliminar\\\\x22,\\\\x22sbit\\\\x22:\\\\x22Buscar por imágenes\\\\x22,\\\\x22srch\\\\x22:\\\\x22Buscar con Google\\\\x22},\\\\x22nrft\\\\x22:false,\\\\x22ovr\\\\x22:{},\\\\x22pq\\\\x22:\\\\x22\\\\x22,\\\\x22refpd\\\\x22:true,\\\\x22rfs\\\\x22:[],\\\\x22sbas\\\\x22:\\\\x220 3px 8px 0 rgba(0,0,0,0.2),0 0 0 1px rgba(0,0,0,0.08)\\\\x22,\\\\x22sbpl\\\\x22:16,\\\\x22sbpr\\\\x22:16,\\\\x22scd\\\\x22:10,\\\\x22stok\\\\x22:\\\\x22UYza9eRWVjDsyI4Bf4-R1JsfwXE\\\\x22,\\\\x22uhde\\\\x22:false}}';google.pmc=JSON.parse(pmc);})();</script>        </body></html>\""
      ]
     },
     "metadata": {},
     "output_type": "display_data"
    }
   ],
   "source": [
    "library(httr)\n",
    "\n",
    "a <- GET(\"https://www.google.com\")\n",
    "\n",
    "content(a, as = 'text')\n",
    "?httr"
   ]
  }
 ],
 "metadata": {
  "kernelspec": {
   "display_name": "R",
   "language": "R",
   "name": "ir"
  },
  "language_info": {
   "codemirror_mode": "r",
   "file_extension": ".r",
   "mimetype": "text/x-r-source",
   "name": "R",
   "pygments_lexer": "r",
   "version": "4.0.3"
  }
 },
 "nbformat": 4,
 "nbformat_minor": 2
}
