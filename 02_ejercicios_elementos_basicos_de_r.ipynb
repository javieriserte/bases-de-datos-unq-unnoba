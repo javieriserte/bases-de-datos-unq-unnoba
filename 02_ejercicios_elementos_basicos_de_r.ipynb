{
 "cells": [
  {
   "cell_type": "markdown",
   "metadata": {},
   "source": [
    "# Ejercicios: Elementos básicos de R"
   ]
  },
  {
   "cell_type": "markdown",
   "metadata": {},
   "source": [
    "## Datos y estructuras de datos\n",
    "\n",
    "Los principales tipos de datos en R son numeric (que está reservado para los\n",
    "números naturales) y\n",
    "integer (reservado para números enteros), character (para las palabras o\n",
    "“strings”), logical (TRUE o\n",
    "FALSE).\n",
    "\n",
    "Algunos tipos de datos pueden ser convertidos en otros, así por ejemplo una\n",
    "variable puede\n",
    "tener como valor el número 1, o el string “1”. Sin embargo esto no ocurre en\n",
    "todos los casos, ¿se\n",
    "podría convertir el string “Hola” en un objeto de la clase numeric?\n",
    "\n",
    "Los 5 tipos de estructuras de datos más importantes en R son: vector, matrix,\n",
    "array, list y data.frame.\n",
    "Éstos pueden ser datos de 1 dimensión (como vector y list), de 2 dimensiones\n",
    "(matrix y data.frame) o\n",
    "de más dimensiones (array).\n",
    "\n",
    "Por otro lado, las estructuras de datos también se diferencian de\n",
    "acuerdo a si los elementos que contienen son todos del mismo tipo o no. Mientras\n",
    "que en vector,\n",
    "matrix y array todos los datos tienen que ser del mismo tipo (por ej. numeric),\n",
    "en list y dataframe ésto\n",
    "no es así (por ej. podemos tener un dataframe que en la primera columna tenga\n",
    "datos tipo character y\n",
    "en la segunda datos tipo numeric). Además de las estructuras mencionadas también\n",
    "tenemos los\n",
    "factores.\n",
    "\n",
    "Factor es un tipo especial de vector de caracteres que se reserva para asignar\n",
    "variables\n",
    "cualitativas, como por ejemplo los distintos tratamientos dentro de un\n",
    "experimento)"
   ]
  },
  {
   "cell_type": "markdown",
   "metadata": {},
   "source": [
    "### Ejercicio 1\n",
    "\n",
    "Asignale a la variable **x** el valor 2 y a la variable **y** el valor “10”.\n",
    "* Ahora asignale a la variable **w** el valor **x + y** y a la variable **z** el valor **x == y** (observá que tiene dos signos **=** y no sólo uno, ¿Por qué?).\n",
    "* ¿De qué clase son estas dos últimas variable?.\n",
    "\n",
    "Ayuda: la asignación de una variable se realiza con el operador **<-**."
   ]
  },
  {
   "cell_type": "markdown",
   "metadata": {},
   "source": [
    "### Ejercicio 2\n",
    "\n",
    "Creá una variable que se llame **GFP** y asignale el valor 509.\n",
    "\n",
    "* ¿Qué clase de dato es?\n",
    "* Ahora convierte la variable “GFP” en “character”.\n",
    "\n",
    "Ayuda: ?as.character"
   ]
  },
  {
   "cell_type": "markdown",
   "metadata": {},
   "source": [
    "### Ejercicio 3\n",
    "\n",
    "Asignale a la variable **GFP** el valor “verde” e intenta convertirla en la clase\n",
    "**numeric** ¿Qué ocurre?\n",
    "\n",
    "Ayuda: ?as.numeric"
   ]
  },
  {
   "cell_type": "markdown",
   "metadata": {},
   "source": [
    "### Ejercicio 4\n",
    "\n",
    "Crea un vector que se llame **r1** que contenga 10 números aleatorios entre\n",
    "-100 y 100.\n",
    "\n",
    "Ayuda: ?runif."
   ]
  },
  {
   "cell_type": "markdown",
   "metadata": {},
   "source": [
    "### Ejercicio 5\n",
    "\n",
    "Con la misma operación que en el ejercicio anterior crea un nuevo vector **r2**.\n",
    "\n",
    "Ahora realiza las siguientes operaciones:\n",
    "\n",
    "* r1+r2\n",
    "* r1*r2\n",
    "* r1/r2\n",
    "\n",
    "¿Cómo realiza R estas operaciones?"
   ]
  },
  {
   "cell_type": "markdown",
   "metadata": {},
   "source": [
    "### Ejercicio 6\n",
    "\n",
    "Intenten ordenar de mayor a menor y de menor a mayor el vector r1.\n",
    "\n",
    "* ¿De qué largo es el vector r1?\n",
    "* ¿Cómo podría agregarle un elemento al vector r1?\n",
    "\n",
    "Ayuda: ?sort, ?length"
   ]
  },
  {
   "cell_type": "markdown",
   "metadata": {},
   "source": [
    "### Ejercicio 7\n",
    "\n",
    "A partir de un vector **CO2** con los siguientes elementos: “Bajo”, “Medio” y\n",
    "“Alto”:\n",
    "\n",
    "* Crea un objeto de tipo factor (**CO2_factor**). ¿Qué niveles (o levels) tiene?\n",
    "* Ahora cambia el primer valor del objeto por “Medio” de la siguiente forma:\n",
    "```R\n",
    "CO2[1] <- “Medio”\n",
    "```\n",
    "* ¿Cambiaron los niveles del objeto CO2?\n",
    "* Ahora si quiero cambiar el primer valor por “Muy bajo”, ¿Qué ocurre? ¿Por qué?\n",
    "\n",
    "Ayuda: ?factor"
   ]
  },
  {
   "cell_type": "markdown",
   "metadata": {},
   "source": [
    "### Ejercicio 8\n",
    "\n",
    "Creá dos vectores. Uno llamado **fp** que contenga los siguientes datos:\n",
    "\"Sirius\", \"CFP\", \"GFP\", \"Citrine\", y otro llamado **nm** que contenga los\n",
    "siguientes valores: 424, 476, 509, 528. A partir de estos dos vectores crea un\n",
    "dataframe que se llame **df_fp**. Con la función class comprueba que el objeto\n",
    "creado es de la clase data.frame.\n",
    "\n",
    "Ayuda: ?cbind, ?as.data.frame"
   ]
  },
  {
   "cell_type": "markdown",
   "metadata": {},
   "source": [
    "### Ejercicio  9\n",
    "\n",
    "Crea una matriz m de 3x3 dimensiones que contenga en todas las posiciones el\n",
    "valor 0.\n",
    "\n",
    "Ayuda: ?matrix, ?rep"
   ]
  },
  {
   "cell_type": "markdown",
   "metadata": {},
   "source": [
    "### Ejercicio 10\n",
    "\n",
    "A la matriz del punto anterior cambiale el valor de la primera fila y\n",
    "columna por “Hola” con el siguiente código:\n",
    "\n",
    "```R\n",
    "m[1, 1] <- “hola”\n",
    "```\n",
    "\n",
    "* Imprimir el resultado en pantalla\n",
    "* ¿Qué ocurrió con el resto de los valores de la matriz? ¿Por qué?"
   ]
  },
  {
   "cell_type": "markdown",
   "metadata": {},
   "source": [
    "### Ejercicio 11\n",
    "\n",
    "Tengo la siguiente lista:\n",
    "\n",
    "```R\n",
    "\n",
    "lista <- list(\n",
    "    list(\"1\"),\n",
    "    list(\"3\"),\n",
    "    list(\"5\"),\n",
    "    list(\"9\"),\n",
    "    list(\"11\")\n",
    ")\n",
    "\n",
    "Conviertala en un vector de tipo *numeric*.\n",
    "\n",
    "Ayuda: ?as.numeric , ?sapply\n",
    "\n",
    "```"
   ]
  },
  {
   "cell_type": "markdown",
   "metadata": {},
   "source": [
    "### Ejercicio 12\n",
    "\n",
    "La siguiente lista con nombres, está representando datos de proteínas.\n",
    "```R\n",
    "proteinas <- list(\n",
    "    Q8K9I1=list(\n",
    "        Entry_Id=\"Q8K9I1\",\n",
    "        Entry_Acc=\"SYV_BUCAP\",\n",
    "        Name=\"Valine--tRNA ligase\",\n",
    "        GeneName=c(\"valS\", \"BUsg_354\"),\n",
    "        Length=960\n",
    "    ),\n",
    "    Q664P8=list(\n",
    "        Entry_Id=\"Q664P8\",\n",
    "        Entry_Acc=\"TAUB_YERPS\",\n",
    "        Name=\"Taurine import ATP-binding protein\",\n",
    "        GeneName=c(\"tauB \", \"YPTB3721\"),\n",
    "        Length=255\n",
    "    ),\n",
    "    Q664P8=list(\n",
    "        Entry_Id=\"Q664P8\",\n",
    "        Entry_Acc=\"TAUB_YERPS\",\n",
    "        Name=\"TBC1 domain family member 9B\",\n",
    "        GeneName=c(\"TBC1D9B\", \"KIAA0676\"),\n",
    "        Length=1250\n",
    "    ),\n",
    "    Q8E4B4=list(\n",
    "        Entry_Id=\"Q8E4B4\",\n",
    "        Entry_Acc=\"TARI_STRA3\",\n",
    "        Name=\"Ribitol-5-phosphate cytidylyltransferase\",\n",
    "        GeneName=c(\"tarI\", \"gbs1487\"),\n",
    "        Length=239\n",
    "    )\n",
    ")\n",
    "```\n",
    "\n",
    "A partir de esta lisa, crear:\n",
    "\n",
    "- un vector con las longitudes de la proteinas,\n",
    "- otro vector con los nombres de las proteínas\n",
    "- otro con todos los nombres de los genes\n",
    "- otro con el Entry_id\n",
    "- otro con el Entry_Acc.\n",
    "- Crear un dataframe con todos los vectores.\n",
    "\n",
    "Ayuda: list2DF, sapply, lapply"
   ]
  },
  {
   "cell_type": "markdown",
   "metadata": {},
   "source": [
    "## Subsetting"
   ]
  },
  {
   "cell_type": "markdown",
   "metadata": {},
   "source": [
    "### Ejercicio 13\n",
    "\n",
    "Generen dos listas a partir de las siguientes sintaxis:\n",
    "```R\n",
    "nombres1 <- list(c(\"Juana\", \"Pedro\",\"Camila\"))\n",
    "nombres2 <- list(\"Juana\", \"Pedro\", \"Camila\")\n",
    "```\n",
    "* ¿Cuántos elementos tienen cada una de ellas? Para cada caso intenten\n",
    "imprimir en pantalla solamente el nombre Camila"
   ]
  },
  {
   "cell_type": "markdown",
   "metadata": {},
   "source": [
    "### Ejercicio 14\n",
    "\n",
    "A partir del paquete dataset generen un data.frame **air** que contiene datos\n",
    "climáticos de la ciudad de Nueva York, usando el siguiente comando:\n",
    "```R\n",
    "air <- datasets::airquality\n",
    "```"
   ]
  },
  {
   "cell_type": "markdown",
   "metadata": {},
   "source": [
    "### Ejercicio 15\n",
    "\n",
    "Imprime en pantalla solamente las primeras filas del data.frame y luego las\n",
    "últimas.\n",
    "\n",
    "Ayuda: ?head, ?tail"
   ]
  },
  {
   "cell_type": "markdown",
   "metadata": {},
   "source": [
    "### Ejercicio 16\n",
    "\n",
    "Imprime en pantalla todos los valores correspondientes a las temperaturas\n",
    "registradas y luego solamente el valor de las temperaturas que se registraron en\n",
    "el tercer día de cada mes."
   ]
  },
  {
   "cell_type": "markdown",
   "metadata": {},
   "source": [
    "### Ejercicio 17\n",
    "\n",
    "Seleccioná todas las filas de **air** del mes de mayo."
   ]
  },
  {
   "cell_type": "markdown",
   "metadata": {},
   "source": [
    "### Ejercicio 18\n",
    "\n",
    "¿Qué día fue en el que hubo menor radiación solar?\n",
    "\n",
    "Ayuda: ?which.min"
   ]
  },
  {
   "cell_type": "markdown",
   "metadata": {},
   "source": [
    "### Ejercicio 19\n",
    "\n",
    "¿Cuál fue la temperatura el 27 de Agosto?\n",
    "\n",
    "Ayuda: ?which, & (and)"
   ]
  },
  {
   "cell_type": "markdown",
   "metadata": {},
   "source": [
    "### Ejercicio 20\n",
    "\n",
    "Seleccioná todas las filas de air del mes de mayo cuya radiación solar sea\n",
    "mayor a 150."
   ]
  },
  {
   "cell_type": "markdown",
   "metadata": {},
   "source": [
    "### Ejercicio 21\n",
    "\n",
    "Genera un nuevo data.frame llamado **calor** que contenga la información de\n",
    "los días en los que hizo igual o más de 90 °F. Utilizando la función table\n",
    "contesta a qué meses pertenecen los días más calurosos."
   ]
  },
  {
   "cell_type": "markdown",
   "metadata": {},
   "source": [
    "### Ejercicio 22\n",
    "\n",
    "La temperatura en el data.frame está expresada en grados Fahrenheit,\n",
    "convierte la columna de temperaturas para que las mismas se expresen en grados\n",
    "Celsius.\n",
    "\n",
    "Ayuda: °C = (°F - 32)/1.8"
   ]
  },
  {
   "cell_type": "markdown",
   "metadata": {},
   "source": [
    "## Estructuras de control"
   ]
  },
  {
   "cell_type": "markdown",
   "metadata": {},
   "source": [
    "### Ejercicio 23\n",
    "\n",
    "Imprimir en pantalla los números del 1 al 100 utilizando un for."
   ]
  },
  {
   "cell_type": "markdown",
   "metadata": {},
   "source": [
    "### Ejercicio 24\n",
    "\n",
    "Elegir un número al azar entre 0 y 1 con runif. Utilizando if else imprimir\n",
    "“mayor que 0.5” o “menor que 0.5” dependiendo el caso."
   ]
  },
  {
   "cell_type": "markdown",
   "metadata": {},
   "source": [
    "### Ejercicio 25\n",
    "\n",
    "Imprimir en pantalla los números del 1 al 100 seguidos de una letra “p” si\n",
    "son pares o de una “i” si son impares, utilizando un for y un if else."
   ]
  },
  {
   "cell_type": "markdown",
   "metadata": {},
   "source": [
    "### Ejercicio 26\n",
    "\n",
    "Generar una matriz de 5x10. Colocar dentro de cada posición la suma de la\n",
    "fila y de la columna de esa posición. Utilizá un for dentro de otro for."
   ]
  },
  {
   "cell_type": "markdown",
   "metadata": {},
   "source": [
    "### Ejercicio 27\n",
    "\n",
    "Generar un vector x desde $-\\pi$ a $\\pi$ con saltos de 0.1. Imprimir cada\n",
    "elemento de x junto con el seno(x)."
   ]
  },
  {
   "cell_type": "markdown",
   "metadata": {},
   "source": [
    "### Ejercicio 28\n",
    "\n",
    "Imprimir en pantalla los números del 1 al 100 sin utilizar un for.\n",
    "\n",
    "Ayuda: : o ?seq"
   ]
  },
  {
   "cell_type": "markdown",
   "metadata": {},
   "source": [
    "### Ejercicio 29\n",
    "\n",
    "Imprimir en pantalla los números pares del 1 al 100 sin utilizar un for.\n",
    "\n",
    "Ayuda: =="
   ]
  },
  {
   "cell_type": "markdown",
   "metadata": {},
   "source": [
    "### Ejercicio 30\n",
    "\n",
    "Generar un vector x desde $-\\pi$ a $\\pi$ con saltos de 0.1. Imprimir cada\n",
    "elemento de x junto con el seno(x), sin utilizar un for.\n",
    "\n",
    "Ayuda: ?paste"
   ]
  },
  {
   "cell_type": "markdown",
   "metadata": {},
   "source": [
    "## Funciones"
   ]
  },
  {
   "cell_type": "markdown",
   "metadata": {},
   "source": [
    "### Ejercicio 31\n",
    "La desigualdad triangular dice que para un triangulo la suma de cualquier par de lados siempre tiene que ser mayor a tercer lado.\n",
    "\n",
    "Escribir una función que dados tres lados, me diga si se cumple o no la desigualdad triangular.\n",
    "\n",
    "Por ejemplo:\n",
    "\n",
    "```R\n",
    "    res1 <- des_triangular(10, 10, 10)\n",
    "    # res1 debe ser TRUE\n",
    "\n",
    "    res2 <- des_triangular(21, 10, 10)\n",
    "    # res1 debe ser FALSE\n",
    "```"
   ]
  },
  {
   "cell_type": "markdown",
   "metadata": {},
   "source": [
    "### Ejercicio 32\n",
    "\n",
    "Se tiene un dataframe como el que se muestra abajo para representar triangulos.\n",
    "\n",
    "```R\n",
    "triangulos <- data.frame(\n",
    "    row.names = c('triangulo_1', 'triangulo_2', 'triangulo_3'),\n",
    "    a = c(10, 20, 30),\n",
    "    b = c(10, 10, 10),\n",
    "    c = c(10, 10, 10)\n",
    ")\n",
    "```\n",
    "\n",
    "- Use la función que creó en el ejercicio anterior sobre los datos de este dataframe.\n",
    "\n",
    "Ayuda: ?apply\n",
    "\n",
    "- Modifique la función que creo antes para que tome como argumento al dataframe."
   ]
  }
 ],
 "metadata": {
  "kernelspec": {
   "display_name": "R",
   "language": "R",
   "name": "ir"
  },
  "language_info": {
   "codemirror_mode": "r",
   "file_extension": ".r",
   "mimetype": "text/x-r-source",
   "name": "R",
   "pygments_lexer": "r",
   "version": "4.1.2"
  }
 },
 "nbformat": 4,
 "nbformat_minor": 2
}
