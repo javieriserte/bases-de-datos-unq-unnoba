{
  "nbformat": 4,
  "nbformat_minor": 0,
  "metadata": {
    "colab": {
      "name": "Introducción a R",
      "provenance": []
    },
    "kernelspec": {
      "name": "ir",
      "display_name": "R",
      "language": "R"
    },
    "language_info": {
      "name": "R"
    }
  },
  "cells": [
    {
      "cell_type": "code",
      "metadata": {
        "colab": {
          "base_uri": "https://localhost:8080/",
          "height": 476
        },
        "id": "JDJ6ytKOzS3B",
        "outputId": "59dc58c6-0106-447c-c14b-49fbbc2a67cd"
      },
      "source": [
        "install.packages(\"rentrez\")"
      ],
      "execution_count": null,
      "outputs": []
    },
    {
      "cell_type": "code",
      "execution_count": 1,
      "metadata": {},
      "outputs": [
        {
          "output_type": "stream",
          "name": "stdout",
          "text": [
            "package 'bio3d' successfully unpacked and MD5 sums checked\n",
            "\n",
            "The downloaded binary packages are in\n",
            "\tC:\\Users\\javii\\AppData\\Local\\Temp\\RtmpaQ1sN9\\downloaded_packages\n"
          ]
        }
      ],
      "source": [
        "install.packages(\"bio3d\")"
      ]
    },
    {
      "cell_type": "code",
      "execution_count": 3,
      "metadata": {},
      "outputs": [
        {
          "output_type": "stream",
          "name": "stdout",
          "text": [
            "$accession\n[1] \"P00439\" \"Q16717\" \"Q8TC14\"\n\n$name\n[1] \"PH4H_HUMAN\"\n\n$fullName\n[1] \"Phenylalanine-4-hydroxylase\"\n\n$shortName\n[1] \"PAH\"\n\n$sequence\n[1] \"MSTAVLENPGLGRKLSDFGQETSYIEDNCNQNGAISLIFSLKEEVGALAKVLRLFEENDVNLTHIESRPSRLKKDEYEFFTHLDKRSLPALTNIIKILRHDIGATVHELSRDKKKDTVPWFPRTIQELDRFANQILSYGAELDADHPGFKDPVYRARRKQFADIAYNYRHGQPIPRVEYMEEEKKTWGTVFKTLKSLYKTHACYEYNHIFPLLEKYCGFHEDNIPQLEDVSQFLQTCTGFRLRPVAGLLSSRDFLGGLAFRVFHCTQYIRHGSKPMYTPEPDICHELLGHVPLFSDRSFAQFSQEIGLASLGAPDEYIEKLATIYWFTVEFGLCKQGDSIKAYGAGLLSSFGELQYCLSEKPKLLPLELEKTAIQNYTVTEFQPLYYVAESFNDAKEKVRNFAATIPRPFSVRYDPYTQRIEVLDNTQQLKILADSINSEIGILCSALQKIK\"\n\n$gene\n[1] \"PAH\"\n\n$organism\n[1] \"Homo sapiens\" \"Human\"       \n\n$taxon\n [1] \"Eukaryota\"        \"Metazoa\"          \"Chordata\"         \"Craniata\"        \n [5] \"Vertebrata\"       \"Euteleostomi\"     \"Mammalia\"         \"Eutheria\"        \n [9] \"Euarchontoglires\" \"Primates\"         \"Haplorrhini\"      \"Catarrhini\"      \n[13] \"Hominidae\"        \"Homo\"            \n\n$dbref\n                   type                        id\n1                    EC                 1.14.16.1\n2                  EMBL                    K03020\n3                  EMBL                    U49897\n4                  EMBL                    S61296\n5                  EMBL                  BC026251\n6                  CCDS                CCDS9092.1\n7                   PIR                    A00508\n8                RefSeq               NP_000268.1\n9                   PDB                      1DMW\n10                  PDB                      1J8T\n11                  PDB                      1J8U\n12                  PDB                      1KW0\n13                  PDB                      1LRM\n14                  PDB                      1MMK\n15                  PDB                      1MMT\n16                  PDB                      1PAH\n17                  PDB                      1TDW\n18                  PDB                      1TG2\n19                  PDB                      2PAH\n20                  PDB                      3PAH\n21                  PDB                      4ANP\n22                  PDB                      4PAH\n23                  PDB                      5FII\n24                  PDB                      5PAH\n25                  PDB                      6HPO\n26                  PDB                      6HYC\n27                  PDB                      6N1K\n28                  PDB                      6PAH\n29               PDBsum                      1DMW\n30               PDBsum                      1J8T\n31               PDBsum                      1J8U\n32               PDBsum                      1KW0\n33               PDBsum                      1LRM\n34               PDBsum                      1MMK\n35               PDBsum                      1MMT\n36               PDBsum                      1PAH\n37               PDBsum                      1TDW\n38               PDBsum                      1TG2\n39               PDBsum                      2PAH\n40               PDBsum                      3PAH\n41               PDBsum                      4ANP\n42               PDBsum                      4PAH\n43               PDBsum                      5FII\n44               PDBsum                      5PAH\n45               PDBsum                      6HPO\n46               PDBsum                      6HYC\n47               PDBsum                      6N1K\n48               PDBsum                      6PAH\n49                  SMR                    P00439\n50              BioGRID                    111090\n51                  DIP                DIP-58927N\n52               IntAct                    P00439\n53                 MINT                    P00439\n54               STRING      9606.ENSP00000448059\n55            BindingDB                    P00439\n56               ChEMBL                CHEMBL3076\n57             DrugBank                   DB03673\n58             DrugBank                   DB06778\n59             DrugBank                   DB04419\n60             DrugBank                   DB06262\n61             DrugBank                   DB04400\n62             DrugBank                   DB00368\n63             DrugBank                   DB00120\n64             DrugBank                   DB02562\n65             DrugBank                   DB00360\n66          DrugCentral                    P00439\n67  GuidetoPHARMACOLOGY                      1240\n68              iPTMnet                    P00439\n69      PhosphoSitePlus                    P00439\n70              BioMuta                       PAH\n71                 DMDM                    129973\n72           UCD-2DPAGE                    P00439\n73                  EPD                    P00439\n74              MassIVE                    P00439\n75                MaxQB                    P00439\n76                PaxDb                    P00439\n77         PeptideAtlas                    P00439\n78                PRIDE                    P00439\n79         ProteomicsDB                     51249\n80        Antibodypedia                     30481\n81                DNASU                      5053\n82              Ensembl           ENST00000553106\n83               GeneID                      5053\n84                 KEGG                  hsa:5053\n85                 UCSC                uc001tjq.2\n86                  CTD                      5053\n87             DisGeNET                      5053\n88            GeneCards                       PAH\n89          GeneReviews                       PAH\n90                 HGNC                 HGNC:8582\n91                  HPA           ENSG00000171759\n92            MalaCards                       PAH\n93                  MIM                    261600\n94                  MIM                    612349\n95             neXtProt                 NX_P00439\n96          OpenTargets           ENSG00000171759\n97             Orphanet                     79254\n98             Orphanet                      2209\n99             Orphanet                     79651\n100            Orphanet                     79253\n101            Orphanet                    293284\n102            PharmGKB                   PA32911\n103           VEuPathDB  HostDB:ENSG00000171759.9\n104              eggNOG                   KOG3820\n105            GeneTree       ENSGT00950000182885\n106             HOGENOM          CLU_023198_0_1_1\n107          InParanoid                    P00439\n108                 OMA                   YEFFVEC\n109             OrthoDB              614557at2759\n110           PhylomeDB                    P00439\n111             TreeFam                  TF313327\n112              BioCyc   MetaCyc:HS10374-MONOMER\n113              BRENDA                 1.14.16.1\n114      PathwayCommons                    P00439\n115            Reactome             R-HSA-2160456\n116            Reactome             R-HSA-8964208\n117            SABIO-RK                    P00439\n118              SIGNOR                    P00439\n119          UniPathway                  UPA00139\n120        BioGRID-ORCS                      5053\n121             ChiTaRS                       PAH\n122   EvolutionaryTrace                    P00439\n123            GeneWiki Phenylalanine_hydroxylase\n124          GenomeRNAi                      5053\n125              Pharos                    P00439\n126                 PRO                 PR:P00439\n127           Proteomes               UP000005640\n128               RNAct                    P00439\n129                Bgee           ENSG00000171759\n130     ExpressionAtlas                    P00439\n131         Genevisible                    P00439\n132                  GO                GO:0005829\n133                  GO                GO:0005506\n134                  GO                GO:0004505\n135                  GO                GO:0042423\n136                  GO                GO:0008652\n137                  GO                GO:0006559\n138                  GO                GO:0006558\n139                  GO                GO:0042136\n140                  GO                GO:0006571\n141                 CDD                   cd03347\n142              Gene3D               1.10.800.10\n143            InterPro                 IPR002912\n144            InterPro                 IPR001273\n145            InterPro                 IPR018301\n146            InterPro                 IPR036951\n147            InterPro                 IPR036329\n148            InterPro                 IPR019774\n149            InterPro                 IPR041912\n150            InterPro                 IPR005961\n151            InterPro                 IPR019773\n152             PANTHER                 PTHR11473\n153                Pfam                   PF01842\n154                Pfam                   PF00351\n155               PIRSF               PIRSF000336\n156              PRINTS                   PR00372\n157              SUPFAM                  SSF56534\n158            TIGRFAMs                 TIGR01268\n159             PROSITE                   PS51671\n160             PROSITE                   PS00367\n161             PROSITE                   PS51410\n\n"
          ]
        }
      ],
      "source": [
        "library(bio3d)\n",
        "prot <- uniprot('PH4H_HUMAN')\n",
        "print(prot)"
      ]
    },
    {
      "cell_type": "code",
      "execution_count": null,
      "metadata": {},
      "outputs": [],
      "source": [
        "library(rentrez)\n",
        "katipo_search <- entrez_search(db=\"popset\", term=\"Latrodectus katipo[Organism]\")\n",
        "katipo_search$count"
      ]
    },
    {
      "cell_type": "code",
      "execution_count": null,
      "metadata": {},
      "outputs": [],
      "source": []
    },
    {
      "cell_type": "code",
      "execution_count": null,
      "metadata": {},
      "outputs": [],
      "source": []
    }
  ]
}