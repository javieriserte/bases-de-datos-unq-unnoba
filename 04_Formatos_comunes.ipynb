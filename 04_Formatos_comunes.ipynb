{
 "cells": [
  {
   "cell_type": "markdown",
   "id": "30be9d26",
   "metadata": {},
   "source": [
    "# Formatos comunes en las respuestas HTTP\n",
    "\n",
    "Las bases datos biológicas, y otros servicios online, usan tipicamente poco formatos para devolver los datos:\n",
    "\n",
    "- XML\n",
    "- JSON\n",
    "- Texto tabular\n"
   ]
  },
  {
   "cell_type": "markdown",
   "id": "8d23d251",
   "metadata": {},
   "source": [
    "## XML - Extensible Markup Language\n",
    "\n",
    "Es un formato de texto que permite representar datos de forma jerárquica y arbitraria.\n",
    "\n",
    "No está pensado para ser leido directamente por un usuario.\n",
    "\n",
    "```xml\n",
    "<?xml version=\"1.0\" encoding=\"UTF-8\"?>\n",
    "<ResultadoDeBusqueda>\n",
    "    <Proteinas cantidad=\"2\">\n",
    "        <Protein>\n",
    "            <Nombre>\n",
    "                FUS\n",
    "            </Nombre>\n",
    "            <ProteinID>\n",
    "                Q6IBQ5\n",
    "            </ProteinID>\n",
    "            <Length>\n",
    "                526\n",
    "            </Length>\n",
    "        </Protein>\n",
    "        <Protein>\n",
    "            <Nombre>\n",
    "                FIBP\n",
    "            </Nombre>\n",
    "            <ProteinID>\n",
    "                Q6IBQ3\n",
    "            </ProteinID>\n",
    "            <Length>\n",
    "                364\n",
    "            </Length>\n",
    "        </Protein>\n",
    "    </Proteinas>\n",
    "    <NumeroDeResultados>\n",
    "        2\n",
    "    </NumeroDeResultados>\n",
    "</ResultadoDeBusqueda>\n",
    "```"
   ]
  },
  {
   "cell_type": "markdown",
   "id": "43c16e0a",
   "metadata": {},
   "source": [
    "La estructura de un archivo XML está formada por:\n",
    "\n",
    "- Nodos: Encerrados entre <nombre_del_nodo>...</nombre_del_nodo>\n",
    "  - Los nodos son contenedores, pueden contenter:\n",
    "    - Otros nodos\n",
    "    - Un valor\n",
    "  - Adicionalmente, los nodos pueden tener valores especiales llamados atributos.\n",
    "    - <nodo atributo=\"valor\"></nodo>\n",
    "- Valores: Texto dentro de un nodo.\n"
   ]
  },
  {
   "cell_type": "markdown",
   "id": "f7cd30bc",
   "metadata": {},
   "source": [
    "En R hay librarias \"standard\" para procesar estos archivos.\n",
    "\n",
    "- XML\n",
    "- xml2\n",
    "\n",
    "Con ambas se pueden hacer las mismas cosas.\n",
    "\n",
    "Algunos paquetes que nos permiten acceder a las bases de datos pueden devolver\n",
    "\n",
    "resultados generados con una de ellas, miestras que otras pueden usar otro."
   ]
  },
  {
   "cell_type": "markdown",
   "id": "5719f116",
   "metadata": {},
   "source": [
    "### Libraria XML"
   ]
  },
  {
   "cell_type": "code",
   "execution_count": null,
   "id": "edd40a76",
   "metadata": {
    "vscode": {
     "languageId": "r"
    }
   },
   "outputs": [],
   "source": [
    "library(XML)"
   ]
  },
  {
   "cell_type": "code",
   "execution_count": null,
   "id": "0f5c854d",
   "metadata": {
    "vscode": {
     "languageId": "r"
    }
   },
   "outputs": [],
   "source": [
    "\n",
    "xml_content <- '<?xml version=\"1.0\" encoding=\"UTF-8\"?>\n",
    "<ResultadoDeBusqueda>\n",
    "<Proteinas cantidad=\"2\">\n",
    "<Protein>\n",
    "<Nombre>FUS</Nombre>\n",
    "<ProteinID>Q6IBQ5</ProteinID>\n",
    "<Longitud>526</Longitud>\n",
    "</Protein>\n",
    "<Protein>\n",
    "<Nombre>FIBP</Nombre>\n",
    "<ProteinID>Q6IBQ3</ProteinID>\n",
    "<Longitud>364</Longitud>\n",
    "</Protein>\n",
    "</Proteinas>\n",
    "<NumeroDeResultados>2</NumeroDeResultados>\n",
    "</ResultadoDeBusqueda>'\n",
    "\n",
    "# Lee el Texto en formato XML\n",
    "xml_document <- xmlParse(xml_content)\n",
    "print(xml_document)\n",
    "print(class(xml_document))"
   ]
  },
  {
   "cell_type": "code",
   "execution_count": null,
   "id": "b03cb034",
   "metadata": {
    "vscode": {
     "languageId": "r"
    }
   },
   "outputs": [],
   "source": [
    "# Si quiero acceder a un nodo particular puedo hacer esto:\n",
    "my_node <- getNodeSet(xml_document, \"//Protein\")\n",
    "print(my_node)\n",
    "print(my_node[[1]])"
   ]
  },
  {
   "cell_type": "code",
   "execution_count": null,
   "id": "9bab6154",
   "metadata": {
    "vscode": {
     "languageId": "r"
    }
   },
   "outputs": [],
   "source": [
    "# Si quiero recuperar el nombre de la proteina de uno de los nodos puedo hacer:\n",
    "\n",
    "secondProteinName <- xmlValue(getNodeSet(xml_document, \"//Nombre\")[2])\n",
    "secondProteinName"
   ]
  },
  {
   "cell_type": "code",
   "execution_count": null,
   "id": "8de37f6d",
   "metadata": {
    "vscode": {
     "languageId": "r"
    }
   },
   "outputs": [],
   "source": [
    "# Si quiero extraer todos los nombres de la proteinas puedo hacer esto:\n",
    "proteinNames <- xpathApply(\n",
    "  xml_document,\n",
    "  \"//Nombre\",\n",
    "  xmlValue\n",
    ")\n",
    "proteinNames"
   ]
  },
  {
   "cell_type": "code",
   "execution_count": null,
   "id": "c122a227",
   "metadata": {
    "vscode": {
     "languageId": "r"
    }
   },
   "outputs": [],
   "source": [
    "# Si quiero extrart varios valores de un nodo puedo hacer esto:\n",
    "proteinNames <- xpathApply(\n",
    "  xml_document,\n",
    "  \"//Protein\",\n",
    "  function(x) {\n",
    "    return(\n",
    "      c(\n",
    "        xpathSApply(x, \"./Nombre\", xmlValue),\n",
    "        xpathSApply(x, \"./ProteinID\", xmlValue)\n",
    "      )\n",
    "    )\n",
    "  }\n",
    ")\n",
    "print(proteinNames)"
   ]
  },
  {
   "cell_type": "code",
   "execution_count": null,
   "id": "62ebccf5",
   "metadata": {
    "vscode": {
     "languageId": "r"
    }
   },
   "outputs": [],
   "source": [
    "# Otra opcion para hacer lo mismo, pero mas complicado....\n",
    "extract_protein_info <- function(node) {\n",
    "  c(\n",
    "    Nombre = xmlValue(getNodeSet(node, \"./Nombre\")[[1]]),\n",
    "    ProteinID = xmlValue(getNodeSet(node, \"./ProteinID\")[[1]])\n",
    "  )\n",
    "}\n",
    "\n",
    "# Apply the custom function to each \"Protein\" node\n",
    "protein_list <- xpathApply(\n",
    "  xml_document,\n",
    "  \"//Protein\",\n",
    "  extract_protein_info\n",
    ")\n",
    "\n",
    "# Check the result\n",
    "print(protein_list)\n"
   ]
  },
  {
   "cell_type": "code",
   "execution_count": null,
   "id": "2d687fd0",
   "metadata": {
    "vscode": {
     "languageId": "r"
    }
   },
   "outputs": [],
   "source": [
    "# Tambien es posible convertir el contenido XML a una lista de R\n",
    "\n",
    "xml_list <- xmlToList(xml_document)\n",
    "xml_list\n",
    "\n",
    "print(xml_list$Proteinas[2]$Protein)"
   ]
  },
  {
   "cell_type": "code",
   "execution_count": null,
   "id": "3af05e01",
   "metadata": {
    "vscode": {
     "languageId": "r"
    }
   },
   "outputs": [],
   "source": [
    "# Tambien es posible convertir el contenido XML o parte del contenido en un\n",
    "# dataframe.\n",
    "xml_dataframe <- xmlToDataFrame(getNodeSet(xml_document, \"//Protein\"))\n",
    "xml_dataframe"
   ]
  },
  {
   "cell_type": "code",
   "execution_count": null,
   "id": "201678af",
   "metadata": {
    "vscode": {
     "languageId": "r"
    }
   },
   "outputs": [],
   "source": [
    "# Puedo extraer atributos de un nodo:\n",
    "\n",
    "xmlAttrs(\n",
    "  getNodeSet(xml_document, \"//Proteinas\")[[1]]\n",
    ")"
   ]
  },
  {
   "cell_type": "markdown",
   "id": "032a9e15",
   "metadata": {},
   "source": [
    "### Libraria xml2"
   ]
  },
  {
   "cell_type": "code",
   "execution_count": null,
   "id": "d540f489",
   "metadata": {
    "vscode": {
     "languageId": "r"
    }
   },
   "outputs": [],
   "source": [
    "\n",
    "library(xml2)"
   ]
  },
  {
   "cell_type": "code",
   "execution_count": null,
   "id": "a6dfa794",
   "metadata": {
    "vscode": {
     "languageId": "r"
    }
   },
   "outputs": [],
   "source": [
    "xml_content <- '<?xml version=\"1.0\" encoding=\"UTF-8\"?>\n",
    "<ResultadoDeBusqueda>\n",
    "<Proteinas>\n",
    "<Protein>\n",
    "<Nombre>FUS</Nombre>\n",
    "<ProteinID>Q6IBQ5</ProteinID>\n",
    "<Longitud>526</Longitud>\n",
    "</Protein>\n",
    "<Protein>\n",
    "<Nombre>FIBP</Nombre>\n",
    "<ProteinID>Q6IBQ3</ProteinID>\n",
    "<Longitud>364</Longitud>\n",
    "</Protein>\n",
    "</Proteinas>\n",
    "<NumeroDeResultados>2</NumeroDeResultados>\n",
    "</ResultadoDeBusqueda>'\n",
    "\n",
    "# Lee el Texto en formato XML\n",
    "xml_document <- read_xml(xml_content)\n",
    "\n",
    "# Lo convierte a una lista\n",
    "xml_list <- as_list(xml_document)"
   ]
  },
  {
   "cell_type": "code",
   "execution_count": null,
   "id": "ac9589a8",
   "metadata": {
    "scrolled": true,
    "vscode": {
     "languageId": "r"
    }
   },
   "outputs": [],
   "source": [
    "# Todos los datos que están en 'ResultadoDeBusqueda'\n",
    "xml_list$ResultadoDeBusqueda"
   ]
  },
  {
   "cell_type": "code",
   "execution_count": null,
   "id": "ec2bbebf",
   "metadata": {
    "vscode": {
     "languageId": "r"
    }
   },
   "outputs": [],
   "source": [
    "# La cantidad de resultados\n",
    "as.numeric(xml_list$ResultadoDeBusqueda$NumeroDeResultados)"
   ]
  },
  {
   "cell_type": "code",
   "execution_count": null,
   "id": "fbd6e608",
   "metadata": {
    "scrolled": true,
    "vscode": {
     "languageId": "r"
    }
   },
   "outputs": [],
   "source": [
    "lista_de_proteinas <- xml_list$ResultadoDeBusqueda$Proteinas\n",
    "print(paste(\"La lista tiene\", length(lista_de_proteinas), \"proteinas\"))\n",
    "lista_de_proteinas"
   ]
  },
  {
   "cell_type": "code",
   "execution_count": null,
   "id": "9368ad2f",
   "metadata": {
    "scrolled": true,
    "vscode": {
     "languageId": "r"
    }
   },
   "outputs": [],
   "source": [
    "# La primer proteina\n",
    "# xml_list$ResultadoDeBusqueda$Proteinas[[1]]\n",
    "primer_proteina <- lista_de_proteinas[[1]]\n",
    "primer_proteina"
   ]
  },
  {
   "cell_type": "code",
   "execution_count": null,
   "id": "2b27db37",
   "metadata": {
    "scrolled": true,
    "vscode": {
     "languageId": "r"
    }
   },
   "outputs": [],
   "source": [
    "# Los datos de la primer proteina\n",
    "# trimws, borras los espacios en blando que hay al inicio y fin de un texto\n",
    "primer_proteina$Nombre"
   ]
  },
  {
   "cell_type": "code",
   "execution_count": null,
   "id": "7062f4c5",
   "metadata": {
    "scrolled": true,
    "vscode": {
     "languageId": "r"
    }
   },
   "outputs": [],
   "source": [
    "# Recupero uns lista con todos los Nombres\n",
    "nombres <- c()\n",
    "for (nombre in xml_list$ResultadoDeBusqueda$Proteinas) {\n",
    "    nombres <- c(nombres, nombre$Nombre)\n",
    "}\n",
    "nombres"
   ]
  },
  {
   "cell_type": "code",
   "execution_count": null,
   "id": "082e14b7",
   "metadata": {
    "vscode": {
     "languageId": "r"
    }
   },
   "outputs": [],
   "source": [
    "# Lo mismo pero de otra forma\n",
    "nombres <- sapply(\n",
    "    xml_list$ResultadoDeBusqueda$Proteinas,\n",
    "    function(x) {x$Nombre}\n",
    ")\n",
    "nombres"
   ]
  },
  {
   "cell_type": "code",
   "execution_count": null,
   "id": "454da6e5",
   "metadata": {
    "vscode": {
     "languageId": "r"
    }
   },
   "outputs": [],
   "source": [
    "# Convertir a dataframe\n",
    "df <- as.data.frame(do.call(rbind, xml_list$ResultadoDeBusqueda$Proteinas))\n",
    "df\n",
    "# Otra forma\n",
    "proteinas <- as.data.frame(t(sapply(xml_list$ResultadoDeBusqueda$Proteinas, unlist)))\n",
    "proteinas\n"
   ]
  },
  {
   "cell_type": "markdown",
   "id": "493575e7",
   "metadata": {},
   "source": [
    "## JSON - Javascript Object Notation\n",
    "\n",
    "Es otro formato para representar datos jerárquicos y arbitrarios.\n",
    "\n",
    "Es más simple que XML.\n",
    "\n",
    "No está pensado para ser leido directamente por un usuario.\n",
    "\n",
    "Un archivo json tiene unos pocos elementos basicos:\n",
    "\n",
    "- Valores primitivos:\n",
    "  - Texto: Encerrado entre comillas dobles.\n",
    "  - Números\n",
    "- Listas: Encerrado entre corchetes [].\n",
    "  - Las listas pueden contener texto, números, otras listas u otros objectos.\n",
    "- Objetos: Encerrados entre llaves {}.\n",
    "  - Los objetos estan formados por pares del tipo clave y valor:\n",
    "    - \"Clave\": \"Valor\"\n",
    "  - Las claves son texto.\n",
    "  - Los valores pueden ser texto, un número, una lista u otro objeto.\n",
    "\n",
    "En general, se muestran indentados para facilitar su comprensión,\n",
    "\n",
    "pero no es obligatorio.\n",
    "\n",
    "```json\n",
    "{\n",
    "    \"Proteinas\":[\n",
    "        {\n",
    "            \"Nombre\": \"FUS\",\n",
    "            \"ProteinID\": \"Q6IBQ5\",\n",
    "            \"Longitud\": 526\n",
    "        },\n",
    "        {\n",
    "            \"Nombre\": \"FIBP\",\n",
    "            \"ProteinID\": \"Q6IBQ3\",\n",
    "            \"Longitud\": 364\n",
    "        }\n",
    "    ],\n",
    "    \"NumeroDeResultados\": 2\n",
    "}\n",
    "```"
   ]
  },
  {
   "cell_type": "code",
   "execution_count": null,
   "id": "81560fe9",
   "metadata": {
    "vscode": {
     "languageId": "r"
    }
   },
   "outputs": [],
   "source": [
    "# Para instalar rjson\n",
    "install.packages(\"rjson\")"
   ]
  },
  {
   "cell_type": "code",
   "execution_count": null,
   "id": "b0f56ca9",
   "metadata": {
    "vscode": {
     "languageId": "r"
    }
   },
   "outputs": [],
   "source": [
    "library(\"rjson\")"
   ]
  },
  {
   "cell_type": "code",
   "execution_count": null,
   "id": "6619e4a7",
   "metadata": {
    "vscode": {
     "languageId": "r"
    }
   },
   "outputs": [],
   "source": [
    "respuesta <- '{\n",
    "    \"Proteinas\":[\n",
    "        {\n",
    "            \"Nombre\": \"FUS\",\n",
    "            \"ProteinID\": \"Q6IBQ5\",\n",
    "            \"Longitud\": 526\n",
    "        },\n",
    "        {\n",
    "            \"Nombre\": \"FIBP\",\n",
    "            \"ProteinID\": \"Q6IBQ3\",\n",
    "            \"Longitud\": 364\n",
    "        }\n",
    "    ],\n",
    "    \"NumeroDeResultados\": 2\n",
    "}'\n",
    "json_list <- fromJSON(respuesta)"
   ]
  },
  {
   "cell_type": "code",
   "execution_count": null,
   "id": "656d1b5b",
   "metadata": {
    "vscode": {
     "languageId": "r"
    }
   },
   "outputs": [],
   "source": [
    "# Mostrar las proteinas\n",
    "json_list$Proteinas"
   ]
  },
  {
   "cell_type": "code",
   "execution_count": null,
   "id": "1284d247",
   "metadata": {
    "scrolled": true,
    "vscode": {
     "languageId": "r"
    }
   },
   "outputs": [],
   "source": [
    "# Mostrar \n",
    "json_list$NumeroDeResultados"
   ]
  },
  {
   "cell_type": "code",
   "execution_count": null,
   "id": "990add20",
   "metadata": {
    "vscode": {
     "languageId": "r"
    }
   },
   "outputs": [],
   "source": [
    "# Extraer los nombres de proteínas\n",
    "nombres <- c()\n",
    "for (nombre in json_list$Proteinas) {\n",
    "    nombres <- c(nombres, trimws(nombre$Nombre))\n",
    "}\n",
    "nombres"
   ]
  },
  {
   "cell_type": "code",
   "execution_count": null,
   "id": "2236fb0f",
   "metadata": {
    "vscode": {
     "languageId": "r"
    }
   },
   "outputs": [],
   "source": [
    "# Otra forma\n",
    "nombres <- sapply(\n",
    "    json_list$Proteinas,\n",
    "    function(x) {x$Nombre}\n",
    ")\n",
    "nombres"
   ]
  },
  {
   "cell_type": "code",
   "execution_count": null,
   "id": "0f024b83",
   "metadata": {
    "vscode": {
     "languageId": "r"
    }
   },
   "outputs": [],
   "source": [
    "# Convertir a dataframe\n",
    "json_data_frame <- as.data.frame(do.call(rbind, json_list$Proteinas))\n",
    "json_data_frame\n",
    "\n",
    "# Otra forma\n",
    "proteinas <- as.data.frame(t(sapply(json_list$Proteinas, unlist)))\n",
    "proteinas"
   ]
  },
  {
   "cell_type": "markdown",
   "id": "bdc015b1",
   "metadata": {},
   "source": [
    "## Texto tabular\n",
    "\n",
    "Es simplemente un texto plano que representa una tabla.\n",
    "\n",
    "Cada línea de texto representa una fila de la tabla,\n",
    "\n",
    "requiere especificar un caracter de separación para las columnas.\n",
    "\n",
    "Los datos que se pueden representar no son arbitrarios,\n",
    "\n",
    "tienen que tener forma de tabla y no son jerárquicos.\n",
    "\n",
    "```txt\n",
    "Nombre  ProteinID Longitud\n",
    "FUS Q6IBQ5 526\n",
    "FIBP Q6IBQ3 364\n",
    "```\n"
   ]
  },
  {
   "cell_type": "code",
   "execution_count": null,
   "id": "14bf8e36",
   "metadata": {
    "vscode": {
     "languageId": "r"
    }
   },
   "outputs": [],
   "source": [
    "tabla <- \"Nombre  ProteinID Longitud\n",
    "FUS Q6IBQ5 526\n",
    "FIBP Q6IBQ3 364\"\n",
    "\n",
    "data <- read.table(text=tabla, header=TRUE)\n",
    "data"
   ]
  }
 ],
 "metadata": {
  "kernelspec": {
   "display_name": "R",
   "language": "R",
   "name": "ir"
  },
  "language_info": {
   "codemirror_mode": "r",
   "file_extension": ".r",
   "mimetype": "text/x-r-source",
   "name": "R",
   "pygments_lexer": "r",
   "version": "4.1.2"
  }
 },
 "nbformat": 4,
 "nbformat_minor": 5
}
