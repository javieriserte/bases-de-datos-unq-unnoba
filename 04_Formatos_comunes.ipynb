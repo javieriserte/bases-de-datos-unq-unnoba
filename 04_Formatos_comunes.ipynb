{
 "cells": [
  {
   "cell_type": "markdown",
   "id": "30be9d26",
   "metadata": {},
   "source": [
    "# Formatos comunes en las respuestas HTTP\n",
    "\n",
    "Las bases datos biológicas, y otros servicios online, usan tipicamente poco formatos para devolver los datos:\n",
    "\n",
    "- XML\n",
    "- JSON\n",
    "- Texto tabular\n"
   ]
  },
  {
   "cell_type": "markdown",
   "id": "8d23d251",
   "metadata": {},
   "source": [
    "## XML - Extensible Markup Language\n",
    "\n",
    "Es un formato de texto que permite representar datos de formar jerarquica y arbitrario.\n",
    "No está pensado para ser leido directamente por un usuario.\n",
    "\n",
    "```xml\n",
    "<?xml version=\"1.0\" encoding=\"UTF-8\"?>\n",
    "<ResultadoDeBusqueda>\n",
    "    <Proteinas>\n",
    "        <Protein>\n",
    "            <Nombre>\n",
    "                FUS\n",
    "            </Nombre>\n",
    "            <ProteinID>\n",
    "                Q6IBQ5\n",
    "            </ProteinID>\n",
    "            <Length>\n",
    "                526\n",
    "            </Length>\n",
    "        </Protein>\n",
    "        <Protein>\n",
    "            <Nombre>\n",
    "                FIBP\n",
    "            </Nombre>\n",
    "            <ProteinID>\n",
    "                Q6IBQ3\n",
    "            </ProteinID>\n",
    "            <Length>\n",
    "                364\n",
    "            </Length>\n",
    "        </Protein>\n",
    "    </Proteinas>\n",
    "    <NumeroDeResultados>\n",
    "        2\n",
    "    </NumeroDeResultados>\n",
    "</ResultadoDeBusqueda>\n",
    "```"
   ]
  },
  {
   "cell_type": "code",
   "execution_count": null,
   "id": "d540f489",
   "metadata": {},
   "outputs": [],
   "source": [
    "library(xml2)"
   ]
  },
  {
   "cell_type": "code",
   "execution_count": null,
   "id": "a6dfa794",
   "metadata": {},
   "outputs": [],
   "source": [
    "xml_content <- '<?xml version=\"1.0\" encoding=\"UTF-8\"?>\n",
    "<ResultadoDeBusqueda>\n",
    "<Proteinas>\n",
    "<Protein>\n",
    "<Nombre>FUS</Nombre>\n",
    "<ProteinID>Q6IBQ5</ProteinID>\n",
    "<Longitud>526</Longitud>\n",
    "</Protein>\n",
    "<Protein>\n",
    "<Nombre>FIBP</Nombre>\n",
    "<ProteinID>Q6IBQ3</ProteinID>\n",
    "<Longitud>364</Longitud>\n",
    "</Protein>\n",
    "</Proteinas>\n",
    "<NumeroDeResultados>2</NumeroDeResultados>\n",
    "</ResultadoDeBusqueda>'\n",
    "\n",
    "# Lee el Texto en formato XML\n",
    "xml_document <- read_xml(xml_content)\n",
    "\n",
    "# Lo convierte a una lista\n",
    "xml_list <- as_list(xml_document)"
   ]
  },
  {
   "cell_type": "code",
   "execution_count": null,
   "id": "ac9589a8",
   "metadata": {
    "scrolled": true
   },
   "outputs": [],
   "source": [
    "# Todos los datos que están en 'ResultadoDeBusqueda'\n",
    "xml_list$ResultadoDeBusqueda"
   ]
  },
  {
   "cell_type": "code",
   "execution_count": null,
   "id": "ec2bbebf",
   "metadata": {},
   "outputs": [],
   "source": [
    "# La cantidad de resultados\n",
    "as.numeric(xml_list$ResultadoDeBusqueda$NumeroDeResultados)"
   ]
  },
  {
   "cell_type": "code",
   "execution_count": null,
   "id": "fbd6e608",
   "metadata": {
    "scrolled": true
   },
   "outputs": [],
   "source": [
    "lista_de_proteinas <- xml_list$ResultadoDeBusqueda$Proteinas\n",
    "print(paste(\"La lista tiene\", length(lista_de_proteinas), \"proteinas\"))\n",
    "lista_de_proteinas"
   ]
  },
  {
   "cell_type": "code",
   "execution_count": null,
   "id": "9368ad2f",
   "metadata": {
    "scrolled": true
   },
   "outputs": [],
   "source": [
    "# La primer proteina\n",
    "# xml_list$ResultadoDeBusqueda$Proteinas[[1]]\n",
    "primer_proteina <- lista_de_proteinas[[1]]\n",
    "primer_proteina"
   ]
  },
  {
   "cell_type": "code",
   "execution_count": null,
   "id": "2b27db37",
   "metadata": {
    "scrolled": true
   },
   "outputs": [],
   "source": [
    "# Los datos de la primer proteina\n",
    "# trimws, borras los espacios en blando que hay al inicio y fin de un texto\n",
    "primer_proteina$Nombre"
   ]
  },
  {
   "cell_type": "code",
   "execution_count": null,
   "id": "7062f4c5",
   "metadata": {
    "scrolled": true
   },
   "outputs": [],
   "source": [
    "# Recupero uns lista con todos los Nombres\n",
    "nombres <- c()\n",
    "for (nombre in xml_list$ResultadoDeBusqueda$Proteinas) {\n",
    "    nombres <- c(nombres, nombre$Nombre)\n",
    "}\n",
    "nombres"
   ]
  },
  {
   "cell_type": "code",
   "execution_count": null,
   "id": "082e14b7",
   "metadata": {},
   "outputs": [],
   "source": [
    "# Lo mismo pero de otra forma\n",
    "nombres <- sapply(\n",
    "    xml_list$ResultadoDeBusqueda$Proteinas,\n",
    "    function(x) {x$Nombre}\n",
    ")\n",
    "nombres"
   ]
  },
  {
   "cell_type": "code",
   "execution_count": null,
   "id": "454da6e5",
   "metadata": {},
   "outputs": [],
   "source": [
    "# Convertir a dataframe\n",
    "df <- as.data.frame(do.call(rbind, xml_list$ResultadoDeBusqueda$Proteinas))\n",
    "df\n",
    "# Otra forma\n",
    "proteinas <- as.data.frame(t(sapply(xml_list$ResultadoDeBusqueda$Proteinas, unlist)))\n",
    "proteinas\n"
   ]
  },
  {
   "cell_type": "markdown",
   "id": "493575e7",
   "metadata": {},
   "source": [
    "## JSON - Javascript Object Notation\n",
    "\n",
    "Es otro formato para representar datos jerárquicos y arbitrarios.\n",
    "Es más simple que XML.\n",
    "No está pensado para ser leido directamente por un usuario.\n",
    "\n",
    "```json\n",
    "{\n",
    "    \"Proteinas\":[\n",
    "        {\n",
    "            \"Nombre\": FUS,\n",
    "            \"ProteinID\": Q6IBQ5,\n",
    "            \"Longitud\": 526\n",
    "        },\n",
    "        {\n",
    "            \"Nombre\": FIBP,\n",
    "            \"ProteinID\": Q6IBQ3,\n",
    "            \"Longitud\": 364\n",
    "        }\n",
    "    ],\n",
    "    \"NumeroDeResultados\": 2\n",
    "}\n",
    "```"
   ]
  },
  {
   "cell_type": "code",
   "execution_count": null,
   "id": "81560fe9",
   "metadata": {},
   "outputs": [],
   "source": [
    "# Para instalar rjson\n",
    "install.packages(\"rjson\")"
   ]
  },
  {
   "cell_type": "code",
   "execution_count": null,
   "id": "b0f56ca9",
   "metadata": {},
   "outputs": [],
   "source": [
    "library(\"rjson\")"
   ]
  },
  {
   "cell_type": "code",
   "execution_count": null,
   "id": "6619e4a7",
   "metadata": {},
   "outputs": [],
   "source": [
    "respuesta <- '{\n",
    "    \"Proteinas\":[\n",
    "        {\n",
    "            \"Nombre\": \"FUS\",\n",
    "            \"ProteinID\": \"Q6IBQ5\",\n",
    "            \"Longitud\": 526\n",
    "        },\n",
    "        {\n",
    "            \"Nombre\": \"FIBP\",\n",
    "            \"ProteinID\": \"Q6IBQ3\",\n",
    "            \"Longitud\": 364\n",
    "        }\n",
    "    ],\n",
    "    \"NumeroDeResultados\": 2\n",
    "}'\n",
    "json_list <- fromJSON(respuesta)"
   ]
  },
  {
   "cell_type": "code",
   "execution_count": null,
   "id": "656d1b5b",
   "metadata": {},
   "outputs": [],
   "source": [
    "# Mostrar las proteinas\n",
    "json_list$Proteinas"
   ]
  },
  {
   "cell_type": "code",
   "execution_count": null,
   "id": "1284d247",
   "metadata": {
    "scrolled": true
   },
   "outputs": [],
   "source": [
    "# Mostrar \n",
    "json_list$NumeroDeResultados"
   ]
  },
  {
   "cell_type": "code",
   "execution_count": null,
   "id": "990add20",
   "metadata": {},
   "outputs": [],
   "source": [
    "# Extraer los nombres de proteínas\n",
    "nombres <- c()\n",
    "for (nombre in json_list$Proteinas) {\n",
    "    nombres <- c(nombres, trimws(nombre$Nombre))\n",
    "}\n",
    "nombres"
   ]
  },
  {
   "cell_type": "code",
   "execution_count": null,
   "id": "2236fb0f",
   "metadata": {},
   "outputs": [],
   "source": [
    "# Otra forma\n",
    "nombres <- sapply(\n",
    "    json_list$Proteinas,\n",
    "    function(x) {x$Nombre}\n",
    ")\n",
    "nombres"
   ]
  },
  {
   "cell_type": "code",
   "execution_count": null,
   "id": "0f024b83",
   "metadata": {},
   "outputs": [],
   "source": [
    "# Convertir a dataframe\n",
    "json_data_frame <- as.data.frame(do.call(rbind, json_list$Proteinas))\n",
    "json_data_frame\n",
    "\n",
    "# Otra forma\n",
    "proteinas <- as.data.frame(t(sapply(json_list$Proteinas, unlist)))\n",
    "proteinas"
   ]
  },
  {
   "cell_type": "markdown",
   "id": "bdc015b1",
   "metadata": {},
   "source": [
    "## Texto tabular\n",
    "\n",
    "Es simplemente un texto plano que representa una tabla.\n",
    "Cada línea de texto representa una fila de la tabla, requiere especificar un caracter de separación para las columnas.\n",
    "\n",
    "Los datos que se pueden representar no son arbitrarios, tienen que tener forma de tabla y no son jerárquicos.\n",
    "\n",
    "```txt\n",
    "Nombre  ProteinID Longitud\n",
    "FUS Q6IBQ5 526\n",
    "FIBP Q6IBQ3 364\n",
    "```\n"
   ]
  },
  {
   "cell_type": "code",
   "execution_count": null,
   "id": "14bf8e36",
   "metadata": {},
   "outputs": [],
   "source": [
    "tabla <- \"Nombre  ProteinID Longitud\n",
    "FUS Q6IBQ5 526\n",
    "FIBP Q6IBQ3 364\"\n",
    "\n",
    "data <- read.table(text=tabla, header=TRUE)\n",
    "data"
   ]
  }
 ],
 "metadata": {
  "kernelspec": {
   "display_name": "R",
   "language": "R",
   "name": "ir"
  },
  "language_info": {
   "codemirror_mode": "r",
   "file_extension": ".r",
   "mimetype": "text/x-r-source",
   "name": "R",
   "pygments_lexer": "r",
   "version": "4.0.3"
  }
 },
 "nbformat": 4,
 "nbformat_minor": 5
}
