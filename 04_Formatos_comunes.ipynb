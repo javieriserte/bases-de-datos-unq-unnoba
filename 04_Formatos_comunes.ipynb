{
 "cells": [
  {
   "cell_type": "markdown",
   "id": "30be9d26",
   "metadata": {},
   "source": [
    "# Formatos comunes en las respuestas HTTP\n",
    "\n",
    "Las bases datos biológicas, y otros servicios online, usan tipicamente poco formatos para devolver los datos:\n",
    "\n",
    "- XML\n",
    "- JSON\n",
    "- Texto tabular\n"
   ]
  },
  {
   "cell_type": "markdown",
   "id": "8d23d251",
   "metadata": {},
   "source": [
    "## XML - Extensible Markup Language\n",
    "\n",
    "Es un formato de texto que permite representar datos de formar jerarquica y arbitrario.\n",
    "No está pensado para ser leido directamente por un usuario.\n",
    "\n",
    "```xml\n",
    "<?xml version=\"1.0\" encoding=\"UTF-8\"?>\n",
    "<ResultadoDeBusqueda>\n",
    "    <Proteinas>\n",
    "        <Protein>\n",
    "            <Nombre>\n",
    "                FUS\n",
    "            </Nombre>\n",
    "            <ProteinID>\n",
    "                Q6IBQ5\n",
    "            </ProteinID>\n",
    "            <Length>\n",
    "                526\n",
    "            </Length>\n",
    "        </Protein>\n",
    "        <Protein>\n",
    "            <Nombre>\n",
    "                FIBP\n",
    "            </Nombre>\n",
    "            <ProteinID>\n",
    "                Q6IBQ3\n",
    "            </ProteinID>\n",
    "            <Length>\n",
    "                364\n",
    "            </Length>\n",
    "        </Protein>\n",
    "    </Proteinas>\n",
    "    <NumeroDeResultados>\n",
    "        2\n",
    "    </NumeroDeResultados>\n",
    "</ResultadoDeBusqueda>\n",
    "```"
   ]
  },
  {
   "cell_type": "code",
   "execution_count": 179,
   "id": "d540f489",
   "metadata": {},
   "outputs": [],
   "source": [
    "library(xml2)"
   ]
  },
  {
   "cell_type": "code",
   "execution_count": 180,
   "id": "a6dfa794",
   "metadata": {},
   "outputs": [],
   "source": [
    "xml_content <- '<?xml version=\"1.0\" encoding=\"UTF-8\"?>\n",
    "<ResultadoDeBusqueda>\n",
    "<Proteinas>\n",
    "<Protein>\n",
    "<Nombre>FUS</Nombre>\n",
    "<ProteinID>Q6IBQ5</ProteinID>\n",
    "<Longitud>526</Longitud>\n",
    "</Protein>\n",
    "<Protein>\n",
    "<Nombre>FIBP</Nombre>\n",
    "<ProteinID>Q6IBQ3</ProteinID>\n",
    "<Longitud>364</Longitud>\n",
    "</Protein>\n",
    "</Proteinas>\n",
    "<NumeroDeResultados>2</NumeroDeResultados>\n",
    "</ResultadoDeBusqueda>'\n",
    "\n",
    "# Lee el Texto en formato XML\n",
    "xml_document <- read_xml(xml_content)\n",
    "\n",
    "# Lo convierte a una lista\n",
    "xml_list <- as_list(xml_document)"
   ]
  },
  {
   "cell_type": "code",
   "execution_count": 181,
   "id": "ac9589a8",
   "metadata": {
    "scrolled": true
   },
   "outputs": [
    {
     "data": {
      "text/html": [
       "<dl>\n",
       "\t<dt>$Proteinas</dt>\n",
       "\t\t<dd><dl>\n",
       "\t<dt>$Protein</dt>\n",
       "\t\t<dd><dl>\n",
       "\t<dt>$Nombre</dt>\n",
       "\t\t<dd><ol>\n",
       "\t<li>'FUS'</li>\n",
       "</ol>\n",
       "</dd>\n",
       "\t<dt>$ProteinID</dt>\n",
       "\t\t<dd><ol>\n",
       "\t<li>'Q6IBQ5'</li>\n",
       "</ol>\n",
       "</dd>\n",
       "\t<dt>$Longitud</dt>\n",
       "\t\t<dd><ol>\n",
       "\t<li>'526'</li>\n",
       "</ol>\n",
       "</dd>\n",
       "</dl>\n",
       "</dd>\n",
       "\t<dt>$Protein</dt>\n",
       "\t\t<dd><dl>\n",
       "\t<dt>$Nombre</dt>\n",
       "\t\t<dd><ol>\n",
       "\t<li>'FIBP'</li>\n",
       "</ol>\n",
       "</dd>\n",
       "\t<dt>$ProteinID</dt>\n",
       "\t\t<dd><ol>\n",
       "\t<li>'Q6IBQ3'</li>\n",
       "</ol>\n",
       "</dd>\n",
       "\t<dt>$Longitud</dt>\n",
       "\t\t<dd><ol>\n",
       "\t<li>'364'</li>\n",
       "</ol>\n",
       "</dd>\n",
       "</dl>\n",
       "</dd>\n",
       "</dl>\n",
       "</dd>\n",
       "\t<dt>$NumeroDeResultados</dt>\n",
       "\t\t<dd><ol>\n",
       "\t<li>'2'</li>\n",
       "</ol>\n",
       "</dd>\n",
       "</dl>\n"
      ],
      "text/latex": [
       "\\begin{description}\n",
       "\\item[\\$Proteinas] \\begin{description}\n",
       "\\item[\\$Protein] \\begin{description}\n",
       "\\item[\\$Nombre] \\begin{enumerate}\n",
       "\\item 'FUS'\n",
       "\\end{enumerate}\n",
       "\n",
       "\\item[\\$ProteinID] \\begin{enumerate}\n",
       "\\item 'Q6IBQ5'\n",
       "\\end{enumerate}\n",
       "\n",
       "\\item[\\$Longitud] \\begin{enumerate}\n",
       "\\item '526'\n",
       "\\end{enumerate}\n",
       "\n",
       "\\end{description}\n",
       "\n",
       "\\item[\\$Protein] \\begin{description}\n",
       "\\item[\\$Nombre] \\begin{enumerate}\n",
       "\\item 'FIBP'\n",
       "\\end{enumerate}\n",
       "\n",
       "\\item[\\$ProteinID] \\begin{enumerate}\n",
       "\\item 'Q6IBQ3'\n",
       "\\end{enumerate}\n",
       "\n",
       "\\item[\\$Longitud] \\begin{enumerate}\n",
       "\\item '364'\n",
       "\\end{enumerate}\n",
       "\n",
       "\\end{description}\n",
       "\n",
       "\\end{description}\n",
       "\n",
       "\\item[\\$NumeroDeResultados] \\begin{enumerate}\n",
       "\\item '2'\n",
       "\\end{enumerate}\n",
       "\n",
       "\\end{description}\n"
      ],
      "text/markdown": [
       "$Proteinas\n",
       ":   $Protein\n",
       ":   $Nombre\n",
       ":   1. 'FUS'\n",
       "\n",
       "\n",
       "\n",
       "$ProteinID\n",
       ":   1. 'Q6IBQ5'\n",
       "\n",
       "\n",
       "\n",
       "$Longitud\n",
       ":   1. '526'\n",
       "\n",
       "\n",
       "\n",
       "\n",
       "\n",
       "\n",
       "$Protein\n",
       ":   $Nombre\n",
       ":   1. 'FIBP'\n",
       "\n",
       "\n",
       "\n",
       "$ProteinID\n",
       ":   1. 'Q6IBQ3'\n",
       "\n",
       "\n",
       "\n",
       "$Longitud\n",
       ":   1. '364'\n",
       "\n",
       "\n",
       "\n",
       "\n",
       "\n",
       "\n",
       "\n",
       "\n",
       "\n",
       "$NumeroDeResultados\n",
       ":   1. '2'\n",
       "\n",
       "\n",
       "\n",
       "\n",
       "\n"
      ],
      "text/plain": [
       "$Proteinas\n",
       "$Proteinas$Protein\n",
       "$Proteinas$Protein$Nombre\n",
       "$Proteinas$Protein$Nombre[[1]]\n",
       "[1] \"FUS\"\n",
       "\n",
       "\n",
       "$Proteinas$Protein$ProteinID\n",
       "$Proteinas$Protein$ProteinID[[1]]\n",
       "[1] \"Q6IBQ5\"\n",
       "\n",
       "\n",
       "$Proteinas$Protein$Longitud\n",
       "$Proteinas$Protein$Longitud[[1]]\n",
       "[1] \"526\"\n",
       "\n",
       "\n",
       "\n",
       "$Proteinas$Protein\n",
       "$Proteinas$Protein$Nombre\n",
       "$Proteinas$Protein$Nombre[[1]]\n",
       "[1] \"FIBP\"\n",
       "\n",
       "\n",
       "$Proteinas$Protein$ProteinID\n",
       "$Proteinas$Protein$ProteinID[[1]]\n",
       "[1] \"Q6IBQ3\"\n",
       "\n",
       "\n",
       "$Proteinas$Protein$Longitud\n",
       "$Proteinas$Protein$Longitud[[1]]\n",
       "[1] \"364\"\n",
       "\n",
       "\n",
       "\n",
       "\n",
       "$NumeroDeResultados\n",
       "$NumeroDeResultados[[1]]\n",
       "[1] \"2\"\n",
       "\n"
      ]
     },
     "metadata": {},
     "output_type": "display_data"
    }
   ],
   "source": [
    "# Todos los datos que están en 'ResultadoDeBusqueda'\n",
    "xml_list$ResultadoDeBusqueda"
   ]
  },
  {
   "cell_type": "code",
   "execution_count": 182,
   "id": "ec2bbebf",
   "metadata": {},
   "outputs": [
    {
     "data": {
      "text/html": [
       "2"
      ],
      "text/latex": [
       "2"
      ],
      "text/markdown": [
       "2"
      ],
      "text/plain": [
       "[1] 2"
      ]
     },
     "metadata": {},
     "output_type": "display_data"
    }
   ],
   "source": [
    "# La cantidad de resultados\n",
    "as.numeric(xml_list$ResultadoDeBusqueda$NumeroDeResultados)"
   ]
  },
  {
   "cell_type": "code",
   "execution_count": 183,
   "id": "fbd6e608",
   "metadata": {
    "scrolled": true
   },
   "outputs": [
    {
     "name": "stdout",
     "output_type": "stream",
     "text": [
      "[1] \"La lista tiene 2 proteinas\"\n"
     ]
    },
    {
     "data": {
      "text/html": [
       "<dl>\n",
       "\t<dt>$Protein</dt>\n",
       "\t\t<dd><dl>\n",
       "\t<dt>$Nombre</dt>\n",
       "\t\t<dd><ol>\n",
       "\t<li>'FUS'</li>\n",
       "</ol>\n",
       "</dd>\n",
       "\t<dt>$ProteinID</dt>\n",
       "\t\t<dd><ol>\n",
       "\t<li>'Q6IBQ5'</li>\n",
       "</ol>\n",
       "</dd>\n",
       "\t<dt>$Longitud</dt>\n",
       "\t\t<dd><ol>\n",
       "\t<li>'526'</li>\n",
       "</ol>\n",
       "</dd>\n",
       "</dl>\n",
       "</dd>\n",
       "\t<dt>$Protein</dt>\n",
       "\t\t<dd><dl>\n",
       "\t<dt>$Nombre</dt>\n",
       "\t\t<dd><ol>\n",
       "\t<li>'FIBP'</li>\n",
       "</ol>\n",
       "</dd>\n",
       "\t<dt>$ProteinID</dt>\n",
       "\t\t<dd><ol>\n",
       "\t<li>'Q6IBQ3'</li>\n",
       "</ol>\n",
       "</dd>\n",
       "\t<dt>$Longitud</dt>\n",
       "\t\t<dd><ol>\n",
       "\t<li>'364'</li>\n",
       "</ol>\n",
       "</dd>\n",
       "</dl>\n",
       "</dd>\n",
       "</dl>\n"
      ],
      "text/latex": [
       "\\begin{description}\n",
       "\\item[\\$Protein] \\begin{description}\n",
       "\\item[\\$Nombre] \\begin{enumerate}\n",
       "\\item 'FUS'\n",
       "\\end{enumerate}\n",
       "\n",
       "\\item[\\$ProteinID] \\begin{enumerate}\n",
       "\\item 'Q6IBQ5'\n",
       "\\end{enumerate}\n",
       "\n",
       "\\item[\\$Longitud] \\begin{enumerate}\n",
       "\\item '526'\n",
       "\\end{enumerate}\n",
       "\n",
       "\\end{description}\n",
       "\n",
       "\\item[\\$Protein] \\begin{description}\n",
       "\\item[\\$Nombre] \\begin{enumerate}\n",
       "\\item 'FIBP'\n",
       "\\end{enumerate}\n",
       "\n",
       "\\item[\\$ProteinID] \\begin{enumerate}\n",
       "\\item 'Q6IBQ3'\n",
       "\\end{enumerate}\n",
       "\n",
       "\\item[\\$Longitud] \\begin{enumerate}\n",
       "\\item '364'\n",
       "\\end{enumerate}\n",
       "\n",
       "\\end{description}\n",
       "\n",
       "\\end{description}\n"
      ],
      "text/markdown": [
       "$Protein\n",
       ":   $Nombre\n",
       ":   1. 'FUS'\n",
       "\n",
       "\n",
       "\n",
       "$ProteinID\n",
       ":   1. 'Q6IBQ5'\n",
       "\n",
       "\n",
       "\n",
       "$Longitud\n",
       ":   1. '526'\n",
       "\n",
       "\n",
       "\n",
       "\n",
       "\n",
       "\n",
       "$Protein\n",
       ":   $Nombre\n",
       ":   1. 'FIBP'\n",
       "\n",
       "\n",
       "\n",
       "$ProteinID\n",
       ":   1. 'Q6IBQ3'\n",
       "\n",
       "\n",
       "\n",
       "$Longitud\n",
       ":   1. '364'\n",
       "\n",
       "\n",
       "\n",
       "\n",
       "\n",
       "\n",
       "\n",
       "\n"
      ],
      "text/plain": [
       "$Protein\n",
       "$Protein$Nombre\n",
       "$Protein$Nombre[[1]]\n",
       "[1] \"FUS\"\n",
       "\n",
       "\n",
       "$Protein$ProteinID\n",
       "$Protein$ProteinID[[1]]\n",
       "[1] \"Q6IBQ5\"\n",
       "\n",
       "\n",
       "$Protein$Longitud\n",
       "$Protein$Longitud[[1]]\n",
       "[1] \"526\"\n",
       "\n",
       "\n",
       "\n",
       "$Protein\n",
       "$Protein$Nombre\n",
       "$Protein$Nombre[[1]]\n",
       "[1] \"FIBP\"\n",
       "\n",
       "\n",
       "$Protein$ProteinID\n",
       "$Protein$ProteinID[[1]]\n",
       "[1] \"Q6IBQ3\"\n",
       "\n",
       "\n",
       "$Protein$Longitud\n",
       "$Protein$Longitud[[1]]\n",
       "[1] \"364\"\n",
       "\n",
       "\n"
      ]
     },
     "metadata": {},
     "output_type": "display_data"
    }
   ],
   "source": [
    "lista_de_proteinas <- xml_list$ResultadoDeBusqueda$Proteinas\n",
    "print(paste(\"La lista tiene\", length(lista_de_proteinas), \"proteinas\"))\n",
    "lista_de_proteinas"
   ]
  },
  {
   "cell_type": "code",
   "execution_count": 184,
   "id": "9368ad2f",
   "metadata": {
    "scrolled": true
   },
   "outputs": [
    {
     "data": {
      "text/html": [
       "<dl>\n",
       "\t<dt>$Nombre</dt>\n",
       "\t\t<dd><ol>\n",
       "\t<li>'FUS'</li>\n",
       "</ol>\n",
       "</dd>\n",
       "\t<dt>$ProteinID</dt>\n",
       "\t\t<dd><ol>\n",
       "\t<li>'Q6IBQ5'</li>\n",
       "</ol>\n",
       "</dd>\n",
       "\t<dt>$Longitud</dt>\n",
       "\t\t<dd><ol>\n",
       "\t<li>'526'</li>\n",
       "</ol>\n",
       "</dd>\n",
       "</dl>\n"
      ],
      "text/latex": [
       "\\begin{description}\n",
       "\\item[\\$Nombre] \\begin{enumerate}\n",
       "\\item 'FUS'\n",
       "\\end{enumerate}\n",
       "\n",
       "\\item[\\$ProteinID] \\begin{enumerate}\n",
       "\\item 'Q6IBQ5'\n",
       "\\end{enumerate}\n",
       "\n",
       "\\item[\\$Longitud] \\begin{enumerate}\n",
       "\\item '526'\n",
       "\\end{enumerate}\n",
       "\n",
       "\\end{description}\n"
      ],
      "text/markdown": [
       "$Nombre\n",
       ":   1. 'FUS'\n",
       "\n",
       "\n",
       "\n",
       "$ProteinID\n",
       ":   1. 'Q6IBQ5'\n",
       "\n",
       "\n",
       "\n",
       "$Longitud\n",
       ":   1. '526'\n",
       "\n",
       "\n",
       "\n",
       "\n",
       "\n"
      ],
      "text/plain": [
       "$Nombre\n",
       "$Nombre[[1]]\n",
       "[1] \"FUS\"\n",
       "\n",
       "\n",
       "$ProteinID\n",
       "$ProteinID[[1]]\n",
       "[1] \"Q6IBQ5\"\n",
       "\n",
       "\n",
       "$Longitud\n",
       "$Longitud[[1]]\n",
       "[1] \"526\"\n",
       "\n"
      ]
     },
     "metadata": {},
     "output_type": "display_data"
    }
   ],
   "source": [
    "# La primer proteina\n",
    "# xml_list$ResultadoDeBusqueda$Proteinas[[1]]\n",
    "primer_proteina <- lista_de_proteinas[[1]]\n",
    "primer_proteina"
   ]
  },
  {
   "cell_type": "code",
   "execution_count": 185,
   "id": "2b27db37",
   "metadata": {
    "scrolled": true
   },
   "outputs": [
    {
     "data": {
      "text/html": [
       "<ol>\n",
       "\t<li>'FUS'</li>\n",
       "</ol>\n"
      ],
      "text/latex": [
       "\\begin{enumerate}\n",
       "\\item 'FUS'\n",
       "\\end{enumerate}\n"
      ],
      "text/markdown": [
       "1. 'FUS'\n",
       "\n",
       "\n"
      ],
      "text/plain": [
       "[[1]]\n",
       "[1] \"FUS\"\n"
      ]
     },
     "metadata": {},
     "output_type": "display_data"
    }
   ],
   "source": [
    "# Los datos de la primer proteina\n",
    "# trimws, borras los espacios en blando que hay al inicio y fin de un texto\n",
    "primer_proteina$Nombre"
   ]
  },
  {
   "cell_type": "code",
   "execution_count": 186,
   "id": "7062f4c5",
   "metadata": {
    "scrolled": true
   },
   "outputs": [
    {
     "data": {
      "text/html": [
       "<ol>\n",
       "\t<li>'FUS'</li>\n",
       "\t<li>'FIBP'</li>\n",
       "</ol>\n"
      ],
      "text/latex": [
       "\\begin{enumerate}\n",
       "\\item 'FUS'\n",
       "\\item 'FIBP'\n",
       "\\end{enumerate}\n"
      ],
      "text/markdown": [
       "1. 'FUS'\n",
       "2. 'FIBP'\n",
       "\n",
       "\n"
      ],
      "text/plain": [
       "[[1]]\n",
       "[1] \"FUS\"\n",
       "\n",
       "[[2]]\n",
       "[1] \"FIBP\"\n"
      ]
     },
     "metadata": {},
     "output_type": "display_data"
    }
   ],
   "source": [
    "# Recupero uns lista con todos los Nombres\n",
    "nombres <- c()\n",
    "for (nombre in xml_list$ResultadoDeBusqueda$Proteinas) {\n",
    "    nombres <- c(nombres, nombre$Nombre)\n",
    "}\n",
    "nombres"
   ]
  },
  {
   "cell_type": "code",
   "execution_count": 187,
   "id": "082e14b7",
   "metadata": {},
   "outputs": [
    {
     "data": {
      "text/html": [
       "<dl>\n",
       "\t<dt>$Protein</dt>\n",
       "\t\t<dd>'FUS'</dd>\n",
       "\t<dt>$Protein</dt>\n",
       "\t\t<dd>'FIBP'</dd>\n",
       "</dl>\n"
      ],
      "text/latex": [
       "\\begin{description}\n",
       "\\item[\\$Protein] 'FUS'\n",
       "\\item[\\$Protein] 'FIBP'\n",
       "\\end{description}\n"
      ],
      "text/markdown": [
       "$Protein\n",
       ":   'FUS'\n",
       "$Protein\n",
       ":   'FIBP'\n",
       "\n",
       "\n"
      ],
      "text/plain": [
       "$Protein\n",
       "[1] \"FUS\"\n",
       "\n",
       "$Protein\n",
       "[1] \"FIBP\"\n"
      ]
     },
     "metadata": {},
     "output_type": "display_data"
    }
   ],
   "source": [
    "# Lo mismo pero de otra forma\n",
    "nombres <- sapply(\n",
    "    xml_list$ResultadoDeBusqueda$Proteinas,\n",
    "    function(x) {x$Nombre}\n",
    ")\n",
    "nombres"
   ]
  },
  {
   "cell_type": "code",
   "execution_count": 188,
   "id": "454da6e5",
   "metadata": {},
   "outputs": [
    {
     "data": {
      "text/html": [
       "<table class=\"dataframe\">\n",
       "<caption>A data.frame: 2 × 3</caption>\n",
       "<thead>\n",
       "\t<tr><th></th><th scope=col>Nombre</th><th scope=col>ProteinID</th><th scope=col>Longitud</th></tr>\n",
       "\t<tr><th></th><th scope=col>&lt;named list&gt;</th><th scope=col>&lt;named list&gt;</th><th scope=col>&lt;named list&gt;</th></tr>\n",
       "</thead>\n",
       "<tbody>\n",
       "\t<tr><th scope=row>Protein</th><td>FUS</td><td>Q6IBQ5</td><td>526</td></tr>\n",
       "\t<tr><th scope=row>Protein.1</th><td>FIBP</td><td>Q6IBQ3</td><td>364</td></tr>\n",
       "</tbody>\n",
       "</table>\n"
      ],
      "text/latex": [
       "A data.frame: 2 × 3\n",
       "\\begin{tabular}{r|lll}\n",
       "  & Nombre & ProteinID & Longitud\\\\\n",
       "  & <named list> & <named list> & <named list>\\\\\n",
       "\\hline\n",
       "\tProtein & FUS & Q6IBQ5 & 526\\\\\n",
       "\tProtein.1 & FIBP & Q6IBQ3 & 364\\\\\n",
       "\\end{tabular}\n"
      ],
      "text/markdown": [
       "\n",
       "A data.frame: 2 × 3\n",
       "\n",
       "| <!--/--> | Nombre &lt;named list&gt; | ProteinID &lt;named list&gt; | Longitud &lt;named list&gt; |\n",
       "|---|---|---|---|\n",
       "| Protein | FUS | Q6IBQ5 | 526 |\n",
       "| Protein.1 | FIBP | Q6IBQ3 | 364 |\n",
       "\n"
      ],
      "text/plain": [
       "          Nombre ProteinID Longitud\n",
       "Protein   FUS    Q6IBQ5    526     \n",
       "Protein.1 FIBP   Q6IBQ3    364     "
      ]
     },
     "metadata": {},
     "output_type": "display_data"
    },
    {
     "data": {
      "text/html": [
       "<table class=\"dataframe\">\n",
       "<caption>A data.frame: 2 × 3</caption>\n",
       "<thead>\n",
       "\t<tr><th></th><th scope=col>Nombre</th><th scope=col>ProteinID</th><th scope=col>Longitud</th></tr>\n",
       "\t<tr><th></th><th scope=col>&lt;chr&gt;</th><th scope=col>&lt;chr&gt;</th><th scope=col>&lt;chr&gt;</th></tr>\n",
       "</thead>\n",
       "<tbody>\n",
       "\t<tr><th scope=row>Protein</th><td>FUS </td><td>Q6IBQ5</td><td>526</td></tr>\n",
       "\t<tr><th scope=row>Protein.1</th><td>FIBP</td><td>Q6IBQ3</td><td>364</td></tr>\n",
       "</tbody>\n",
       "</table>\n"
      ],
      "text/latex": [
       "A data.frame: 2 × 3\n",
       "\\begin{tabular}{r|lll}\n",
       "  & Nombre & ProteinID & Longitud\\\\\n",
       "  & <chr> & <chr> & <chr>\\\\\n",
       "\\hline\n",
       "\tProtein & FUS  & Q6IBQ5 & 526\\\\\n",
       "\tProtein.1 & FIBP & Q6IBQ3 & 364\\\\\n",
       "\\end{tabular}\n"
      ],
      "text/markdown": [
       "\n",
       "A data.frame: 2 × 3\n",
       "\n",
       "| <!--/--> | Nombre &lt;chr&gt; | ProteinID &lt;chr&gt; | Longitud &lt;chr&gt; |\n",
       "|---|---|---|---|\n",
       "| Protein | FUS  | Q6IBQ5 | 526 |\n",
       "| Protein.1 | FIBP | Q6IBQ3 | 364 |\n",
       "\n"
      ],
      "text/plain": [
       "          Nombre ProteinID Longitud\n",
       "Protein   FUS    Q6IBQ5    526     \n",
       "Protein.1 FIBP   Q6IBQ3    364     "
      ]
     },
     "metadata": {},
     "output_type": "display_data"
    }
   ],
   "source": [
    "# Convertir a dataframe\n",
    "df <- as.data.frame(do.call(rbind, xml_list$ResultadoDeBusqueda$Proteinas))\n",
    "df\n",
    "# Otra forma\n",
    "proteinas <- as.data.frame(t(sapply(xml_list$ResultadoDeBusqueda$Proteinas, unlist)))\n",
    "proteinas\n"
   ]
  },
  {
   "cell_type": "markdown",
   "id": "493575e7",
   "metadata": {},
   "source": [
    "## JSON - Javascript Object Notation\n",
    "\n",
    "Es otro formato para representar datos jerárquicos y arbitrarios.\n",
    "Es más simple que XML.\n",
    "No está pensado para ser leido directamente por un usuario.\n",
    "\n",
    "```json\n",
    "{\n",
    "    \"Proteinas\":[\n",
    "        {\n",
    "            \"Nombre\": FUS,\n",
    "            \"ProteinID\": Q6IBQ5,\n",
    "            \"Longitud\": 526\n",
    "        },\n",
    "        {\n",
    "            \"Nombre\": FIBP,\n",
    "            \"ProteinID\": Q6IBQ3,\n",
    "            \"Longitud\": 364\n",
    "        }\n",
    "    ],\n",
    "    \"NumeroDeResultados\": 2\n",
    "}\n",
    "```"
   ]
  },
  {
   "cell_type": "code",
   "execution_count": 189,
   "id": "81560fe9",
   "metadata": {},
   "outputs": [
    {
     "name": "stderr",
     "output_type": "stream",
     "text": [
      "Warning message:\n",
      "\"package 'rjson' is in use and will not be installed\"\n"
     ]
    }
   ],
   "source": [
    "# Para instalar rjson\n",
    "install.packages(\"rjson\")"
   ]
  },
  {
   "cell_type": "code",
   "execution_count": 190,
   "id": "b0f56ca9",
   "metadata": {},
   "outputs": [],
   "source": [
    "library(\"rjson\")"
   ]
  },
  {
   "cell_type": "code",
   "execution_count": 191,
   "id": "6619e4a7",
   "metadata": {},
   "outputs": [],
   "source": [
    "respuesta <- '{\n",
    "    \"Proteinas\":[\n",
    "        {\n",
    "            \"Nombre\": \"FUS\",\n",
    "            \"ProteinID\": \"Q6IBQ5\",\n",
    "            \"Longitud\": 526\n",
    "        },\n",
    "        {\n",
    "            \"Nombre\": \"FIBP\",\n",
    "            \"ProteinID\": \"Q6IBQ3\",\n",
    "            \"Longitud\": 364\n",
    "        }\n",
    "    ],\n",
    "    \"NumeroDeResultados\": 2\n",
    "}'\n",
    "json_list <- fromJSON(respuesta)"
   ]
  },
  {
   "cell_type": "code",
   "execution_count": 192,
   "id": "656d1b5b",
   "metadata": {},
   "outputs": [
    {
     "data": {
      "text/html": [
       "<ol>\n",
       "\t<li><dl>\n",
       "\t<dt>$Nombre</dt>\n",
       "\t\t<dd>'FUS'</dd>\n",
       "\t<dt>$ProteinID</dt>\n",
       "\t\t<dd>'Q6IBQ5'</dd>\n",
       "\t<dt>$Longitud</dt>\n",
       "\t\t<dd>526</dd>\n",
       "</dl>\n",
       "</li>\n",
       "\t<li><dl>\n",
       "\t<dt>$Nombre</dt>\n",
       "\t\t<dd>'FIBP'</dd>\n",
       "\t<dt>$ProteinID</dt>\n",
       "\t\t<dd>'Q6IBQ3'</dd>\n",
       "\t<dt>$Longitud</dt>\n",
       "\t\t<dd>364</dd>\n",
       "</dl>\n",
       "</li>\n",
       "</ol>\n"
      ],
      "text/latex": [
       "\\begin{enumerate}\n",
       "\\item \\begin{description}\n",
       "\\item[\\$Nombre] 'FUS'\n",
       "\\item[\\$ProteinID] 'Q6IBQ5'\n",
       "\\item[\\$Longitud] 526\n",
       "\\end{description}\n",
       "\n",
       "\\item \\begin{description}\n",
       "\\item[\\$Nombre] 'FIBP'\n",
       "\\item[\\$ProteinID] 'Q6IBQ3'\n",
       "\\item[\\$Longitud] 364\n",
       "\\end{description}\n",
       "\n",
       "\\end{enumerate}\n"
      ],
      "text/markdown": [
       "1. $Nombre\n",
       ":   'FUS'\n",
       "$ProteinID\n",
       ":   'Q6IBQ5'\n",
       "$Longitud\n",
       ":   526\n",
       "\n",
       "\n",
       "\n",
       "2. $Nombre\n",
       ":   'FIBP'\n",
       "$ProteinID\n",
       ":   'Q6IBQ3'\n",
       "$Longitud\n",
       ":   364\n",
       "\n",
       "\n",
       "\n",
       "\n",
       "\n"
      ],
      "text/plain": [
       "[[1]]\n",
       "[[1]]$Nombre\n",
       "[1] \"FUS\"\n",
       "\n",
       "[[1]]$ProteinID\n",
       "[1] \"Q6IBQ5\"\n",
       "\n",
       "[[1]]$Longitud\n",
       "[1] 526\n",
       "\n",
       "\n",
       "[[2]]\n",
       "[[2]]$Nombre\n",
       "[1] \"FIBP\"\n",
       "\n",
       "[[2]]$ProteinID\n",
       "[1] \"Q6IBQ3\"\n",
       "\n",
       "[[2]]$Longitud\n",
       "[1] 364\n",
       "\n"
      ]
     },
     "metadata": {},
     "output_type": "display_data"
    }
   ],
   "source": [
    "# Mostrar las proteinas\n",
    "json_list$Proteinas"
   ]
  },
  {
   "cell_type": "code",
   "execution_count": 193,
   "id": "1284d247",
   "metadata": {
    "scrolled": true
   },
   "outputs": [
    {
     "data": {
      "text/html": [
       "2"
      ],
      "text/latex": [
       "2"
      ],
      "text/markdown": [
       "2"
      ],
      "text/plain": [
       "[1] 2"
      ]
     },
     "metadata": {},
     "output_type": "display_data"
    }
   ],
   "source": [
    "# Mostrar \n",
    "json_list$NumeroDeResultados"
   ]
  },
  {
   "cell_type": "code",
   "execution_count": 194,
   "id": "990add20",
   "metadata": {},
   "outputs": [
    {
     "data": {
      "text/html": [
       "<style>\n",
       ".list-inline {list-style: none; margin:0; padding: 0}\n",
       ".list-inline>li {display: inline-block}\n",
       ".list-inline>li:not(:last-child)::after {content: \"\\00b7\"; padding: 0 .5ex}\n",
       "</style>\n",
       "<ol class=list-inline><li>'FUS'</li><li>'FIBP'</li></ol>\n"
      ],
      "text/latex": [
       "\\begin{enumerate*}\n",
       "\\item 'FUS'\n",
       "\\item 'FIBP'\n",
       "\\end{enumerate*}\n"
      ],
      "text/markdown": [
       "1. 'FUS'\n",
       "2. 'FIBP'\n",
       "\n",
       "\n"
      ],
      "text/plain": [
       "[1] \"FUS\"  \"FIBP\""
      ]
     },
     "metadata": {},
     "output_type": "display_data"
    }
   ],
   "source": [
    "# Extraer los nombres de proteínas\n",
    "nombres <- c()\n",
    "for (nombre in json_list$Proteinas) {\n",
    "    nombres <- c(nombres, trimws(nombre$Nombre))\n",
    "}\n",
    "nombres"
   ]
  },
  {
   "cell_type": "code",
   "execution_count": 195,
   "id": "2236fb0f",
   "metadata": {},
   "outputs": [
    {
     "data": {
      "text/html": [
       "<style>\n",
       ".list-inline {list-style: none; margin:0; padding: 0}\n",
       ".list-inline>li {display: inline-block}\n",
       ".list-inline>li:not(:last-child)::after {content: \"\\00b7\"; padding: 0 .5ex}\n",
       "</style>\n",
       "<ol class=list-inline><li>'FUS'</li><li>'FIBP'</li></ol>\n"
      ],
      "text/latex": [
       "\\begin{enumerate*}\n",
       "\\item 'FUS'\n",
       "\\item 'FIBP'\n",
       "\\end{enumerate*}\n"
      ],
      "text/markdown": [
       "1. 'FUS'\n",
       "2. 'FIBP'\n",
       "\n",
       "\n"
      ],
      "text/plain": [
       "[1] \"FUS\"  \"FIBP\""
      ]
     },
     "metadata": {},
     "output_type": "display_data"
    }
   ],
   "source": [
    "# Otra forma\n",
    "nombres <- sapply(\n",
    "    json_list$Proteinas,\n",
    "    function(x) {x$Nombre}\n",
    ")\n",
    "nombres"
   ]
  },
  {
   "cell_type": "code",
   "execution_count": 196,
   "id": "0f024b83",
   "metadata": {},
   "outputs": [
    {
     "data": {
      "text/html": [
       "<table class=\"dataframe\">\n",
       "<caption>A data.frame: 2 × 3</caption>\n",
       "<thead>\n",
       "\t<tr><th scope=col>Nombre</th><th scope=col>ProteinID</th><th scope=col>Longitud</th></tr>\n",
       "\t<tr><th scope=col>&lt;list&gt;</th><th scope=col>&lt;list&gt;</th><th scope=col>&lt;list&gt;</th></tr>\n",
       "</thead>\n",
       "<tbody>\n",
       "\t<tr><td>FUS</td><td>Q6IBQ5</td><td>526</td></tr>\n",
       "\t<tr><td>FIBP</td><td>Q6IBQ3</td><td>364</td></tr>\n",
       "</tbody>\n",
       "</table>\n"
      ],
      "text/latex": [
       "A data.frame: 2 × 3\n",
       "\\begin{tabular}{lll}\n",
       " Nombre & ProteinID & Longitud\\\\\n",
       " <list> & <list> & <list>\\\\\n",
       "\\hline\n",
       "\t FUS & Q6IBQ5 & 526\\\\\n",
       "\t FIBP & Q6IBQ3 & 364\\\\\n",
       "\\end{tabular}\n"
      ],
      "text/markdown": [
       "\n",
       "A data.frame: 2 × 3\n",
       "\n",
       "| Nombre &lt;list&gt; | ProteinID &lt;list&gt; | Longitud &lt;list&gt; |\n",
       "|---|---|---|\n",
       "| FUS | Q6IBQ5 | 526 |\n",
       "| FIBP | Q6IBQ3 | 364 |\n",
       "\n"
      ],
      "text/plain": [
       "  Nombre ProteinID Longitud\n",
       "1 FUS    Q6IBQ5    526     \n",
       "2 FIBP   Q6IBQ3    364     "
      ]
     },
     "metadata": {},
     "output_type": "display_data"
    },
    {
     "data": {
      "text/html": [
       "<table class=\"dataframe\">\n",
       "<caption>A data.frame: 2 × 3</caption>\n",
       "<thead>\n",
       "\t<tr><th scope=col>Nombre</th><th scope=col>ProteinID</th><th scope=col>Longitud</th></tr>\n",
       "\t<tr><th scope=col>&lt;chr&gt;</th><th scope=col>&lt;chr&gt;</th><th scope=col>&lt;chr&gt;</th></tr>\n",
       "</thead>\n",
       "<tbody>\n",
       "\t<tr><td>FUS </td><td>Q6IBQ5</td><td>526</td></tr>\n",
       "\t<tr><td>FIBP</td><td>Q6IBQ3</td><td>364</td></tr>\n",
       "</tbody>\n",
       "</table>\n"
      ],
      "text/latex": [
       "A data.frame: 2 × 3\n",
       "\\begin{tabular}{lll}\n",
       " Nombre & ProteinID & Longitud\\\\\n",
       " <chr> & <chr> & <chr>\\\\\n",
       "\\hline\n",
       "\t FUS  & Q6IBQ5 & 526\\\\\n",
       "\t FIBP & Q6IBQ3 & 364\\\\\n",
       "\\end{tabular}\n"
      ],
      "text/markdown": [
       "\n",
       "A data.frame: 2 × 3\n",
       "\n",
       "| Nombre &lt;chr&gt; | ProteinID &lt;chr&gt; | Longitud &lt;chr&gt; |\n",
       "|---|---|---|\n",
       "| FUS  | Q6IBQ5 | 526 |\n",
       "| FIBP | Q6IBQ3 | 364 |\n",
       "\n"
      ],
      "text/plain": [
       "  Nombre ProteinID Longitud\n",
       "1 FUS    Q6IBQ5    526     \n",
       "2 FIBP   Q6IBQ3    364     "
      ]
     },
     "metadata": {},
     "output_type": "display_data"
    }
   ],
   "source": [
    "# Convertir a dataframe\n",
    "json_data_frame <- as.data.frame(do.call(rbind, json_list$Proteinas))\n",
    "json_data_frame\n",
    "\n",
    "# Otra forma\n",
    "proteinas <- as.data.frame(t(sapply(json_list$Proteinas, unlist)))\n",
    "proteinas"
   ]
  },
  {
   "cell_type": "markdown",
   "id": "bdc015b1",
   "metadata": {},
   "source": [
    "## Texto tabular\n",
    "\n",
    "Es simplemente un texto plano que representa una tabla.\n",
    "Cada línea de texto representa una fila de la tabla, requiere especificar un caracter de separación para las columnas.\n",
    "\n",
    "Los datos que se pueden representar no son arbitrarios, tienen que tener forma de tabla y no son jerárquicos.\n",
    "\n",
    "```txt\n",
    "Nombre  ProteinID Longitud\n",
    "FUS Q6IBQ5 526\n",
    "FIBP Q6IBQ3 364\n",
    "```\n"
   ]
  },
  {
   "cell_type": "code",
   "execution_count": 197,
   "id": "14bf8e36",
   "metadata": {},
   "outputs": [
    {
     "data": {
      "text/html": [
       "<table class=\"dataframe\">\n",
       "<caption>A data.frame: 2 × 3</caption>\n",
       "<thead>\n",
       "\t<tr><th scope=col>Nombre</th><th scope=col>ProteinID</th><th scope=col>Longitud</th></tr>\n",
       "\t<tr><th scope=col>&lt;chr&gt;</th><th scope=col>&lt;chr&gt;</th><th scope=col>&lt;int&gt;</th></tr>\n",
       "</thead>\n",
       "<tbody>\n",
       "\t<tr><td>FUS </td><td>Q6IBQ5</td><td>526</td></tr>\n",
       "\t<tr><td>FIBP</td><td>Q6IBQ3</td><td>364</td></tr>\n",
       "</tbody>\n",
       "</table>\n"
      ],
      "text/latex": [
       "A data.frame: 2 × 3\n",
       "\\begin{tabular}{lll}\n",
       " Nombre & ProteinID & Longitud\\\\\n",
       " <chr> & <chr> & <int>\\\\\n",
       "\\hline\n",
       "\t FUS  & Q6IBQ5 & 526\\\\\n",
       "\t FIBP & Q6IBQ3 & 364\\\\\n",
       "\\end{tabular}\n"
      ],
      "text/markdown": [
       "\n",
       "A data.frame: 2 × 3\n",
       "\n",
       "| Nombre &lt;chr&gt; | ProteinID &lt;chr&gt; | Longitud &lt;int&gt; |\n",
       "|---|---|---|\n",
       "| FUS  | Q6IBQ5 | 526 |\n",
       "| FIBP | Q6IBQ3 | 364 |\n",
       "\n"
      ],
      "text/plain": [
       "  Nombre ProteinID Longitud\n",
       "1 FUS    Q6IBQ5    526     \n",
       "2 FIBP   Q6IBQ3    364     "
      ]
     },
     "metadata": {},
     "output_type": "display_data"
    }
   ],
   "source": [
    "tabla <- \"Nombre  ProteinID Longitud\n",
    "FUS Q6IBQ5 526\n",
    "FIBP Q6IBQ3 364\"\n",
    "\n",
    "data <- read.table(text=tabla, header=TRUE)\n",
    "data"
   ]
  }
 ],
 "metadata": {
  "kernelspec": {
   "display_name": "R",
   "language": "R",
   "name": "ir"
  },
  "language_info": {
   "codemirror_mode": "r",
   "file_extension": ".r",
   "mimetype": "text/x-r-source",
   "name": "R",
   "pygments_lexer": "r",
   "version": "4.0.3"
  }
 },
 "nbformat": 4,
 "nbformat_minor": 5
}
