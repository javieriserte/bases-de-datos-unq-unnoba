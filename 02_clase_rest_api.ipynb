{
 "cells": [
  {
   "cell_type": "code",
   "execution_count": null,
   "id": "eb65d1b5-a479-459b-b07b-9ab07ca0e192",
   "metadata": {},
   "outputs": [],
   "source": [
    "import json\n",
    "import requests\n",
    "import matplotlib.pyplot as plt\n",
    "import jsonpath_ng.ext as jp\n",
    "from lxml import etree"
   ]
  },
  {
   "cell_type": "markdown",
   "id": "16a78cb0-fbaa-40f0-b43c-95ce2547e7b9",
   "metadata": {},
   "source": [
    "\n",
    "\n",
    " # Class 02 - Rest API y formatos de archivos"
   ]
  },
  {
   "cell_type": "markdown",
   "id": "eeba92c2-d02d-405f-b3fc-541ec41a27e1",
   "metadata": {},
   "source": [
    "\n",
    "\n",
    " ## Objetivos\n",
    " - Aprender a consumir una API REST\n",
    " - Aprender a leer y escribir archivos JSON\n",
    " - Aprender a leer y escribir archivos XML"
   ]
  },
  {
   "cell_type": "markdown",
   "id": "7da82c6a-f887-4be5-bac8-70fe21fc8cb4",
   "metadata": {},
   "source": [
    "\n",
    "\n",
    " ## Formato de archivos json"
   ]
  },
  {
   "cell_type": "code",
   "execution_count": null,
   "id": "8fac5327-9967-4d70-8652-d656b49dab95",
   "metadata": {},
   "outputs": [],
   "source": [
    "\n",
    "\n",
    "with open(\"data/example.json\", \"r\", encoding=\"utf8\") as f:\n",
    "  # Cargamos el archivo JSON\n",
    "  data = json.load(f)\n",
    "\n",
    "# Los datos se cargan en un diccionario"
   ]
  },
  {
   "cell_type": "code",
   "execution_count": null,
   "id": "d8c2b322-fa12-4524-8933-a38256cd3c4e",
   "metadata": {},
   "outputs": [],
   "source": [
    "\n",
    "\n",
    "print(\"Header:\", data[\"header\"])\n",
    "\n",
    "for i in data[\"esearchresult\"][\"idlist\"]:\n",
    "  print(f\"Identificador : {i}\")"
   ]
  },
  {
   "cell_type": "markdown",
   "id": "b2a63f86-64c6-406d-8086-d5760f0d32af",
   "metadata": {},
   "source": [
    "\n",
    "\n",
    " ## Otra opción: Jsonpath"
   ]
  },
  {
   "cell_type": "code",
   "execution_count": null,
   "id": "4caab3b0-d897-4c18-aca5-76f5522c7492",
   "metadata": {},
   "outputs": [],
   "source": [
    "\n",
    "\n",
    "query = \"$.esearchresult.idlist[*]\"\n",
    "\n",
    "jexpr = jp.parse(query)\n",
    "# jexpr = jp.parse(\"$..idlist[*]\")\n",
    "# jexpr = jp.parse(\"$..idlist[:2]\")\n",
    "# jexpr = jp.parse(\"$..idlist[?(@ =~ '.*2$')]\")\n",
    "\n",
    "result = jexpr.find(data)\n",
    "\n",
    "for i in result:\n",
    "  print(f\"Identificador : {i.value}\")"
   ]
  },
  {
   "cell_type": "markdown",
   "id": "56f26790-6254-4352-8be2-a68dc23ec1a9",
   "metadata": {},
   "source": [
    "\n",
    "\n",
    " ## JSONPath\n",
    " Propósito: Consultar y extraer datos de estructuras JSON.\n",
    "\n",
    " - Elementos clave:\n",
    "   - Sintaxis básica:\n",
    "     - $: Raíz del documento.\n",
    "     - . o []: Acceso a hijos (ej: $.genes[0].nombre).\n",
    "     - *: Comodín para todos los elementos.\n",
    "     - ..: Búsqueda recursiva (ej: $..secuencia).\n",
    "   - Filtros:\n",
    "     - ?(): Filtros condicionales (ej: $.genes[?(@.longitud > 1000)]).\n",
    "     - Operadores lógicos: &&, ||, ==, !=.\n",
    "   - Funciones:\n",
    "     - Soporte limitado (varía por implementación): length(), keys().\n",
    "   - Slice de arrays:\n",
    "     - [start:end:step] (ej: $.genes[0:3])."
   ]
  },
  {
   "cell_type": "markdown",
   "id": "b975e8b5-ee5f-4979-9ae0-fbdc8619c13d",
   "metadata": {},
   "source": [
    "\n",
    "\n",
    " ## Formato de archivos XML"
   ]
  },
  {
   "cell_type": "code",
   "execution_count": null,
   "id": "b3a71bc6-43c2-4850-888c-ab0429f9d8d9",
   "metadata": {},
   "outputs": [],
   "source": [
    "\n",
    "\n",
    "with open(\"data/example.xml\", \"r\", encoding=\"utf8\") as f:\n",
    "  # Cargamos el archivo XML\n",
    "  tree = etree.parse(f)"
   ]
  },
  {
   "cell_type": "code",
   "execution_count": null,
   "id": "473d7f0a-beda-4a70-a833-0312e13dd45e",
   "metadata": {},
   "outputs": [],
   "source": [
    "\n",
    "\n",
    "# Query con XPath language\n",
    "\n",
    "# tree.xpath(\"//IdList[Id]/Id/text()\")\n",
    "tree.xpath('//Id[position()<=2]/text()')\n",
    "# tree.xpath(\n",
    "#   '//Id[substring(text(), string-length(text()), 1) = \"2\"]/text()'\n",
    "# )"
   ]
  },
  {
   "cell_type": "markdown",
   "id": "3e46893d-8078-4284-9848-faf588afca89",
   "metadata": {},
   "source": [
    "\n",
    "\n",
    " ## XPath\n",
    "\n",
    " - Propósito: Navegar y consultar documentos XML.\n",
    " - Elementos clave:\n",
    "   - Sintaxis básica:\n",
    "     - /: Raíz o separador de nodos (ej: /eSearchResult/IdList/Id).\n",
    "     - //: Búsqueda en cualquier nivel (ej: //Hit_id).\n",
    "     - @: Atributos (ej: //gen[@nombre=\"TP53\"]).\n",
    "   - Funciones:\n",
    "     - text(): Obtener texto de un nodo.\n",
    "     - contains(), starts-with(), substring().\n",
    "     - count(), position(), last().\n",
    "   - Ejes:\n",
    "     - child::, parent::, descendant::, etc.\n",
    "   - Operadores:\n",
    "     - | (unión), =, !=, >, <."
   ]
  },
  {
   "cell_type": "markdown",
   "id": "274ae9d6-8dbc-428e-a8ef-c0b096849739",
   "metadata": {},
   "source": [
    "\n",
    "\n",
    " ## Consumiendo una API REST"
   ]
  },
  {
   "cell_type": "code",
   "execution_count": null,
   "id": "668003ef-b3f4-48c7-9fc8-776274a78d4f",
   "metadata": {},
   "outputs": [],
   "source": [
    "\n",
    "\n",
    "# Definimos la URL de la API\n",
    "\n",
    "URL = \"https://eutils.ncbi.nlm.nih.gov/entrez/eutils/esearch.fcgi\"\n",
    "\n",
    "# Definimos los parámetros de la consulta\n",
    "params = {\n",
    "  \"db\": \"pubmed\",\n",
    "  \"term\": \"cancer\",\n",
    "  \"retmode\": \"json\",\n",
    "  \"retmax\": 10,\n",
    "}\n",
    "\n",
    "# Realizamos la consulta a la API\n",
    "\n",
    "response = requests.get(URL, params=params, timeout=10)\n",
    "\n",
    "# Verificamos el código de estado de la respuesta\n",
    "\n",
    "if response.status_code == 200:\n",
    "  # La consulta fue exitosa\n",
    "  data = response.json()\n",
    "  print(\"Consulta exitosa\")\n",
    "else:\n",
    "  # La consulta falló\n",
    "  print(f\"Error en la consulta: {response.status_code}\")"
   ]
  },
  {
   "cell_type": "code",
   "execution_count": null,
   "id": "2ec90c41-a999-422b-a802-74aed14b8054",
   "metadata": {},
   "outputs": [],
   "source": [
    "\n",
    "\n",
    "identifiers = jp.parse(\"$.esearchresult.idlist[*]\").find(data)\n",
    "summaries = {}\n",
    "\n",
    "for i in identifiers:\n",
    "  URL = \"https://eutils.ncbi.nlm.nih.gov/entrez/eutils/esummary.fcgi\"\n",
    "  params = {\n",
    "    \"db\": \"pubmed\",\n",
    "    \"id\": i.value,\n",
    "    \"retmode\": \"json\",\n",
    "  }\n",
    "  response = requests.get(URL, params=params, timeout=10)\n",
    "  if response.status_code == 200:\n",
    "    data = response.json()\n",
    "    summaries[i.value] = data\n",
    "    print(\"Consulta exitosa\")\n",
    "  else:\n",
    "    print(f\"Error en la consulta: {i.value}/{response.status_code}\")"
   ]
  },
  {
   "cell_type": "code",
   "execution_count": null,
   "id": "11c3a0ae-7b7c-4b8b-ab0b-78c4b5edca79",
   "metadata": {},
   "outputs": [],
   "source": [
    "\n",
    "\n",
    "for i, summary in summaries.items():\n",
    "  print(f\"Title: {summary[\"result\"][i][\"title\"]})\")"
   ]
  },
  {
   "cell_type": "code",
   "execution_count": null,
   "id": "75b50609-09ab-4e8f-a98c-64ad81acc83c",
   "metadata": {},
   "outputs": [],
   "source": [
    "\n",
    "\n",
    "# Definir los parámetros de la consulta\n",
    "latitude, longitude = -38.71761385288716, -62.26550770200703\n",
    "payload = {\n",
    "  \"parameters\": \"T2M,PRECTOTCORR\", # Temperatura y precipitación\n",
    "  \"community\": \"RE\", # Tipo de usuario\n",
    "  \"longitude\": longitude,\n",
    "  \"latitude\": latitude,\n",
    "  \"start\":  \"20250301\", # Fecha de inicio (YYYYMMDD)\n",
    "  \"end\": \"20250331\", # Fecha de fin (YYYYMMDD)\n",
    "  \"format\": \"JSON\", # Formato de respuesta\n",
    "}\n",
    "\n",
    "# Realizar la petición HTTP GET\n",
    "response = requests.get(\n",
    "  \"https://power.larc.nasa.gov/api/temporal/daily/point\",\n",
    "  params = payload,\n",
    "  timeout = 30\n",
    ")\n",
    "\n",
    "# Verificar el código de estado de la respuesta\n",
    "if response.status_code == 200:\n",
    "  data = response.json()\n",
    "else:\n",
    "  print(f\"Error en la consulta: {response.status_code}\")"
   ]
  },
  {
   "cell_type": "code",
   "execution_count": null,
   "id": "8cf0af77-1882-42e8-8181-22fcfb61e180",
   "metadata": {},
   "outputs": [],
   "source": [
    "\n",
    "\n",
    "t2m, config_t2m = [\n",
    "  x.value for x in jp.parse( \"$..T2M[*]\").find(data)\n",
    "]\n",
    "t2m = sorted(\n",
    "  [\n",
    "    (day, float(temp)) for day, temp in t2m.items()\n",
    "    if temp > -900\n",
    "  ]\n",
    ")"
   ]
  },
  {
   "cell_type": "code",
   "execution_count": null,
   "id": "d2c4a965-cfd5-44df-a0d5-ed307ba9602f",
   "metadata": {},
   "outputs": [],
   "source": [
    "\n",
    "\n",
    "prectot, config_t2m = [\n",
    "  x.value for x in jp.parse(\"$..PRECTOTCORR[*]\").find(data)\n",
    "]\n",
    "prectot = sorted(\n",
    "  [\n",
    "    (day, float(temp)) for day, temp in prectot.items()\n",
    "    if temp > -900\n",
    "  ]\n",
    ")"
   ]
  },
  {
   "cell_type": "code",
   "execution_count": null,
   "id": "314f6f35-a0df-4b8e-931c-ba09947986a2",
   "metadata": {},
   "outputs": [],
   "source": [
    "\n",
    "\n",
    "fig, ax = plt.subplots(figsize=(10, 5))\n",
    "\n",
    "days = [f\"{day[4:6]}/{day[6:9]}\" for day, _ in t2m]\n",
    "ax.plot(\n",
    "  range(len(t2m)),\n",
    "  [temp for _, temp in t2m],\n",
    "  label=\"Temperatura diaria\",\n",
    "  color=\"blue\",\n",
    ")\n",
    "ax2 = ax.twinx()\n",
    "ax2.plot(\n",
    "  range(len(prectot)),\n",
    "  [temp for _, temp in prectot],\n",
    "  label=\"Precipitación diaria\",\n",
    "  color=\"green\"\n",
    ")\n",
    "ax.set_xticks(range(len(t2m)))\n",
    "ax.set_xticklabels(days, rotation=60, fontsize=10)\n",
    "ax.set_xlabel(\"Fecha\")\n",
    "ax.set_ylabel(\"Temperatura (°C)\")\n",
    "ax2.set_ylabel(\"Precipitaciones (mm/day)\")\n",
    "ax.legend(loc=\"upper left\")\n",
    "ax2.legend(loc=\"upper right\")\n",
    "\n",
    "ax.set_title(\n",
    "  \"Temperatura y precipitaciones en el mes de marzo 2025, en Quilmes\"\n",
    ")\n",
    "fig.tight_layout()"
   ]
  },
  {
   "cell_type": "markdown",
   "metadata": {},
   "source": [
    "## Ejercicios\n",
    "\n"
   ]
  },
  {
   "cell_type": "markdown",
   "metadata": {},
   "source": [
    "### 1. Recuperar datos de JSON\n",
    "\n",
    "Leer el archivo 565671962.json y recuperar estos datos:\n",
    "\n",
    "- número de acceso\n",
    "- Número de version\n",
    "- Organismo\n",
    "- Taxonomy id\n",
    "- Tipo de biomolécula\n",
    "- Longitud de la molécula\n",
    "\n"
   ]
  },
  {
   "cell_type": "markdown",
   "metadata": {},
   "source": [
    "### 2. Recuperar datos anidados de JSON\n",
    "\n",
    "El archivo 40203473.json contiene datos de una publicación en Pubmed.\n",
    "Leer el archivo y recuperar:\n",
    "\n",
    "- Todos los autores.\n",
    "- El último Autor.\n",
    "- El DOI.\n",
    "- La historia de publicación.\n"
   ]
  },
  {
   "cell_type": "markdown",
   "metadata": {},
   "source": [
    "### 3. Recuperar datos de XML\n",
    "\n",
    "El archivo 314295.xml tiene datos de una entrada de la base de datos taxonomy de\n",
    "NCBI.\n",
    "\n",
    "Leer el archivo y recuperar:\n",
    "\n",
    "- El Rank\n",
    "- DIvision\n",
    "- Nombre científico\n",
    "- Nombre Común\n",
    "- TaxId"
   ]
  },
  {
   "cell_type": "markdown",
   "metadata": {},
   "source": [
    "### 4. Recuperar datos XML anidados\n",
    "\n",
    "El archivo 45534748.xml contiene una entrada de la base de datos BioSample.\n",
    "\n",
    "Leer el archivo y recuperar todos los atributos, que no tengan el texto\n",
    "\"not aplicable\"."
   ]
  },
  {
   "cell_type": "markdown",
   "metadata": {},
   "source": [
    "### 5. Mapa de lluvias en una zona\n",
    "\n",
    "Dados dos puntos en coordenadas geográficas (lat, long), generar una grilla\n",
    "cuadrada de 5 x 5 puntos (donde los dos puntos originales son vértices\n",
    "opuestos del cuadrado) y obtener las precipitaciones totales usando el\n",
    "servicio de NASA Power (Ojo con la cantidad de consultas por minutos...)"
   ]
  }
 ],
 "metadata": {
  "kernelspec": {
   "display_name": ".venv",
   "language": "python",
   "name": "python3"
  },
  "language_info": {
   "codemirror_mode": {
    "name": "ipython",
    "version": 3
   },
   "file_extension": ".py",
   "mimetype": "text/x-python",
   "name": "python",
   "nbconvert_exporter": "python",
   "pygments_lexer": "ipython3",
   "version": "3.13.0"
  }
 },
 "nbformat": 4,
 "nbformat_minor": 2
}
