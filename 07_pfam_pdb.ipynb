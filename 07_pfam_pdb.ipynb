{
 "cells": [
  {
   "cell_type": "code",
   "execution_count": null,
   "id": "4b8c4c4a",
   "metadata": {
    "vscode": {
     "languageId": "r"
    }
   },
   "outputs": [],
   "source": [
    "#install.packages(\"Rpdb\")\n",
    "#install.packages(\"bio3d\")"
   ]
  },
  {
   "cell_type": "code",
   "execution_count": null,
   "id": "2c2e2a8b",
   "metadata": {
    "vscode": {
     "languageId": "r"
    }
   },
   "outputs": [],
   "source": [
    "#install.packages(\"remotes\")\n",
    "#remotes::install_github(\"nvelden/NGLVieweR\")"
   ]
  },
  {
   "cell_type": "code",
   "execution_count": null,
   "id": "3f836157",
   "metadata": {
    "vscode": {
     "languageId": "r"
    }
   },
   "outputs": [],
   "source": [
    "library(httr)\n",
    "library(xml2)"
   ]
  },
  {
   "cell_type": "markdown",
   "id": "f3fd7649",
   "metadata": {},
   "source": [
    "# Acceso a Pfam"
   ]
  },
  {
   "cell_type": "markdown",
   "id": "dc0017c7",
   "metadata": {},
   "source": [
    "- **Base de datos Pfam:**\n",
    "  - Es una gran colección de familias de dominios de proteínas.\n",
    "- **Cada familia Pfam:**\n",
    "  - Representada por múltiples alineamientos de secuencias\n",
    "    y un modelo oculto de Markov (HMM).\n",
    "- **Entrada Pfam-A:**\n",
    "  - Generalmente conocida como una entrada Pfam-A.\n",
    "- **Contenido de cada entrada Pfam-A:**\n",
    "  - Alineamiento de semillas curado que contiene un pequeño conjunto de miembros\n",
    "    representativos de la familia.\n",
    "  - Perfil HMM construido a partir del alineamiento de semillas.\n",
    "  - Alineamiento completo generado automáticamente, que contiene todas las\n",
    "    secuencias de proteínas detectables pertenecientes a la familia.\n",
    "- **Generación del alineamiento completo:**\n",
    "  - Realizado mediante búsquedas de HMM de perfil en bases de datos de\n",
    "    secuencias primarias.\n",
    "- **Se accede por la web de interpro.**\n",
    "  - Previamente tenía una web propia.\n",
    "- **URL**\n",
    "  - Web: https://www.ebi.ac.uk/interpro/entry/pfam/#table\n",
    "  - API: \"https://www.ebi.ac.uk/interpro/api/\"\n",
    "  - API reference: https://pfam-docs.readthedocs.io/en/latest/api.html"
   ]
  },
  {
   "cell_type": "markdown",
   "id": "adb8d883",
   "metadata": {},
   "source": [
    "## Recuperar datos de las familias disponibles\n",
    "\n",
    "Uno de los servicios permite recuperar el nombre, código de acceso y descripción de todas las familias de proteínas disponibles."
   ]
  },
  {
   "cell_type": "code",
   "execution_count": null,
   "id": "fa842ac1",
   "metadata": {
    "vscode": {
     "languageId": "r"
    }
   },
   "outputs": [],
   "source": [
    "url <- \"https://www.ebi.ac.uk/interpro/api/entry/integrated/pfam\"\n",
    "respuesta <- GET(\n",
    "  url,\n",
    "  query = list(\n",
    "    type = \"family\",\n",
    "    format = \"json\",\n",
    "    page_size = 10 # 11320\n",
    "  ),\n",
    ")"
   ]
  },
  {
   "cell_type": "code",
   "execution_count": null,
   "id": "930cff94",
   "metadata": {
    "vscode": {
     "languageId": "r"
    }
   },
   "outputs": [],
   "source": [
    "results <- content(respuesta, as = \"parsed\", encoding = \"utf-8\")\n",
    "# results\n",
    "names(results)"
   ]
  },
  {
   "cell_type": "markdown",
   "id": "0f6d44e3",
   "metadata": {},
   "source": [
    "La respuesta tiene 4 campos:\n",
    "\n",
    "- count: es el número total de resultados\n",
    "- next: link a la siguiente página de resultados\n",
    "- previous: links a la página de resultados anteriores\n",
    "- results: tiene la lista de resultados:\n",
    "  - cada resultado tiene un campo llamado metadata.\n",
    "  - la metadata tiene:\n",
    "    - el accession\n",
    "    - el nombre\n",
    "    - la base de datos de origen\n",
    "    - el tipo de entrada\n",
    "    - el identificador de Interpro"
   ]
  },
  {
   "cell_type": "code",
   "execution_count": null,
   "id": "c2e85d7d",
   "metadata": {
    "vscode": {
     "languageId": "r"
    }
   },
   "outputs": [],
   "source": [
    "result_df <- as.data.frame(\n",
    "  t(\n",
    "    sapply(\n",
    "      results$results,\n",
    "      function(x) return(unlist(x$metadata))\n",
    "    )\n",
    "  )\n",
    ")\n",
    "result_df"
   ]
  },
  {
   "cell_type": "markdown",
   "id": "324a61bd",
   "metadata": {},
   "source": [
    "Podemos buscar por:\n",
    "\n",
    "- repeat: motivo repetitivos\n",
    "- domain: dominos de proteínas.\n",
    "- coiled coil: motivos coiled-coil.\n",
    "- disordered: regiones desordenadas.\n",
    "- conserved site: sitios conservados."
   ]
  },
  {
   "cell_type": "markdown",
   "id": "35289e1b",
   "metadata": {},
   "source": [
    "## Recuperar anotaciones"
   ]
  },
  {
   "cell_type": "code",
   "execution_count": null,
   "id": "01f9edb9",
   "metadata": {
    "vscode": {
     "languageId": "r"
    }
   },
   "outputs": [],
   "source": [
    "family_acc <- \"PF00082\"\n",
    "\n",
    "url <- paste(\n",
    "  \"https://www.ebi.ac.uk/interpro/api/entry/pfam\",\n",
    "  family_acc,\n",
    "  sep = \"/\"\n",
    ")\n",
    "respuesta <- GET(\n",
    "  url,\n",
    "  query = list(\n",
    "    format = \"json\"\n",
    "  ),\n",
    ")"
   ]
  },
  {
   "cell_type": "code",
   "execution_count": null,
   "id": "17061b57",
   "metadata": {
    "vscode": {
     "languageId": "r"
    }
   },
   "outputs": [],
   "source": [
    "content(respuesta)$metadata$name\n",
    "content(respuesta)$metadata$description[[1]]$text\n",
    "content(respuesta)$metadata$wikipedia$extract\n",
    "content(respuesta)$metadata\n"
   ]
  },
  {
   "cell_type": "markdown",
   "id": "e3c0cdf3",
   "metadata": {},
   "source": [
    "## Buscar proteínas que contienen un dominio pfam"
   ]
  },
  {
   "cell_type": "code",
   "execution_count": null,
   "id": "5f524725",
   "metadata": {
    "vscode": {
     "languageId": "r"
    }
   },
   "outputs": [],
   "source": [
    "pfam_domain <- \"PF00082\"\n",
    "\n",
    "url <- paste(\n",
    "  \"https://www.ebi.ac.uk/interpro/api/protein/Uniprot/entry/pfam\",\n",
    "  pfam_domain,\n",
    "  sep = \"/\"\n",
    ")\n",
    "url"
   ]
  },
  {
   "cell_type": "code",
   "execution_count": null,
   "id": "adb01fa7",
   "metadata": {
    "vscode": {
     "languageId": "r"
    }
   },
   "outputs": [],
   "source": [
    "response <- GET(\n",
    "  url,\n",
    "  query = list(format = \"json\", page_size = 100),\n",
    ")"
   ]
  },
  {
   "cell_type": "code",
   "execution_count": null,
   "id": "008120d3",
   "metadata": {
    "vscode": {
     "languageId": "r"
    }
   },
   "outputs": [],
   "source": [
    "t(\n",
    "  sapply(\n",
    "    content(response, as = \"parsed\")$results,\n",
    "    function(x) unlist(x$metadata)\n",
    "  )\n",
    ")"
   ]
  },
  {
   "cell_type": "markdown",
   "id": "26cd80be",
   "metadata": {},
   "source": [
    "## Buscar dominios pfam en una proteína\n",
    "\n"
   ]
  },
  {
   "cell_type": "code",
   "execution_count": null,
   "id": "64ae6b70",
   "metadata": {
    "vscode": {
     "languageId": "r"
    }
   },
   "outputs": [],
   "source": [
    "\n",
    "uniprot_acc <- \"P0AA25\" # Thioredoxin 1 de E. coli K 12\n",
    "\n",
    "url <- paste(\n",
    "  \"https://www.ebi.ac.uk/interpro/api/entry/pfam/protein/Uniprot\",\n",
    "  uniprot_acc,\n",
    "  sep = \"/\"\n",
    ")\n",
    "url"
   ]
  },
  {
   "cell_type": "code",
   "execution_count": null,
   "id": "bafbc446",
   "metadata": {
    "vscode": {
     "languageId": "r"
    }
   },
   "outputs": [],
   "source": [
    "response <- GET(\n",
    "  url,\n",
    "  query = list(format = \"json\", page_size = 100),\n",
    ")"
   ]
  },
  {
   "cell_type": "code",
   "execution_count": null,
   "id": "73eb07dc",
   "metadata": {
    "vscode": {
     "languageId": "r"
    }
   },
   "outputs": [],
   "source": [
    "t(\n",
    "  sapply(\n",
    "    content(response, as = \"parsed\")$results,\n",
    "    function(x) unlist(x$metadata)\n",
    "  )\n",
    ")"
   ]
  },
  {
   "cell_type": "markdown",
   "id": "116f55f0",
   "metadata": {},
   "source": [
    "## Buscar pfam domains en una secuencia"
   ]
  },
  {
   "cell_type": "code",
   "execution_count": null,
   "id": "a7bd8828",
   "metadata": {
    "vscode": {
     "languageId": "r"
    }
   },
   "outputs": [],
   "source": [
    "## Buscar dominios en un secuencia de una proteína\n",
    "url <- \"https://www.ebi.ac.uk/Tools/services/rest/iprscan5/run\"\n",
    "seq <- \"MLPGLALLLLAAWTARALEVPTDGNAGLLAEPQIAMFCGRLNMHMNVQNGKWDSDPSGTKTCIDTKEGILQYCQEVYPELQITNVVEANQPVTIQNWCKRGRKQCKTHPHFVIPYRCLVGEFVSDALLVPDKCKFLHQERMDVCETHLHWHTVAKETCSEKSTNLHDYGMLLPCGIDKFRGVEFVCCPLAEESDNVDSADAEEDDSDVWWGGADTDYADGSEDKVVEVAEEEEVAEVEEEEADDDEDDEDGDEVEEEAEEPYEEATERTTSIATTTTTTTESVEEVVREVCSEQAETGPCRAMISRWYFDVTEGKCAPFFYGGCGGNRNNFDTEEYCMAVCGSAMSQSLLKTTQEPLARDPVKLPTTAASTPDAVDKYLETPGDENEHAHFQKAKERLEAKHRERMSQVMREWEEAERQAKNLPKADKKAVIQHFQEKVESLEQEAANERQQLVETHMARVEAMLNDRRRLALENYITALQAVPPRPRHVFNMLKKYVRAEQKDRQHTLKHFEHVRMVDPKKAAQIRSQVMTHLRVIYERMNQSLSLLYNVPAVAEEIQDEVDELLQKEQNYSDDVLANMISEPRISYGNDALMPSLTETKTTVELLPVNGEFSLDDLQPWHSFGADSVPANTENEVEPVDARPAADRGLTTRPGSGLTNIKTEEISEVKMDAEFRHDSGYEVHHQKLVFFAEDVGSNKGAIIGLMVGGVVIATVIVITLVMLKKKQYTSIHHGVVEVDAAVTPEERHLSKMQQNGYENPTYKFFEQMQN\"\n",
    "\n",
    "body <- list(\n",
    "  sequence = seq,\n",
    "  email = \"my_email@gmail.com\",\n",
    "  appl = \"PfamA\",\n",
    "  goterms = \"false\",\n",
    "  pathways = \"false\"\n",
    ")\n",
    "\n",
    "response <- POST(\n",
    "  url,\n",
    "  body = body\n",
    ")"
   ]
  },
  {
   "cell_type": "code",
   "execution_count": null,
   "id": "adc45b4a",
   "metadata": {
    "vscode": {
     "languageId": "r"
    }
   },
   "outputs": [],
   "source": [
    "job_id <- content(response)"
   ]
  },
  {
   "cell_type": "code",
   "execution_count": null,
   "id": "0a60352c",
   "metadata": {
    "vscode": {
     "languageId": "r"
    }
   },
   "outputs": [],
   "source": [
    "## Tengo que verificar el estado del trabajo\n",
    "url <- paste(\n",
    "  \"https://www.ebi.ac.uk/Tools/services/rest/iprscan5/status\",\n",
    "  job_id,\n",
    "  sep = \"/\"\n",
    ")\n",
    "\n",
    "response <- GET(url, query = query)"
   ]
  },
  {
   "cell_type": "code",
   "execution_count": null,
   "id": "9657480e",
   "metadata": {
    "vscode": {
     "languageId": "r"
    }
   },
   "outputs": [],
   "source": [
    "content(response)"
   ]
  },
  {
   "cell_type": "code",
   "execution_count": null,
   "id": "288e5199",
   "metadata": {
    "vscode": {
     "languageId": "r"
    }
   },
   "outputs": [],
   "source": [
    "## Recupero el resultado\n",
    "url <- paste(\n",
    "  \"https://www.ebi.ac.uk/Tools/services/rest/iprscan5/result\",\n",
    "  job_id,\n",
    "  \"json\",\n",
    "  sep = \"/\"\n",
    ")\n",
    "\n",
    "response <- GET(url, query = query)"
   ]
  },
  {
   "cell_type": "code",
   "execution_count": null,
   "id": "bb498db2",
   "metadata": {
    "vscode": {
     "languageId": "r"
    }
   },
   "outputs": [],
   "source": [
    "results <- content(response)"
   ]
  },
  {
   "cell_type": "code",
   "execution_count": null,
   "id": "40889b67",
   "metadata": {
    "vscode": {
     "languageId": "r"
    }
   },
   "outputs": [],
   "source": [
    "t(\n",
    "  sapply(\n",
    "    results$results[[1]]$matches,\n",
    "    function(x) {\n",
    "      c(\n",
    "        acceesion = x$signature$accession,\n",
    "        name = x$signature$name,\n",
    "        description = x$signature$description,\n",
    "        type = x$signature$entry$type,\n",
    "        start = x$locations[[1]]$start,\n",
    "        end = x$locations[[1]]$end\n",
    "      )\n",
    "    }\n",
    "  )\n",
    ")\n"
   ]
  },
  {
   "cell_type": "markdown",
   "id": "a76451e5",
   "metadata": {},
   "source": [
    "## Descargar alineamientos\n",
    "\n",
    "Podemos descargas varios tipos de alineamientos de pfam\n"
   ]
  },
  {
   "cell_type": "code",
   "execution_count": null,
   "id": "bff05605",
   "metadata": {
    "vscode": {
     "languageId": "r"
    }
   },
   "outputs": [],
   "source": [
    "pfam_accession <- \"PF00085\"\n",
    "\n",
    "url <- paste(\n",
    "  \"https://www.ebi.ac.uk/interpro/wwwapi//entry/pfam\",\n",
    "  pfam_accession,\n",
    "  sep = \"/\"\n",
    ")\n",
    "\n",
    "outfile <- \"PF00085.sto.gz\"\n",
    "\n",
    "GET(\n",
    "  url,\n",
    "  query = list(\n",
    "    annotation = \"alignment:full\",\n",
    "    download = TRUE\n",
    "  ),\n",
    "  write_disk(outfile, overwrite = TRUE)\n",
    ")\n"
   ]
  },
  {
   "cell_type": "code",
   "execution_count": null,
   "id": "576001bb",
   "metadata": {
    "vscode": {
     "languageId": "r"
    }
   },
   "outputs": [],
   "source": [
    "library(R.utils)\n",
    "gunzip(outfile)\n"
   ]
  },
  {
   "cell_type": "code",
   "execution_count": null,
   "id": "5529a115",
   "metadata": {
    "vscode": {
     "languageId": "r"
    }
   },
   "outputs": [],
   "source": [
    "# Descargamos alineamientos Seed\n",
    "accession <- \"PF00085\"\n",
    "url <- paste0(\"https://pfam.xfam.org/family/\", accession, \"/alignment/seed\")\n",
    "seed_msa <- GET(url)"
   ]
  },
  {
   "cell_type": "code",
   "execution_count": null,
   "id": "f4565b1e",
   "metadata": {
    "collapsed": true,
    "vscode": {
     "languageId": "r"
    }
   },
   "outputs": [],
   "source": [
    "# Lo guardamos en el disco\n",
    "write(content(seed_msa, as=\"text\"), file=\"pf_00085_seed.stockholm\")"
   ]
  },
  {
   "cell_type": "code",
   "execution_count": null,
   "id": "711465f6",
   "metadata": {
    "vscode": {
     "languageId": "r"
    }
   },
   "outputs": [],
   "source": [
    "# Descargamos alineamientos full\n",
    "\n",
    "accession <- \"PF00085\"\n",
    "url <- paste0(\"https://pfam.xfam.org/family/\", accession, \"/alignment/full\")\n",
    "full_msa <- GET(url)"
   ]
  },
  {
   "cell_type": "code",
   "execution_count": null,
   "id": "27b7b9e3",
   "metadata": {
    "vscode": {
     "languageId": "r"
    }
   },
   "outputs": [],
   "source": [
    "# Lo guardamos en el disco\n",
    "write(content(full_msa, as=\"text\"), file=\"pf_00085_full.stockholm\")"
   ]
  },
  {
   "cell_type": "markdown",
   "id": "697d018b",
   "metadata": {},
   "source": [
    "Podemos descargar  proteomas representativos con diferente grado de indentidad de secuencia,\n",
    "que pertenecen a una familia.\n",
    "\n",
    "- RP15 Proteinas con 15% de identidad o mayor\n",
    "- RP35 Proteinas con 35% de identidad o mayor\n",
    "- RP55 Proteinas con 55% de identidad o mayor\n",
    "- RP75 Proteinas con 75% de identidad o mayor\n",
    "\n",
    "Para ello, hay que modificar la url."
   ]
  },
  {
   "cell_type": "code",
   "execution_count": null,
   "id": "88952dc6",
   "metadata": {
    "vscode": {
     "languageId": "r"
    }
   },
   "outputs": [],
   "source": [
    "url <- paste0(\"https://pfam.xfam.org/family/\", accession, \"/alignment/rp15\")\n",
    "url <- paste0(\"https://pfam.xfam.org/family/\", accession, \"/alignment/rp35\")\n",
    "url <- paste0(\"https://pfam.xfam.org/family/\", accession, \"/alignment/rp55\")\n",
    "url <- paste0(\"https://pfam.xfam.org/family/\", accession, \"/alignment/rp75\")"
   ]
  },
  {
   "cell_type": "markdown",
   "id": "61f59ce9",
   "metadata": {},
   "source": [
    "# Acceso a RSCB PDB\n",
    "\n",
    "Al igual que NCBI y Uniprot, PDB permite realizar búsqueda de texto.\n",
    "Aunque estas son bastante más complicadas de realizar que en los servicios anteriores.\n",
    "\n",
    "La consulta se tiene que escribir en formato **json**.\n",
    "\n",
    "Vamos a provar con una búsquea simple.\n",
    "\n",
    "La respuesta también está en formato json."
   ]
  },
  {
   "cell_type": "code",
   "execution_count": null,
   "id": "6d418fe6",
   "metadata": {
    "vscode": {
     "languageId": "r"
    }
   },
   "outputs": [],
   "source": [
    "library(httr)"
   ]
  },
  {
   "cell_type": "code",
   "execution_count": null,
   "id": "688f13e2",
   "metadata": {
    "vscode": {
     "languageId": "r"
    }
   },
   "outputs": [],
   "source": [
    "url <- \"https://search.rcsb.org/rcsbsearch/v2/query\"\n",
    "\n",
    "query <- '{\n",
    "  \"request_options\": {\n",
    "    \"return_all_hits\": true\n",
    "  },\n",
    "  \"query\": {\n",
    "    \"type\": \"terminal\",\n",
    "    \"service\": \"full_text\",\n",
    "    \"parameters\": {\n",
    "      \"value\": \"phosphofructokinase\"\n",
    "    }\n",
    "  },\n",
    "  \"return_type\": \"entry\"\n",
    "}'\n",
    "\n",
    "respuesta <- GET(url, query = list(json = query))"
   ]
  },
  {
   "cell_type": "code",
   "execution_count": null,
   "id": "0922d945",
   "metadata": {
    "vscode": {
     "languageId": "r"
    }
   },
   "outputs": [],
   "source": [
    "pdb_search <- content(respuesta)"
   ]
  },
  {
   "cell_type": "code",
   "execution_count": null,
   "id": "78037ed2",
   "metadata": {
    "vscode": {
     "languageId": "r"
    }
   },
   "outputs": [],
   "source": [
    "sapply(pdb_search$result_set, unlist)"
   ]
  },
  {
   "cell_type": "code",
   "execution_count": null,
   "id": "f5ec0968",
   "metadata": {
    "scrolled": false,
    "vscode": {
     "languageId": "r"
    }
   },
   "outputs": [],
   "source": [
    "# Recuperamos la cantidad de hits.\n",
    "pdb_search$total_count"
   ]
  },
  {
   "cell_type": "code",
   "execution_count": null,
   "id": "a0661c90",
   "metadata": {
    "vscode": {
     "languageId": "r"
    }
   },
   "outputs": [],
   "source": [
    "# Recuperamos todos los resultados\n",
    "length(pdb_search$result_set)"
   ]
  },
  {
   "cell_type": "code",
   "execution_count": null,
   "id": "b59519e6",
   "metadata": {
    "vscode": {
     "languageId": "r"
    }
   },
   "outputs": [],
   "source": [
    "pdb_ids <- sapply(pdb_search$result_set, function(x) x$identifier)"
   ]
  },
  {
   "cell_type": "code",
   "execution_count": 2,
   "id": "54b6a3be",
   "metadata": {
    "vscode": {
     "languageId": "r"
    }
   },
   "outputs": [
    {
     "name": "stderr",
     "output_type": "stream",
     "text": [
      "Warning message:\n",
      "\"package 'bio3d' was built under R version 4.1.3\"\n",
      "Loading required package: rgl\n",
      "\n",
      "\n",
      "Attaching package: 'Rpdb'\n",
      "\n",
      "\n",
      "The following objects are masked from 'package:bio3d':\n",
      "\n",
      "    is.pdb, read.pdb, write.pdb\n",
      "\n",
      "\n",
      "The following objects are masked from 'package:base':\n",
      "\n",
      "    norm, replicate, unsplit\n",
      "\n",
      "\n"
     ]
    }
   ],
   "source": [
    "\n",
    "library(bio3d)\n",
    "library(Rpdb)"
   ]
  },
  {
   "cell_type": "code",
   "execution_count": null,
   "id": "1f58abcc",
   "metadata": {
    "vscode": {
     "languageId": "r"
    }
   },
   "outputs": [],
   "source": [
    "# Podemos descargar el archivo PDB\n",
    "\n",
    "bio3d::get.pdb(pdb_ids[1])"
   ]
  },
  {
   "cell_type": "code",
   "execution_count": 3,
   "id": "8a483395",
   "metadata": {
    "vscode": {
     "languageId": "r"
    }
   },
   "outputs": [],
   "source": [
    "# Podemos leer los datos del PDB\n",
    "pdb1 <- bio3d::read.pdb('./1MTO.pdb')"
   ]
  },
  {
   "cell_type": "code",
   "execution_count": 5,
   "id": "989f6759",
   "metadata": {
    "vscode": {
     "languageId": "r"
    }
   },
   "outputs": [
    {
     "data": {
      "text/html": [
       "<table class=\"dataframe\">\n",
       "<caption>A data.frame: 19328 × 16</caption>\n",
       "<thead>\n",
       "\t<tr><th scope=col>type</th><th scope=col>eleno</th><th scope=col>elety</th><th scope=col>alt</th><th scope=col>resid</th><th scope=col>chain</th><th scope=col>resno</th><th scope=col>insert</th><th scope=col>x</th><th scope=col>y</th><th scope=col>z</th><th scope=col>o</th><th scope=col>b</th><th scope=col>segid</th><th scope=col>elesy</th><th scope=col>charge</th></tr>\n",
       "\t<tr><th scope=col>&lt;chr&gt;</th><th scope=col>&lt;int&gt;</th><th scope=col>&lt;chr&gt;</th><th scope=col>&lt;chr&gt;</th><th scope=col>&lt;chr&gt;</th><th scope=col>&lt;chr&gt;</th><th scope=col>&lt;int&gt;</th><th scope=col>&lt;chr&gt;</th><th scope=col>&lt;dbl&gt;</th><th scope=col>&lt;dbl&gt;</th><th scope=col>&lt;dbl&gt;</th><th scope=col>&lt;dbl&gt;</th><th scope=col>&lt;dbl&gt;</th><th scope=col>&lt;chr&gt;</th><th scope=col>&lt;chr&gt;</th><th scope=col>&lt;chr&gt;</th></tr>\n",
       "</thead>\n",
       "<tbody>\n",
       "\t<tr><td>ATOM</td><td> 1</td><td>N  </td><td>NA</td><td>MET</td><td>A</td><td>1</td><td>NA</td><td>-44.169</td><td>-36.847</td><td>78.429</td><td>1</td><td>58.78</td><td>NA</td><td>N</td><td>NA</td></tr>\n",
       "\t<tr><td>ATOM</td><td> 2</td><td>CA </td><td>NA</td><td>MET</td><td>A</td><td>1</td><td>NA</td><td>-44.764</td><td>-37.009</td><td>79.792</td><td>1</td><td>58.16</td><td>NA</td><td>C</td><td>NA</td></tr>\n",
       "\t<tr><td>ATOM</td><td> 3</td><td>C  </td><td>NA</td><td>MET</td><td>A</td><td>1</td><td>NA</td><td>-46.223</td><td>-36.567</td><td>79.801</td><td>1</td><td>57.26</td><td>NA</td><td>C</td><td>NA</td></tr>\n",
       "\t<tr><td>ATOM</td><td> 4</td><td>O  </td><td>NA</td><td>MET</td><td>A</td><td>1</td><td>NA</td><td>-46.827</td><td>-36.345</td><td>78.748</td><td>1</td><td>57.39</td><td>NA</td><td>O</td><td>NA</td></tr>\n",
       "\t<tr><td>ATOM</td><td> 5</td><td>CB </td><td>NA</td><td>MET</td><td>A</td><td>1</td><td>NA</td><td>-43.997</td><td>-36.171</td><td>80.822</td><td>1</td><td>58.69</td><td>NA</td><td>C</td><td>NA</td></tr>\n",
       "\t<tr><td>ATOM</td><td> 6</td><td>CG </td><td>NA</td><td>MET</td><td>A</td><td>1</td><td>NA</td><td>-42.496</td><td>-36.398</td><td>80.845</td><td>1</td><td>59.93</td><td>NA</td><td>C</td><td>NA</td></tr>\n",
       "\t<tr><td>ATOM</td><td> 7</td><td>SD </td><td>NA</td><td>MET</td><td>A</td><td>1</td><td>NA</td><td>-41.672</td><td>-35.409</td><td>82.117</td><td>1</td><td>60.99</td><td>NA</td><td>S</td><td>NA</td></tr>\n",
       "\t<tr><td>ATOM</td><td> 8</td><td>CE </td><td>NA</td><td>MET</td><td>A</td><td>1</td><td>NA</td><td>-41.036</td><td>-36.721</td><td>83.228</td><td>1</td><td>60.05</td><td>NA</td><td>C</td><td>NA</td></tr>\n",
       "\t<tr><td>ATOM</td><td> 9</td><td>N  </td><td>NA</td><td>LYS</td><td>A</td><td>2</td><td>NA</td><td>-46.779</td><td>-36.438</td><td>81.002</td><td>1</td><td>55.56</td><td>NA</td><td>N</td><td>NA</td></tr>\n",
       "\t<tr><td>ATOM</td><td>10</td><td>CA </td><td>NA</td><td>LYS</td><td>A</td><td>2</td><td>NA</td><td>-48.163</td><td>-36.012</td><td>81.168</td><td>1</td><td>53.68</td><td>NA</td><td>C</td><td>NA</td></tr>\n",
       "\t<tr><td>ATOM</td><td>11</td><td>C  </td><td>NA</td><td>LYS</td><td>A</td><td>2</td><td>NA</td><td>-48.173</td><td>-34.693</td><td>81.939</td><td>1</td><td>51.89</td><td>NA</td><td>C</td><td>NA</td></tr>\n",
       "\t<tr><td>ATOM</td><td>12</td><td>O  </td><td>NA</td><td>LYS</td><td>A</td><td>2</td><td>NA</td><td>-48.749</td><td>-33.697</td><td>81.492</td><td>1</td><td>51.70</td><td>NA</td><td>O</td><td>NA</td></tr>\n",
       "\t<tr><td>ATOM</td><td>13</td><td>CB </td><td>NA</td><td>LYS</td><td>A</td><td>2</td><td>NA</td><td>-48.959</td><td>-37.079</td><td>81.934</td><td>1</td><td>53.89</td><td>NA</td><td>C</td><td>NA</td></tr>\n",
       "\t<tr><td>ATOM</td><td>14</td><td>CG </td><td>NA</td><td>LYS</td><td>A</td><td>2</td><td>NA</td><td>-50.407</td><td>-37.224</td><td>81.474</td><td>1</td><td>52.96</td><td>NA</td><td>C</td><td>NA</td></tr>\n",
       "\t<tr><td>ATOM</td><td>15</td><td>CD </td><td>NA</td><td>LYS</td><td>A</td><td>2</td><td>NA</td><td>-50.464</td><td>-37.621</td><td>80.003</td><td>1</td><td>52.53</td><td>NA</td><td>C</td><td>NA</td></tr>\n",
       "\t<tr><td>ATOM</td><td>16</td><td>CE </td><td>NA</td><td>LYS</td><td>A</td><td>2</td><td>NA</td><td>-51.891</td><td>-37.669</td><td>79.486</td><td>1</td><td>51.67</td><td>NA</td><td>C</td><td>NA</td></tr>\n",
       "\t<tr><td>ATOM</td><td>17</td><td>NZ </td><td>NA</td><td>LYS</td><td>A</td><td>2</td><td>NA</td><td>-51.912</td><td>-38.009</td><td>78.038</td><td>1</td><td>50.40</td><td>NA</td><td>N</td><td>NA</td></tr>\n",
       "\t<tr><td>ATOM</td><td>18</td><td>N  </td><td>NA</td><td>ARG</td><td>A</td><td>3</td><td>NA</td><td>-47.518</td><td>-34.698</td><td>83.096</td><td>1</td><td>49.54</td><td>NA</td><td>N</td><td>NA</td></tr>\n",
       "\t<tr><td>ATOM</td><td>19</td><td>CA </td><td>NA</td><td>ARG</td><td>A</td><td>3</td><td>NA</td><td>-47.438</td><td>-33.513</td><td>83.932</td><td>1</td><td>47.14</td><td>NA</td><td>C</td><td>NA</td></tr>\n",
       "\t<tr><td>ATOM</td><td>20</td><td>C  </td><td>NA</td><td>ARG</td><td>A</td><td>3</td><td>NA</td><td>-46.001</td><td>-33.231</td><td>84.349</td><td>1</td><td>44.42</td><td>NA</td><td>C</td><td>NA</td></tr>\n",
       "\t<tr><td>ATOM</td><td>21</td><td>O  </td><td>NA</td><td>ARG</td><td>A</td><td>3</td><td>NA</td><td>-45.250</td><td>-34.148</td><td>84.679</td><td>1</td><td>44.21</td><td>NA</td><td>O</td><td>NA</td></tr>\n",
       "\t<tr><td>ATOM</td><td>22</td><td>CB </td><td>NA</td><td>ARG</td><td>A</td><td>3</td><td>NA</td><td>-48.298</td><td>-33.688</td><td>85.186</td><td>1</td><td>48.19</td><td>NA</td><td>C</td><td>NA</td></tr>\n",
       "\t<tr><td>ATOM</td><td>23</td><td>CG </td><td>NA</td><td>ARG</td><td>A</td><td>3</td><td>NA</td><td>-49.782</td><td>-33.872</td><td>84.925</td><td>1</td><td>49.98</td><td>NA</td><td>C</td><td>NA</td></tr>\n",
       "\t<tr><td>ATOM</td><td>24</td><td>CD </td><td>NA</td><td>ARG</td><td>A</td><td>3</td><td>NA</td><td>-50.566</td><td>-33.698</td><td>86.211</td><td>1</td><td>51.79</td><td>NA</td><td>C</td><td>NA</td></tr>\n",
       "\t<tr><td>ATOM</td><td>25</td><td>NE </td><td>NA</td><td>ARG</td><td>A</td><td>3</td><td>NA</td><td>-52.010</td><td>-33.689</td><td>85.997</td><td>1</td><td>53.68</td><td>NA</td><td>N</td><td>NA</td></tr>\n",
       "\t<tr><td>ATOM</td><td>26</td><td>CZ </td><td>NA</td><td>ARG</td><td>A</td><td>3</td><td>NA</td><td>-52.759</td><td>-34.782</td><td>85.881</td><td>1</td><td>55.07</td><td>NA</td><td>C</td><td>NA</td></tr>\n",
       "\t<tr><td>ATOM</td><td>27</td><td>NH1</td><td>NA</td><td>ARG</td><td>A</td><td>3</td><td>NA</td><td>-52.199</td><td>-35.986</td><td>85.960</td><td>1</td><td>55.74</td><td>NA</td><td>N</td><td>NA</td></tr>\n",
       "\t<tr><td>ATOM</td><td>28</td><td>NH2</td><td>NA</td><td>ARG</td><td>A</td><td>3</td><td>NA</td><td>-54.070</td><td>-34.671</td><td>85.692</td><td>1</td><td>54.71</td><td>NA</td><td>N</td><td>NA</td></tr>\n",
       "\t<tr><td>ATOM</td><td>29</td><td>N  </td><td>NA</td><td>ILE</td><td>A</td><td>4</td><td>NA</td><td>-45.625</td><td>-31.958</td><td>84.324</td><td>1</td><td>41.55</td><td>NA</td><td>N</td><td>NA</td></tr>\n",
       "\t<tr><td>ATOM</td><td>30</td><td>CA </td><td>NA</td><td>ILE</td><td>A</td><td>4</td><td>NA</td><td>-44.285</td><td>-31.531</td><td>84.721</td><td>1</td><td>37.97</td><td>NA</td><td>C</td><td>NA</td></tr>\n",
       "\t<tr><td>...</td><td>...</td><td>...</td><td>...</td><td>...</td><td>...</td><td>...</td><td>...</td><td>...</td><td>...</td><td>...</td><td>...</td><td>...</td><td>...</td><td>...</td><td>...</td></tr>\n",
       "\t<tr><td>HETATM</td><td>19307</td><td>C2 </td><td>NA</td><td>F6P</td><td>G</td><td>1008</td><td>NA</td><td>-27.642</td><td> 0.891</td><td>124.435</td><td>1</td><td>19.92</td><td>NA</td><td>C</td><td>NA</td></tr>\n",
       "\t<tr><td>HETATM</td><td>19308</td><td>O2 </td><td>NA</td><td>F6P</td><td>G</td><td>1008</td><td>NA</td><td>-26.390</td><td> 0.280</td><td>124.749</td><td>1</td><td>18.78</td><td>NA</td><td>O</td><td>NA</td></tr>\n",
       "\t<tr><td>HETATM</td><td>19309</td><td>C3 </td><td>NA</td><td>F6P</td><td>G</td><td>1008</td><td>NA</td><td>-27.494</td><td> 2.349</td><td>123.964</td><td>1</td><td>20.79</td><td>NA</td><td>C</td><td>NA</td></tr>\n",
       "\t<tr><td>HETATM</td><td>19310</td><td>O3 </td><td>NA</td><td>F6P</td><td>G</td><td>1008</td><td>NA</td><td>-26.544</td><td> 3.083</td><td>124.687</td><td>1</td><td>20.15</td><td>NA</td><td>O</td><td>NA</td></tr>\n",
       "\t<tr><td>HETATM</td><td>19311</td><td>C4 </td><td>NA</td><td>F6P</td><td>G</td><td>1008</td><td>NA</td><td>-27.222</td><td> 2.240</td><td>122.452</td><td>1</td><td>21.51</td><td>NA</td><td>C</td><td>NA</td></tr>\n",
       "\t<tr><td>HETATM</td><td>19312</td><td>O4 </td><td>NA</td><td>F6P</td><td>G</td><td>1008</td><td>NA</td><td>-27.773</td><td> 3.292</td><td>121.659</td><td>1</td><td>21.98</td><td>NA</td><td>O</td><td>NA</td></tr>\n",
       "\t<tr><td>HETATM</td><td>19313</td><td>C5 </td><td>NA</td><td>F6P</td><td>G</td><td>1008</td><td>NA</td><td>-27.713</td><td> 0.826</td><td>122.102</td><td>1</td><td>22.28</td><td>NA</td><td>C</td><td>NA</td></tr>\n",
       "\t<tr><td>HETATM</td><td>19314</td><td>O5 </td><td>NA</td><td>F6P</td><td>G</td><td>1008</td><td>NA</td><td>-28.171</td><td> 0.231</td><td>123.332</td><td>1</td><td>20.88</td><td>NA</td><td>O</td><td>NA</td></tr>\n",
       "\t<tr><td>HETATM</td><td>19315</td><td>C6 </td><td>NA</td><td>F6P</td><td>G</td><td>1008</td><td>NA</td><td>-26.661</td><td>-0.012</td><td>121.485</td><td>1</td><td>23.49</td><td>NA</td><td>C</td><td>NA</td></tr>\n",
       "\t<tr><td>HETATM</td><td>19316</td><td>O6 </td><td>NA</td><td>F6P</td><td>G</td><td>1008</td><td>NA</td><td>-26.886</td><td>-1.427</td><td>121.918</td><td>1</td><td>24.75</td><td>NA</td><td>O</td><td>NA</td></tr>\n",
       "\t<tr><td>HETATM</td><td>19317</td><td>P  </td><td>NA</td><td>F6P</td><td>G</td><td>1008</td><td>NA</td><td>-27.812</td><td>-2.468</td><td>121.134</td><td>1</td><td>25.51</td><td>NA</td><td>P</td><td>NA</td></tr>\n",
       "\t<tr><td>HETATM</td><td>19318</td><td>O1P</td><td>NA</td><td>F6P</td><td>G</td><td>1008</td><td>NA</td><td>-29.221</td><td>-1.969</td><td>121.035</td><td>1</td><td>27.20</td><td>NA</td><td>O</td><td>NA</td></tr>\n",
       "\t<tr><td>HETATM</td><td>19319</td><td>O2P</td><td>NA</td><td>F6P</td><td>G</td><td>1008</td><td>NA</td><td>-27.275</td><td>-2.770</td><td>119.759</td><td>1</td><td>23.57</td><td>NA</td><td>O</td><td>NA</td></tr>\n",
       "\t<tr><td>HETATM</td><td>19320</td><td>O3P</td><td>NA</td><td>F6P</td><td>G</td><td>1008</td><td>NA</td><td>-27.774</td><td>-3.763</td><td>121.882</td><td>1</td><td>27.75</td><td>NA</td><td>O</td><td>NA</td></tr>\n",
       "\t<tr><td>HETATM</td><td>19321</td><td>O1 </td><td>NA</td><td>F6P</td><td>H</td><td>1007</td><td>NA</td><td>  1.167</td><td> 0.234</td><td>112.458</td><td>1</td><td>16.54</td><td>NA</td><td>O</td><td>NA</td></tr>\n",
       "\t<tr><td>HETATM</td><td>19322</td><td>C1 </td><td>NA</td><td>F6P</td><td>H</td><td>1007</td><td>NA</td><td>  0.515</td><td> 0.594</td><td>113.643</td><td>1</td><td>16.95</td><td>NA</td><td>C</td><td>NA</td></tr>\n",
       "\t<tr><td>HETATM</td><td>19323</td><td>C2 </td><td>NA</td><td>F6P</td><td>H</td><td>1007</td><td>NA</td><td> -0.992</td><td> 0.681</td><td>113.367</td><td>1</td><td>18.91</td><td>NA</td><td>C</td><td>NA</td></tr>\n",
       "\t<tr><td>HETATM</td><td>19324</td><td>O2 </td><td>NA</td><td>F6P</td><td>H</td><td>1007</td><td>NA</td><td> -1.723</td><td> 1.084</td><td>114.530</td><td>1</td><td>17.33</td><td>NA</td><td>O</td><td>NA</td></tr>\n",
       "\t<tr><td>HETATM</td><td>19325</td><td>C3 </td><td>NA</td><td>F6P</td><td>H</td><td>1007</td><td>NA</td><td> -1.493</td><td>-0.665</td><td>112.831</td><td>1</td><td>20.76</td><td>NA</td><td>C</td><td>NA</td></tr>\n",
       "\t<tr><td>HETATM</td><td>19326</td><td>O3 </td><td>NA</td><td>F6P</td><td>H</td><td>1007</td><td>NA</td><td> -1.717</td><td>-1.609</td><td>113.825</td><td>1</td><td>21.51</td><td>NA</td><td>O</td><td>NA</td></tr>\n",
       "\t<tr><td>HETATM</td><td>19327</td><td>C4 </td><td>NA</td><td>F6P</td><td>H</td><td>1007</td><td>NA</td><td> -2.724</td><td>-0.302</td><td>111.966</td><td>1</td><td>21.71</td><td>NA</td><td>C</td><td>NA</td></tr>\n",
       "\t<tr><td>HETATM</td><td>19328</td><td>O4 </td><td>NA</td><td>F6P</td><td>H</td><td>1007</td><td>NA</td><td> -2.975</td><td>-1.165</td><td>110.864</td><td>1</td><td>24.39</td><td>NA</td><td>O</td><td>NA</td></tr>\n",
       "\t<tr><td>HETATM</td><td>19329</td><td>C5 </td><td>NA</td><td>F6P</td><td>H</td><td>1007</td><td>NA</td><td> -2.474</td><td> 1.165</td><td>111.605</td><td>1</td><td>21.46</td><td>NA</td><td>C</td><td>NA</td></tr>\n",
       "\t<tr><td>HETATM</td><td>19330</td><td>O5 </td><td>NA</td><td>F6P</td><td>H</td><td>1007</td><td>NA</td><td> -1.264</td><td> 1.550</td><td>112.291</td><td>1</td><td>21.40</td><td>NA</td><td>O</td><td>NA</td></tr>\n",
       "\t<tr><td>HETATM</td><td>19331</td><td>C6 </td><td>NA</td><td>F6P</td><td>H</td><td>1007</td><td>NA</td><td> -3.566</td><td> 2.075</td><td>111.965</td><td>1</td><td>22.76</td><td>NA</td><td>C</td><td>NA</td></tr>\n",
       "\t<tr><td>HETATM</td><td>19332</td><td>O6 </td><td>NA</td><td>F6P</td><td>H</td><td>1007</td><td>NA</td><td> -2.927</td><td> 3.405</td><td>112.162</td><td>1</td><td>24.96</td><td>NA</td><td>O</td><td>NA</td></tr>\n",
       "\t<tr><td>HETATM</td><td>19333</td><td>P  </td><td>NA</td><td>F6P</td><td>H</td><td>1007</td><td>NA</td><td> -2.891</td><td> 4.598</td><td>111.084</td><td>1</td><td>25.57</td><td>NA</td><td>P</td><td>NA</td></tr>\n",
       "\t<tr><td>HETATM</td><td>19334</td><td>O1P</td><td>NA</td><td>F6P</td><td>H</td><td>1007</td><td>NA</td><td> -2.221</td><td> 4.181</td><td>109.800</td><td>1</td><td>26.34</td><td>NA</td><td>O</td><td>NA</td></tr>\n",
       "\t<tr><td>HETATM</td><td>19335</td><td>O2P</td><td>NA</td><td>F6P</td><td>H</td><td>1007</td><td>NA</td><td> -4.278</td><td> 5.143</td><td>110.812</td><td>1</td><td>24.49</td><td>NA</td><td>O</td><td>NA</td></tr>\n",
       "\t<tr><td>HETATM</td><td>19336</td><td>O3P</td><td>NA</td><td>F6P</td><td>H</td><td>1007</td><td>NA</td><td> -2.137</td><td> 5.734</td><td>111.714</td><td>1</td><td>27.54</td><td>NA</td><td>O</td><td>NA</td></tr>\n",
       "</tbody>\n",
       "</table>\n"
      ],
      "text/latex": [
       "A data.frame: 19328 × 16\n",
       "\\begin{tabular}{llllllllllllllll}\n",
       " type & eleno & elety & alt & resid & chain & resno & insert & x & y & z & o & b & segid & elesy & charge\\\\\n",
       " <chr> & <int> & <chr> & <chr> & <chr> & <chr> & <int> & <chr> & <dbl> & <dbl> & <dbl> & <dbl> & <dbl> & <chr> & <chr> & <chr>\\\\\n",
       "\\hline\n",
       "\t ATOM &  1 & N   & NA & MET & A & 1 & NA & -44.169 & -36.847 & 78.429 & 1 & 58.78 & NA & N & NA\\\\\n",
       "\t ATOM &  2 & CA  & NA & MET & A & 1 & NA & -44.764 & -37.009 & 79.792 & 1 & 58.16 & NA & C & NA\\\\\n",
       "\t ATOM &  3 & C   & NA & MET & A & 1 & NA & -46.223 & -36.567 & 79.801 & 1 & 57.26 & NA & C & NA\\\\\n",
       "\t ATOM &  4 & O   & NA & MET & A & 1 & NA & -46.827 & -36.345 & 78.748 & 1 & 57.39 & NA & O & NA\\\\\n",
       "\t ATOM &  5 & CB  & NA & MET & A & 1 & NA & -43.997 & -36.171 & 80.822 & 1 & 58.69 & NA & C & NA\\\\\n",
       "\t ATOM &  6 & CG  & NA & MET & A & 1 & NA & -42.496 & -36.398 & 80.845 & 1 & 59.93 & NA & C & NA\\\\\n",
       "\t ATOM &  7 & SD  & NA & MET & A & 1 & NA & -41.672 & -35.409 & 82.117 & 1 & 60.99 & NA & S & NA\\\\\n",
       "\t ATOM &  8 & CE  & NA & MET & A & 1 & NA & -41.036 & -36.721 & 83.228 & 1 & 60.05 & NA & C & NA\\\\\n",
       "\t ATOM &  9 & N   & NA & LYS & A & 2 & NA & -46.779 & -36.438 & 81.002 & 1 & 55.56 & NA & N & NA\\\\\n",
       "\t ATOM & 10 & CA  & NA & LYS & A & 2 & NA & -48.163 & -36.012 & 81.168 & 1 & 53.68 & NA & C & NA\\\\\n",
       "\t ATOM & 11 & C   & NA & LYS & A & 2 & NA & -48.173 & -34.693 & 81.939 & 1 & 51.89 & NA & C & NA\\\\\n",
       "\t ATOM & 12 & O   & NA & LYS & A & 2 & NA & -48.749 & -33.697 & 81.492 & 1 & 51.70 & NA & O & NA\\\\\n",
       "\t ATOM & 13 & CB  & NA & LYS & A & 2 & NA & -48.959 & -37.079 & 81.934 & 1 & 53.89 & NA & C & NA\\\\\n",
       "\t ATOM & 14 & CG  & NA & LYS & A & 2 & NA & -50.407 & -37.224 & 81.474 & 1 & 52.96 & NA & C & NA\\\\\n",
       "\t ATOM & 15 & CD  & NA & LYS & A & 2 & NA & -50.464 & -37.621 & 80.003 & 1 & 52.53 & NA & C & NA\\\\\n",
       "\t ATOM & 16 & CE  & NA & LYS & A & 2 & NA & -51.891 & -37.669 & 79.486 & 1 & 51.67 & NA & C & NA\\\\\n",
       "\t ATOM & 17 & NZ  & NA & LYS & A & 2 & NA & -51.912 & -38.009 & 78.038 & 1 & 50.40 & NA & N & NA\\\\\n",
       "\t ATOM & 18 & N   & NA & ARG & A & 3 & NA & -47.518 & -34.698 & 83.096 & 1 & 49.54 & NA & N & NA\\\\\n",
       "\t ATOM & 19 & CA  & NA & ARG & A & 3 & NA & -47.438 & -33.513 & 83.932 & 1 & 47.14 & NA & C & NA\\\\\n",
       "\t ATOM & 20 & C   & NA & ARG & A & 3 & NA & -46.001 & -33.231 & 84.349 & 1 & 44.42 & NA & C & NA\\\\\n",
       "\t ATOM & 21 & O   & NA & ARG & A & 3 & NA & -45.250 & -34.148 & 84.679 & 1 & 44.21 & NA & O & NA\\\\\n",
       "\t ATOM & 22 & CB  & NA & ARG & A & 3 & NA & -48.298 & -33.688 & 85.186 & 1 & 48.19 & NA & C & NA\\\\\n",
       "\t ATOM & 23 & CG  & NA & ARG & A & 3 & NA & -49.782 & -33.872 & 84.925 & 1 & 49.98 & NA & C & NA\\\\\n",
       "\t ATOM & 24 & CD  & NA & ARG & A & 3 & NA & -50.566 & -33.698 & 86.211 & 1 & 51.79 & NA & C & NA\\\\\n",
       "\t ATOM & 25 & NE  & NA & ARG & A & 3 & NA & -52.010 & -33.689 & 85.997 & 1 & 53.68 & NA & N & NA\\\\\n",
       "\t ATOM & 26 & CZ  & NA & ARG & A & 3 & NA & -52.759 & -34.782 & 85.881 & 1 & 55.07 & NA & C & NA\\\\\n",
       "\t ATOM & 27 & NH1 & NA & ARG & A & 3 & NA & -52.199 & -35.986 & 85.960 & 1 & 55.74 & NA & N & NA\\\\\n",
       "\t ATOM & 28 & NH2 & NA & ARG & A & 3 & NA & -54.070 & -34.671 & 85.692 & 1 & 54.71 & NA & N & NA\\\\\n",
       "\t ATOM & 29 & N   & NA & ILE & A & 4 & NA & -45.625 & -31.958 & 84.324 & 1 & 41.55 & NA & N & NA\\\\\n",
       "\t ATOM & 30 & CA  & NA & ILE & A & 4 & NA & -44.285 & -31.531 & 84.721 & 1 & 37.97 & NA & C & NA\\\\\n",
       "\t ... & ... & ... & ... & ... & ... & ... & ... & ... & ... & ... & ... & ... & ... & ... & ...\\\\\n",
       "\t HETATM & 19307 & C2  & NA & F6P & G & 1008 & NA & -27.642 &  0.891 & 124.435 & 1 & 19.92 & NA & C & NA\\\\\n",
       "\t HETATM & 19308 & O2  & NA & F6P & G & 1008 & NA & -26.390 &  0.280 & 124.749 & 1 & 18.78 & NA & O & NA\\\\\n",
       "\t HETATM & 19309 & C3  & NA & F6P & G & 1008 & NA & -27.494 &  2.349 & 123.964 & 1 & 20.79 & NA & C & NA\\\\\n",
       "\t HETATM & 19310 & O3  & NA & F6P & G & 1008 & NA & -26.544 &  3.083 & 124.687 & 1 & 20.15 & NA & O & NA\\\\\n",
       "\t HETATM & 19311 & C4  & NA & F6P & G & 1008 & NA & -27.222 &  2.240 & 122.452 & 1 & 21.51 & NA & C & NA\\\\\n",
       "\t HETATM & 19312 & O4  & NA & F6P & G & 1008 & NA & -27.773 &  3.292 & 121.659 & 1 & 21.98 & NA & O & NA\\\\\n",
       "\t HETATM & 19313 & C5  & NA & F6P & G & 1008 & NA & -27.713 &  0.826 & 122.102 & 1 & 22.28 & NA & C & NA\\\\\n",
       "\t HETATM & 19314 & O5  & NA & F6P & G & 1008 & NA & -28.171 &  0.231 & 123.332 & 1 & 20.88 & NA & O & NA\\\\\n",
       "\t HETATM & 19315 & C6  & NA & F6P & G & 1008 & NA & -26.661 & -0.012 & 121.485 & 1 & 23.49 & NA & C & NA\\\\\n",
       "\t HETATM & 19316 & O6  & NA & F6P & G & 1008 & NA & -26.886 & -1.427 & 121.918 & 1 & 24.75 & NA & O & NA\\\\\n",
       "\t HETATM & 19317 & P   & NA & F6P & G & 1008 & NA & -27.812 & -2.468 & 121.134 & 1 & 25.51 & NA & P & NA\\\\\n",
       "\t HETATM & 19318 & O1P & NA & F6P & G & 1008 & NA & -29.221 & -1.969 & 121.035 & 1 & 27.20 & NA & O & NA\\\\\n",
       "\t HETATM & 19319 & O2P & NA & F6P & G & 1008 & NA & -27.275 & -2.770 & 119.759 & 1 & 23.57 & NA & O & NA\\\\\n",
       "\t HETATM & 19320 & O3P & NA & F6P & G & 1008 & NA & -27.774 & -3.763 & 121.882 & 1 & 27.75 & NA & O & NA\\\\\n",
       "\t HETATM & 19321 & O1  & NA & F6P & H & 1007 & NA &   1.167 &  0.234 & 112.458 & 1 & 16.54 & NA & O & NA\\\\\n",
       "\t HETATM & 19322 & C1  & NA & F6P & H & 1007 & NA &   0.515 &  0.594 & 113.643 & 1 & 16.95 & NA & C & NA\\\\\n",
       "\t HETATM & 19323 & C2  & NA & F6P & H & 1007 & NA &  -0.992 &  0.681 & 113.367 & 1 & 18.91 & NA & C & NA\\\\\n",
       "\t HETATM & 19324 & O2  & NA & F6P & H & 1007 & NA &  -1.723 &  1.084 & 114.530 & 1 & 17.33 & NA & O & NA\\\\\n",
       "\t HETATM & 19325 & C3  & NA & F6P & H & 1007 & NA &  -1.493 & -0.665 & 112.831 & 1 & 20.76 & NA & C & NA\\\\\n",
       "\t HETATM & 19326 & O3  & NA & F6P & H & 1007 & NA &  -1.717 & -1.609 & 113.825 & 1 & 21.51 & NA & O & NA\\\\\n",
       "\t HETATM & 19327 & C4  & NA & F6P & H & 1007 & NA &  -2.724 & -0.302 & 111.966 & 1 & 21.71 & NA & C & NA\\\\\n",
       "\t HETATM & 19328 & O4  & NA & F6P & H & 1007 & NA &  -2.975 & -1.165 & 110.864 & 1 & 24.39 & NA & O & NA\\\\\n",
       "\t HETATM & 19329 & C5  & NA & F6P & H & 1007 & NA &  -2.474 &  1.165 & 111.605 & 1 & 21.46 & NA & C & NA\\\\\n",
       "\t HETATM & 19330 & O5  & NA & F6P & H & 1007 & NA &  -1.264 &  1.550 & 112.291 & 1 & 21.40 & NA & O & NA\\\\\n",
       "\t HETATM & 19331 & C6  & NA & F6P & H & 1007 & NA &  -3.566 &  2.075 & 111.965 & 1 & 22.76 & NA & C & NA\\\\\n",
       "\t HETATM & 19332 & O6  & NA & F6P & H & 1007 & NA &  -2.927 &  3.405 & 112.162 & 1 & 24.96 & NA & O & NA\\\\\n",
       "\t HETATM & 19333 & P   & NA & F6P & H & 1007 & NA &  -2.891 &  4.598 & 111.084 & 1 & 25.57 & NA & P & NA\\\\\n",
       "\t HETATM & 19334 & O1P & NA & F6P & H & 1007 & NA &  -2.221 &  4.181 & 109.800 & 1 & 26.34 & NA & O & NA\\\\\n",
       "\t HETATM & 19335 & O2P & NA & F6P & H & 1007 & NA &  -4.278 &  5.143 & 110.812 & 1 & 24.49 & NA & O & NA\\\\\n",
       "\t HETATM & 19336 & O3P & NA & F6P & H & 1007 & NA &  -2.137 &  5.734 & 111.714 & 1 & 27.54 & NA & O & NA\\\\\n",
       "\\end{tabular}\n"
      ],
      "text/markdown": [
       "\n",
       "A data.frame: 19328 × 16\n",
       "\n",
       "| type &lt;chr&gt; | eleno &lt;int&gt; | elety &lt;chr&gt; | alt &lt;chr&gt; | resid &lt;chr&gt; | chain &lt;chr&gt; | resno &lt;int&gt; | insert &lt;chr&gt; | x &lt;dbl&gt; | y &lt;dbl&gt; | z &lt;dbl&gt; | o &lt;dbl&gt; | b &lt;dbl&gt; | segid &lt;chr&gt; | elesy &lt;chr&gt; | charge &lt;chr&gt; |\n",
       "|---|---|---|---|---|---|---|---|---|---|---|---|---|---|---|---|\n",
       "| ATOM |  1 | N   | NA | MET | A | 1 | NA | -44.169 | -36.847 | 78.429 | 1 | 58.78 | NA | N | NA |\n",
       "| ATOM |  2 | CA  | NA | MET | A | 1 | NA | -44.764 | -37.009 | 79.792 | 1 | 58.16 | NA | C | NA |\n",
       "| ATOM |  3 | C   | NA | MET | A | 1 | NA | -46.223 | -36.567 | 79.801 | 1 | 57.26 | NA | C | NA |\n",
       "| ATOM |  4 | O   | NA | MET | A | 1 | NA | -46.827 | -36.345 | 78.748 | 1 | 57.39 | NA | O | NA |\n",
       "| ATOM |  5 | CB  | NA | MET | A | 1 | NA | -43.997 | -36.171 | 80.822 | 1 | 58.69 | NA | C | NA |\n",
       "| ATOM |  6 | CG  | NA | MET | A | 1 | NA | -42.496 | -36.398 | 80.845 | 1 | 59.93 | NA | C | NA |\n",
       "| ATOM |  7 | SD  | NA | MET | A | 1 | NA | -41.672 | -35.409 | 82.117 | 1 | 60.99 | NA | S | NA |\n",
       "| ATOM |  8 | CE  | NA | MET | A | 1 | NA | -41.036 | -36.721 | 83.228 | 1 | 60.05 | NA | C | NA |\n",
       "| ATOM |  9 | N   | NA | LYS | A | 2 | NA | -46.779 | -36.438 | 81.002 | 1 | 55.56 | NA | N | NA |\n",
       "| ATOM | 10 | CA  | NA | LYS | A | 2 | NA | -48.163 | -36.012 | 81.168 | 1 | 53.68 | NA | C | NA |\n",
       "| ATOM | 11 | C   | NA | LYS | A | 2 | NA | -48.173 | -34.693 | 81.939 | 1 | 51.89 | NA | C | NA |\n",
       "| ATOM | 12 | O   | NA | LYS | A | 2 | NA | -48.749 | -33.697 | 81.492 | 1 | 51.70 | NA | O | NA |\n",
       "| ATOM | 13 | CB  | NA | LYS | A | 2 | NA | -48.959 | -37.079 | 81.934 | 1 | 53.89 | NA | C | NA |\n",
       "| ATOM | 14 | CG  | NA | LYS | A | 2 | NA | -50.407 | -37.224 | 81.474 | 1 | 52.96 | NA | C | NA |\n",
       "| ATOM | 15 | CD  | NA | LYS | A | 2 | NA | -50.464 | -37.621 | 80.003 | 1 | 52.53 | NA | C | NA |\n",
       "| ATOM | 16 | CE  | NA | LYS | A | 2 | NA | -51.891 | -37.669 | 79.486 | 1 | 51.67 | NA | C | NA |\n",
       "| ATOM | 17 | NZ  | NA | LYS | A | 2 | NA | -51.912 | -38.009 | 78.038 | 1 | 50.40 | NA | N | NA |\n",
       "| ATOM | 18 | N   | NA | ARG | A | 3 | NA | -47.518 | -34.698 | 83.096 | 1 | 49.54 | NA | N | NA |\n",
       "| ATOM | 19 | CA  | NA | ARG | A | 3 | NA | -47.438 | -33.513 | 83.932 | 1 | 47.14 | NA | C | NA |\n",
       "| ATOM | 20 | C   | NA | ARG | A | 3 | NA | -46.001 | -33.231 | 84.349 | 1 | 44.42 | NA | C | NA |\n",
       "| ATOM | 21 | O   | NA | ARG | A | 3 | NA | -45.250 | -34.148 | 84.679 | 1 | 44.21 | NA | O | NA |\n",
       "| ATOM | 22 | CB  | NA | ARG | A | 3 | NA | -48.298 | -33.688 | 85.186 | 1 | 48.19 | NA | C | NA |\n",
       "| ATOM | 23 | CG  | NA | ARG | A | 3 | NA | -49.782 | -33.872 | 84.925 | 1 | 49.98 | NA | C | NA |\n",
       "| ATOM | 24 | CD  | NA | ARG | A | 3 | NA | -50.566 | -33.698 | 86.211 | 1 | 51.79 | NA | C | NA |\n",
       "| ATOM | 25 | NE  | NA | ARG | A | 3 | NA | -52.010 | -33.689 | 85.997 | 1 | 53.68 | NA | N | NA |\n",
       "| ATOM | 26 | CZ  | NA | ARG | A | 3 | NA | -52.759 | -34.782 | 85.881 | 1 | 55.07 | NA | C | NA |\n",
       "| ATOM | 27 | NH1 | NA | ARG | A | 3 | NA | -52.199 | -35.986 | 85.960 | 1 | 55.74 | NA | N | NA |\n",
       "| ATOM | 28 | NH2 | NA | ARG | A | 3 | NA | -54.070 | -34.671 | 85.692 | 1 | 54.71 | NA | N | NA |\n",
       "| ATOM | 29 | N   | NA | ILE | A | 4 | NA | -45.625 | -31.958 | 84.324 | 1 | 41.55 | NA | N | NA |\n",
       "| ATOM | 30 | CA  | NA | ILE | A | 4 | NA | -44.285 | -31.531 | 84.721 | 1 | 37.97 | NA | C | NA |\n",
       "| ... | ... | ... | ... | ... | ... | ... | ... | ... | ... | ... | ... | ... | ... | ... | ... |\n",
       "| HETATM | 19307 | C2  | NA | F6P | G | 1008 | NA | -27.642 |  0.891 | 124.435 | 1 | 19.92 | NA | C | NA |\n",
       "| HETATM | 19308 | O2  | NA | F6P | G | 1008 | NA | -26.390 |  0.280 | 124.749 | 1 | 18.78 | NA | O | NA |\n",
       "| HETATM | 19309 | C3  | NA | F6P | G | 1008 | NA | -27.494 |  2.349 | 123.964 | 1 | 20.79 | NA | C | NA |\n",
       "| HETATM | 19310 | O3  | NA | F6P | G | 1008 | NA | -26.544 |  3.083 | 124.687 | 1 | 20.15 | NA | O | NA |\n",
       "| HETATM | 19311 | C4  | NA | F6P | G | 1008 | NA | -27.222 |  2.240 | 122.452 | 1 | 21.51 | NA | C | NA |\n",
       "| HETATM | 19312 | O4  | NA | F6P | G | 1008 | NA | -27.773 |  3.292 | 121.659 | 1 | 21.98 | NA | O | NA |\n",
       "| HETATM | 19313 | C5  | NA | F6P | G | 1008 | NA | -27.713 |  0.826 | 122.102 | 1 | 22.28 | NA | C | NA |\n",
       "| HETATM | 19314 | O5  | NA | F6P | G | 1008 | NA | -28.171 |  0.231 | 123.332 | 1 | 20.88 | NA | O | NA |\n",
       "| HETATM | 19315 | C6  | NA | F6P | G | 1008 | NA | -26.661 | -0.012 | 121.485 | 1 | 23.49 | NA | C | NA |\n",
       "| HETATM | 19316 | O6  | NA | F6P | G | 1008 | NA | -26.886 | -1.427 | 121.918 | 1 | 24.75 | NA | O | NA |\n",
       "| HETATM | 19317 | P   | NA | F6P | G | 1008 | NA | -27.812 | -2.468 | 121.134 | 1 | 25.51 | NA | P | NA |\n",
       "| HETATM | 19318 | O1P | NA | F6P | G | 1008 | NA | -29.221 | -1.969 | 121.035 | 1 | 27.20 | NA | O | NA |\n",
       "| HETATM | 19319 | O2P | NA | F6P | G | 1008 | NA | -27.275 | -2.770 | 119.759 | 1 | 23.57 | NA | O | NA |\n",
       "| HETATM | 19320 | O3P | NA | F6P | G | 1008 | NA | -27.774 | -3.763 | 121.882 | 1 | 27.75 | NA | O | NA |\n",
       "| HETATM | 19321 | O1  | NA | F6P | H | 1007 | NA |   1.167 |  0.234 | 112.458 | 1 | 16.54 | NA | O | NA |\n",
       "| HETATM | 19322 | C1  | NA | F6P | H | 1007 | NA |   0.515 |  0.594 | 113.643 | 1 | 16.95 | NA | C | NA |\n",
       "| HETATM | 19323 | C2  | NA | F6P | H | 1007 | NA |  -0.992 |  0.681 | 113.367 | 1 | 18.91 | NA | C | NA |\n",
       "| HETATM | 19324 | O2  | NA | F6P | H | 1007 | NA |  -1.723 |  1.084 | 114.530 | 1 | 17.33 | NA | O | NA |\n",
       "| HETATM | 19325 | C3  | NA | F6P | H | 1007 | NA |  -1.493 | -0.665 | 112.831 | 1 | 20.76 | NA | C | NA |\n",
       "| HETATM | 19326 | O3  | NA | F6P | H | 1007 | NA |  -1.717 | -1.609 | 113.825 | 1 | 21.51 | NA | O | NA |\n",
       "| HETATM | 19327 | C4  | NA | F6P | H | 1007 | NA |  -2.724 | -0.302 | 111.966 | 1 | 21.71 | NA | C | NA |\n",
       "| HETATM | 19328 | O4  | NA | F6P | H | 1007 | NA |  -2.975 | -1.165 | 110.864 | 1 | 24.39 | NA | O | NA |\n",
       "| HETATM | 19329 | C5  | NA | F6P | H | 1007 | NA |  -2.474 |  1.165 | 111.605 | 1 | 21.46 | NA | C | NA |\n",
       "| HETATM | 19330 | O5  | NA | F6P | H | 1007 | NA |  -1.264 |  1.550 | 112.291 | 1 | 21.40 | NA | O | NA |\n",
       "| HETATM | 19331 | C6  | NA | F6P | H | 1007 | NA |  -3.566 |  2.075 | 111.965 | 1 | 22.76 | NA | C | NA |\n",
       "| HETATM | 19332 | O6  | NA | F6P | H | 1007 | NA |  -2.927 |  3.405 | 112.162 | 1 | 24.96 | NA | O | NA |\n",
       "| HETATM | 19333 | P   | NA | F6P | H | 1007 | NA |  -2.891 |  4.598 | 111.084 | 1 | 25.57 | NA | P | NA |\n",
       "| HETATM | 19334 | O1P | NA | F6P | H | 1007 | NA |  -2.221 |  4.181 | 109.800 | 1 | 26.34 | NA | O | NA |\n",
       "| HETATM | 19335 | O2P | NA | F6P | H | 1007 | NA |  -4.278 |  5.143 | 110.812 | 1 | 24.49 | NA | O | NA |\n",
       "| HETATM | 19336 | O3P | NA | F6P | H | 1007 | NA |  -2.137 |  5.734 | 111.714 | 1 | 27.54 | NA | O | NA |\n",
       "\n"
      ],
      "text/plain": [
       "      type   eleno elety alt resid chain resno insert x       y       z      \n",
       "1     ATOM    1    N     NA  MET   A     1     NA     -44.169 -36.847 78.429 \n",
       "2     ATOM    2    CA    NA  MET   A     1     NA     -44.764 -37.009 79.792 \n",
       "3     ATOM    3    C     NA  MET   A     1     NA     -46.223 -36.567 79.801 \n",
       "4     ATOM    4    O     NA  MET   A     1     NA     -46.827 -36.345 78.748 \n",
       "5     ATOM    5    CB    NA  MET   A     1     NA     -43.997 -36.171 80.822 \n",
       "6     ATOM    6    CG    NA  MET   A     1     NA     -42.496 -36.398 80.845 \n",
       "7     ATOM    7    SD    NA  MET   A     1     NA     -41.672 -35.409 82.117 \n",
       "8     ATOM    8    CE    NA  MET   A     1     NA     -41.036 -36.721 83.228 \n",
       "9     ATOM    9    N     NA  LYS   A     2     NA     -46.779 -36.438 81.002 \n",
       "10    ATOM   10    CA    NA  LYS   A     2     NA     -48.163 -36.012 81.168 \n",
       "11    ATOM   11    C     NA  LYS   A     2     NA     -48.173 -34.693 81.939 \n",
       "12    ATOM   12    O     NA  LYS   A     2     NA     -48.749 -33.697 81.492 \n",
       "13    ATOM   13    CB    NA  LYS   A     2     NA     -48.959 -37.079 81.934 \n",
       "14    ATOM   14    CG    NA  LYS   A     2     NA     -50.407 -37.224 81.474 \n",
       "15    ATOM   15    CD    NA  LYS   A     2     NA     -50.464 -37.621 80.003 \n",
       "16    ATOM   16    CE    NA  LYS   A     2     NA     -51.891 -37.669 79.486 \n",
       "17    ATOM   17    NZ    NA  LYS   A     2     NA     -51.912 -38.009 78.038 \n",
       "18    ATOM   18    N     NA  ARG   A     3     NA     -47.518 -34.698 83.096 \n",
       "19    ATOM   19    CA    NA  ARG   A     3     NA     -47.438 -33.513 83.932 \n",
       "20    ATOM   20    C     NA  ARG   A     3     NA     -46.001 -33.231 84.349 \n",
       "21    ATOM   21    O     NA  ARG   A     3     NA     -45.250 -34.148 84.679 \n",
       "22    ATOM   22    CB    NA  ARG   A     3     NA     -48.298 -33.688 85.186 \n",
       "23    ATOM   23    CG    NA  ARG   A     3     NA     -49.782 -33.872 84.925 \n",
       "24    ATOM   24    CD    NA  ARG   A     3     NA     -50.566 -33.698 86.211 \n",
       "25    ATOM   25    NE    NA  ARG   A     3     NA     -52.010 -33.689 85.997 \n",
       "26    ATOM   26    CZ    NA  ARG   A     3     NA     -52.759 -34.782 85.881 \n",
       "27    ATOM   27    NH1   NA  ARG   A     3     NA     -52.199 -35.986 85.960 \n",
       "28    ATOM   28    NH2   NA  ARG   A     3     NA     -54.070 -34.671 85.692 \n",
       "29    ATOM   29    N     NA  ILE   A     4     NA     -45.625 -31.958 84.324 \n",
       "30    ATOM   30    CA    NA  ILE   A     4     NA     -44.285 -31.531 84.721 \n",
       "...   ...    ...   ...   ... ...   ...   ...   ...    ...     ...     ...    \n",
       "19299 HETATM 19307 C2    NA  F6P   G     1008  NA     -27.642  0.891  124.435\n",
       "19300 HETATM 19308 O2    NA  F6P   G     1008  NA     -26.390  0.280  124.749\n",
       "19301 HETATM 19309 C3    NA  F6P   G     1008  NA     -27.494  2.349  123.964\n",
       "19302 HETATM 19310 O3    NA  F6P   G     1008  NA     -26.544  3.083  124.687\n",
       "19303 HETATM 19311 C4    NA  F6P   G     1008  NA     -27.222  2.240  122.452\n",
       "19304 HETATM 19312 O4    NA  F6P   G     1008  NA     -27.773  3.292  121.659\n",
       "19305 HETATM 19313 C5    NA  F6P   G     1008  NA     -27.713  0.826  122.102\n",
       "19306 HETATM 19314 O5    NA  F6P   G     1008  NA     -28.171  0.231  123.332\n",
       "19307 HETATM 19315 C6    NA  F6P   G     1008  NA     -26.661 -0.012  121.485\n",
       "19308 HETATM 19316 O6    NA  F6P   G     1008  NA     -26.886 -1.427  121.918\n",
       "19309 HETATM 19317 P     NA  F6P   G     1008  NA     -27.812 -2.468  121.134\n",
       "19310 HETATM 19318 O1P   NA  F6P   G     1008  NA     -29.221 -1.969  121.035\n",
       "19311 HETATM 19319 O2P   NA  F6P   G     1008  NA     -27.275 -2.770  119.759\n",
       "19312 HETATM 19320 O3P   NA  F6P   G     1008  NA     -27.774 -3.763  121.882\n",
       "19313 HETATM 19321 O1    NA  F6P   H     1007  NA       1.167  0.234  112.458\n",
       "19314 HETATM 19322 C1    NA  F6P   H     1007  NA       0.515  0.594  113.643\n",
       "19315 HETATM 19323 C2    NA  F6P   H     1007  NA      -0.992  0.681  113.367\n",
       "19316 HETATM 19324 O2    NA  F6P   H     1007  NA      -1.723  1.084  114.530\n",
       "19317 HETATM 19325 C3    NA  F6P   H     1007  NA      -1.493 -0.665  112.831\n",
       "19318 HETATM 19326 O3    NA  F6P   H     1007  NA      -1.717 -1.609  113.825\n",
       "19319 HETATM 19327 C4    NA  F6P   H     1007  NA      -2.724 -0.302  111.966\n",
       "19320 HETATM 19328 O4    NA  F6P   H     1007  NA      -2.975 -1.165  110.864\n",
       "19321 HETATM 19329 C5    NA  F6P   H     1007  NA      -2.474  1.165  111.605\n",
       "19322 HETATM 19330 O5    NA  F6P   H     1007  NA      -1.264  1.550  112.291\n",
       "19323 HETATM 19331 C6    NA  F6P   H     1007  NA      -3.566  2.075  111.965\n",
       "19324 HETATM 19332 O6    NA  F6P   H     1007  NA      -2.927  3.405  112.162\n",
       "19325 HETATM 19333 P     NA  F6P   H     1007  NA      -2.891  4.598  111.084\n",
       "19326 HETATM 19334 O1P   NA  F6P   H     1007  NA      -2.221  4.181  109.800\n",
       "19327 HETATM 19335 O2P   NA  F6P   H     1007  NA      -4.278  5.143  110.812\n",
       "19328 HETATM 19336 O3P   NA  F6P   H     1007  NA      -2.137  5.734  111.714\n",
       "      o   b     segid elesy charge\n",
       "1     1   58.78 NA    N     NA    \n",
       "2     1   58.16 NA    C     NA    \n",
       "3     1   57.26 NA    C     NA    \n",
       "4     1   57.39 NA    O     NA    \n",
       "5     1   58.69 NA    C     NA    \n",
       "6     1   59.93 NA    C     NA    \n",
       "7     1   60.99 NA    S     NA    \n",
       "8     1   60.05 NA    C     NA    \n",
       "9     1   55.56 NA    N     NA    \n",
       "10    1   53.68 NA    C     NA    \n",
       "11    1   51.89 NA    C     NA    \n",
       "12    1   51.70 NA    O     NA    \n",
       "13    1   53.89 NA    C     NA    \n",
       "14    1   52.96 NA    C     NA    \n",
       "15    1   52.53 NA    C     NA    \n",
       "16    1   51.67 NA    C     NA    \n",
       "17    1   50.40 NA    N     NA    \n",
       "18    1   49.54 NA    N     NA    \n",
       "19    1   47.14 NA    C     NA    \n",
       "20    1   44.42 NA    C     NA    \n",
       "21    1   44.21 NA    O     NA    \n",
       "22    1   48.19 NA    C     NA    \n",
       "23    1   49.98 NA    C     NA    \n",
       "24    1   51.79 NA    C     NA    \n",
       "25    1   53.68 NA    N     NA    \n",
       "26    1   55.07 NA    C     NA    \n",
       "27    1   55.74 NA    N     NA    \n",
       "28    1   54.71 NA    N     NA    \n",
       "29    1   41.55 NA    N     NA    \n",
       "30    1   37.97 NA    C     NA    \n",
       "...   ... ...   ...   ...   ...   \n",
       "19299 1   19.92 NA    C     NA    \n",
       "19300 1   18.78 NA    O     NA    \n",
       "19301 1   20.79 NA    C     NA    \n",
       "19302 1   20.15 NA    O     NA    \n",
       "19303 1   21.51 NA    C     NA    \n",
       "19304 1   21.98 NA    O     NA    \n",
       "19305 1   22.28 NA    C     NA    \n",
       "19306 1   20.88 NA    O     NA    \n",
       "19307 1   23.49 NA    C     NA    \n",
       "19308 1   24.75 NA    O     NA    \n",
       "19309 1   25.51 NA    P     NA    \n",
       "19310 1   27.20 NA    O     NA    \n",
       "19311 1   23.57 NA    O     NA    \n",
       "19312 1   27.75 NA    O     NA    \n",
       "19313 1   16.54 NA    O     NA    \n",
       "19314 1   16.95 NA    C     NA    \n",
       "19315 1   18.91 NA    C     NA    \n",
       "19316 1   17.33 NA    O     NA    \n",
       "19317 1   20.76 NA    C     NA    \n",
       "19318 1   21.51 NA    O     NA    \n",
       "19319 1   21.71 NA    C     NA    \n",
       "19320 1   24.39 NA    O     NA    \n",
       "19321 1   21.46 NA    C     NA    \n",
       "19322 1   21.40 NA    O     NA    \n",
       "19323 1   22.76 NA    C     NA    \n",
       "19324 1   24.96 NA    O     NA    \n",
       "19325 1   25.57 NA    P     NA    \n",
       "19326 1   26.34 NA    O     NA    \n",
       "19327 1   24.49 NA    O     NA    \n",
       "19328 1   27.54 NA    O     NA    "
      ]
     },
     "metadata": {},
     "output_type": "display_data"
    }
   ],
   "source": [
    "pdb1$atom"
   ]
  },
  {
   "cell_type": "code",
   "execution_count": null,
   "id": "aa318a33",
   "metadata": {
    "vscode": {
     "languageId": "r"
    }
   },
   "outputs": [],
   "source": [
    "library(NGLVieweR)"
   ]
  },
  {
   "cell_type": "code",
   "execution_count": null,
   "id": "7a4ea0a6",
   "metadata": {
    "vscode": {
     "languageId": "r"
    }
   },
   "outputs": [],
   "source": [
    "NGLVieweR(\"./1MTO.pdb\") %>% addRepresentation(\"cartoon\")"
   ]
  }
 ],
 "metadata": {
  "kernelspec": {
   "display_name": "R",
   "language": "R",
   "name": "ir"
  },
  "language_info": {
   "codemirror_mode": "r",
   "file_extension": ".r",
   "mimetype": "text/x-r-source",
   "name": "R",
   "pygments_lexer": "r",
   "version": "4.1.0"
  }
 },
 "nbformat": 4,
 "nbformat_minor": 5
}
