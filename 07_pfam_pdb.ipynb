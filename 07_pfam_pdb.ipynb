{
 "cells": [
  {
   "cell_type": "code",
   "execution_count": null,
   "id": "4b8c4c4a",
   "metadata": {
    "vscode": {
     "languageId": "r"
    }
   },
   "outputs": [],
   "source": [
    "install.packages(\"Rpdb\")\n",
    "install.packages(\"bio3d\")\n",
    "install.packages(\"htmltools\")"
   ]
  },
  {
   "cell_type": "code",
   "execution_count": null,
   "id": "2c2e2a8b",
   "metadata": {
    "vscode": {
     "languageId": "r"
    }
   },
   "outputs": [],
   "source": [
    "install.packages(\"remotes\")\n",
    "remotes::install_github(\"nvelden/NGLVieweR\")"
   ]
  },
  {
   "cell_type": "code",
   "execution_count": null,
   "id": "3f836157",
   "metadata": {
    "vscode": {
     "languageId": "r"
    }
   },
   "outputs": [],
   "source": [
    "library(httr)\n",
    "library(xml2)"
   ]
  },
  {
   "cell_type": "markdown",
   "id": "f3fd7649",
   "metadata": {},
   "source": [
    "# Acceso a Pfam"
   ]
  },
  {
   "cell_type": "markdown",
   "id": "dc0017c7",
   "metadata": {},
   "source": [
    "- **Base de datos Pfam:**\n",
    "  - Es una gran colección de familias de dominios de proteínas.\n",
    "- **Cada familia Pfam:**\n",
    "  - Representada por múltiples alineamientos de secuencias\n",
    "    y un modelo oculto de Markov (HMM).\n",
    "- **Entrada Pfam-A:**\n",
    "  - Generalmente conocida como una entrada Pfam-A.\n",
    "- **Contenido de cada entrada Pfam-A:**\n",
    "  - Alineamiento de semillas curado que contiene un pequeño conjunto de miembros\n",
    "    representativos de la familia.\n",
    "  - Perfil HMM construido a partir del alineamiento de semillas.\n",
    "  - Alineamiento completo generado automáticamente, que contiene todas las\n",
    "    secuencias de proteínas detectables pertenecientes a la familia.\n",
    "- **Generación del alineamiento completo:**\n",
    "  - Realizado mediante búsquedas de HMM de perfil en bases de datos de\n",
    "    secuencias primarias.\n",
    "- **Se accede por la web de interpro.**\n",
    "  - Previamente tenía una web propia.\n",
    "- **URL**\n",
    "  - Web: https://www.ebi.ac.uk/interpro/entry/pfam/#table\n",
    "  - API: \"https://www.ebi.ac.uk/interpro/api/\"\n",
    "  - API reference: https://pfam-docs.readthedocs.io/en/latest/api.html"
   ]
  },
  {
   "cell_type": "markdown",
   "id": "adb8d883",
   "metadata": {},
   "source": [
    "## Recuperar datos de las familias disponibles\n",
    "\n",
    "Uno de los servicios permite recuperar el nombre, código de acceso y descripción de todas las familias de proteínas disponibles."
   ]
  },
  {
   "cell_type": "code",
   "execution_count": null,
   "id": "fa842ac1",
   "metadata": {
    "vscode": {
     "languageId": "r"
    }
   },
   "outputs": [],
   "source": [
    "url <- \"https://www.ebi.ac.uk/interpro/api/entry/integrated/pfam\"\n",
    "respuesta <- GET(\n",
    "  url,\n",
    "  query = list(\n",
    "    type = \"family\",\n",
    "    format = \"json\",\n",
    "    page_size = 10 # 11320\n",
    "  ),\n",
    ")"
   ]
  },
  {
   "cell_type": "code",
   "execution_count": null,
   "id": "930cff94",
   "metadata": {
    "vscode": {
     "languageId": "r"
    }
   },
   "outputs": [],
   "source": [
    "results <- content(respuesta, as = \"parsed\", encoding = \"utf-8\")\n",
    "# results\n",
    "names(results)"
   ]
  },
  {
   "cell_type": "markdown",
   "id": "0f6d44e3",
   "metadata": {},
   "source": [
    "La respuesta tiene 4 campos:\n",
    "\n",
    "- count: es el número total de resultados\n",
    "- next: link a la siguiente página de resultados\n",
    "- previous: links a la página de resultados anteriores\n",
    "- results: tiene la lista de resultados:\n",
    "  - cada resultado tiene un campo llamado metadata.\n",
    "  - la metadata tiene:\n",
    "    - el accession\n",
    "    - el nombre\n",
    "    - la base de datos de origen\n",
    "    - el tipo de entrada\n",
    "    - el identificador de Interpro"
   ]
  },
  {
   "cell_type": "code",
   "execution_count": null,
   "id": "c2e85d7d",
   "metadata": {
    "vscode": {
     "languageId": "r"
    }
   },
   "outputs": [],
   "source": [
    "result_df <- as.data.frame(\n",
    "  t(\n",
    "    sapply(\n",
    "      results$results,\n",
    "      function(x) return(unlist(x$metadata))\n",
    "    )\n",
    "  )\n",
    ")\n",
    "result_df"
   ]
  },
  {
   "cell_type": "markdown",
   "id": "324a61bd",
   "metadata": {},
   "source": [
    "Podemos buscar por:\n",
    "\n",
    "- repeat: motivo repetitivos\n",
    "- domain: dominos de proteínas.\n",
    "- coiled coil: motivos coiled-coil.\n",
    "- disordered: regiones desordenadas.\n",
    "- conserved site: sitios conservados."
   ]
  },
  {
   "cell_type": "markdown",
   "id": "35289e1b",
   "metadata": {},
   "source": [
    "## Recuperar anotaciones"
   ]
  },
  {
   "cell_type": "code",
   "execution_count": null,
   "id": "01f9edb9",
   "metadata": {
    "vscode": {
     "languageId": "r"
    }
   },
   "outputs": [],
   "source": [
    "family_acc <- \"PF00082\"\n",
    "\n",
    "url <- paste(\n",
    "  \"https://www.ebi.ac.uk/interpro/api/entry/pfam\",\n",
    "  family_acc,\n",
    "  sep = \"/\"\n",
    ")\n",
    "respuesta <- GET(\n",
    "  url,\n",
    "  query = list(\n",
    "    format = \"json\"\n",
    "  ),\n",
    ")"
   ]
  },
  {
   "cell_type": "code",
   "execution_count": null,
   "id": "17061b57",
   "metadata": {
    "vscode": {
     "languageId": "r"
    }
   },
   "outputs": [],
   "source": [
    "content(respuesta)$metadata$name\n",
    "content(respuesta)$metadata$description[[1]]$text\n",
    "content(respuesta)$metadata$wikipedia$extract\n",
    "content(respuesta)$metadata\n"
   ]
  },
  {
   "cell_type": "markdown",
   "id": "e3c0cdf3",
   "metadata": {},
   "source": [
    "## Buscar proteínas que contienen un dominio pfam"
   ]
  },
  {
   "cell_type": "code",
   "execution_count": null,
   "id": "5f524725",
   "metadata": {
    "vscode": {
     "languageId": "r"
    }
   },
   "outputs": [],
   "source": [
    "pfam_domain <- \"PF00082\"\n",
    "\n",
    "url <- paste(\n",
    "  \"https://www.ebi.ac.uk/interpro/api/protein/Uniprot/entry/pfam\",\n",
    "  pfam_domain,\n",
    "  sep = \"/\"\n",
    ")\n",
    "url"
   ]
  },
  {
   "cell_type": "code",
   "execution_count": null,
   "id": "adb01fa7",
   "metadata": {
    "vscode": {
     "languageId": "r"
    }
   },
   "outputs": [],
   "source": [
    "response <- GET(\n",
    "  url,\n",
    "  query = list(format = \"json\", page_size = 100),\n",
    ")"
   ]
  },
  {
   "cell_type": "code",
   "execution_count": null,
   "id": "008120d3",
   "metadata": {
    "vscode": {
     "languageId": "r"
    }
   },
   "outputs": [],
   "source": [
    "t(\n",
    "  sapply(\n",
    "    content(response, as = \"parsed\")$results,\n",
    "    function(x) unlist(x$metadata)\n",
    "  )\n",
    ")"
   ]
  },
  {
   "cell_type": "markdown",
   "id": "26cd80be",
   "metadata": {},
   "source": [
    "## Buscar dominios pfam en una proteína\n",
    "\n"
   ]
  },
  {
   "cell_type": "code",
   "execution_count": null,
   "id": "64ae6b70",
   "metadata": {
    "vscode": {
     "languageId": "r"
    }
   },
   "outputs": [],
   "source": [
    "\n",
    "uniprot_acc <- \"P0AA25\" # Thioredoxin 1 de E. coli K 12\n",
    "\n",
    "url <- paste(\n",
    "  \"https://www.ebi.ac.uk/interpro/api/entry/pfam/protein/Uniprot\",\n",
    "  uniprot_acc,\n",
    "  sep = \"/\"\n",
    ")\n",
    "url"
   ]
  },
  {
   "cell_type": "code",
   "execution_count": null,
   "id": "bafbc446",
   "metadata": {
    "vscode": {
     "languageId": "r"
    }
   },
   "outputs": [],
   "source": [
    "response <- GET(\n",
    "  url,\n",
    "  query = list(format = \"json\", page_size = 100),\n",
    ")"
   ]
  },
  {
   "cell_type": "code",
   "execution_count": null,
   "id": "73eb07dc",
   "metadata": {
    "vscode": {
     "languageId": "r"
    }
   },
   "outputs": [],
   "source": [
    "t(\n",
    "  sapply(\n",
    "    content(response, as = \"parsed\")$results,\n",
    "    function(x) unlist(x$metadata)\n",
    "  )\n",
    ")"
   ]
  },
  {
   "cell_type": "markdown",
   "id": "116f55f0",
   "metadata": {},
   "source": [
    "## Buscar pfam domains en una secuencia"
   ]
  },
  {
   "cell_type": "code",
   "execution_count": null,
   "id": "a7bd8828",
   "metadata": {
    "vscode": {
     "languageId": "r"
    }
   },
   "outputs": [],
   "source": [
    "## Buscar dominios en un secuencia de una proteína\n",
    "url <- \"https://www.ebi.ac.uk/Tools/services/rest/iprscan5/run\"\n",
    "seq <- \"MLPGLALLLLAAWTARALEVPTDGNAGLLAEPQIAMFCGRLNMHMNVQNGKWDSDPSGTKTCIDTKEGILQYCQEVYPELQITNVVEANQPVTIQNWCKRGRKQCKTHPHFVIPYRCLVGEFVSDALLVPDKCKFLHQERMDVCETHLHWHTVAKETCSEKSTNLHDYGMLLPCGIDKFRGVEFVCCPLAEESDNVDSADAEEDDSDVWWGGADTDYADGSEDKVVEVAEEEEVAEVEEEEADDDEDDEDGDEVEEEAEEPYEEATERTTSIATTTTTTTESVEEVVREVCSEQAETGPCRAMISRWYFDVTEGKCAPFFYGGCGGNRNNFDTEEYCMAVCGSAMSQSLLKTTQEPLARDPVKLPTTAASTPDAVDKYLETPGDENEHAHFQKAKERLEAKHRERMSQVMREWEEAERQAKNLPKADKKAVIQHFQEKVESLEQEAANERQQLVETHMARVEAMLNDRRRLALENYITALQAVPPRPRHVFNMLKKYVRAEQKDRQHTLKHFEHVRMVDPKKAAQIRSQVMTHLRVIYERMNQSLSLLYNVPAVAEEIQDEVDELLQKEQNYSDDVLANMISEPRISYGNDALMPSLTETKTTVELLPVNGEFSLDDLQPWHSFGADSVPANTENEVEPVDARPAADRGLTTRPGSGLTNIKTEEISEVKMDAEFRHDSGYEVHHQKLVFFAEDVGSNKGAIIGLMVGGVVIATVIVITLVMLKKKQYTSIHHGVVEVDAAVTPEERHLSKMQQNGYENPTYKFFEQMQN\"\n",
    "\n",
    "body <- list(\n",
    "  sequence = seq,\n",
    "  email = \"my_email@gmail.com\",\n",
    "  appl = \"PfamA\",\n",
    "  goterms = \"false\",\n",
    "  pathways = \"false\"\n",
    ")\n",
    "\n",
    "response <- POST(\n",
    "  url,\n",
    "  body = body\n",
    ")"
   ]
  },
  {
   "cell_type": "code",
   "execution_count": null,
   "id": "adc45b4a",
   "metadata": {
    "vscode": {
     "languageId": "r"
    }
   },
   "outputs": [],
   "source": [
    "job_id <- content(response)"
   ]
  },
  {
   "cell_type": "code",
   "execution_count": null,
   "id": "0a60352c",
   "metadata": {
    "vscode": {
     "languageId": "r"
    }
   },
   "outputs": [],
   "source": [
    "## Tengo que verificar el estado del trabajo\n",
    "url <- paste(\n",
    "  \"https://www.ebi.ac.uk/Tools/services/rest/iprscan5/status\",\n",
    "  job_id,\n",
    "  sep = \"/\"\n",
    ")\n",
    "\n",
    "response <- GET(url)"
   ]
  },
  {
   "cell_type": "code",
   "execution_count": null,
   "id": "9657480e",
   "metadata": {
    "vscode": {
     "languageId": "r"
    }
   },
   "outputs": [],
   "source": [
    "content(response)"
   ]
  },
  {
   "cell_type": "code",
   "execution_count": null,
   "id": "288e5199",
   "metadata": {
    "vscode": {
     "languageId": "r"
    }
   },
   "outputs": [],
   "source": [
    "## Recupero el resultado\n",
    "url <- paste(\n",
    "  \"https://www.ebi.ac.uk/Tools/services/rest/iprscan5/result\",\n",
    "  job_id,\n",
    "  \"json\",\n",
    "  sep = \"/\"\n",
    ")\n",
    "\n",
    "response <- GET(url)"
   ]
  },
  {
   "cell_type": "code",
   "execution_count": null,
   "id": "bb498db2",
   "metadata": {
    "vscode": {
     "languageId": "r"
    }
   },
   "outputs": [],
   "source": [
    "results <- content(response)"
   ]
  },
  {
   "cell_type": "code",
   "execution_count": null,
   "id": "40889b67",
   "metadata": {
    "vscode": {
     "languageId": "r"
    }
   },
   "outputs": [],
   "source": [
    "t(\n",
    "  sapply(\n",
    "    results$results[[1]]$matches,\n",
    "    function(x) {\n",
    "      c(\n",
    "        acceesion = x$signature$accession,\n",
    "        name = x$signature$name,\n",
    "        description = x$signature$description,\n",
    "        type = x$signature$entry$type,\n",
    "        start = x$locations[[1]]$start,\n",
    "        end = x$locations[[1]]$end\n",
    "      )\n",
    "    }\n",
    "  )\n",
    ")\n"
   ]
  },
  {
   "cell_type": "markdown",
   "id": "a76451e5",
   "metadata": {},
   "source": [
    "## Descargar alineamientos\n",
    "\n",
    "Podemos descargas varios tipos de alineamientos de pfam\n"
   ]
  },
  {
   "cell_type": "code",
   "execution_count": null,
   "id": "bff05605",
   "metadata": {
    "vscode": {
     "languageId": "r"
    }
   },
   "outputs": [],
   "source": [
    "pfam_accession <- \"PF00085\"\n",
    "\n",
    "url <- paste(\n",
    "  \"https://www.ebi.ac.uk/interpro/wwwapi//entry/pfam\",\n",
    "  pfam_accession,\n",
    "  sep = \"/\"\n",
    ")\n",
    "\n",
    "outfile <- \"PF00085.sto.gz\"\n",
    "\n",
    "GET(\n",
    "  url,\n",
    "  query = list(\n",
    "    annotation = \"alignment:full\",\n",
    "    download = TRUE\n",
    "  ),\n",
    "  write_disk(outfile, overwrite = TRUE)\n",
    ")\n"
   ]
  },
  {
   "cell_type": "code",
   "execution_count": null,
   "id": "576001bb",
   "metadata": {
    "vscode": {
     "languageId": "r"
    }
   },
   "outputs": [],
   "source": [
    "library(R.utils)\n",
    "gunzip(outfile)"
   ]
  },
  {
   "cell_type": "markdown",
   "id": "697d018b",
   "metadata": {},
   "source": [
    "Podemos descargar  proteomas representativos con diferente grado de indentidad de secuencia,\n",
    "que pertenecen a una familia.\n",
    "\n",
    "- RP15 Proteinas con 15% de identidad o mayor\n",
    "- RP35 Proteinas con 35% de identidad o mayor\n",
    "- RP55 Proteinas con 55% de identidad o mayor\n",
    "- RP75 Proteinas con 75% de identidad o mayor\n",
    "\n",
    "Para ello, hay que modificar la url."
   ]
  },
  {
   "cell_type": "markdown",
   "id": "61f59ce9",
   "metadata": {},
   "source": [
    "# Acceso a RSCB PDB\n",
    "\n",
    "Al igual que NCBI y Uniprot, PDB permite realizar búsqueda de texto.\n",
    "Aunque estas son bastante más complicadas de realizar que en los servicios anteriores.\n",
    "\n",
    "La consulta se tiene que escribir en formato **json**.\n",
    "\n",
    "Vamos a provar con una búsquea simple.\n",
    "\n",
    "La respuesta también está en formato json."
   ]
  },
  {
   "cell_type": "code",
   "execution_count": null,
   "id": "6d418fe6",
   "metadata": {
    "vscode": {
     "languageId": "r"
    }
   },
   "outputs": [],
   "source": [
    "library(httr)"
   ]
  },
  {
   "cell_type": "code",
   "execution_count": null,
   "id": "688f13e2",
   "metadata": {
    "vscode": {
     "languageId": "r"
    }
   },
   "outputs": [],
   "source": [
    "url <- \"https://search.rcsb.org/rcsbsearch/v2/query\"\n",
    "\n",
    "query <- '{\n",
    "  \"request_options\": {\n",
    "    \"return_all_hits\": true\n",
    "  },\n",
    "  \"query\": {\n",
    "    \"type\": \"terminal\",\n",
    "    \"service\": \"full_text\",\n",
    "    \"parameters\": {\n",
    "      \"value\": \"phosphofructokinase\"\n",
    "    }\n",
    "  },\n",
    "  \"return_type\": \"entry\"\n",
    "}'\n",
    "\n",
    "respuesta <- GET(url, query = list(json = query))"
   ]
  },
  {
   "cell_type": "code",
   "execution_count": null,
   "id": "0922d945",
   "metadata": {
    "vscode": {
     "languageId": "r"
    }
   },
   "outputs": [],
   "source": [
    "pdb_search <- content(respuesta)"
   ]
  },
  {
   "cell_type": "code",
   "execution_count": null,
   "id": "78037ed2",
   "metadata": {
    "vscode": {
     "languageId": "r"
    }
   },
   "outputs": [],
   "source": [
    "t(sapply(pdb_search$result_set, unlist))"
   ]
  },
  {
   "cell_type": "code",
   "execution_count": null,
   "id": "f5ec0968",
   "metadata": {
    "scrolled": false,
    "vscode": {
     "languageId": "r"
    }
   },
   "outputs": [],
   "source": [
    "# Recuperamos la cantidad de hits.\n",
    "pdb_search$total_count"
   ]
  },
  {
   "cell_type": "code",
   "execution_count": null,
   "id": "b59519e6",
   "metadata": {
    "vscode": {
     "languageId": "r"
    }
   },
   "outputs": [],
   "source": [
    "pdb_ids <- sapply(pdb_search$result_set, function(x) x$identifier)"
   ]
  },
  {
   "cell_type": "code",
   "execution_count": null,
   "id": "54b6a3be",
   "metadata": {
    "vscode": {
     "languageId": "r"
    }
   },
   "outputs": [],
   "source": [
    "library(bio3d)\n",
    "library(Rpdb)"
   ]
  },
  {
   "cell_type": "code",
   "execution_count": null,
   "id": "1f58abcc",
   "metadata": {
    "vscode": {
     "languageId": "r"
    }
   },
   "outputs": [],
   "source": [
    "# Podemos descargar el archivo PDB\n",
    "\n",
    "bio3d::get.pdb(pdb_ids[1])"
   ]
  },
  {
   "cell_type": "code",
   "execution_count": null,
   "id": "8a483395",
   "metadata": {
    "vscode": {
     "languageId": "r"
    }
   },
   "outputs": [],
   "source": [
    "# Podemos leer los datos del PDB\n",
    "pdb1 <- bio3d::read.pdb('./1MTO.pdb')"
   ]
  },
  {
   "cell_type": "code",
   "execution_count": null,
   "id": "989f6759",
   "metadata": {
    "vscode": {
     "languageId": "r"
    }
   },
   "outputs": [],
   "source": [
    "pdb1$atom"
   ]
  },
  {
   "cell_type": "code",
   "execution_count": null,
   "id": "aa318a33",
   "metadata": {
    "vscode": {
     "languageId": "r"
    }
   },
   "outputs": [],
   "source": [
    "library(NGLVieweR)"
   ]
  },
  {
   "cell_type": "code",
   "execution_count": null,
   "id": "7a4ea0a6",
   "metadata": {
    "vscode": {
     "languageId": "r"
    }
   },
   "outputs": [],
   "source": [
    "a <- NGLVieweR(\"./1MTO.pdb\") %>% addRepresentation(\"cartoon\")"
   ]
  }
 ],
 "metadata": {
  "kernelspec": {
   "display_name": "R",
   "language": "R",
   "name": "ir"
  },
  "language_info": {
   "codemirror_mode": "r",
   "file_extension": ".r",
   "mimetype": "text/x-r-source",
   "name": "R",
   "pygments_lexer": "r",
   "version": "4.1.2"
  }
 },
 "nbformat": 4,
 "nbformat_minor": 5
}
