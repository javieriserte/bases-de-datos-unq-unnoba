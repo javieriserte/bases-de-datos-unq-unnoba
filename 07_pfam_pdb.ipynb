{
 "cells": [
  {
   "cell_type": "markdown",
   "id": "f3fd7649",
   "metadata": {},
   "source": [
    "# Acceso a Pfam"
   ]
  },
  {
   "cell_type": "markdown",
   "id": "dc0017c7",
   "metadata": {},
   "source": [
    "Buscamos datos de todas la familias de Pfam\n",
    "\n",
    "La url base de Pfam es \"https://pfam.xfam.org/\", pero en algunos sistemas no se\n",
    "puede acceder bien, en esos casos, se puede usar \"http://pfam.xfam.org/\" (notar que es \"https\" en un\n",
    "caso y \"http\" en el otro.\n",
    "\n",
    "Pfam provee unos pocos servicios que se pueden usar para acceder programaticamente."
   ]
  },
  {
   "cell_type": "code",
   "execution_count": null,
   "id": "3f836157",
   "metadata": {},
   "outputs": [],
   "source": [
    "library(httr)\n",
    "library(xml2)"
   ]
  },
  {
   "cell_type": "markdown",
   "id": "adb8d883",
   "metadata": {},
   "source": [
    "## Recuperar datos de las familias disponibles\n",
    "\n",
    "Uno de los servicios permite recuperar el nombre, código de acceso y descripción de todas las familias de proteínas disponibles."
   ]
  },
  {
   "cell_type": "code",
   "execution_count": null,
   "id": "fa842ac1",
   "metadata": {},
   "outputs": [],
   "source": [
    "url   <- \"http://pfam.xfam.org/families\"\n",
    "respuesta <- GET(url, query=list(output=\"text\"))"
   ]
  },
  {
   "cell_type": "code",
   "execution_count": null,
   "id": "e2f0adb1",
   "metadata": {
    "scrolled": true
   },
   "outputs": [],
   "source": [
    "families <-read.table(\n",
    "    text=content(respuesta),\n",
    "    header=FALSE,\n",
    "    sep=\"\\t\",\n",
    "    quote=\"\",\n",
    "    comment.char=\"#\",\n",
    "    col.names=c('Accession', 'Name', 'Description')\n",
    ")\n",
    "head(families)"
   ]
  },
  {
   "cell_type": "markdown",
   "id": "7a22e683",
   "metadata": {},
   "source": [
    "## Conversión de identificadores\n",
    "\n",
    "Podemos convertit el código de acceso y el identificador de nombres.\n"
   ]
  },
  {
   "cell_type": "code",
   "execution_count": null,
   "id": "6119b8f6",
   "metadata": {},
   "outputs": [],
   "source": [
    "# url <- \"http://pfam.xfam.org/family/id?output=xml&acc=PF00082\"\n",
    "url <- \"http://pfam.xfam.org/family/id\"\n",
    "\n",
    "family_acc <- 'PF00082'\n",
    "respuesta <- GET(url, query=list(output=\"xml\", acc=family_acc))\n",
    "data <- content(respuesta)"
   ]
  },
  {
   "cell_type": "code",
   "execution_count": null,
   "id": "1e29a76b",
   "metadata": {},
   "outputs": [],
   "source": []
  },
  {
   "cell_type": "code",
   "execution_count": null,
   "id": "9ddc51ea",
   "metadata": {},
   "outputs": [],
   "source": [
    "xml_attrs(xml_children(data))"
   ]
  },
  {
   "cell_type": "markdown",
   "id": "35289e1b",
   "metadata": {},
   "source": [
    "## Recuperar anotaciones"
   ]
  },
  {
   "cell_type": "code",
   "execution_count": null,
   "id": "040667fc",
   "metadata": {},
   "outputs": [],
   "source": [
    "url <- \"http://pfam.xfam.org/family\"\n",
    "\n",
    "family_acc <- 'PF00082'\n",
    "respuesta <- GET(url, query=list(output=\"xml\", acc=family_acc))\n",
    "data <- as_list(content(respuesta))"
   ]
  },
  {
   "cell_type": "code",
   "execution_count": null,
   "id": "faa26d93",
   "metadata": {},
   "outputs": [],
   "source": [
    "names(data$pfam$entry)"
   ]
  },
  {
   "cell_type": "code",
   "execution_count": null,
   "id": "421a59bd",
   "metadata": {},
   "outputs": [],
   "source": [
    "names(data$pfam$entry$curation_details)"
   ]
  },
  {
   "cell_type": "markdown",
   "id": "2bf75d97",
   "metadata": {},
   "source": [
    "Recuperamos el tipo de familia, la descripción, la cobertura promedio, y la longitud promedio."
   ]
  },
  {
   "cell_type": "code",
   "execution_count": null,
   "id": "4e80d39f",
   "metadata": {
    "scrolled": true
   },
   "outputs": [],
   "source": [
    "# descripcion\n",
    "trimws(data$pfam$entry$description)\n",
    "\n",
    "# tipo\n",
    "unlist(data$pfam$entry$curation_details$type)\n",
    "\n",
    "# cobertura promedio\n",
    "unlist(data$pfam$entry$curation_details$av_coverage)\n",
    "\n",
    "# cobertura promedio\n",
    "unlist(data$pfam$entry$curation_details$av_length)"
   ]
  },
  {
   "cell_type": "markdown",
   "id": "e3c0cdf3",
   "metadata": {},
   "source": [
    "## Buscar datos de una proteína\n",
    "\n",
    "Podemos buscar si una proteína "
   ]
  },
  {
   "cell_type": "code",
   "execution_count": null,
   "id": "fac1bf9f",
   "metadata": {},
   "outputs": [],
   "source": [
    "url <- \"http://pfam.xfam.org/protein\"\n",
    "\n",
    "uniprot <- 'P0AA25'\n",
    "respuesta <- GET(url, query=list(output=\"xml\", entry=uniprot))\n",
    "data <- content(respuesta)\n",
    "data_list <- as_list(data)"
   ]
  },
  {
   "cell_type": "code",
   "execution_count": null,
   "id": "46554f2c",
   "metadata": {},
   "outputs": [],
   "source": [
    "data_list"
   ]
  },
  {
   "cell_type": "code",
   "execution_count": null,
   "id": "1ce1d10f",
   "metadata": {},
   "outputs": [],
   "source": [
    "# Recupero la secuencia en formato fasta\n",
    "data_list$pfam$entry$sequence"
   ]
  },
  {
   "cell_type": "code",
   "execution_count": null,
   "id": "6babc6f2",
   "metadata": {},
   "outputs": [],
   "source": [
    "# Recupero datos del match de la proteína los pfams\n",
    "matches <- xml_find_all(data, \".//d1:match\")\n",
    "\n",
    "# Datos del match\n",
    "xml_attrs(matches[[1]])\n",
    "\n",
    "# Datos de la unibación del match\n",
    "xml_attrs(xml_children(matches[[1]]))\n",
    "\n"
   ]
  },
  {
   "cell_type": "code",
   "execution_count": null,
   "id": "a7bd8828",
   "metadata": {},
   "outputs": [],
   "source": [
    "## Buscar dominios en un secuencia de una proteína\n",
    "url <- \"https://pfam.xfam.org/search/sequence\"\n",
    "seq <- \"NQEFLSQEFPDIHILKIDVDECEELTVDYEIQDMPTIKKKKTLESFTGANIEQVKHYS\"\n",
    "\n",
    "body <- list(\n",
    "    seq = seq,\n",
    "    output=\"xml\"\n",
    ")\n",
    "\n",
    "response <- POST(\n",
    "    url,\n",
    "    body=body\n",
    ")"
   ]
  },
  {
   "cell_type": "code",
   "execution_count": null,
   "id": "0a60352c",
   "metadata": {},
   "outputs": [],
   "source": [
    "data <- as_list(content(response))\n",
    "data$html$body$jobs$job$result_url"
   ]
  },
  {
   "cell_type": "code",
   "execution_count": null,
   "id": "1b97d9f1",
   "metadata": {},
   "outputs": [],
   "source": [
    "url <- paste0(\"https://pfam.xfam.org/\", unlist(data$html$body$jobs$job$result_url))\n",
    "response_job <- GET(url, query=list(output=\"xml\"))"
   ]
  },
  {
   "cell_type": "code",
   "execution_count": null,
   "id": "09005feb",
   "metadata": {},
   "outputs": [],
   "source": [
    "cat(content(response_job, as=\"text\"))"
   ]
  },
  {
   "cell_type": "code",
   "execution_count": null,
   "id": "eb2deed5",
   "metadata": {},
   "outputs": [],
   "source": [
    "data <- content(response_job)\n",
    "\n",
    "matches <- xml_find_all(data, './/match')\n",
    "\n",
    "xml_attrs(matches)"
   ]
  },
  {
   "cell_type": "code",
   "execution_count": null,
   "id": "d535d377",
   "metadata": {},
   "outputs": [],
   "source": [
    "location <- xml_child(matches, \"location\")\n",
    "xml_attrs(location)"
   ]
  },
  {
   "cell_type": "markdown",
   "id": "a76451e5",
   "metadata": {},
   "source": [
    "## Descargar alineamientos\n",
    "\n",
    "Podemos descargas varios tipos de alineamientos de pfam\n"
   ]
  },
  {
   "cell_type": "code",
   "execution_count": null,
   "id": "5529a115",
   "metadata": {},
   "outputs": [],
   "source": [
    "# Descargamos alineamientos Seed\n",
    "accession <- \"PF00085\"\n",
    "url <- paste0(\"https://pfam.xfam.org/family/\", accession, \"/alignment/seed\")\n",
    "seed_msa <- GET(url)"
   ]
  },
  {
   "cell_type": "code",
   "execution_count": null,
   "id": "f4565b1e",
   "metadata": {
    "collapsed": true
   },
   "outputs": [],
   "source": [
    "# Lo guardamos en el disco\n",
    "write(content(seed_msa, as=\"text\"), file=\"pf_00085_seed.stockholm\")"
   ]
  },
  {
   "cell_type": "code",
   "execution_count": null,
   "id": "711465f6",
   "metadata": {},
   "outputs": [],
   "source": [
    "# Descargamos alineamientos full\n",
    "\n",
    "accession <- \"PF00085\"\n",
    "url <- paste0(\"https://pfam.xfam.org/family/\", accession, \"/alignment/full\")\n",
    "full_msa <- GET(url)"
   ]
  },
  {
   "cell_type": "code",
   "execution_count": null,
   "id": "27b7b9e3",
   "metadata": {},
   "outputs": [],
   "source": [
    "# Lo guardamos en el disco\n",
    "write(content(full_msa, as=\"text\"), file=\"pf_00085_full.stockholm\")"
   ]
  },
  {
   "cell_type": "markdown",
   "id": "697d018b",
   "metadata": {},
   "source": [
    "Podemos descargar  proteomas representativos con diferente grado de indentidad de secuencia,\n",
    "que pertenecen a una familia.\n",
    "\n",
    "- RP15 Proteinas con 15% de identidad o mayor\n",
    "- RP35 Proteinas con 35% de identidad o mayor\n",
    "- RP55 Proteinas con 55% de identidad o mayor\n",
    "- RP75 Proteinas con 75% de identidad o mayor\n",
    "\n",
    "Para ello, hay que modificar la url."
   ]
  },
  {
   "cell_type": "code",
   "execution_count": null,
   "id": "88952dc6",
   "metadata": {},
   "outputs": [],
   "source": [
    "url <- paste0(\"https://pfam.xfam.org/family/\", accession, \"/alignment/rp15\")\n",
    "url <- paste0(\"https://pfam.xfam.org/family/\", accession, \"/alignment/rp35\")\n",
    "url <- paste0(\"https://pfam.xfam.org/family/\", accession, \"/alignment/rp55\")\n",
    "url <- paste0(\"https://pfam.xfam.org/family/\", accession, \"/alignment/rp75\")"
   ]
  },
  {
   "cell_type": "markdown",
   "id": "61f59ce9",
   "metadata": {},
   "source": [
    "# Acceso a RSCB PDB\n",
    "\n",
    "Al igual que NCBI y Uniprot, PDB permite realizar búsqueda de texto.\n",
    "Aunque estas son bastante más complicadas de realizar que en los servicios anteriores.\n",
    "\n",
    "La consulta se tiene que escribir en formato **json**.\n",
    "\n",
    "Vamos a provar con una búsquea simple.\n",
    "\n",
    "La respuesta también está en formato json."
   ]
  },
  {
   "cell_type": "code",
   "execution_count": null,
   "id": "6d418fe6",
   "metadata": {},
   "outputs": [],
   "source": [
    "library(httr)"
   ]
  },
  {
   "cell_type": "code",
   "execution_count": null,
   "id": "688f13e2",
   "metadata": {},
   "outputs": [],
   "source": [
    "url <- \"https://search.rcsb.org/rcsbsearch/v1/query\"\n",
    "\n",
    "query <- '{\n",
    "  \"request_options\": {\n",
    "     \"return_all_hits\": true\n",
    "  },\n",
    "  \"query\": {\n",
    "    \"type\": \"terminal\",\n",
    "    \"service\": \"text\",\n",
    "    \"parameters\": {\n",
    "      \"value\": \"phosphofructokinase\"\n",
    "    }\n",
    "  },\n",
    "  \"return_type\": \"entry\"\n",
    "}'\n",
    "\n",
    "respuesta <- GET(url, query=list(json=query))"
   ]
  },
  {
   "cell_type": "code",
   "execution_count": null,
   "id": "0922d945",
   "metadata": {},
   "outputs": [],
   "source": [
    "pdb_search <- content(respuesta)"
   ]
  },
  {
   "cell_type": "code",
   "execution_count": null,
   "id": "f5ec0968",
   "metadata": {
    "scrolled": false
   },
   "outputs": [],
   "source": [
    "# Recuperamos la cantidad de hits.\n",
    "pdb_search$total_count"
   ]
  },
  {
   "cell_type": "code",
   "execution_count": null,
   "id": "a0661c90",
   "metadata": {},
   "outputs": [],
   "source": [
    "# Recuperamos todos los resultados\n",
    "length(pdb_search$result_set)"
   ]
  },
  {
   "cell_type": "code",
   "execution_count": null,
   "id": "b59519e6",
   "metadata": {},
   "outputs": [],
   "source": [
    "pdb_ids <- sapply(pdb_search$result_set, function(x) x$identifier)"
   ]
  },
  {
   "cell_type": "code",
   "execution_count": null,
   "id": "4b8c4c4a",
   "metadata": {},
   "outputs": [],
   "source": [
    "install.packages(\"Rpdb\")\n",
    "library(bio3d)\n",
    "library(Rpdb)"
   ]
  },
  {
   "cell_type": "code",
   "execution_count": null,
   "id": "1f58abcc",
   "metadata": {},
   "outputs": [],
   "source": [
    "# Podemos descargar el archivo PDB\n",
    "\n",
    "bio3d::get.pdb(pdb_ids[1])"
   ]
  },
  {
   "cell_type": "code",
   "execution_count": null,
   "id": "8a483395",
   "metadata": {},
   "outputs": [],
   "source": [
    "# Podemos leer los datos del PDB\n",
    "pdb1 <- bio3d::read.pdb('./1MTO.pdb')"
   ]
  },
  {
   "cell_type": "code",
   "execution_count": null,
   "id": "2c2e2a8b",
   "metadata": {},
   "outputs": [],
   "source": [
    "install.packages(\"remotes\")\n",
    "remotes::install_github(\"nvelden/NGLVieweR\")"
   ]
  },
  {
   "cell_type": "code",
   "execution_count": null,
   "id": "aa318a33",
   "metadata": {},
   "outputs": [],
   "source": [
    "library(NGLVieweR)"
   ]
  },
  {
   "cell_type": "code",
   "execution_count": null,
   "id": "7a4ea0a6",
   "metadata": {},
   "outputs": [],
   "source": [
    "NGLVieweR(\"./1MTO.pdb\") %>% addRepresentation(\"cartoon\")"
   ]
  }
 ],
 "metadata": {
  "kernelspec": {
   "display_name": "R",
   "language": "R",
   "name": "ir"
  },
  "language_info": {
   "codemirror_mode": "r",
   "file_extension": ".r",
   "mimetype": "text/x-r-source",
   "name": "R",
   "pygments_lexer": "r",
   "version": "4.1.3"
  }
 },
 "nbformat": 4,
 "nbformat_minor": 5
}
