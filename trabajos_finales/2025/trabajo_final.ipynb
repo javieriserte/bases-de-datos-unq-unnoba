{
 "cells": [
  {
   "cell_type": "markdown",
   "id": "ff194f32",
   "metadata": {},
   "source": [
    "# Trabajo final"
   ]
  },
  {
   "cell_type": "markdown",
   "id": "6c6660a3",
   "metadata": {
    "vscode": {
     "languageId": "plaintext"
    }
   },
   "source": [
    "El trabajo final consiste en cuatro ejercicios.\n",
    "La resolución debe entregarse como una notebook de python, con el código\n",
    "necesario para resolver cada ejercicio y comentarios justificando la solución\n",
    "propuesta."
   ]
  },
  {
   "cell_type": "markdown",
   "id": "b5844171",
   "metadata": {
    "vscode": {
     "languageId": "plaintext"
    }
   },
   "source": [
    "## Ejercicio 1\n",
    "\n",
    "Recuperar usando la API de Biomart los nombres de los genes humanos que poseen\n",
    "un dominio de pFAM SH2 (PF00017). Recuperar para cada gen la cantidad de\n",
    "transcriptos y las posiciones de inicio y fin de cada exón para cada transcripto.\n",
    "\n",
    "\n"
   ]
  },
  {
   "cell_type": "markdown",
   "id": "bcf2f44f",
   "metadata": {
    "vscode": {
     "languageId": "plaintext"
    }
   },
   "source": [
    "## Ejercicio 2\n",
    "\n",
    "Usando la API de Entrez/eUtils recuperar el título y la descripción de todos\n",
    "los proyectos de metagenoma registrados en 2024 en BioProject, que tegan\n",
    "secuencias de E. coli, como organismo blanco y tengan datos relacionados en la\n",
    "base de datos SRA.\n"
   ]
  },
  {
   "cell_type": "markdown",
   "id": "bd2084bb",
   "metadata": {
    "vscode": {
     "languageId": "plaintext"
    }
   },
   "source": [
    "## Ejercicio 3\n",
    "\n",
    "Generar un archivo fasta con todas las secuencias de RefSeq que corresponden\n",
    "a los virus de la familia de los mononegavirales y que tengan un tamaño menor\n",
    "a 10kb."
   ]
  },
  {
   "cell_type": "markdown",
   "id": "3296854d",
   "metadata": {
    "vscode": {
     "languageId": "plaintext"
    }
   },
   "source": [
    "## Ejercicio 4\n",
    "\n",
    "Construir una tabla de recuentos de cantidad de secuencias en Nuccore por\n",
    "especie(taxid) de baculovirus (familia Baculoviridae).\n"
   ]
  }
 ],
 "metadata": {
  "language_info": {
   "name": "python"
  }
 },
 "nbformat": 4,
 "nbformat_minor": 5
}
