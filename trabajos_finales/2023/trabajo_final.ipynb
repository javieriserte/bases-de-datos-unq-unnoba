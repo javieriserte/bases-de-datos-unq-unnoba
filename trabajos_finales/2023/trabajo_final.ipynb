{
 "cells": [
  {
   "cell_type": "markdown",
   "metadata": {},
   "source": [
    "# Trabajo Final"
   ]
  },
  {
   "cell_type": "markdown",
   "metadata": {},
   "source": [
    "Este trabajo de la materia Bases de Datos Biológicas consiste en tres\n",
    "ejercicios de dificultad variada. Los astericos al lado del título del ejercicio\n",
    "dan una idea de la dificultad esperada del ejercicio.\n",
    "\n",
    "La entrega debe ser un archivo .ipynb que contenga las respuestas, con el código\n",
    "de R necesario cuando corresponda. La resolución de los ejercicios no debiera\n",
    "requerir conocimientos de programación en R más allá de los ejemplos que se\n",
    "vieron en la clase. De todas formas, pueden consultar acercar del uso del\n",
    "lenguage de programacion R si es necesario. Recuerden que pueden hacer una copia\n",
    "del *notebook* a su unidad de google drive y pueden descargar una copia desde la\n",
    "barra de menú>Archivo>Descargar.\n"
   ]
  },
  {
   "cell_type": "markdown",
   "metadata": {},
   "source": [
    "## Ejercicio 1 - *"
   ]
  },
  {
   "cell_type": "markdown",
   "metadata": {},
   "source": [
    "Uniprot contiene varias bases de datos: Swiss-Prot, TrEMBL, Uniparc, Uniref y Proteomes.\n",
    "\n",
    "Describa exactamente que tipo de información contiene cada una."
   ]
  },
  {
   "cell_type": "markdown",
   "metadata": {},
   "source": [
    "## Ejercicio 2 - **"
   ]
  },
  {
   "cell_type": "markdown",
   "metadata": {},
   "source": [
    "La proteína p53 es un supresor de tumor. Es una proteína desordenada y participa\n",
    "en muchas interacciones con otras proteínas. Está codificada por el gen TP53.\n",
    "\n",
    "- Recuperar de la base de datos pubmed 10 abstracts de artículos que tengen en\n",
    "  el título o en el abstract el nombre TP53.\n",
    "- ¿Cuales de esos artículos corresponden realmente a la proteína p53?"
   ]
  },
  {
   "cell_type": "markdown",
   "metadata": {},
   "source": [
    "## Ejercicio 3 - ***\n",
    "\n",
    "La base de datos dbVar de NCBI contiene datos de variantes estructurales y\n",
    "rearreglos cromosómicos en humanos. Cada variante se puede anotar con la\n",
    "localozación genómica y con la frecuencia que aparece en la población general o\n",
    "en subpoblaciones.\n",
    "\n",
    "- Recupere los nombres de los genes que están en la regiones involucradas en\n",
    "  todos las variantes genómicas del cromosoma 22 que tienen una frecuencia mayor\n",
    "  a 0.90 (90%).\n",
    "- Recupere las coordenadas genómicas de cada variante.\n"
   ]
  }
 ],
 "metadata": {
  "kernelspec": {
   "display_name": "R",
   "language": "R",
   "name": "ir"
  },
  "language_info": {
   "codemirror_mode": "r",
   "file_extension": ".r",
   "mimetype": "text/x-r-source",
   "name": "R",
   "pygments_lexer": "r",
   "version": "4.0.3"
  }
 },
 "nbformat": 4,
 "nbformat_minor": 5
}
