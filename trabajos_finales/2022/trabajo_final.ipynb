{
 "cells": [
  {
   "cell_type": "markdown",
   "metadata": {},
   "source": [
    "# Trabajo Final"
   ]
  },
  {
   "cell_type": "markdown",
   "metadata": {},
   "source": [
    "Este trabajo de la materia Bases de Datos Biológicas consiste en cinco\n",
    "ejercicios de dificultad variada. Los astericos al lado del título del ejercicio\n",
    "dan una idea de la dificultad esperada del ejercicio.\n",
    "\n",
    "La entrega debe ser un archivo .ipynb que contenga las respuestas, con el código\n",
    "de R necesario cuando corresponda. La resolución de los ejercicios no debiera\n",
    "requerir conocimientos de programación en R más allá de los ejemplos que se\n",
    "vieron en la clase. De todas formas, pueden consultar acercar del uso del\n",
    "lenguage de programacion R si es necesario. Recuerden que pueden hacer una copia\n",
    "del *notebook* a su unidad de google drive y pueden descargar una copia desde la\n",
    "barra de menú>Archivo>Descargar.\n",
    "\n",
    "Fecha límite de entrega 1 de mayo de 2022, la entrega debe hacerse por el\n",
    "Classroom de la materia.\n"
   ]
  },
  {
   "cell_type": "markdown",
   "metadata": {},
   "source": [
    "## Ejercicio 1 - *"
   ]
  },
  {
   "cell_type": "markdown",
   "metadata": {},
   "source": [
    "Uniprot contiene varias bases de datos: Swiss-Prot, TrEMBL, Uniparc, Uniref y Proteomes.\n",
    "\n",
    "Describa exactamente que tipo de información contiene cada una."
   ]
  },
  {
   "cell_type": "markdown",
   "metadata": {},
   "source": [
    "## Ejercicio 2 - **"
   ]
  },
  {
   "cell_type": "markdown",
   "metadata": {},
   "source": [
    "Navegue la base de datos 'taxonomy', usando la interface web. Recupere el\n",
    "nombre de cuatro especies cualquiera de estas categorías.\n",
    "\n",
    "- Bacterias Firmicutes\n",
    "- Bacterias Gammaproteobacteria\n",
    "- Hongos\n",
    "- Plantas\n",
    "- Animales\n",
    "\n",
    "Luego:\n",
    "\n",
    "- Busque en la base de datos 'proteín' de NCBI las secuencias de la enzima\n",
    "  glucolítica phosphofructokinase de los organismos elegidos. Si no existiera\n",
    "  secuencias para alguno de los organismos que eligió, seleccione otro. Además,\n",
    "  no se deben recuperar las secuencias que en el título digan 'partial'.\n",
    "- Construya un alineamiento múltiple de estas secuencias, con cualquier\n",
    "  herramienta que usted quiera.\n"
   ]
  },
  {
   "cell_type": "markdown",
   "metadata": {},
   "source": [
    "## Ejercicio 3 - *"
   ]
  },
  {
   "cell_type": "markdown",
   "metadata": {},
   "source": [
    "La proteína p53 es un supresor de tumor. Es una proteína desordenada y participa\n",
    "en muchas interacciones con otras proteínas. Está codificada por el gen TP53.\n",
    "\n",
    "- Recuperar de la base de datos pubmed 10 abstracts de artículos que tengen en\n",
    "  el título o en el abstract el nombre TP53.\n",
    "- ¿Cuales de esos artículos corresponden realmente a la proteína p53?"
   ]
  },
  {
   "cell_type": "markdown",
   "metadata": {},
   "source": [
    "## Ejercicio 4 - *\n",
    "\n",
    "La enzima escualeno sintasa (squalene synthase, Uniprot acc: p37268, para la\n",
    "versión humana) participa de la vía de síntesis de colesterol.\n",
    "\n",
    "- Usando la búsqueda vanzada en la página web de Uniprot, recuperar de la base\n",
    "  de datos Uniref un cluster de secuencias de esta enzima al 90%.\n",
    "- ¿cual es la query para esta búsqueda?"
   ]
  },
  {
   "cell_type": "markdown",
   "metadata": {},
   "source": [
    "## Ejercicio 5 - ***\n",
    "\n",
    "La base de datos dbVar de NCBI contiene datos de variantes estructurales y\n",
    "rearreglos cromosómicos en humanos. Cada variante se puede anotar con la\n",
    "localozación genómica y con la frecuencia que aparece en la población general o\n",
    "en subpoblaciones.\n",
    "\n",
    "- Recupere los nombres de los genes que están en la regiones involucradas en\n",
    "  todos las variantes genómicas del cromosoma 22 que tienen una frecuencia mayor\n",
    "  a 0.90 (90%).\n",
    "- Recupere las coordenadas genómicas de cada variante.\n"
   ]
  },
  {
   "cell_type": "markdown",
   "id": "08d26518",
   "metadata": {},
   "source": [
    "# Ejercicio 6 - **\n",
    "\n",
    "Consultar la base de datos \"structure\" de NCBI para recuperar las entradas que\n",
    "cumplan los siguientes criterios:\n",
    "\n",
    "- Buscar proteínas con el nombre actina (actin).\n",
    "- La resolución debe ser menor o igual a 2 Angstroms.\n",
    "- Recuperar registros de animales, pero no de humanos.\n",
    "\n",
    "Construir un data.frame que contenga:\n",
    "\n",
    "- La descripción de cada entrada.\n",
    "- El código PDB\n",
    "- La resolución.\n",
    "- El método experimental.\n",
    "- En número de cadenas de proteína, DNA y RNA."
   ]
  }
 ],
 "metadata": {
  "kernelspec": {
   "display_name": "R",
   "language": "R",
   "name": "ir"
  },
  "language_info": {
   "codemirror_mode": "r",
   "file_extension": ".r",
   "mimetype": "text/x-r-source",
   "name": "R",
   "pygments_lexer": "r",
   "version": "4.0.3"
  }
 },
 "nbformat": 4,
 "nbformat_minor": 5
}
