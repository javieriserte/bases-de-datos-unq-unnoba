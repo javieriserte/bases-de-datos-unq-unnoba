{
 "cells": [
  {
   "cell_type": "markdown",
   "id": "731785c4",
   "metadata": {},
   "source": [
    "# Uso de las bases de datos\n",
    "\n",
    "La interacción con las bases de datos puede hacerse con distintos objetivos.\n",
    "Cada una de estas tareas puede ser realizadas por un bioinformático, pero requiere distintos perfiles de conocimiento:\n",
    "\n",
    "- Realizar un análisis de datos de una vez.\n",
    "- Automatizar un análisis periódico.\n",
    "- Desarrollar una aplicación que utiliza y/o requiere datos a pedido de un usuario.\n",
    "\n"
   ]
  },
  {
   "cell_type": "markdown",
   "id": "d98ad9d1",
   "metadata": {},
   "source": [
    "## Como obtener datos de las Bases de datos biológicas\n",
    "\n",
    "Las formas más frecuentes de obtener información de las bases de datos son:\n",
    "\n",
    "- Acceso por una página Web:\n",
    "  - Útil para la exploración de pocos datos.\n",
    "  - Interacción fácil con otras bases de datos\n",
    "  - Suele estar bien documentada.\n",
    "  - Puede ser suficiente para obtener datos para hacer un análisis en particular.\n",
    "  - Recuperar grandes cantidades de datos puede ser tedioso y lento.\n",
    "  - No se puede automatizar.\n",
    "\n",
    "- Acceso FTP u otro método de descarga masiva de datos: \n",
    "  - La mayoría de los proveedores permiten la descarga de los datos crudos, en paquetes grandes que contienen la totalidad o grandes porciones de los datos disponibles.\n",
    "  - Suele haber poca documentación.\n",
    "  - Útil para hacer análisis a gran escala, que requiere todos los datos disponibles.\n",
    "  - No permite obtener datos particulares.\n",
    "  - Puede resultar útil si se está desarrollando una aplicación que se actualiza en períodos de tiempo largo.\n",
    "  \n",
    "- Acceso programático:\n",
    "  - Útil para la automatización de tareas y la creación de aplicaciones.\n",
    "  - Poca documentación.\n",
    "  - Restricciones para evitar el abuso.\n",
    "  - Poco eficiente para descarga masiva de datos.\n",
    "  - Requiere más conocimientos informáticos y de programación.\n",
    "\n"
   ]
  },
  {
   "cell_type": "markdown",
   "id": "4e272496",
   "metadata": {},
   "source": [
    "En esta parte del curso nos vamos en el acceso programático.\n",
    "Para ello, tenemos que entender algunos conceptos básicos de como se transmiten los datos en internet."
   ]
  },
  {
   "cell_type": "markdown",
   "id": "18b13aa2",
   "metadata": {},
   "source": [
    "## Protocolo HTTP\n",
    "\n",
    "El HTTP (Hypertext Transfer Protocol, Procolo de transferencia de hipertexto) es un protocolo para la comunicación de datos de cualquier medio, de forma distribuida y colaborativa.\n",
    "\n",
    "En este protocolo hay dos actores principales:\n",
    "\n",
    "- El **cliente** (client): Es quien hace la petición de conexión y hace los **pedidos** (request) al servidor.\n",
    "- El **servidor** (server): Es quien recibe los pedidos del cliente y devuelve una **respuesta** (response) a ese pedido.\n",
    "\n",
    "![](https://github.com/javieriserte/bases-de-datos-unq-unnoba/blob/main/images/http_scheme.svg)"
   ]
  },
  {
   "cell_type": "markdown",
   "id": "55b505e4",
   "metadata": {},
   "source": [
    "### Principios del protocolo HTTP\n",
    "\n",
    "- Sin conexión permanente:\n",
    "\n",
    "El **cliente** comienza una conexión mediante un **pedido**. El cliente espera al **servidor** que tiene que procesar\n",
    "el **pedido** y luego envía la **respuesta** al **cliente**. Cuando el **cliente** recibe la **respuesta** la conexión termina y tanto el **cliente** y el **servidor** dejan de tener conocimiento de cada uno.\n",
    "\n",
    "- Sin estado:\n",
    "\n",
    "Ni el **cliente** ni el **servidor** pueden mantener información entre distintas conexiones.\n",
    "\n",
    "- No tiene restricciones de los medios que se transfieren.\n",
    "\n",
    "Se puede transferir datos de cualquier tipo, siempre que el **cliente** y el **servidor** sepan como interpretarlos."
   ]
  },
  {
   "cell_type": "markdown",
   "id": "59f6ab8d",
   "metadata": {},
   "source": [
    "## Pedidos y respuestas HTTP\n",
    "\n",
    "Los **pedidos**\n"
   ]
  },
  {
   "cell_type": "markdown",
   "id": "557a4391",
   "metadata": {},
   "source": [
    "## REST API\n",
    "\n"
   ]
  }
 ],
 "metadata": {
  "kernelspec": {
   "display_name": "R",
   "language": "R",
   "name": "ir"
  },
  "language_info": {
   "codemirror_mode": "r",
   "file_extension": ".r",
   "mimetype": "text/x-r-source",
   "name": "R",
   "pygments_lexer": "r",
   "version": "4.0.3"
  }
 },
 "nbformat": 4,
 "nbformat_minor": 5
}
