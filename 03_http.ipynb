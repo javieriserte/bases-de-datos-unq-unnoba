{
 "cells": [
  {
   "cell_type": "markdown",
   "id": "731785c4",
   "metadata": {},
   "source": [
    "# Uso de las bases de datos\n",
    "\n",
    "La interacción con las bases de datos puede hacerse con distintos objetivos.\n",
    "\n",
    "Cada una de estas tareas puede ser realizadas por un bioinformático,\n",
    "pero requiere distintos perfiles de conocimiento:\n",
    "\n",
    "- Realizar un análisis de datos de una vez.\n",
    "- Automatizar un análisis periódico.\n",
    "- Desarrollar una aplicación que utiliza y/o requiere datos a pedido de un\n",
    "  usuario.\n",
    "\n"
   ]
  },
  {
   "cell_type": "markdown",
   "id": "d98ad9d1",
   "metadata": {},
   "source": [
    "## Como obtener datos de las Bases de datos biológicas\n",
    "\n",
    "Las formas más frecuentes de obtener información de las bases de datos son:\n",
    "\n",
    "- Acceso por una página Web:\n",
    "  - Útil para la exploración de pocos datos.\n",
    "  - Interacción fácil con otras bases de datos\n",
    "  - Suele estar bien documentada.\n",
    "  - Puede ser suficiente para obtener datos para hacer un análisis en particular.\n",
    "  - Recuperar grandes cantidades de datos puede ser tedioso y lento.\n",
    "  - No se puede automatizar.\n",
    "\n",
    "- Acceso FTP u otro método de descarga masiva de datos:\n",
    "  - La mayoría de los proveedores permiten la descarga de los datos crudos, en paquetes grandes que contienen la totalidad o grandes porciones de los datos disponibles.\n",
    "  - Suele haber poca documentación.\n",
    "  - Útil para hacer análisis a gran escala, que requiere todos los datos disponibles.\n",
    "  - No permite obtener datos particulares.\n",
    "  - Puede resultar útil si se está desarrollando una aplicación que se actualiza en períodos de tiempo largo.\n",
    "\n",
    "- Acceso programático:\n",
    "  - Útil para la automatización de tareas y la creación de aplicaciones.\n",
    "  - Poca documentación.\n",
    "  - Restricciones para evitar el abuso.\n",
    "  - Poco eficiente para descarga masiva de datos.\n",
    "  - Requiere más conocimientos informáticos y de programación.\n",
    "\n"
   ]
  },
  {
   "cell_type": "markdown",
   "id": "4e272496",
   "metadata": {},
   "source": [
    "En esta parte del curso nos vamos en el acceso programático.\n",
    "Para ello, tenemos que entender algunos conceptos básicos de como se transmiten los datos en internet."
   ]
  },
  {
   "cell_type": "markdown",
   "id": "11df33ad",
   "metadata": {},
   "source": [
    "## Protocolo HTTP\n",
    "\n",
    "El HTTP (Hypertext Transfer Protocol, Procolo de transferencia de hipertexto) es un protocolo para la comunicación de datos de cualquier medio, de forma distribuida y colaborativa.\n",
    "\n",
    "En este protocolo hay dos actores principales:\n",
    "\n",
    "- El **cliente** (client): Es quien hace la petición de conexión y hace los **pedidos** (request) al servidor.\n",
    "- El **servidor** (server): Es quien recibe los pedidos del cliente y devuelve una **respuesta** (response) a ese pedido.\n",
    "\n",
    "![](https://raw.githubusercontent.com/javieriserte/bases-de-datos-unq-unnoba/main/images/http_scheme.svg)"
   ]
  },
  {
   "cell_type": "markdown",
   "id": "55b505e4",
   "metadata": {},
   "source": [
    "### Principios del protocolo HTTP\n",
    "\n",
    "- Sin conexión permanente:\n",
    "\n",
    "El **cliente** comienza una conexión mediante un **pedido**. El cliente espera al **servidor** que tiene que procesar\n",
    "el **pedido** y luego envía la **respuesta** al **cliente**. Cuando el **cliente** recibe la **respuesta** la conexión termina y tanto el **cliente** y el **servidor** dejan de tener conocimiento de cada uno.\n",
    "\n",
    "- Sin estado:\n",
    "\n",
    "Ni el **cliente** ni el **servidor** pueden mantener información entre distintas conexiones.\n",
    "\n",
    "- No tiene restricciones de los medios que se transfieren.\n",
    "\n",
    "Se puede transferir datos de cualquier tipo, siempre que el **cliente** y el **servidor** sepan como interpretarlos."
   ]
  },
  {
   "cell_type": "markdown",
   "id": "fd86fc11",
   "metadata": {},
   "source": [
    "## Pedidos y respuestas HTTP\n",
    "\n",
    "Los **pedidos** y las **respuestas** HTTP tienen una estructura fija y contienen datos definidos.\n",
    "\n",
    "### Pedidos HTTP:\n",
    "\n",
    "Los pedidos contienen dos partes.\n",
    "\n",
    "- La primera, llamada **encabezado** (**header**), contiene datos que definen el tipo de pedido y el destinatario.\n",
    "Los elementos más importantes del encabezado son:\n",
    "  - Método: Define el tipo acción que debe realizar el **servidor** al recibir el pedido. Los dos métodos más comunes son:\n",
    "    - GET: Para recuperar información del servidor.\n",
    "    - POST: Para subir datos que requerirá el servidor para procesar el **pedido**.\n",
    "  - Recurso: Ruta del recurso (por ejemplo un archivo al que se dirige el **pedido**).\n",
    "  - Host: Nombre del **servidor**.\n",
    "- La segunda parte son los datos que se envian al servidor. No es obligatoria.\n"
   ]
  },
  {
   "cell_type": "markdown",
   "id": "95c61935",
   "metadata": {},
   "source": [
    "#### Veamos un ejemplo de pedido."
   ]
  },
  {
   "cell_type": "markdown",
   "id": "3fd089f0",
   "metadata": {},
   "source": [
    "\\#\\# Inicio del pedido\n",
    "<pre>\n",
    "<b style=\"color:red\">POST</b> /<b style=\"color:blue\">Blast.cgi</b> HTTP/2\n",
    "<b style=\"color:green\">Host: blast.ncbi.nlm.nih.gov</b>\n",
    "User-Agent: Mozilla/5.0 (Windows NT 10.0; Win64; x64; rv:88.0) Gecko/20100101 Firefox/88.0\n",
    "Accept: text/html,application/xhtml+xml,application/xml;q=0.9,image/webp,*/*;q=0.8\n",
    "Accept-Language: es-AR,es;q=0.8,en-US;q=0.5,en;q=0.3\n",
    "Accept-Encoding: gzip, deflate, br\n",
    "Referer: https://blast.ncbi.nlm.nih.gov/Blast.cgi\n",
    "Content-Type: application/x-www-form-urlencoded\n",
    "Content-Length: 1000\n",
    "Origin: https://blast.ncbi.nlm.nih.gov\n",
    "Connection: keep-alive\n",
    "Cookie: ncbi_sid=8D9FBA5\n",
    "Upgrade-Insecure-Requests: 1\n",
    "Sec-GPC: 1\n",
    "\n",
    "<b style=\"color:purple\">ADV_VIEW=on&ALIGNMENTS=100&ALIGNMENT_VIEW=Pairwise</b>\n",
    "</pre>\n",
    "\\#\\# Fin del pedido"
   ]
  },
  {
   "cell_type": "markdown",
   "id": "ce98721b",
   "metadata": {},
   "source": [
    "\n",
    "- <b style=\"color:red\">POST</b> es el método.\n",
    "- <b style=\"color:blue\">Blast.cgi</b> es el recurso.\n",
    "- <b style=\"color:green\">Host: blast.ncbi.nlm.nih.gov</b> es el servidor.\n",
    "- <b style=\"color:purple\">ADV_VIEW=on&ALIGNMENTS=100&ALIGNMENT_VIEW=Pairwise</b> son los datos enviados en el pedido.\n"
   ]
  },
  {
   "cell_type": "markdown",
   "id": "c0eb0cdc",
   "metadata": {},
   "source": [
    "\n",
    "### Respuestas HTTP:\n",
    "\n",
    "Las respuestas tambien tienen un encabezado y luegos los datos propios que nos\n",
    "\n",
    "pueden ser de interés.\n",
    "\n",
    "Los encabezados de una repuesta tiene un formato similar al de un pedido,\n",
    "\n",
    "pero no van a ser relevantes para nosotros, con exceptión del código de estado.\n",
    "\n",
    "El código de estado (**status code**) es un número que refleja si la consulta\n",
    "\n",
    "fue exitosa o si hubo algún tipo de problema.\n",
    "\n",
    "Algunos de los códigos de estados más comunes son:\n",
    "\n",
    "- 200 OK : La consulta se procesó exitosamente.\n",
    "- 301 Moved Permanently: La url no se encuentra en el lugar indicado, la nueva url se pasa en la respuesta.\n",
    "- 400 Bad Request: El servidor no entiende el pedido.\n",
    "- 404 Not found: El recurso que se busca no se encontró.\n",
    "- 500 Internal Server Error: El servidor encontró una situación que no sabe como manejar."
   ]
  },
  {
   "cell_type": "markdown",
   "id": "557a4391",
   "metadata": {},
   "source": [
    "## REST API\n",
    "\n",
    "Los servidores webs pueden ofrecer sus datos y permitir hacer consultas\n",
    "por medio de una interfaz programática independiente de la representación\n",
    "de una página web.\n",
    "\n",
    "Este tipo de interfaz se conoce como REST-API.\n",
    "\n",
    "- De esta forma es posible interactuar con el servidor de forma más simple.\n",
    "\n",
    "- Esta interfaz está conformada por una colección de **URLs** diferentes.\n",
    "\n",
    "- Cada una de ellas provee una funcionalidad específica.\n",
    "\n",
    "- Por ejemplo, estas son algunas de las **URLs** de NCBI.\n",
    "\n",
    "  - https://eutils.ncbi.nlm.nih.gov/entrez/eutils/einfo.fcgi\n",
    "  - https://eutils.ncbi.nlm.nih.gov/entrez/eutils/esearch.fcgi\n",
    "  - https://eutils.ncbi.nlm.nih.gov/entrez/eutils/esummary.fcgi\n",
    "\n",
    "- Como programadores, podemos interactuar con esta interfaz para llevar las\n",
    "  tareas que necesitemos.\n",
    "\n",
    "- La comunicación se realiza por medio de HTTP."
   ]
  },
  {
   "cell_type": "markdown",
   "id": "223c84a4",
   "metadata": {},
   "source": [
    "## Como interactuar con una REST-API de una base de datos.\n",
    "\n",
    "La interacción con una REST-API puede hacerse de muchas formas.\n",
    "\n",
    "Nosotros nos vamos a restringir a dos casos típicos usando el lenguage de programación R.\n",
    "\n",
    "- Usando la librería **httr**, que permite hacer consultas de forma genérica a\n",
    "  servicios http.\n",
    "- Usando librería específicas para interactuar con alguna base de datos\n",
    "  particular."
   ]
  },
  {
   "cell_type": "markdown",
   "id": "3e22cab1",
   "metadata": {},
   "source": [
    "### Usando la librería httr de R\n",
    "\n",
    "Es un mecanismo básico para hacer peticiones HTTP genéricas.\n",
    "\n",
    "Nosotros tendremos que encargarnos de adaptar los datos a los formatos que sean necesarios y de procesar las respuestas.\n",
    "\n",
    "Suele requerir un manejo más técnico y de más detalles que otras soluciones."
   ]
  },
  {
   "cell_type": "code",
   "execution_count": null,
   "id": "bcb3a96f",
   "metadata": {
    "vscode": {
     "languageId": "r"
    }
   },
   "outputs": [],
   "source": [
    "# Para instalar la libraría\n",
    "# install.packages(\"httr\")\n",
    "\n",
    "library(httr)\n",
    "library(xml2)"
   ]
  },
  {
   "cell_type": "markdown",
   "id": "41c9f9ea",
   "metadata": {},
   "source": [
    "Vamos a comenzar haciendo un pedido con el método GET."
   ]
  },
  {
   "cell_type": "code",
   "execution_count": null,
   "id": "6179d0be",
   "metadata": {
    "vscode": {
     "languageId": "r"
    }
   },
   "outputs": [],
   "source": [
    "# Defino la URL\n",
    "url <- \"https://eutils.ncbi.nlm.nih.gov/entrez/eutils/einfo.fcgi\""
   ]
  },
  {
   "cell_type": "code",
   "execution_count": null,
   "id": "e80fcd09",
   "metadata": {
    "vscode": {
     "languageId": "r"
    }
   },
   "outputs": [],
   "source": [
    "# La función GET envía la petición y devuelve la respuesta del servidor\n",
    "response <- GET(url)"
   ]
  },
  {
   "cell_type": "code",
   "execution_count": null,
   "id": "caf1cc4f",
   "metadata": {
    "scrolled": true,
    "vscode": {
     "languageId": "r"
    }
   },
   "outputs": [],
   "source": [
    "# Veamos el status code\n",
    "status_code(response)"
   ]
  },
  {
   "cell_type": "code",
   "execution_count": null,
   "id": "b0bccf10",
   "metadata": {
    "vscode": {
     "languageId": "r"
    }
   },
   "outputs": [],
   "source": [
    "# Veamos el contenido de la respuesta\n",
    "# Primero como texto plano\n",
    "contenido <- content(response, as=\"text\")\n",
    "cat(contenido)"
   ]
  },
  {
   "cell_type": "code",
   "execution_count": null,
   "id": "b8298aba",
   "metadata": {
    "vscode": {
     "languageId": "r"
    }
   },
   "outputs": [],
   "source": [
    "# Veamos el contenido de la respuesta\n",
    "# Ahora, transformando el contenido a una lista de R\n",
    "contenido <- as_list(content(response, as=\"parsed\"))\n",
    "class(contenido)\n",
    "contenido"
   ]
  },
  {
   "cell_type": "markdown",
   "id": "12dfdf18",
   "metadata": {},
   "source": [
    "Hagamos otra petición, pasando algunos argumentos adicionales."
   ]
  },
  {
   "cell_type": "code",
   "execution_count": null,
   "id": "e15d835b",
   "metadata": {
    "vscode": {
     "languageId": "r"
    }
   },
   "outputs": [],
   "source": [
    "url <- \"https://eutils.ncbi.nlm.nih.gov/entrez/eutils/einfo.fcgi\"\n",
    "# Según la documentación de EInfo en NCBI, el argumento \"db\" permite obtener detalles\n",
    "# específicos de una base de datos particular.\n",
    "response <- GET(url, query = list(db=\"nuccore\"))"
   ]
  },
  {
   "cell_type": "code",
   "execution_count": null,
   "id": "3d1c452d",
   "metadata": {
    "vscode": {
     "languageId": "r"
    }
   },
   "outputs": [],
   "source": [
    "contenido <- content(response, as=\"text\")\n",
    "cat(contenido)\n"
   ]
  },
  {
   "cell_type": "code",
   "execution_count": null,
   "id": "970ec24c",
   "metadata": {
    "vscode": {
     "languageId": "r"
    }
   },
   "outputs": [],
   "source": [
    "# Otra forma de hacerlo es modificar la URL, aunque es más engorroso y es más fácil equivocarnos.\n",
    "\n",
    "url <- \"https://eutils.ncbi.nlm.nih.gov/entrez/eutils/einfo.fcgi?db=nuccore\"\n",
    "response <- GET(url)\n",
    "cat(content(response, as=\"text\"))"
   ]
  },
  {
   "cell_type": "markdown",
   "id": "6e37cab1",
   "metadata": {},
   "source": [
    "Ahora vamos probar con un POST"
   ]
  },
  {
   "cell_type": "code",
   "execution_count": null,
   "id": "1f6729f0",
   "metadata": {
    "vscode": {
     "languageId": "r"
    }
   },
   "outputs": [],
   "source": [
    "seq <- \"MMASTENNEKDNFMRDTASRSKKSRRRSLWIAAGAVPTAIA\\\n",
    "LSLSLASPAAVAQSSFGSSDIIDSGVLDSITRGLTDYLTPR\\\n",
    "DEALPAGEVTYPAIEGLPAGVRVNSAEYVTSHHVVLSIQSA\\\n",
    "AMPERPIKVQLLLPRDWYSSPDRDFPEIWALDGLRAIEKQS\\\n",
    "GWTIETNIEQFFADKNAIVVLPVGGESSFYTDWNEPNNGKN\\\n",
    "YQWETFLTEELAPILDKGFRSNGERAITGISMGGTAAVNIA\\\n",
    "THNPEMFNFVGSFSGYLDTTSNGMPAAIGAALADAGGYNVN\\\n",
    "AMWGPAGSERWLENDPKRNVDQLRGKQVYVSAGSGADDYGQ\\\n",
    "DGSVATGPANAAGVGLELISRMTSQTFVDAANGAGVNVIAN\\\n",
    "FRPSGVHAWPYWQFEMTQAWPYMADSLGMSREDRGADCVAL\\\n",
    "GAIADATADGSLGSCLNNEYLVANGVGRAQDFTNGRAYWSP\\\n",
    "NTGAFGLFGRINARYSELGGPDSWLGFPKTRELSTPDGRGR\\\n",
    "YVHFENGSIYWSAATGPWEIPGDMFTAWGTQGYEAGGLGYP\\\n",
    "VGPAKDFNGGLAQEFQGGYVLRTPQNRAYWVRGAISAKYME\\\n",
    "PGVATTLGFPTGNERLIPGGAFQEFTNGNIYWSASTGAHYI\\\n",
    "LRGGIFDAWGAKGYEQGEYGWPTTDQTSIAAGGETITFQNG\\\n",
    "TIRQVNGRIEESR\"\n",
    "\n",
    "url <- \"http://pfam-legacy.xfam.org/search/sequence\"\n",
    "\n",
    "body <- list(\n",
    "    seq = seq,\n",
    "    output=\"xml\"\n",
    ")\n",
    "response <- POST(\n",
    "    url,\n",
    "    body=body\n",
    ")"
   ]
  },
  {
   "cell_type": "code",
   "execution_count": null,
   "id": "e2236c87",
   "metadata": {
    "vscode": {
     "languageId": "r"
    }
   },
   "outputs": [],
   "source": [
    "cat(content(response, as=\"text\"))"
   ]
  },
  {
   "cell_type": "markdown",
   "id": "2154549a",
   "metadata": {},
   "source": [
    "### Usando librerías de terceros específicas para interactuar con alguna base de datos\n",
    "\n",
    "Para muchas bases de datos, existen paquetes que permiten que la interacción son esa base de datos sea más sencilla.\n",
    "\n",
    "Desafortunadamente, no existen para todas las bases de datos y no siempre son estables.\n",
    "En general son desarrollados por una sola persona o equipos pequeños y no siempre están actualizados con\n",
    "respecto a las bases de datos.\n",
    "\n",
    "De todas formas, van a ser nuestra forma preferida de interacción por su sencillez.\n"
   ]
  },
  {
   "cell_type": "code",
   "execution_count": null,
   "id": "def113b4",
   "metadata": {
    "vscode": {
     "languageId": "r"
    }
   },
   "outputs": [],
   "source": [
    "# Para instalar\n",
    "install.packages(\"rentrez\")\n",
    "library(rentrez)"
   ]
  },
  {
   "cell_type": "code",
   "execution_count": null,
   "id": "f6a2e6a2",
   "metadata": {
    "vscode": {
     "languageId": "r"
    }
   },
   "outputs": [],
   "source": [
    "response <- entrez_info()\n",
    "response"
   ]
  },
  {
   "cell_type": "code",
   "execution_count": null,
   "id": "d598b9dc",
   "metadata": {
    "vscode": {
     "languageId": "r"
    }
   },
   "outputs": [],
   "source": [
    "response <- entrez_info(db=\"nuccore\")\n",
    "response"
   ]
  }
 ],
 "metadata": {
  "kernelspec": {
   "display_name": "R",
   "language": "R",
   "name": "ir"
  },
  "language_info": {
   "codemirror_mode": "r",
   "file_extension": ".r",
   "mimetype": "text/x-r-source",
   "name": "R",
   "pygments_lexer": "r",
   "version": "4.1.2"
  }
 },
 "nbformat": 4,
 "nbformat_minor": 5
}
