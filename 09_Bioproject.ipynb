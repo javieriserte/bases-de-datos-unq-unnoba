{
 "cells": [
  {
   "cell_type": "markdown",
   "id": "8c3c5af2",
   "metadata": {},
   "source": [
    "# Bioproject y bases de datos relacionadas\n",
    "\n",
    "Hay un conjunto de bases de datos que almacenan información sobre proyectos de secuenciación masiva de ácidos nucleicos. Que incluyen entre otros:\n",
    "\n",
    "- Genómica\n",
    "- Transcriptómica\n",
    "- GWAS\n",
    "- Análisis de variantes\n",
    "- Metagenómica"
   ]
  },
  {
   "cell_type": "markdown",
   "id": "37a02f05",
   "metadata": {},
   "source": [
    "Cada una de estas bases de datos se concentran en un aspecto diferente de los datos.\n",
    "\n",
    "- **BioProject**:\n",
    "  - Descripción\n",
    "  - Enfoque\n",
    "  - Objetivo\n",
    "\n",
    "- **BioSample**:\n",
    "  - Datos de las muestras biológicas que se utilizan en el proyecto.\n",
    "  - Organismo\n",
    "  - Tratamiento experimental\n",
    "  - Réplica\n",
    "\n",
    "- **SRA (Sequence Read Archive)**:\n",
    "  - Plataforma de secuenciación\n",
    "  - Datos de secuencias\n"
   ]
  },
  {
   "cell_type": "markdown",
   "id": "628052a5",
   "metadata": {},
   "source": [
    "![SRA](https://github.com/javieriserte/bases-de-datos-unq-unnoba/raw/main/images/sra.svg)"
   ]
  },
  {
   "cell_type": "markdown",
   "id": "04f7e1d7",
   "metadata": {
    "vscode": {
     "languageId": "plaintext"
    }
   },
   "source": [
    "## GEO Datasets (GSE)\n",
    "\n",
    "- Contienen experimentos completos de expresión génica, como microarrays o RNA-seq.\n",
    "- Cada dataset se identifica con un ID tipo GSEXXXX.\n",
    "- Incluye varias muestras (cada una con un GSM), información de diseño experimental, y a menudo está enlazado con un BioProject."
   ]
  },
  {
   "cell_type": "markdown",
   "id": "35b79770",
   "metadata": {
    "vscode": {
     "languageId": "plaintext"
    }
   },
   "source": [
    "## GEO Profiles\n",
    "\n",
    "- Son perfiles individuales de expresión de un gen extraídos de los GEO Datasets.\n",
    "- Cada perfil (GDSXXXX) representa cómo se expresa un gen a lo largo de las muestras de un dataset.\n",
    "- Es decir, 1 GSE (dataset) ➝ muchos GEO Profiles (uno por gen)"
   ]
  },
  {
   "cell_type": "markdown",
   "id": "432b6b56",
   "metadata": {},
   "source": [
    "## Métodos de descargas\n",
    "\n",
    "Los datos de secuenciación masiva ocupan una gran cantidad de espacio de almacenamiento.\n",
    "Por ello, hay metodologías especiales para descargarlos."
   ]
  },
  {
   "cell_type": "markdown",
   "id": "65a06aac",
   "metadata": {},
   "source": [
    "### RUN selector\n",
    "\n",
    "El **RUN selector** del NCBI es una herramienta que permite explorar y\n",
    "seleccionar datos de secuenciación asociados a un proyecto o estudio específico.\n",
    "Proporciona una interfaz interactiva donde se pueden filtrar y visualizar los\n",
    "datos disponibles, como las plataformas de secuenciación utilizadas, el número\n",
    "de lecturas generadas, y el tamaño total de los datos.\n",
    "\n",
    "Funciona de la siguiente manera:\n",
    "\n",
    "1. **Búsqueda**: Se ingresa un identificador de proyecto (por ejemplo, un\n",
    "   BioProject o BioSample) o palabras clave relacionadas.\n",
    "2. **Visualización**: Muestra una tabla con los datos de secuenciación\n",
    "   disponibles, incluyendo información como el ID del RUN (SRRXXXXXXX), la\n",
    "   plataforma de secuenciación, y el tamaño de los datos.\n",
    "3. **Selección**: Permite seleccionar los RUNs de interés para su descarga o\n",
    "   análisis.\n",
    "4. **Exportación**: Se pueden exportar los IDs seleccionados para utilizarlos\n",
    "   con herramientas como el SRA Toolkit.\n",
    "\n",
    "[Bioproject](https://www.ncbi.nlm.nih.gov/bioproject/)"
   ]
  },
  {
   "cell_type": "markdown",
   "id": "7d4b0298",
   "metadata": {},
   "source": [
    "### SRA Toolkit\n",
    "\n",
    "El **SRA Toolkit** es un conjunto de herramientas:\n",
    "- Descargar, procesar y convertir datos almacenados en el Sequence Read Archive (SRA).\n",
    "- Estas herramientas permiten trabajar con grandes volúmenes de datos de secuenciación de manera eficiente.\n",
    "\n",
    "#### Funcionalidades principales:\n",
    "- **Descarga de datos**: Permite descargar archivos SRA directamente desde el repositorio.\n",
    "- **Conversión de formatos**: Convierte archivos SRA a formatos más comunes como FASTQ para su análisis.\n",
    "- **Gestión de datos**: Facilita la extracción y manipulación de datos específicos dentro de un archivo SRA.\n",
    "\n",
    "#### Herramientas incluidas:\n",
    "- `prefetch`: Descarga archivos SRA desde el repositorio.\n",
    "- `fasterq-dump`: Convierte archivos SRA en archivos FASTQ de manera rápida y eficiente.\n",
    "- `sam-dump`: Extrae datos en formato SAM para análisis de alineación.\n",
    "\n",
    "Más información y descarga: [SRA Toolkit](https://github.com/ncbi/sra-tools/wiki/01.-Downloading-SRA-Toolkit)\n"
   ]
  },
  {
   "cell_type": "markdown",
   "id": "6411a219",
   "metadata": {},
   "source": [
    "### Comandos más relevantes:\n",
    "\n",
    "  ```bash\n",
    "  # Descargar el archivo SRA.\n",
    "  > prefetch SRR0000001 -O /path/to/folder/\n",
    "  # Convierte el archivo SRA en archivos fastq.\n",
    "  > fasterq-dump /path/to/folder/SRR0000001.sra\n",
    "  ```"
   ]
  }
 ],
 "metadata": {
  "kernelspec": {
   "display_name": "R",
   "language": "R",
   "name": "ir"
  },
  "language_info": {
   "codemirror_mode": "r",
   "file_extension": ".r",
   "mimetype": "text/x-r-source",
   "name": "R",
   "pygments_lexer": "r",
   "version": "4.0.3"
  }
 },
 "nbformat": 4,
 "nbformat_minor": 5
}
