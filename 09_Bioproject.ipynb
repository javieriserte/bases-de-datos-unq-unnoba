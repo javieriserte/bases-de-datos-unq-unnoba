{
 "cells": [
  {
   "cell_type": "markdown",
   "id": "8c3c5af2",
   "metadata": {},
   "source": [
    "# Bioproject y bases de datos relacionadas\n",
    "\n",
    "Hay un conjunto de bases de datos que almacenan información sobre proyectos de secuenciación masiva de ácidos nucleicos. Que incluyen entre otros:\n",
    "\n",
    "- Genómica\n",
    "- Transcriptómica\n",
    "- GWAS\n",
    "- Análisis de variantes\n",
    "- Metagenómica"
   ]
  },
  {
   "cell_type": "markdown",
   "id": "37a02f05",
   "metadata": {},
   "source": [
    "Cada una de estas bases de datos se concentran en un aspecto diferente de los datos.\n",
    "\n",
    "- **BioProject**:\n",
    "  - Descripción\n",
    "  - Enfoque\n",
    "  - Objetivo\n",
    "\n",
    "- **BioSample**:\n",
    "  - Datos de las muestras biológicas que se utilizan en el proyecto.\n",
    "  - Organismo\n",
    "  - Tratamiento experimental\n",
    "  - Réplica\n",
    "\n",
    "- **SRA (Sequence Read Archive)**:\n",
    "  - Plataforma de secuenciación\n",
    "  - Datos de secuencias\n"
   ]
  },
  {
   "cell_type": "markdown",
   "id": "628052a5",
   "metadata": {},
   "source": [
    "![SRA](https://github.com/javieriserte/bases-de-datos-unq-unnoba/raw/main/images/sra.svg)"
   ]
  },
  {
   "cell_type": "markdown",
   "id": "432b6b56",
   "metadata": {},
   "source": [
    "## Métodos de descargas\n",
    "\n",
    "Los datos de secuenciación masiva ocupan una gran cantidad de espacio de almacenamiento.\n",
    "Por ello, hay metodologías especiales para descargarlos."
   ]
  },
  {
   "cell_type": "markdown",
   "id": "65a06aac",
   "metadata": {},
   "source": [
    "### RUN selector\n",
    "\n",
    "[Bioproject](https://www.ncbi.nlm.nih.gov/bioproject/)"
   ]
  },
  {
   "cell_type": "markdown",
   "id": "7d4b0298",
   "metadata": {},
   "source": [
    "### SRA Toolkit\n",
    "\n",
    "[SRA Toolkit](https://trace.ncbi.nlm.nih.gov/Traces/sra/sra.cgi?view=software)"
   ]
  },
  {
   "cell_type": "markdown",
   "id": "6411a219",
   "metadata": {},
   "source": [
    "### Comandos más relevantes:\n",
    "\n",
    "  ```bash\n",
    "  # Descargar el archivo SRA.\n",
    "  > prefetch SRR0000001 -O /path/to/folder/\n",
    "  # Convierte el archivo SRA en archivos fastq.\n",
    "  > fasterq-dump /path/to/folder/SRR0000001.sra\n",
    "  ```"
   ]
  }
 ],
 "metadata": {
  "kernelspec": {
   "display_name": "R",
   "language": "R",
   "name": "ir"
  },
  "language_info": {
   "codemirror_mode": "r",
   "file_extension": ".r",
   "mimetype": "text/x-r-source",
   "name": "R",
   "pygments_lexer": "r",
   "version": "4.0.3"
  }
 },
 "nbformat": 4,
 "nbformat_minor": 5
}
