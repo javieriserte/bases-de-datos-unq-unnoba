{
 "cells": [
  {
   "cell_type": "markdown",
   "id": "843da9d9",
   "metadata": {},
   "source": [
    "# Trabajo Final"
   ]
  },
  {
   "cell_type": "markdown",
   "id": "65fe87ef",
   "metadata": {},
   "source": [
    "Este trabajo de la materia Bases de Datos Biológicas consiste en cinco ejercicios de dificultad variada. Los astericos al lado del título del ejercicio dan una idea de la dificultad esperada del ejercicio.\n",
    "\n",
    "La entrega debe ser un archivo .ipynb que contenga las respuestas, con el código de R necesario cuando corresponda.\n",
    "La resolución de los ejercicios no debiera requerir conocimientos de programación en R más allá de los ejemplos que se vieron en la clase. De todas formas, pueden consultar acercar del uso del lenguage de programacion R si es necesario.\n",
    "Recuerden que pueden hacer una copia del *notebook* a su unidad de google drive y pueden descargar una copia desde la barra de menú>Archivo>Descargar\n",
    "\n",
    "Fecha límite de entrega 1 de agosto de 2021, la entrega debe hacerse por el Classroom de la materia.\n"
   ]
  },
  {
   "cell_type": "markdown",
   "id": "c50d2681",
   "metadata": {},
   "source": [
    "## Ejercicio 1 - *"
   ]
  },
  {
   "cell_type": "markdown",
   "id": "005d5ba0",
   "metadata": {},
   "source": [
    "Uniprot contiene varias bases de datos: Swiss-Prot, TrEMBL, Uniparc, Uniref y Proteomes.\n",
    "\n",
    "Describa exactamente que tipo de información contiene cada una."
   ]
  },
  {
   "cell_type": "markdown",
   "id": "3b34cc7a",
   "metadata": {},
   "source": [
    "## Ejercicio 2 - **"
   ]
  },
  {
   "cell_type": "markdown",
   "id": "d48e8f21",
   "metadata": {},
   "source": [
    "Navegue la base de datos 'taxonomy' para averiguar los nombres de cuatro especies de organismos de estas categorías.\n",
    "\n",
    "- Bacterias Firmicutes\n",
    "- Bacterias Gammaproteobacteria \n",
    "- Hongos\n",
    "- Plantas\n",
    "- Animales\n",
    "\n",
    "Luego: \n",
    "\n",
    "- Busque en la base de datos 'proteín' de NCBI las secuencias de la enzima glucolítica phosphofructokinase de los organismos elegidos. Si no existiera secuencias para alguno de los organismos que eligió, seleccione otro. Además, no se deben recuperar las secuencias que en el título digan 'partial'.\n",
    "- Construya un alineamiento múltiple de estas secuencias, con cualquier herramienta que usted quiera. \n"
   ]
  },
  {
   "cell_type": "markdown",
   "id": "a1c3ab40",
   "metadata": {},
   "source": [
    "## Ejercicio 3 - *"
   ]
  },
  {
   "cell_type": "markdown",
   "id": "03f4090e",
   "metadata": {},
   "source": [
    "La proteína p53 es un supresor de tumor. Es una proteína desordenada y participa en muchas interacciones con otras proteínas. Está codificada por el gen TP53.\n",
    "\n",
    "- Recuperar de la base de datos pubmed 10 abstracts de artículos que tengen en el título o en el abstract el nombre TP53.\n",
    "- ¿Cuales de esos artículos corresponden realmente a la proteína p53?"
   ]
  },
  {
   "cell_type": "markdown",
   "id": "1043c5de",
   "metadata": {},
   "source": [
    "## Ejercicio 4 - *\n",
    "\n",
    "La enzima escualeno sintasa (squalene synthase, Uniprot acc: p37268, para la versión humana) participa de la vía de síntesis de colesterol.\n",
    "\n",
    "- Usando la búsqueda vanzada en la página web de Uniprot, recuperar de la base de datos Uniref un cluster de secuencias de esta enzima al 90%.\n",
    "- ¿cual es la query para esta búsqueda?"
   ]
  },
  {
   "cell_type": "markdown",
   "id": "e009d719",
   "metadata": {},
   "source": [
    "## Ejercicio 5 - ***\n",
    " \n",
    "La base de datos dbVar de NCBI contiene datos de variantes estructurales y rearreglos cromosómicos en humanos.\n",
    "Cada variante se puede anotar con la localozación genómica y con la frecuencia que aparece en la población general o en subpoblaciones.\n",
    " \n",
    "- Recupere los nombres de los genes que están en la regiones involucradas en todos las variantes genómicas del cromosoma 22 que tienen una frecuencia mayor a 0.90 (90%).\n",
    "- Recupere las coordenadas genómicas de cada variante.\n",
    " "
   ]
  }
 ],
 "metadata": {
  "kernelspec": {
   "display_name": "R",
   "language": "R",
   "name": "ir"
  },
  "language_info": {
   "codemirror_mode": "r",
   "file_extension": ".r",
   "mimetype": "text/x-r-source",
   "name": "R",
   "pygments_lexer": "r",
   "version": "4.0.3"
  }
 },
 "nbformat": 4,
 "nbformat_minor": 5
}
