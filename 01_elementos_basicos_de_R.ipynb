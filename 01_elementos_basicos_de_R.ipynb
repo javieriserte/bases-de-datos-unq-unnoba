{
 "cells": [
  {
   "cell_type": "markdown",
   "metadata": {},
   "source": [
    "# Elementos básicos de R\n",
    "\n",
    "En el día de hoy vamos a comenzar viendo los elementos básicos de la sintaxis de R.\n",
    "\n",
    "Entre las muchas cosas que podemos hacer con R, lo podemos usar como si fuera una calculadora.\n",
    "\n",
    "Con ctrl+enter ejecutamos en la consola de R la linea sobra la que estamos parados."
   ]
  },
  {
   "cell_type": "code",
   "execution_count": null,
   "metadata": {},
   "outputs": [],
   "source": [
    "2+10"
   ]
  },
  {
   "cell_type": "code",
   "execution_count": null,
   "metadata": {},
   "outputs": [],
   "source": [
    "315/7"
   ]
  },
  {
   "cell_type": "code",
   "execution_count": null,
   "metadata": {},
   "outputs": [],
   "source": [
    "89*3"
   ]
  },
  {
   "cell_type": "code",
   "execution_count": null,
   "metadata": {},
   "outputs": [],
   "source": [
    "sqrt(99225)"
   ]
  },
  {
   "cell_type": "code",
   "execution_count": null,
   "metadata": {},
   "outputs": [],
   "source": [
    "21^pi"
   ]
  },
  {
   "cell_type": "markdown",
   "metadata": {},
   "source": [
    "# Tipos de Datos\n",
    "\n",
    "En R todo el tiempo vamos a estar trabajando con datos, por lo cual una de las primeras cosas que debemos hacer es crear los distintos objetos, llamados \"variables\" que van a contener nuestros datos.\n",
    "\n",
    "Por ejemplo podemos crear un objeto que se llame cantidad_de_alumnos y asignarle un valor."
   ]
  },
  {
   "cell_type": "code",
   "execution_count": null,
   "metadata": {},
   "outputs": [],
   "source": [
    "cantidad_de_alumnos <- 16\n",
    "#¿Qué tipo de objeto es?\n",
    "cantidad_de_profesores <- 2"
   ]
  },
  {
   "cell_type": "markdown",
   "metadata": {},
   "source": [
    "En R hay varios tipos de objetos que representan algún dato que queramos manejar: numeric, integer, character, logical. Para saber de qué clase es un objetos podemos usar la función class. El ? nos da una ayuda sobre qué hace una determinada función"
   ]
  },
  {
   "cell_type": "code",
   "execution_count": null,
   "metadata": {},
   "outputs": [],
   "source": [
    "nombre_de_profesora    <- \"Cristina\"\n",
    "hace_frio              <- TRUE\n"
   ]
  },
  {
   "cell_type": "code",
   "execution_count": null,
   "metadata": {},
   "outputs": [],
   "source": [
    "?class"
   ]
  },
  {
   "cell_type": "code",
   "execution_count": null,
   "metadata": {},
   "outputs": [],
   "source": [
    "class(cantidad_de_alumnos)\n",
    "class(nombre_de_profesora)\n",
    "class(hace_frio)"
   ]
  },
  {
   "cell_type": "markdown",
   "metadata": {},
   "source": [
    "Con los objetos en R se pueden realizar una gran cantidad de operaciones. Por ejemplo, a un número le podemos sumar otro numero."
   ]
  },
  {
   "cell_type": "code",
   "execution_count": null,
   "metadata": {},
   "outputs": [],
   "source": [
    "cantidad_de_alumnos + cantidad_de_profesores"
   ]
  },
  {
   "cell_type": "markdown",
   "metadata": {},
   "source": [
    "La suma la podemos guardar en un nuevo objeto"
   ]
  },
  {
   "cell_type": "code",
   "execution_count": null,
   "metadata": {},
   "outputs": [],
   "source": [
    "cantidad_de_personas <- ¿? + ¿?"
   ]
  },
  {
   "cell_type": "markdown",
   "metadata": {},
   "source": [
    "Por otro lado, podemos convertir los objetos en R de una clase a otra, aunque con algunas excepciones...."
   ]
  },
  {
   "cell_type": "code",
   "execution_count": null,
   "metadata": {},
   "outputs": [],
   "source": []
  },
  {
   "cell_type": "code",
   "execution_count": null,
   "metadata": {},
   "outputs": [],
   "source": [
    "as.character(hace_frio)"
   ]
  },
  {
   "cell_type": "code",
   "execution_count": null,
   "metadata": {},
   "outputs": [],
   "source": [
    "as.character(cantidad_de_personas)"
   ]
  },
  {
   "cell_type": "code",
   "execution_count": null,
   "metadata": {},
   "outputs": [],
   "source": [
    "as.logical(cantidad_de_personas)"
   ]
  },
  {
   "cell_type": "code",
   "execution_count": null,
   "metadata": {},
   "outputs": [],
   "source": [
    "as.integer(nombre_de_profesora)"
   ]
  },
  {
   "cell_type": "markdown",
   "metadata": {},
   "source": [
    "# Estructuras de Datos\n",
    "\n",
    "Uno de los puntos fuertes de R es que podemos definir un objeto que contenga muchos otros objetos, para luego aplicar la misma  operación en todos.\n",
    "\n"
   ]
  },
  {
   "cell_type": "markdown",
   "metadata": {},
   "source": [
    "## Vectores\n",
    "\n",
    "Son conjuntos de datos secuenciales y homogéneos.\n",
    "\n",
    "Es la estructura de datos más simple de R.\n",
    "\n",
    "Con la función **c** construimos un vector."
   ]
  },
  {
   "cell_type": "code",
   "execution_count": 27,
   "metadata": {},
   "outputs": [],
   "source": [
    "# Vector vacio\n",
    "vector_vacio <- c()\n",
    "\n",
    "# Vector de un solo elemento\n",
    "vector_simple <- \"Base de datos\"\n",
    "vector_simple_2 <- c(\"Base de datos\")\n",
    "\n",
    "# Vector de varios elementos\n",
    "cursos <- c(\"Bases de datos web\", \"Teoría de bases de datos\", \"R\")\n",
    "horas  <- c(8, 12, 20)"
   ]
  },
  {
   "cell_type": "markdown",
   "metadata": {},
   "source": [
    "De la misma manera que podemos realizar cálculos con números también lo podemos hacer con vectores."
   ]
  },
  {
   "cell_type": "code",
   "execution_count": 28,
   "metadata": {},
   "outputs": [
    {
     "data": {
      "text/html": [
       "<style>\n",
       ".list-inline {list-style: none; margin:0; padding: 0}\n",
       ".list-inline>li {display: inline-block}\n",
       ".list-inline>li:not(:last-child)::after {content: \"\\00b7\"; padding: 0 .5ex}\n",
       "</style>\n",
       "<ol class=list-inline><li>10</li><li>14</li><li>22</li></ol>\n"
      ],
      "text/latex": [
       "\\begin{enumerate*}\n",
       "\\item 10\n",
       "\\item 14\n",
       "\\item 22\n",
       "\\end{enumerate*}\n"
      ],
      "text/markdown": [
       "1. 10\n",
       "2. 14\n",
       "3. 22\n",
       "\n",
       "\n"
      ],
      "text/plain": [
       "[1] 10 14 22"
      ]
     },
     "metadata": {},
     "output_type": "display_data"
    }
   ],
   "source": [
    "horas + 2"
   ]
  },
  {
   "cell_type": "code",
   "execution_count": 29,
   "metadata": {},
   "outputs": [
    {
     "data": {
      "text/html": [
       "<style>\n",
       ".list-inline {list-style: none; margin:0; padding: 0}\n",
       ".list-inline>li {display: inline-block}\n",
       ".list-inline>li:not(:last-child)::after {content: \"\\00b7\"; padding: 0 .5ex}\n",
       "</style>\n",
       "<ol class=list-inline><li>16</li><li>24</li><li>40</li></ol>\n"
      ],
      "text/latex": [
       "\\begin{enumerate*}\n",
       "\\item 16\n",
       "\\item 24\n",
       "\\item 40\n",
       "\\end{enumerate*}\n"
      ],
      "text/markdown": [
       "1. 16\n",
       "2. 24\n",
       "3. 40\n",
       "\n",
       "\n"
      ],
      "text/plain": [
       "[1] 16 24 40"
      ]
     },
     "metadata": {},
     "output_type": "display_data"
    }
   ],
   "source": [
    "2*horas"
   ]
  },
  {
   "cell_type": "code",
   "execution_count": 30,
   "metadata": {},
   "outputs": [
    {
     "data": {
      "text/html": [
       "<style>\n",
       ".list-inline {list-style: none; margin:0; padding: 0}\n",
       ".list-inline>li {display: inline-block}\n",
       ".list-inline>li:not(:last-child)::after {content: \"\\00b7\"; padding: 0 .5ex}\n",
       "</style>\n",
       "<ol class=list-inline><li>9</li><li>14</li><li>23</li></ol>\n"
      ],
      "text/latex": [
       "\\begin{enumerate*}\n",
       "\\item 9\n",
       "\\item 14\n",
       "\\item 23\n",
       "\\end{enumerate*}\n"
      ],
      "text/markdown": [
       "1. 9\n",
       "2. 14\n",
       "3. 23\n",
       "\n",
       "\n"
      ],
      "text/plain": [
       "[1]  9 14 23"
      ]
     },
     "metadata": {},
     "output_type": "display_data"
    }
   ],
   "source": [
    "horas + c(1, 2, 3)"
   ]
  },
  {
   "cell_type": "markdown",
   "metadata": {},
   "source": [
    "Puedo acceder a un elemento cualquiera de un vector usando '[]'.\n",
    "\n",
    "Un detalle importante, es que a diferencia de muchos lenguages de programación, el índice del primer elemento es 1 en lugar de 0."
   ]
  },
  {
   "cell_type": "code",
   "execution_count": 31,
   "metadata": {},
   "outputs": [
    {
     "data": {
      "text/html": [
       "8"
      ],
      "text/latex": [
       "8"
      ],
      "text/markdown": [
       "8"
      ],
      "text/plain": [
       "[1] 8"
      ]
     },
     "metadata": {},
     "output_type": "display_data"
    }
   ],
   "source": [
    "horas[1]"
   ]
  },
  {
   "cell_type": "markdown",
   "metadata": {},
   "source": [
    "Los vectores sólo aceptan que todos los elementos que sean guardados en los mismos sean de la misma clase."
   ]
  },
  {
   "cell_type": "code",
   "execution_count": null,
   "metadata": {},
   "outputs": [],
   "source": [
    "cs <- c(\"Bases de datos\", \"R\", 2)\n",
    "#¿Qué ocurrió con el 2?"
   ]
  },
  {
   "cell_type": "markdown",
   "metadata": {},
   "source": [
    "Es posible agregar elementos a un vector."
   ]
  },
  {
   "cell_type": "code",
   "execution_count": 22,
   "metadata": {},
   "outputs": [
    {
     "data": {
      "text/html": [
       "<style>\n",
       ".list-inline {list-style: none; margin:0; padding: 0}\n",
       ".list-inline>li {display: inline-block}\n",
       ".list-inline>li:not(:last-child)::after {content: \"\\00b7\"; padding: 0 .5ex}\n",
       "</style>\n",
       "<ol class=list-inline><li>2</li><li>3</li><li>5</li><li>8</li><li>13</li><li>21</li><li>34</li></ol>\n"
      ],
      "text/latex": [
       "\\begin{enumerate*}\n",
       "\\item 2\n",
       "\\item 3\n",
       "\\item 5\n",
       "\\item 8\n",
       "\\item 13\n",
       "\\item 21\n",
       "\\item 34\n",
       "\\end{enumerate*}\n"
      ],
      "text/markdown": [
       "1. 2\n",
       "2. 3\n",
       "3. 5\n",
       "4. 8\n",
       "5. 13\n",
       "6. 21\n",
       "7. 34\n",
       "\n",
       "\n"
      ],
      "text/plain": [
       "[1]  2  3  5  8 13 21 34"
      ]
     },
     "metadata": {},
     "output_type": "display_data"
    }
   ],
   "source": [
    "fibo <- c(2, 3, 5, 8, 13, 21)\n",
    "fibo <- c(fibo, 34)\n",
    "fibo"
   ]
  },
  {
   "cell_type": "markdown",
   "metadata": {},
   "source": [
    "## Listas\n",
    "En cambio, existe un objeto llamado lista que nos permite contener elementos de diferente tipo en el mismo objeto."
   ]
  },
  {
   "cell_type": "code",
   "execution_count": null,
   "metadata": {},
   "outputs": [],
   "source": [
    "cs <- list(\"Bases de datos\", \"R\", 2)\n",
    "class(cs[[1]])\n",
    "#¿De que clase es el primer elemento de la lista?"
   ]
  },
  {
   "cell_type": "code",
   "execution_count": null,
   "metadata": {},
   "outputs": [],
   "source": [
    "class(cs[[3]])\n",
    "#¿De que clase es el cuarto elemento de la lista?"
   ]
  },
  {
   "cell_type": "markdown",
   "metadata": {},
   "source": [
    "## Dataframes y Matrices"
   ]
  },
  {
   "cell_type": "markdown",
   "metadata": {},
   "source": [
    "En R también encontramos estructuras de datos que son de dos dimensionen que nos van a permitir trabajar con\n",
    "tablas (a las que vamos a llamar data.frames) y matrices."
   ]
  },
  {
   "cell_type": "markdown",
   "metadata": {},
   "source": [
    "A partir de los dos vectores que creamos anteriormente vamos a generar un data.frame"
   ]
  },
  {
   "cell_type": "code",
   "execution_count": null,
   "metadata": {},
   "outputs": [],
   "source": [
    "carga_horaria <- data.frame(cursos, horas)"
   ]
  },
  {
   "cell_type": "code",
   "execution_count": null,
   "metadata": {},
   "outputs": [],
   "source": [
    "class(carga_horaria)"
   ]
  },
  {
   "cell_type": "code",
   "execution_count": null,
   "metadata": {},
   "outputs": [],
   "source": [
    "str(carga_horaria)\n",
    "# la función str nos permite analizar la estructura de los datos.\n",
    "# El nombre 'str' viene de structure."
   ]
  },
  {
   "cell_type": "code",
   "execution_count": null,
   "metadata": {},
   "outputs": [],
   "source": [
    "dim(carga_horaria)\n",
    "#dim devuelve las dimensiones del data.frame"
   ]
  },
  {
   "cell_type": "code",
   "execution_count": null,
   "metadata": {},
   "outputs": [],
   "source": [
    "colnames(carga_horaria)\n",
    "#colnames nos devuelve los nombres de las columnas, de forma similar existe rownames"
   ]
  },
  {
   "cell_type": "markdown",
   "metadata": {},
   "source": [
    "También podemos agregar más columnas o filas a un dataframe"
   ]
  },
  {
   "cell_type": "code",
   "execution_count": null,
   "metadata": {},
   "outputs": [],
   "source": [
    "# column bind\n",
    "?cbind"
   ]
  },
  {
   "cell_type": "code",
   "execution_count": null,
   "metadata": {},
   "outputs": [],
   "source": [
    "# row bind\n",
    "?rbind"
   ]
  },
  {
   "cell_type": "code",
   "execution_count": null,
   "metadata": {},
   "outputs": [],
   "source": [
    "profesores <- c(\"Cristina\", \"Cristina\", \"Javier\")"
   ]
  },
  {
   "cell_type": "code",
   "execution_count": null,
   "metadata": {},
   "outputs": [],
   "source": [
    "carga_horaria <- cbind(carga_horaria, profesores)\n",
    "\n",
    "# fijense que estoy pisando la variable vieja\n",
    "# agregando una nueva columna\n",
    "# de forma similar puedo agregar filas con rbind "
   ]
  },
  {
   "cell_type": "markdown",
   "metadata": {},
   "source": [
    "Las matrices de forma similar a los vectores, sólo van a permitir contener un único tipo de dato"
   ]
  },
  {
   "cell_type": "code",
   "execution_count": null,
   "metadata": {},
   "outputs": [],
   "source": [
    "?matrix"
   ]
  },
  {
   "cell_type": "code",
   "execution_count": null,
   "metadata": {},
   "outputs": [],
   "source": [
    "?seq"
   ]
  },
  {
   "cell_type": "code",
   "execution_count": null,
   "metadata": {},
   "outputs": [],
   "source": [
    "v      <- seq(1, 9)\n",
    "v"
   ]
  },
  {
   "cell_type": "code",
   "execution_count": null,
   "metadata": {},
   "outputs": [],
   "source": [
    "m1     <- matrix(data = v, nrow = 3, ncol = 3, byrow = TRUE)\n",
    "m2     <- matrix(data = v, nrow = 3, ncol = 3, byrow = FALSE)"
   ]
  },
  {
   "cell_type": "code",
   "execution_count": null,
   "metadata": {},
   "outputs": [],
   "source": [
    "m1\n",
    "m2"
   ]
  },
  {
   "cell_type": "markdown",
   "metadata": {},
   "source": [
    "# Subsetting"
   ]
  },
  {
   "cell_type": "markdown",
   "metadata": {},
   "source": [
    "**Subsetting** es la operación de seleccionar y/o modificar elementos de un vector, lista o dataframe.\n",
    "\n",
    "Esto nos permite:\n",
    "\n",
    "1. Construir nuevos vectores, listas o dataframes.\n",
    "2. Actualizar datos de algunos elementos.\n"
   ]
  },
  {
   "cell_type": "markdown",
   "metadata": {},
   "source": [
    "### Empecemos con algunos ejemplos de vectores."
   ]
  },
  {
   "cell_type": "markdown",
   "metadata": {},
   "source": [
    "1. Podemos seleccionar algunos elementos"
   ]
  },
  {
   "cell_type": "code",
   "execution_count": 33,
   "metadata": {
    "scrolled": true
   },
   "outputs": [
    {
     "data": {
      "text/html": [
       "<style>\n",
       ".list-inline {list-style: none; margin:0; padding: 0}\n",
       ".list-inline>li {display: inline-block}\n",
       ".list-inline>li:not(:last-child)::after {content: \"\\00b7\"; padding: 0 .5ex}\n",
       "</style>\n",
       "<ol class=list-inline><li>2</li><li>3</li><li>5</li></ol>\n"
      ],
      "text/latex": [
       "\\begin{enumerate*}\n",
       "\\item 2\n",
       "\\item 3\n",
       "\\item 5\n",
       "\\end{enumerate*}\n"
      ],
      "text/markdown": [
       "1. 2\n",
       "2. 3\n",
       "3. 5\n",
       "\n",
       "\n"
      ],
      "text/plain": [
       "[1] 2 3 5"
      ]
     },
     "metadata": {},
     "output_type": "display_data"
    }
   ],
   "source": [
    "algunos_primos <- c(2, 3, 5, 7, 11, 13, 17, 19)\n",
    "primeros_primos <- algunos_primos[1:3] # Subsetting por índice\n",
    "primeros_primos"
   ]
  },
  {
   "cell_type": "code",
   "execution_count": 34,
   "metadata": {},
   "outputs": [
    {
     "data": {
      "text/html": [
       "<style>\n",
       ".list-inline {list-style: none; margin:0; padding: 0}\n",
       ".list-inline>li {display: inline-block}\n",
       ".list-inline>li:not(:last-child)::after {content: \"\\00b7\"; padding: 0 .5ex}\n",
       "</style>\n",
       "<ol class=list-inline><li>2</li><li>7</li></ol>\n"
      ],
      "text/latex": [
       "\\begin{enumerate*}\n",
       "\\item 2\n",
       "\\item 7\n",
       "\\end{enumerate*}\n"
      ],
      "text/markdown": [
       "1. 2\n",
       "2. 7\n",
       "\n",
       "\n"
      ],
      "text/plain": [
       "[1] 2 7"
      ]
     },
     "metadata": {},
     "output_type": "display_data"
    }
   ],
   "source": [
    "algunos_primos <- c(2, 3, 5, 7)\n",
    "filtro <- c(TRUE, FALSE, FALSE, TRUE)\n",
    "\n",
    "algunos_primos <- algunos_primos[filtro] # Subsetting con valores de verdad\n",
    "algunos_primos"
   ]
  },
  {
   "cell_type": "code",
   "execution_count": 40,
   "metadata": {},
   "outputs": [
    {
     "data": {
      "text/html": [
       "<style>\n",
       ".list-inline {list-style: none; margin:0; padding: 0}\n",
       ".list-inline>li {display: inline-block}\n",
       ".list-inline>li:not(:last-child)::after {content: \"\\00b7\"; padding: 0 .5ex}\n",
       "</style>\n",
       "<ol class=list-inline><li>11</li><li>13</li><li>17</li><li>19</li></ol>\n"
      ],
      "text/latex": [
       "\\begin{enumerate*}\n",
       "\\item 11\n",
       "\\item 13\n",
       "\\item 17\n",
       "\\item 19\n",
       "\\end{enumerate*}\n"
      ],
      "text/markdown": [
       "1. 11\n",
       "2. 13\n",
       "3. 17\n",
       "4. 19\n",
       "\n",
       "\n"
      ],
      "text/plain": [
       "[1] 11 13 17 19"
      ]
     },
     "metadata": {},
     "output_type": "display_data"
    }
   ],
   "source": [
    "algunos_primos <- c(2, 3, 5, 7, 11, 13, 17, 19)\n",
    "\n",
    "algunos_primos <- algunos_primos[algunos_primos>10] # Subsetting con valores de verdad\n",
    "algunos_primos"
   ]
  },
  {
   "cell_type": "markdown",
   "metadata": {},
   "source": [
    "2. Podemos eliminar elementos"
   ]
  },
  {
   "cell_type": "code",
   "execution_count": 41,
   "metadata": {},
   "outputs": [
    {
     "data": {
      "text/html": [
       "<style>\n",
       ".list-inline {list-style: none; margin:0; padding: 0}\n",
       ".list-inline>li {display: inline-block}\n",
       ".list-inline>li:not(:last-child)::after {content: \"\\00b7\"; padding: 0 .5ex}\n",
       "</style>\n",
       "<ol class=list-inline><li>2</li><li>3</li><li>5</li><li>7</li><li>11</li><li>13</li><li>17</li><li>19</li><li>23</li></ol>\n"
      ],
      "text/latex": [
       "\\begin{enumerate*}\n",
       "\\item 2\n",
       "\\item 3\n",
       "\\item 5\n",
       "\\item 7\n",
       "\\item 11\n",
       "\\item 13\n",
       "\\item 17\n",
       "\\item 19\n",
       "\\item 23\n",
       "\\end{enumerate*}\n"
      ],
      "text/markdown": [
       "1. 2\n",
       "2. 3\n",
       "3. 5\n",
       "4. 7\n",
       "5. 11\n",
       "6. 13\n",
       "7. 17\n",
       "8. 19\n",
       "9. 23\n",
       "\n",
       "\n"
      ],
      "text/plain": [
       "[1]  2  3  5  7 11 13 17 19 23"
      ]
     },
     "metadata": {},
     "output_type": "display_data"
    }
   ],
   "source": [
    "algunos_primos <- c(2, 3, 5, 7, 11, 13, 17, 19, 21, 23)\n",
    "# El 21 no debería estar en este vector.\n",
    "# El 21 está en la novena posición\n",
    "\n",
    "algunos_primos <- algunos_primos[-9]\n",
    "algunos_primos"
   ]
  },
  {
   "cell_type": "markdown",
   "metadata": {},
   "source": [
    "3. Podemos modificar valores"
   ]
  },
  {
   "cell_type": "code",
   "execution_count": 43,
   "metadata": {},
   "outputs": [
    {
     "data": {
      "text/html": [
       "<style>\n",
       ".list-inline {list-style: none; margin:0; padding: 0}\n",
       ".list-inline>li {display: inline-block}\n",
       ".list-inline>li:not(:last-child)::after {content: \"\\00b7\"; padding: 0 .5ex}\n",
       "</style>\n",
       "<ol class=list-inline><li>2</li><li>3</li><li>5</li><li>7</li><li>11</li><li>13</li><li>17</li><li>19</li></ol>\n"
      ],
      "text/latex": [
       "\\begin{enumerate*}\n",
       "\\item 2\n",
       "\\item 3\n",
       "\\item 5\n",
       "\\item 7\n",
       "\\item 11\n",
       "\\item 13\n",
       "\\item 17\n",
       "\\item 19\n",
       "\\end{enumerate*}\n"
      ],
      "text/markdown": [
       "1. 2\n",
       "2. 3\n",
       "3. 5\n",
       "4. 7\n",
       "5. 11\n",
       "6. 13\n",
       "7. 17\n",
       "8. 19\n",
       "\n",
       "\n"
      ],
      "text/plain": [
       "[1]  2  3  5  7 11 13 17 19"
      ]
     },
     "metadata": {},
     "output_type": "display_data"
    }
   ],
   "source": [
    "algunos_primos <- c(2, 3, 5, 7, 11, 14, 17, 19)\n",
    "# El 14 no es correcto, probablemente el número correcto sea 13.\n",
    "# El 14 está en la sexta posición.\n",
    "\n",
    "algunos_primos[6] <- 13\n",
    "algunos_primos"
   ]
  },
  {
   "cell_type": "markdown",
   "metadata": {},
   "source": [
    "### Ejemplos con dataframes"
   ]
  },
  {
   "cell_type": "markdown",
   "metadata": {},
   "source": [
    "Vamos a trabajar con un dataset que se encuentra dentro del paquete 'datasets' que se llama PlantGrowth.\n",
    "\n",
    "Este dataset contiene los datos de peso seco de plantas crecidas bajo distintas condiciones.\n",
    "\n",
    "R es un lenguaje que permite extender su funcionalidad básica a partir de paquetes instalables y cargables a gusto del consumidor. "
   ]
  },
  {
   "cell_type": "code",
   "execution_count": 48,
   "metadata": {
    "scrolled": true
   },
   "outputs": [
    {
     "data": {
      "text/html": [
       "<table class=\"dataframe\">\n",
       "<caption>A data.frame: 6 × 2</caption>\n",
       "<thead>\n",
       "\t<tr><th></th><th scope=col>weight</th><th scope=col>group</th></tr>\n",
       "\t<tr><th></th><th scope=col>&lt;dbl&gt;</th><th scope=col>&lt;fct&gt;</th></tr>\n",
       "</thead>\n",
       "<tbody>\n",
       "\t<tr><th scope=row>1</th><td>4.17</td><td>ctrl</td></tr>\n",
       "\t<tr><th scope=row>2</th><td>5.58</td><td>ctrl</td></tr>\n",
       "\t<tr><th scope=row>3</th><td>5.18</td><td>ctrl</td></tr>\n",
       "\t<tr><th scope=row>4</th><td>6.11</td><td>ctrl</td></tr>\n",
       "\t<tr><th scope=row>5</th><td>4.50</td><td>ctrl</td></tr>\n",
       "\t<tr><th scope=row>6</th><td>4.61</td><td>ctrl</td></tr>\n",
       "</tbody>\n",
       "</table>\n"
      ],
      "text/latex": [
       "A data.frame: 6 × 2\n",
       "\\begin{tabular}{r|ll}\n",
       "  & weight & group\\\\\n",
       "  & <dbl> & <fct>\\\\\n",
       "\\hline\n",
       "\t1 & 4.17 & ctrl\\\\\n",
       "\t2 & 5.58 & ctrl\\\\\n",
       "\t3 & 5.18 & ctrl\\\\\n",
       "\t4 & 6.11 & ctrl\\\\\n",
       "\t5 & 4.50 & ctrl\\\\\n",
       "\t6 & 4.61 & ctrl\\\\\n",
       "\\end{tabular}\n"
      ],
      "text/markdown": [
       "\n",
       "A data.frame: 6 × 2\n",
       "\n",
       "| <!--/--> | weight &lt;dbl&gt; | group &lt;fct&gt; |\n",
       "|---|---|---|\n",
       "| 1 | 4.17 | ctrl |\n",
       "| 2 | 5.58 | ctrl |\n",
       "| 3 | 5.18 | ctrl |\n",
       "| 4 | 6.11 | ctrl |\n",
       "| 5 | 4.50 | ctrl |\n",
       "| 6 | 4.61 | ctrl |\n",
       "\n"
      ],
      "text/plain": [
       "  weight group\n",
       "1 4.17   ctrl \n",
       "2 5.58   ctrl \n",
       "3 5.18   ctrl \n",
       "4 6.11   ctrl \n",
       "5 4.50   ctrl \n",
       "6 4.61   ctrl "
      ]
     },
     "metadata": {},
     "output_type": "display_data"
    }
   ],
   "source": [
    "plantas <- datasets::PlantGrowth\n",
    "# Al dataset lo nombro como \"plantas\"\n",
    "head(plantas)\n",
    "# Nos muestra las primeras filas del dataset"
   ]
  },
  {
   "cell_type": "code",
   "execution_count": 31,
   "metadata": {},
   "outputs": [
    {
     "data": {
      "text/html": [
       "<style>\n",
       ".list-inline {list-style: none; margin:0; padding: 0}\n",
       ".list-inline>li {display: inline-block}\n",
       ".list-inline>li:not(:last-child)::after {content: \"\\00b7\"; padding: 0 .5ex}\n",
       "</style>\n",
       "<ol class=list-inline><li>'weight'</li><li>'group'</li></ol>\n"
      ],
      "text/latex": [
       "\\begin{enumerate*}\n",
       "\\item 'weight'\n",
       "\\item 'group'\n",
       "\\end{enumerate*}\n"
      ],
      "text/markdown": [
       "1. 'weight'\n",
       "2. 'group'\n",
       "\n",
       "\n"
      ],
      "text/plain": [
       "[1] \"weight\" \"group\" "
      ]
     },
     "metadata": {},
     "output_type": "display_data"
    }
   ],
   "source": [
    "colnames(plantas)"
   ]
  },
  {
   "cell_type": "code",
   "execution_count": 32,
   "metadata": {},
   "outputs": [
    {
     "data": {
      "text/html": [
       "<style>\n",
       ".list-inline {list-style: none; margin:0; padding: 0}\n",
       ".list-inline>li {display: inline-block}\n",
       ".list-inline>li:not(:last-child)::after {content: \"\\00b7\"; padding: 0 .5ex}\n",
       "</style>\n",
       "<ol class=list-inline><li>30</li><li>2</li></ol>\n"
      ],
      "text/latex": [
       "\\begin{enumerate*}\n",
       "\\item 30\n",
       "\\item 2\n",
       "\\end{enumerate*}\n"
      ],
      "text/markdown": [
       "1. 30\n",
       "2. 2\n",
       "\n",
       "\n"
      ],
      "text/plain": [
       "[1] 30  2"
      ]
     },
     "metadata": {},
     "output_type": "display_data"
    }
   ],
   "source": [
    "dim(plantas)"
   ]
  },
  {
   "cell_type": "code",
   "execution_count": 33,
   "metadata": {},
   "outputs": [
    {
     "name": "stdout",
     "output_type": "stream",
     "text": [
      "'data.frame':\t30 obs. of  2 variables:\n",
      " $ weight: num  4.17 5.58 5.18 6.11 4.5 4.61 5.17 4.53 5.33 5.14 ...\n",
      " $ group : Factor w/ 3 levels \"ctrl\",\"trt1\",..: 1 1 1 1 1 1 1 1 1 1 ...\n"
     ]
    }
   ],
   "source": [
    "str(plantas)          "
   ]
  },
  {
   "cell_type": "code",
   "execution_count": 34,
   "metadata": {},
   "outputs": [
    {
     "data": {
      "text/html": [
       "'factor'"
      ],
      "text/latex": [
       "'factor'"
      ],
      "text/markdown": [
       "'factor'"
      ],
      "text/plain": [
       "[1] \"factor\""
      ]
     },
     "metadata": {},
     "output_type": "display_data"
    }
   ],
   "source": [
    "class(plantas$group)\n",
    "# factor es una clase de escructura de datos\n",
    "# similar a un vector que se reserva para asignar \n",
    "# variables cualitativas"
   ]
  },
  {
   "cell_type": "code",
   "execution_count": 35,
   "metadata": {},
   "outputs": [
    {
     "data": {
      "text/html": [
       "<style>\n",
       ".list-inline {list-style: none; margin:0; padding: 0}\n",
       ".list-inline>li {display: inline-block}\n",
       ".list-inline>li:not(:last-child)::after {content: \"\\00b7\"; padding: 0 .5ex}\n",
       "</style>\n",
       "<ol class=list-inline><li>'ctrl'</li><li>'trt1'</li><li>'trt2'</li></ol>\n"
      ],
      "text/latex": [
       "\\begin{enumerate*}\n",
       "\\item 'ctrl'\n",
       "\\item 'trt1'\n",
       "\\item 'trt2'\n",
       "\\end{enumerate*}\n"
      ],
      "text/markdown": [
       "1. 'ctrl'\n",
       "2. 'trt1'\n",
       "3. 'trt2'\n",
       "\n",
       "\n"
      ],
      "text/plain": [
       "[1] \"ctrl\" \"trt1\" \"trt2\""
      ]
     },
     "metadata": {},
     "output_type": "display_data"
    }
   ],
   "source": [
    "levels(plantas$group)\n",
    "# levels son los distintos valores que pueden \n",
    "# tomar los elementos dentro del objeto factor, en \n",
    "# este caso serían los distintos tratamiento a \n",
    "# los que se sometieron las plantas."
   ]
  },
  {
   "cell_type": "code",
   "execution_count": 36,
   "metadata": {},
   "outputs": [
    {
     "data": {
      "text/html": [
       "<style>\n",
       ".list-inline {list-style: none; margin:0; padding: 0}\n",
       ".list-inline>li {display: inline-block}\n",
       ".list-inline>li:not(:last-child)::after {content: \"\\00b7\"; padding: 0 .5ex}\n",
       "</style>\n",
       "<ol class=list-inline><li>4.17</li><li>5.58</li><li>5.18</li><li>6.11</li><li>4.5</li><li>4.61</li><li>5.17</li><li>4.53</li><li>5.33</li><li>5.14</li><li>4.81</li><li>4.17</li><li>4.41</li><li>3.59</li><li>5.87</li><li>3.83</li><li>6.03</li><li>4.89</li><li>4.32</li><li>4.69</li><li>6.31</li><li>5.12</li><li>5.54</li><li>5.5</li><li>5.37</li><li>5.29</li><li>4.92</li><li>6.15</li><li>5.8</li><li>5.26</li></ol>\n"
      ],
      "text/latex": [
       "\\begin{enumerate*}\n",
       "\\item 4.17\n",
       "\\item 5.58\n",
       "\\item 5.18\n",
       "\\item 6.11\n",
       "\\item 4.5\n",
       "\\item 4.61\n",
       "\\item 5.17\n",
       "\\item 4.53\n",
       "\\item 5.33\n",
       "\\item 5.14\n",
       "\\item 4.81\n",
       "\\item 4.17\n",
       "\\item 4.41\n",
       "\\item 3.59\n",
       "\\item 5.87\n",
       "\\item 3.83\n",
       "\\item 6.03\n",
       "\\item 4.89\n",
       "\\item 4.32\n",
       "\\item 4.69\n",
       "\\item 6.31\n",
       "\\item 5.12\n",
       "\\item 5.54\n",
       "\\item 5.5\n",
       "\\item 5.37\n",
       "\\item 5.29\n",
       "\\item 4.92\n",
       "\\item 6.15\n",
       "\\item 5.8\n",
       "\\item 5.26\n",
       "\\end{enumerate*}\n"
      ],
      "text/markdown": [
       "1. 4.17\n",
       "2. 5.58\n",
       "3. 5.18\n",
       "4. 6.11\n",
       "5. 4.5\n",
       "6. 4.61\n",
       "7. 5.17\n",
       "8. 4.53\n",
       "9. 5.33\n",
       "10. 5.14\n",
       "11. 4.81\n",
       "12. 4.17\n",
       "13. 4.41\n",
       "14. 3.59\n",
       "15. 5.87\n",
       "16. 3.83\n",
       "17. 6.03\n",
       "18. 4.89\n",
       "19. 4.32\n",
       "20. 4.69\n",
       "21. 6.31\n",
       "22. 5.12\n",
       "23. 5.54\n",
       "24. 5.5\n",
       "25. 5.37\n",
       "26. 5.29\n",
       "27. 4.92\n",
       "28. 6.15\n",
       "29. 5.8\n",
       "30. 5.26\n",
       "\n",
       "\n"
      ],
      "text/plain": [
       " [1] 4.17 5.58 5.18 6.11 4.50 4.61 5.17 4.53 5.33 5.14 4.81 4.17 4.41 3.59 5.87\n",
       "[16] 3.83 6.03 4.89 4.32 4.69 6.31 5.12 5.54 5.50 5.37 5.29 4.92 6.15 5.80 5.26"
      ]
     },
     "metadata": {},
     "output_type": "display_data"
    }
   ],
   "source": [
    "plantas$weight\n",
    "# imprimir en pantalla la primera columna del dataset"
   ]
  },
  {
   "cell_type": "code",
   "execution_count": 37,
   "metadata": {},
   "outputs": [
    {
     "data": {
      "text/html": [
       "<style>\n",
       ".list-inline {list-style: none; margin:0; padding: 0}\n",
       ".list-inline>li {display: inline-block}\n",
       ".list-inline>li:not(:last-child)::after {content: \"\\00b7\"; padding: 0 .5ex}\n",
       "</style>\n",
       "<ol class=list-inline><li>4.17</li><li>5.58</li><li>5.18</li><li>6.11</li><li>4.5</li><li>4.61</li><li>5.17</li><li>4.53</li><li>5.33</li><li>5.14</li><li>4.81</li><li>4.17</li><li>4.41</li><li>3.59</li><li>5.87</li><li>3.83</li><li>6.03</li><li>4.89</li><li>4.32</li><li>4.69</li><li>6.31</li><li>5.12</li><li>5.54</li><li>5.5</li><li>5.37</li><li>5.29</li><li>4.92</li><li>6.15</li><li>5.8</li><li>5.26</li></ol>\n"
      ],
      "text/latex": [
       "\\begin{enumerate*}\n",
       "\\item 4.17\n",
       "\\item 5.58\n",
       "\\item 5.18\n",
       "\\item 6.11\n",
       "\\item 4.5\n",
       "\\item 4.61\n",
       "\\item 5.17\n",
       "\\item 4.53\n",
       "\\item 5.33\n",
       "\\item 5.14\n",
       "\\item 4.81\n",
       "\\item 4.17\n",
       "\\item 4.41\n",
       "\\item 3.59\n",
       "\\item 5.87\n",
       "\\item 3.83\n",
       "\\item 6.03\n",
       "\\item 4.89\n",
       "\\item 4.32\n",
       "\\item 4.69\n",
       "\\item 6.31\n",
       "\\item 5.12\n",
       "\\item 5.54\n",
       "\\item 5.5\n",
       "\\item 5.37\n",
       "\\item 5.29\n",
       "\\item 4.92\n",
       "\\item 6.15\n",
       "\\item 5.8\n",
       "\\item 5.26\n",
       "\\end{enumerate*}\n"
      ],
      "text/markdown": [
       "1. 4.17\n",
       "2. 5.58\n",
       "3. 5.18\n",
       "4. 6.11\n",
       "5. 4.5\n",
       "6. 4.61\n",
       "7. 5.17\n",
       "8. 4.53\n",
       "9. 5.33\n",
       "10. 5.14\n",
       "11. 4.81\n",
       "12. 4.17\n",
       "13. 4.41\n",
       "14. 3.59\n",
       "15. 5.87\n",
       "16. 3.83\n",
       "17. 6.03\n",
       "18. 4.89\n",
       "19. 4.32\n",
       "20. 4.69\n",
       "21. 6.31\n",
       "22. 5.12\n",
       "23. 5.54\n",
       "24. 5.5\n",
       "25. 5.37\n",
       "26. 5.29\n",
       "27. 4.92\n",
       "28. 6.15\n",
       "29. 5.8\n",
       "30. 5.26\n",
       "\n",
       "\n"
      ],
      "text/plain": [
       " [1] 4.17 5.58 5.18 6.11 4.50 4.61 5.17 4.53 5.33 5.14 4.81 4.17 4.41 3.59 5.87\n",
       "[16] 3.83 6.03 4.89 4.32 4.69 6.31 5.12 5.54 5.50 5.37 5.29 4.92 6.15 5.80 5.26"
      ]
     },
     "metadata": {},
     "output_type": "display_data"
    }
   ],
   "source": [
    "plantas[, 1] \n",
    "# otra forma de hacer lo mismo"
   ]
  },
  {
   "cell_type": "code",
   "execution_count": 38,
   "metadata": {},
   "outputs": [
    {
     "data": {
      "text/html": [
       "<style>\n",
       ".list-inline {list-style: none; margin:0; padding: 0}\n",
       ".list-inline>li {display: inline-block}\n",
       ".list-inline>li:not(:last-child)::after {content: \"\\00b7\"; padding: 0 .5ex}\n",
       "</style>\n",
       "<ol class=list-inline><li>4.17</li><li>5.58</li><li>5.18</li><li>6.11</li><li>4.5</li><li>4.61</li><li>5.17</li><li>4.53</li><li>5.33</li><li>5.14</li><li>4.81</li><li>4.17</li><li>4.41</li><li>3.59</li><li>5.87</li><li>3.83</li><li>6.03</li><li>4.89</li><li>4.32</li><li>4.69</li><li>6.31</li><li>5.12</li><li>5.54</li><li>5.5</li><li>5.37</li><li>5.29</li><li>4.92</li><li>6.15</li><li>5.8</li><li>5.26</li></ol>\n"
      ],
      "text/latex": [
       "\\begin{enumerate*}\n",
       "\\item 4.17\n",
       "\\item 5.58\n",
       "\\item 5.18\n",
       "\\item 6.11\n",
       "\\item 4.5\n",
       "\\item 4.61\n",
       "\\item 5.17\n",
       "\\item 4.53\n",
       "\\item 5.33\n",
       "\\item 5.14\n",
       "\\item 4.81\n",
       "\\item 4.17\n",
       "\\item 4.41\n",
       "\\item 3.59\n",
       "\\item 5.87\n",
       "\\item 3.83\n",
       "\\item 6.03\n",
       "\\item 4.89\n",
       "\\item 4.32\n",
       "\\item 4.69\n",
       "\\item 6.31\n",
       "\\item 5.12\n",
       "\\item 5.54\n",
       "\\item 5.5\n",
       "\\item 5.37\n",
       "\\item 5.29\n",
       "\\item 4.92\n",
       "\\item 6.15\n",
       "\\item 5.8\n",
       "\\item 5.26\n",
       "\\end{enumerate*}\n"
      ],
      "text/markdown": [
       "1. 4.17\n",
       "2. 5.58\n",
       "3. 5.18\n",
       "4. 6.11\n",
       "5. 4.5\n",
       "6. 4.61\n",
       "7. 5.17\n",
       "8. 4.53\n",
       "9. 5.33\n",
       "10. 5.14\n",
       "11. 4.81\n",
       "12. 4.17\n",
       "13. 4.41\n",
       "14. 3.59\n",
       "15. 5.87\n",
       "16. 3.83\n",
       "17. 6.03\n",
       "18. 4.89\n",
       "19. 4.32\n",
       "20. 4.69\n",
       "21. 6.31\n",
       "22. 5.12\n",
       "23. 5.54\n",
       "24. 5.5\n",
       "25. 5.37\n",
       "26. 5.29\n",
       "27. 4.92\n",
       "28. 6.15\n",
       "29. 5.8\n",
       "30. 5.26\n",
       "\n",
       "\n"
      ],
      "text/plain": [
       " [1] 4.17 5.58 5.18 6.11 4.50 4.61 5.17 4.53 5.33 5.14 4.81 4.17 4.41 3.59 5.87\n",
       "[16] 3.83 6.03 4.89 4.32 4.69 6.31 5.12 5.54 5.50 5.37 5.29 4.92 6.15 5.80 5.26"
      ]
     },
     "metadata": {},
     "output_type": "display_data"
    }
   ],
   "source": [
    "plantas[, \"weight\"]\n",
    "# y otra más..."
   ]
  },
  {
   "cell_type": "code",
   "execution_count": null,
   "metadata": {},
   "outputs": [],
   "source": [
    "plantas[15, 1]\n",
    "# imprimo en pantalla el valor que toma el peso\n",
    "# (primera columna) en la planta número 15\n",
    "# el primer valor entre corchetes indica a\n",
    "# qué fila quiero acceder, y el segundo\n",
    "# valor a qué columna"
   ]
  },
  {
   "cell_type": "markdown",
   "metadata": {},
   "source": [
    "#¿cómo haría si quiero que me muestre en pantalla solamente las filas que corresponden al tratamiento 2?"
   ]
  },
  {
   "cell_type": "code",
   "execution_count": null,
   "metadata": {},
   "outputs": [],
   "source": [
    "?which"
   ]
  },
  {
   "cell_type": "code",
   "execution_count": null,
   "metadata": {
    "scrolled": true
   },
   "outputs": [],
   "source": [
    "plantas[which(plantas$group == \"trt2\"), ]\n",
    "# con which le estoy preguntando cuáles son\n",
    "# las filas en las que en la columna\n",
    "# \"group\" el valor sea igual a \"trt2\""
   ]
  },
  {
   "cell_type": "markdown",
   "metadata": {},
   "source": [
    "¿Y si quiero que me muestre las plantas que pesan más que 5.5?"
   ]
  },
  {
   "cell_type": "code",
   "execution_count": null,
   "metadata": {},
   "outputs": [],
   "source": [
    "plantas[which(plantas$weight > 5.5), ]"
   ]
  },
  {
   "cell_type": "code",
   "execution_count": null,
   "metadata": {},
   "outputs": [],
   "source": [
    "mayor5.5 <- plantas$weight > 5.5\n",
    "# otra manera de hacer lo mismo, pero antes\n",
    "# genero un vector logico que va a evaluar en\n",
    "# cada fila si el valor de peso es mayor a 5.5 o no\n",
    "mayor5.5"
   ]
  },
  {
   "cell_type": "code",
   "execution_count": null,
   "metadata": {},
   "outputs": [],
   "source": [
    "plantas[mayor5.5, ]\n",
    "# uso ese vector para subsettear el data.frame"
   ]
  },
  {
   "cell_type": "markdown",
   "metadata": {},
   "source": [
    "Ahora vamos a hacer lo mismo pero con dos condiciones: \n",
    "  * voy a querer imprimir en pantalla las plantas que pertenecen\n",
    "  * al tratamiento 2 y que pesan más de 5.5"
   ]
  },
  {
   "cell_type": "code",
   "execution_count": null,
   "metadata": {},
   "outputs": [],
   "source": [
    "plantas[which(plantas$weight > 5.5 & plantas$group == \"trt2\"), ]"
   ]
  },
  {
   "cell_type": "markdown",
   "metadata": {},
   "source": [
    "También puedo guardar la tabla subseteada como un nuevo objeto"
   ]
  },
  {
   "cell_type": "code",
   "execution_count": null,
   "metadata": {},
   "outputs": [],
   "source": [
    "plantas2 <- plantas[which(plantas$weight > 5.5 & plantas$group == \"trt2\"), ]"
   ]
  },
  {
   "cell_type": "markdown",
   "metadata": {},
   "source": [
    "### Ejemplos con listas"
   ]
  },
  {
   "cell_type": "markdown",
   "metadata": {},
   "source": [
    "Ahora vamos a ver cómo se subsetea una lista.\n",
    "En las listas, al poder contener objetos muy variados, hay que tener \n",
    "ciertas consideraciones a la hora de subsetear."
   ]
  },
  {
   "cell_type": "code",
   "execution_count": 50,
   "metadata": {},
   "outputs": [],
   "source": [
    "tecnicas_BioMol <- list(\"Southern\", \"Western\" , c(\"Northern\", \"RNASeq\", \"RTPCR\"))"
   ]
  },
  {
   "cell_type": "code",
   "execution_count": 51,
   "metadata": {},
   "outputs": [
    {
     "data": {
      "text/html": [
       "3"
      ],
      "text/latex": [
       "3"
      ],
      "text/markdown": [
       "3"
      ],
      "text/plain": [
       "[1] 3"
      ]
     },
     "metadata": {},
     "output_type": "display_data"
    }
   ],
   "source": [
    "length(tecnicas_BioMol)\n",
    "# ¿cuántos elementos tiene la lista? ¿por qué?"
   ]
  },
  {
   "cell_type": "code",
   "execution_count": 52,
   "metadata": {},
   "outputs": [
    {
     "data": {
      "text/html": [
       "<ol>\n",
       "\t<li>'Southern'</li>\n",
       "</ol>\n"
      ],
      "text/latex": [
       "\\begin{enumerate}\n",
       "\\item 'Southern'\n",
       "\\end{enumerate}\n"
      ],
      "text/markdown": [
       "1. 'Southern'\n",
       "\n",
       "\n"
      ],
      "text/plain": [
       "[[1]]\n",
       "[1] \"Southern\"\n"
      ]
     },
     "metadata": {},
     "output_type": "display_data"
    }
   ],
   "source": [
    "tecnicas_BioMol[1]\n",
    "# quiero imprimir el primer elemento de la lista..."
   ]
  },
  {
   "cell_type": "code",
   "execution_count": 53,
   "metadata": {},
   "outputs": [
    {
     "data": {
      "text/html": [
       "'list'"
      ],
      "text/latex": [
       "'list'"
      ],
      "text/markdown": [
       "'list'"
      ],
      "text/plain": [
       "[1] \"list\""
      ]
     },
     "metadata": {},
     "output_type": "display_data"
    }
   ],
   "source": [
    "class(tecnicas_BioMol[1])\n",
    "# pero..."
   ]
  },
  {
   "cell_type": "code",
   "execution_count": 54,
   "metadata": {},
   "outputs": [
    {
     "data": {
      "text/html": [
       "'Southern'"
      ],
      "text/latex": [
       "'Southern'"
      ],
      "text/markdown": [
       "'Southern'"
      ],
      "text/plain": [
       "[1] \"Southern\""
      ]
     },
     "metadata": {},
     "output_type": "display_data"
    }
   ],
   "source": [
    "tecnicas_BioMol[[1]]\n",
    "# ¿cuál es la diferencias con el paso anterior?"
   ]
  },
  {
   "cell_type": "code",
   "execution_count": 55,
   "metadata": {},
   "outputs": [
    {
     "data": {
      "text/html": [
       "'character'"
      ],
      "text/latex": [
       "'character'"
      ],
      "text/markdown": [
       "'character'"
      ],
      "text/plain": [
       "[1] \"character\""
      ]
     },
     "metadata": {},
     "output_type": "display_data"
    }
   ],
   "source": [
    "class(tecnicas_BioMol[[1]])"
   ]
  },
  {
   "cell_type": "code",
   "execution_count": 56,
   "metadata": {},
   "outputs": [
    {
     "data": {
      "text/html": [
       "<style>\n",
       ".list-inline {list-style: none; margin:0; padding: 0}\n",
       ".list-inline>li {display: inline-block}\n",
       ".list-inline>li:not(:last-child)::after {content: \"\\00b7\"; padding: 0 .5ex}\n",
       "</style>\n",
       "<ol class=list-inline><li>'Northern'</li><li>'RNASeq'</li><li>'RTPCR'</li></ol>\n"
      ],
      "text/latex": [
       "\\begin{enumerate*}\n",
       "\\item 'Northern'\n",
       "\\item 'RNASeq'\n",
       "\\item 'RTPCR'\n",
       "\\end{enumerate*}\n"
      ],
      "text/markdown": [
       "1. 'Northern'\n",
       "2. 'RNASeq'\n",
       "3. 'RTPCR'\n",
       "\n",
       "\n"
      ],
      "text/plain": [
       "[1] \"Northern\" \"RNASeq\"   \"RTPCR\"   "
      ]
     },
     "metadata": {},
     "output_type": "display_data"
    }
   ],
   "source": [
    "tecnicas_BioMol[[3]]\n",
    "# ¿qué ocurre cuando tengo un vector dentro de una lista?"
   ]
  },
  {
   "cell_type": "code",
   "execution_count": 57,
   "metadata": {},
   "outputs": [
    {
     "data": {
      "text/html": [
       "'RNASeq'"
      ],
      "text/latex": [
       "'RNASeq'"
      ],
      "text/markdown": [
       "'RNASeq'"
      ],
      "text/plain": [
       "[1] \"RNASeq\""
      ]
     },
     "metadata": {},
     "output_type": "display_data"
    }
   ],
   "source": [
    "tecnicas_BioMol[[3]][2]\n",
    "# para llegar al elemento que se encuentra en la 2da posición en la lista"
   ]
  },
  {
   "cell_type": "markdown",
   "metadata": {},
   "source": [
    "También puedo nombrar a cada elemento de la lista y usarlos para subsetear"
   ]
  },
  {
   "cell_type": "code",
   "execution_count": 58,
   "metadata": {},
   "outputs": [
    {
     "data": {
      "text/html": [
       "<style>\n",
       ".list-inline {list-style: none; margin:0; padding: 0}\n",
       ".list-inline>li {display: inline-block}\n",
       ".list-inline>li:not(:last-child)::after {content: \"\\00b7\"; padding: 0 .5ex}\n",
       "</style>\n",
       "<ol class=list-inline><li>'Northern'</li><li>'RNASeq'</li><li>'RTPCR'</li></ol>\n"
      ],
      "text/latex": [
       "\\begin{enumerate*}\n",
       "\\item 'Northern'\n",
       "\\item 'RNASeq'\n",
       "\\item 'RTPCR'\n",
       "\\end{enumerate*}\n"
      ],
      "text/markdown": [
       "1. 'Northern'\n",
       "2. 'RNASeq'\n",
       "3. 'RTPCR'\n",
       "\n",
       "\n"
      ],
      "text/plain": [
       "[1] \"Northern\" \"RNASeq\"   \"RTPCR\"   "
      ]
     },
     "metadata": {},
     "output_type": "display_data"
    }
   ],
   "source": [
    "tecnicas_BioMol <- list(DNA = \"Southern\", Proteinas = \"Western\" , RNA = c(\"Northern\", \"RNASeq\", \"RTPCR\"))\n",
    "tecnicas_BioMol$RNA"
   ]
  },
  {
   "cell_type": "markdown",
   "metadata": {},
   "source": [
    "# Estructuras de Control\n",
    "\n",
    "Las estructuras de control son instrucciones dé código que permiten alterar la secuencia de comandos que se ejecutan en un programa.\n",
    "\n",
    "A grandes rasgos, las estructuras de control nos permiten hacer dos cosas:\n",
    "\n",
    "1. Repetir una cierta tarea.\n",
    "1. Tomar decisiones."
   ]
  },
  {
   "cell_type": "markdown",
   "metadata": {},
   "source": [
    "## Bucle *for* - repetición de tareas\n",
    "\n",
    "Vamos a usar un ejemplo: queremos saber cuanto vale la suma de los primeros 100 números naturales.\n",
    "Para eso tenemos que tener una variable que vaya acumulando el resultado de la suma en cada iteración (**n**), y otra \n",
    "variable que vaya recorriendo los números desde 1 hasta 100 (**i**)"
   ]
  },
  {
   "cell_type": "code",
   "execution_count": null,
   "metadata": {},
   "outputs": [],
   "source": [
    "n=0\n",
    "for (i in 1:100) {\n",
    "  n <- n+i \n",
    "}\n",
    "print(n)"
   ]
  },
  {
   "cell_type": "markdown",
   "metadata": {},
   "source": [
    "¿Hay alguna forma de hacer lo mismo pero sin utilizar un for?"
   ]
  },
  {
   "cell_type": "code",
   "execution_count": null,
   "metadata": {},
   "outputs": [],
   "source": [
    "sum(1:100)"
   ]
  },
  {
   "cell_type": "markdown",
   "metadata": {},
   "source": [
    "## Condicional *if* - tomar decisiones"
   ]
  },
  {
   "cell_type": "markdown",
   "metadata": {},
   "source": [
    "Queremos saber si un número es par o impar, entonces debemos usar la estructura if - else.\n",
    "\n",
    "El operador **%%** me permite saber el resto de la división, por ej. 48 **%%** 2 va a devolver 0, que 48 es divisible \n",
    "por 2."
   ]
  },
  {
   "cell_type": "code",
   "execution_count": null,
   "metadata": {},
   "outputs": [],
   "source": [
    "numero = 10\n",
    "if (numero%%2 == 0){\n",
    "  print(\"El número es par\")\n",
    "} else {\n",
    "  print(\"El número es impar\")\n",
    "}"
   ]
  },
  {
   "cell_type": "markdown",
   "metadata": {},
   "source": [
    "Esta es otra forma pero imprimiendo de otra manera los resultados (más fachero)"
   ]
  },
  {
   "cell_type": "code",
   "execution_count": null,
   "metadata": {},
   "outputs": [],
   "source": [
    "numero = 10\n",
    "if (numero%%2 == 0){\n",
    "  print(paste(\"El número\", numero, \"es par\"))\n",
    "} else {\n",
    "  print(paste(\"El número\", numero, \"es impar\"))\n",
    "}"
   ]
  },
  {
   "cell_type": "code",
   "execution_count": null,
   "metadata": {},
   "outputs": [],
   "source": [
    "?paste"
   ]
  },
  {
   "cell_type": "markdown",
   "metadata": {},
   "source": [
    "Ahora queremos guardar en una variable la suma de los números pares desde 1 a 100 y en otra variable la suma de \n",
    "los números impares. En este caso vamos a necesitar un \"if\" que me permita saber si un número es par o impar."
   ]
  },
  {
   "cell_type": "code",
   "execution_count": null,
   "metadata": {},
   "outputs": [],
   "source": [
    "pares   = 0\n",
    "impares = 0\n",
    "\n",
    "for (i in 1:100){\n",
    "  if (i%%2 == 0)\n",
    "    pares = pares + i\n",
    "  else{\n",
    "    impares = impares + i\n",
    "  }\n",
    "}\n",
    "\n",
    "print(pares)\n",
    "print(impares)"
   ]
  },
  {
   "cell_type": "markdown",
   "metadata": {},
   "source": [
    "¿Hay alguna forma de hacer lo mismo pero sin utilizar un for ni un if?"
   ]
  },
  {
   "cell_type": "code",
   "execution_count": null,
   "metadata": {},
   "outputs": [],
   "source": [
    "pares = sum(seq(2, 100, by = 2))\n",
    "impares = sum(seq(1, 100, by = 2))"
   ]
  },
  {
   "cell_type": "code",
   "execution_count": null,
   "metadata": {},
   "outputs": [],
   "source": [
    "?seq"
   ]
  },
  {
   "cell_type": "markdown",
   "metadata": {},
   "source": [
    "## Ejemplo - FizzBuzz\n",
    "\n",
    "El problema FizzBuzz es un ejercicio clásico que suele usarse en entrevistas o ejemplificar el uso de un lenguaje.\n",
    "\n",
    "Lo que hay que hacer es muy sencillo:\n",
    "\n",
    "- Se pide imprimir los números del uno hasta N.\n",
    "- Si un número es divisible por 3, en lugar del número se imprime \"Fizz\".\n",
    "- Si un número es divisible por 5, en lugar del número se imprime \"Buzz\".\n",
    "- Si un número es divisible por 3 y 5, en lugar del número se imprime \"FizzBuzz\".\n",
    "- Devolver un vector *character* con los valores."
   ]
  },
  {
   "cell_type": "code",
   "execution_count": 15,
   "metadata": {},
   "outputs": [
    {
     "data": {
      "text/html": [
       "<style>\n",
       ".list-inline {list-style: none; margin:0; padding: 0}\n",
       ".list-inline>li {display: inline-block}\n",
       ".list-inline>li:not(:last-child)::after {content: \"\\00b7\"; padding: 0 .5ex}\n",
       "</style>\n",
       "<ol class=list-inline><li>'1'</li><li>'2'</li><li>'FiZZ'</li><li>'4'</li><li>'Buzz'</li><li>'FiZZ'</li><li>'7'</li><li>'8'</li><li>'FiZZ'</li><li>'Buzz'</li><li>'11'</li><li>'FiZZ'</li><li>'13'</li><li>'14'</li><li>'FizzBuzz'</li></ol>\n"
      ],
      "text/latex": [
       "\\begin{enumerate*}\n",
       "\\item '1'\n",
       "\\item '2'\n",
       "\\item 'FiZZ'\n",
       "\\item '4'\n",
       "\\item 'Buzz'\n",
       "\\item 'FiZZ'\n",
       "\\item '7'\n",
       "\\item '8'\n",
       "\\item 'FiZZ'\n",
       "\\item 'Buzz'\n",
       "\\item '11'\n",
       "\\item 'FiZZ'\n",
       "\\item '13'\n",
       "\\item '14'\n",
       "\\item 'FizzBuzz'\n",
       "\\end{enumerate*}\n"
      ],
      "text/markdown": [
       "1. '1'\n",
       "2. '2'\n",
       "3. 'FiZZ'\n",
       "4. '4'\n",
       "5. 'Buzz'\n",
       "6. 'FiZZ'\n",
       "7. '7'\n",
       "8. '8'\n",
       "9. 'FiZZ'\n",
       "10. 'Buzz'\n",
       "11. '11'\n",
       "12. 'FiZZ'\n",
       "13. '13'\n",
       "14. '14'\n",
       "15. 'FizzBuzz'\n",
       "\n",
       "\n"
      ],
      "text/plain": [
       " [1] \"1\"        \"2\"        \"FiZZ\"     \"4\"        \"Buzz\"     \"FiZZ\"    \n",
       " [7] \"7\"        \"8\"        \"FiZZ\"     \"Buzz\"     \"11\"       \"FiZZ\"    \n",
       "[13] \"13\"       \"14\"       \"FizzBuzz\""
      ]
     },
     "metadata": {},
     "output_type": "display_data"
    }
   ],
   "source": [
    "# Solución usando for/if\n",
    "resultado <- c()\n",
    "N <- 15\n",
    "for (i in 1:N) {\n",
    "    r <- i\n",
    "    if (i%%3==0) {\n",
    "        r <- 'FiZZ'\n",
    "    }\n",
    "    if (i%%5==0) {\n",
    "        r <- 'Buzz'\n",
    "    }\n",
    "    if (i%%(3*5)==0) {\n",
    "        r <- 'FizzBuzz'\n",
    "    }\n",
    "    resultado <- c(resultado, r)\n",
    "}\n",
    "resultado"
   ]
  },
  {
   "cell_type": "code",
   "execution_count": 19,
   "metadata": {},
   "outputs": [
    {
     "data": {
      "text/html": [
       "<style>\n",
       ".list-inline {list-style: none; margin:0; padding: 0}\n",
       ".list-inline>li {display: inline-block}\n",
       ".list-inline>li:not(:last-child)::after {content: \"\\00b7\"; padding: 0 .5ex}\n",
       "</style>\n",
       "<ol class=list-inline><li>'1'</li><li>'2'</li><li>'Fizz'</li><li>'4'</li><li>'Buzz'</li><li>'Fizz'</li><li>'7'</li><li>'8'</li><li>'Fizz'</li><li>'Buzz'</li><li>'11'</li><li>'Fizz'</li><li>'13'</li><li>'14'</li><li>'FizzBuzz'</li></ol>\n"
      ],
      "text/latex": [
       "\\begin{enumerate*}\n",
       "\\item '1'\n",
       "\\item '2'\n",
       "\\item 'Fizz'\n",
       "\\item '4'\n",
       "\\item 'Buzz'\n",
       "\\item 'Fizz'\n",
       "\\item '7'\n",
       "\\item '8'\n",
       "\\item 'Fizz'\n",
       "\\item 'Buzz'\n",
       "\\item '11'\n",
       "\\item 'Fizz'\n",
       "\\item '13'\n",
       "\\item '14'\n",
       "\\item 'FizzBuzz'\n",
       "\\end{enumerate*}\n"
      ],
      "text/markdown": [
       "1. '1'\n",
       "2. '2'\n",
       "3. 'Fizz'\n",
       "4. '4'\n",
       "5. 'Buzz'\n",
       "6. 'Fizz'\n",
       "7. '7'\n",
       "8. '8'\n",
       "9. 'Fizz'\n",
       "10. 'Buzz'\n",
       "11. '11'\n",
       "12. 'Fizz'\n",
       "13. '13'\n",
       "14. '14'\n",
       "15. 'FizzBuzz'\n",
       "\n",
       "\n"
      ],
      "text/plain": [
       " [1] \"1\"        \"2\"        \"Fizz\"     \"4\"        \"Buzz\"     \"Fizz\"    \n",
       " [7] \"7\"        \"8\"        \"Fizz\"     \"Buzz\"     \"11\"       \"Fizz\"    \n",
       "[13] \"13\"       \"14\"       \"FizzBuzz\""
      ]
     },
     "metadata": {},
     "output_type": "display_data"
    }
   ],
   "source": [
    "# Solución usando operaciones de vectores\n",
    "N <- 15\n",
    "r <- seq(1,N)\n",
    "resultado <- r\n",
    "\n",
    "resultado[r%%3==0] <- 'Fizz'\n",
    "resultado[r%%5==0] <- 'Buzz'\n",
    "resultado[r%%(5*3)==0] <- 'FizzBuzz'\n",
    "resultado\n"
   ]
  },
  {
   "cell_type": "markdown",
   "metadata": {},
   "source": [
    "# Crear Funciones"
   ]
  },
  {
   "cell_type": "markdown",
   "metadata": {},
   "source": [
    "Primer ejemplo sencillo para definir una función en R"
   ]
  },
  {
   "cell_type": "code",
   "execution_count": 61,
   "metadata": {},
   "outputs": [],
   "source": [
    "plants <- datasets::PlantGrowth"
   ]
  },
  {
   "cell_type": "code",
   "execution_count": 62,
   "metadata": {},
   "outputs": [
    {
     "data": {
      "text/html": [
       "<table class=\"dataframe\">\n",
       "<caption>A data.frame: 6 × 2</caption>\n",
       "<thead>\n",
       "\t<tr><th></th><th scope=col>weight</th><th scope=col>group</th></tr>\n",
       "\t<tr><th></th><th scope=col>&lt;dbl&gt;</th><th scope=col>&lt;fct&gt;</th></tr>\n",
       "</thead>\n",
       "<tbody>\n",
       "\t<tr><th scope=row>1</th><td>4.17</td><td>ctrl</td></tr>\n",
       "\t<tr><th scope=row>2</th><td>5.58</td><td>ctrl</td></tr>\n",
       "\t<tr><th scope=row>3</th><td>5.18</td><td>ctrl</td></tr>\n",
       "\t<tr><th scope=row>4</th><td>6.11</td><td>ctrl</td></tr>\n",
       "\t<tr><th scope=row>5</th><td>4.50</td><td>ctrl</td></tr>\n",
       "\t<tr><th scope=row>6</th><td>4.61</td><td>ctrl</td></tr>\n",
       "</tbody>\n",
       "</table>\n"
      ],
      "text/latex": [
       "A data.frame: 6 × 2\n",
       "\\begin{tabular}{r|ll}\n",
       "  & weight & group\\\\\n",
       "  & <dbl> & <fct>\\\\\n",
       "\\hline\n",
       "\t1 & 4.17 & ctrl\\\\\n",
       "\t2 & 5.58 & ctrl\\\\\n",
       "\t3 & 5.18 & ctrl\\\\\n",
       "\t4 & 6.11 & ctrl\\\\\n",
       "\t5 & 4.50 & ctrl\\\\\n",
       "\t6 & 4.61 & ctrl\\\\\n",
       "\\end{tabular}\n"
      ],
      "text/markdown": [
       "\n",
       "A data.frame: 6 × 2\n",
       "\n",
       "| <!--/--> | weight &lt;dbl&gt; | group &lt;fct&gt; |\n",
       "|---|---|---|\n",
       "| 1 | 4.17 | ctrl |\n",
       "| 2 | 5.58 | ctrl |\n",
       "| 3 | 5.18 | ctrl |\n",
       "| 4 | 6.11 | ctrl |\n",
       "| 5 | 4.50 | ctrl |\n",
       "| 6 | 4.61 | ctrl |\n",
       "\n"
      ],
      "text/plain": [
       "  weight group\n",
       "1 4.17   ctrl \n",
       "2 5.58   ctrl \n",
       "3 5.18   ctrl \n",
       "4 6.11   ctrl \n",
       "5 4.50   ctrl \n",
       "6 4.61   ctrl "
      ]
     },
     "metadata": {},
     "output_type": "display_data"
    }
   ],
   "source": [
    "head(plants) # Me muestra las primeras seis filas"
   ]
  },
  {
   "cell_type": "code",
   "execution_count": 63,
   "metadata": {},
   "outputs": [
    {
     "data": {
      "text/html": [
       "<table class=\"dataframe\">\n",
       "<caption>A data.frame: 6 × 2</caption>\n",
       "<thead>\n",
       "\t<tr><th></th><th scope=col>weight</th><th scope=col>group</th></tr>\n",
       "\t<tr><th></th><th scope=col>&lt;dbl&gt;</th><th scope=col>&lt;fct&gt;</th></tr>\n",
       "</thead>\n",
       "<tbody>\n",
       "\t<tr><th scope=row>25</th><td>5.37</td><td>trt2</td></tr>\n",
       "\t<tr><th scope=row>26</th><td>5.29</td><td>trt2</td></tr>\n",
       "\t<tr><th scope=row>27</th><td>4.92</td><td>trt2</td></tr>\n",
       "\t<tr><th scope=row>28</th><td>6.15</td><td>trt2</td></tr>\n",
       "\t<tr><th scope=row>29</th><td>5.80</td><td>trt2</td></tr>\n",
       "\t<tr><th scope=row>30</th><td>5.26</td><td>trt2</td></tr>\n",
       "</tbody>\n",
       "</table>\n"
      ],
      "text/latex": [
       "A data.frame: 6 × 2\n",
       "\\begin{tabular}{r|ll}\n",
       "  & weight & group\\\\\n",
       "  & <dbl> & <fct>\\\\\n",
       "\\hline\n",
       "\t25 & 5.37 & trt2\\\\\n",
       "\t26 & 5.29 & trt2\\\\\n",
       "\t27 & 4.92 & trt2\\\\\n",
       "\t28 & 6.15 & trt2\\\\\n",
       "\t29 & 5.80 & trt2\\\\\n",
       "\t30 & 5.26 & trt2\\\\\n",
       "\\end{tabular}\n"
      ],
      "text/markdown": [
       "\n",
       "A data.frame: 6 × 2\n",
       "\n",
       "| <!--/--> | weight &lt;dbl&gt; | group &lt;fct&gt; |\n",
       "|---|---|---|\n",
       "| 25 | 5.37 | trt2 |\n",
       "| 26 | 5.29 | trt2 |\n",
       "| 27 | 4.92 | trt2 |\n",
       "| 28 | 6.15 | trt2 |\n",
       "| 29 | 5.80 | trt2 |\n",
       "| 30 | 5.26 | trt2 |\n",
       "\n"
      ],
      "text/plain": [
       "   weight group\n",
       "25 5.37   trt2 \n",
       "26 5.29   trt2 \n",
       "27 4.92   trt2 \n",
       "28 6.15   trt2 \n",
       "29 5.80   trt2 \n",
       "30 5.26   trt2 "
      ]
     },
     "metadata": {},
     "output_type": "display_data"
    }
   ],
   "source": [
    "tail(plants) # Me muestra las últimas seis filas"
   ]
  },
  {
   "cell_type": "markdown",
   "metadata": {},
   "source": [
    "**head** y **tail** son dos funciones internas de R, que permiten ver los primeros y últimos elementos de un dataframe.\n",
    "\n",
    "Me gustaría que exista otra función que me muestre los tres primeros y los tres últimos elementos.\n",
    "\n",
    "¿Será posible crearla?"
   ]
  },
  {
   "cell_type": "code",
   "execution_count": 65,
   "metadata": {},
   "outputs": [
    {
     "ename": "ERROR",
     "evalue": "Error in headtail(plants): no se pudo encontrar la función \"headtail\"\n",
     "output_type": "error",
     "traceback": [
      "Error in headtail(plants): no se pudo encontrar la función \"headtail\"\nTraceback:\n"
     ]
    }
   ],
   "source": [
    "# la función headtail todavía no existe\n",
    "headtail(plants)"
   ]
  },
  {
   "cell_type": "markdown",
   "metadata": {},
   "source": [
    "Veamos antes como construir una función más sencilla."
   ]
  },
  {
   "cell_type": "code",
   "execution_count": null,
   "metadata": {},
   "outputs": [],
   "source": [
    "sumar <- function(x, y) {\n",
    "  suma <- x+y\n",
    "  return(suma)\n",
    "}"
   ]
  },
  {
   "cell_type": "code",
   "execution_count": null,
   "metadata": {},
   "outputs": [],
   "source": [
    "total <- sumar(2, 3)\n",
    "print(total)"
   ]
  },
  {
   "cell_type": "code",
   "execution_count": null,
   "metadata": {},
   "outputs": [],
   "source": [
    "total <- sumar(total, 10)"
   ]
  },
  {
   "cell_type": "markdown",
   "metadata": {},
   "source": [
    "Otro ejemplo pero usando un for dentro de la función..."
   ]
  },
  {
   "cell_type": "code",
   "execution_count": null,
   "metadata": {},
   "outputs": [],
   "source": [
    "sumar_hasta <- function(n){\n",
    "  suma_i <- 0\n",
    "  for(i in 1:n){\n",
    "    suma_i = suma_i + i\n",
    "  }\n",
    "  return(suma_i)\n",
    "}"
   ]
  },
  {
   "cell_type": "code",
   "execution_count": null,
   "metadata": {},
   "outputs": [],
   "source": [
    "sumar_hasta(100)"
   ]
  },
  {
   "cell_type": "code",
   "execution_count": null,
   "metadata": {},
   "outputs": [],
   "source": [
    "sumar_hasta(1010)"
   ]
  },
  {
   "cell_type": "markdown",
   "metadata": {},
   "source": [
    "Retomemos la función **headtail**"
   ]
  },
  {
   "cell_type": "code",
   "execution_count": 72,
   "metadata": {},
   "outputs": [],
   "source": [
    "headtail <- function(df) {\n",
    "    first_three <- 1:nrow(df) <= 3 \n",
    "    last_three <- 1:nrow(df) > (nrow(df)-3)\n",
    "    selected <- first_three | last_three\n",
    "    return(df[selected, ])\n",
    "}"
   ]
  },
  {
   "cell_type": "code",
   "execution_count": 74,
   "metadata": {},
   "outputs": [
    {
     "data": {
      "text/html": [
       "<table class=\"dataframe\">\n",
       "<caption>A data.frame: 6 × 2</caption>\n",
       "<thead>\n",
       "\t<tr><th></th><th scope=col>weight</th><th scope=col>group</th></tr>\n",
       "\t<tr><th></th><th scope=col>&lt;dbl&gt;</th><th scope=col>&lt;fct&gt;</th></tr>\n",
       "</thead>\n",
       "<tbody>\n",
       "\t<tr><th scope=row>1</th><td>4.17</td><td>ctrl</td></tr>\n",
       "\t<tr><th scope=row>2</th><td>5.58</td><td>ctrl</td></tr>\n",
       "\t<tr><th scope=row>3</th><td>5.18</td><td>ctrl</td></tr>\n",
       "\t<tr><th scope=row>28</th><td>6.15</td><td>trt2</td></tr>\n",
       "\t<tr><th scope=row>29</th><td>5.80</td><td>trt2</td></tr>\n",
       "\t<tr><th scope=row>30</th><td>5.26</td><td>trt2</td></tr>\n",
       "</tbody>\n",
       "</table>\n"
      ],
      "text/latex": [
       "A data.frame: 6 × 2\n",
       "\\begin{tabular}{r|ll}\n",
       "  & weight & group\\\\\n",
       "  & <dbl> & <fct>\\\\\n",
       "\\hline\n",
       "\t1 & 4.17 & ctrl\\\\\n",
       "\t2 & 5.58 & ctrl\\\\\n",
       "\t3 & 5.18 & ctrl\\\\\n",
       "\t28 & 6.15 & trt2\\\\\n",
       "\t29 & 5.80 & trt2\\\\\n",
       "\t30 & 5.26 & trt2\\\\\n",
       "\\end{tabular}\n"
      ],
      "text/markdown": [
       "\n",
       "A data.frame: 6 × 2\n",
       "\n",
       "| <!--/--> | weight &lt;dbl&gt; | group &lt;fct&gt; |\n",
       "|---|---|---|\n",
       "| 1 | 4.17 | ctrl |\n",
       "| 2 | 5.58 | ctrl |\n",
       "| 3 | 5.18 | ctrl |\n",
       "| 28 | 6.15 | trt2 |\n",
       "| 29 | 5.80 | trt2 |\n",
       "| 30 | 5.26 | trt2 |\n",
       "\n"
      ],
      "text/plain": [
       "   weight group\n",
       "1  4.17   ctrl \n",
       "2  5.58   ctrl \n",
       "3  5.18   ctrl \n",
       "28 6.15   trt2 \n",
       "29 5.80   trt2 \n",
       "30 5.26   trt2 "
      ]
     },
     "metadata": {},
     "output_type": "display_data"
    }
   ],
   "source": [
    "headtail(plants)"
   ]
  },
  {
   "cell_type": "markdown",
   "metadata": {},
   "source": [
    "# Importación de Paquetes"
   ]
  },
  {
   "cell_type": "code",
   "execution_count": null,
   "metadata": {},
   "outputs": [],
   "source": [
    "install.packages(\"ggplot2\")"
   ]
  },
  {
   "cell_type": "code",
   "execution_count": null,
   "metadata": {},
   "outputs": [],
   "source": [
    "library(ggplot2)"
   ]
  },
  {
   "cell_type": "markdown",
   "metadata": {},
   "source": [
    "# Exportación e Importación"
   ]
  },
  {
   "cell_type": "markdown",
   "metadata": {},
   "source": [
    "Vamos a exportar la tabla del experimento de crecimiento de plantas filtrada por tipo de tratamiento (trt2) y por \n",
    "peso (plantas con peso mayor a 5.5)"
   ]
  },
  {
   "cell_type": "code",
   "execution_count": null,
   "metadata": {},
   "outputs": [],
   "source": [
    "getwd()\n",
    "# Para saber en qué carpeta estamos parados"
   ]
  },
  {
   "cell_type": "code",
   "execution_count": null,
   "metadata": {},
   "outputs": [],
   "source": [
    "setwd()\n",
    "# Para elegir donde estamos parados"
   ]
  },
  {
   "cell_type": "code",
   "execution_count": null,
   "metadata": {},
   "outputs": [],
   "source": [
    "?write.csv"
   ]
  },
  {
   "cell_type": "code",
   "execution_count": null,
   "metadata": {},
   "outputs": [],
   "source": [
    "write.table(\n",
    "    plantas2,\n",
    "    file = \"plantas_filtradas.csv\",\n",
    "    sep=\",\",\n",
    "    quote = F,\n",
    "    row.names = F\n",
    ")\n",
    "#Probar otros sep \" \", \"\\t\""
   ]
  },
  {
   "cell_type": "markdown",
   "metadata": {},
   "source": [
    "También se puede exportar en un tipo de archivo especial que permite guardar en un solo archivo uno o más objetos de R. Vamos a exportar tanto la tabla original como la tabla filtrada en el archivo \"plantas_filtradas.RData\""
   ]
  },
  {
   "cell_type": "code",
   "execution_count": null,
   "metadata": {},
   "outputs": [],
   "source": [
    "?save"
   ]
  },
  {
   "cell_type": "code",
   "execution_count": null,
   "metadata": {},
   "outputs": [],
   "source": [
    "save(\n",
    "    plantas,\n",
    "    plantas2,\n",
    "    file = \"plantas_filtradas.RData\"\n",
    ")"
   ]
  },
  {
   "cell_type": "markdown",
   "metadata": {},
   "source": [
    "Vamos a borrar los objetos que acabamos de guardar para ver cómo los importamos de nuevo a nuestra sesión"
   ]
  },
  {
   "cell_type": "code",
   "execution_count": null,
   "metadata": {},
   "outputs": [],
   "source": [
    "rm(plantas, plantas2)\n",
    "# este comando eliminará de nuestra sesión estos dos objetos"
   ]
  },
  {
   "cell_type": "code",
   "execution_count": null,
   "metadata": {},
   "outputs": [],
   "source": [
    "load(\"plantas_filtradas.RData\")\n",
    "# ahora los volvemos a importar desde el archivo plantas_filtradas.RData"
   ]
  },
  {
   "cell_type": "markdown",
   "metadata": {},
   "source": [
    "También podemos levantar un archivo de tabla tipo csv o separado por tabs u espacios"
   ]
  },
  {
   "cell_type": "code",
   "execution_count": null,
   "metadata": {},
   "outputs": [],
   "source": [
    "plantas_leidas <- read.table(file = \"plantas_filtradas.csv\", header = T, sep=\",\")\n",
    "# Probar otros sep \" \", \"\\t\""
   ]
  },
  {
   "cell_type": "markdown",
   "metadata": {},
   "source": [
    "# Algunos gráficos"
   ]
  },
  {
   "cell_type": "markdown",
   "metadata": {},
   "source": [
    "Generamos algunos datos para graficar"
   ]
  },
  {
   "cell_type": "code",
   "execution_count": 39,
   "metadata": {},
   "outputs": [],
   "source": [
    "x <- seq(from=-2*pi, to=2*pi, by=0.1)\n",
    "y <- sin(x)\n",
    "w <- cos(x)\n",
    "z <- tan(x)"
   ]
  },
  {
   "cell_type": "markdown",
   "metadata": {},
   "source": [
    "Los graficamos con la libreria gráfica de r"
   ]
  },
  {
   "cell_type": "code",
   "execution_count": 47,
   "metadata": {},
   "outputs": [
    {
     "data": {
      "image/png": "[encoded data removed]",
      "text/plain": [
       "plot without title"
      ]
     },
     "metadata": {
      "image/png": {
       "height": 420,
       "width": 420
      }
     },
     "output_type": "display_data"
    }
   ],
   "source": [
    "plot(x, y)\n",
    "#points(x, w, col=\"red\")\n",
    "lines(x, z, col=\"blue\")\n",
    "# abline(h=0, col=\"green\")\n",
    "# abline(v=1, col=\"green\")\n",
    "# abline(a=0, b=0.5, col=\"cyan\")"
   ]
  },
  {
   "cell_type": "markdown",
   "metadata": {},
   "source": [
    "Generamos datos de distribuciones uniforme y normal"
   ]
  },
  {
   "cell_type": "code",
   "execution_count": 41,
   "metadata": {},
   "outputs": [],
   "source": [
    "uniformes <- runif(100000)\n",
    "normales  <- rnorm(100000)"
   ]
  },
  {
   "cell_type": "markdown",
   "metadata": {},
   "source": [
    "Graficamos los histogramas"
   ]
  },
  {
   "cell_type": "code",
   "execution_count": 42,
   "metadata": {},
   "outputs": [
    {
     "data": {
      "image/png": "[encoded data removed]",
      "text/plain": [
       "Plot with title \"Histogram of uniformes\""
      ]
     },
     "metadata": {
      "image/png": {
       "height": 420,
       "width": 420
      }
     },
     "output_type": "display_data"
    },
    {
     "data": {
      "image/png": "[encoded data removed]",
      "text/plain": [
       "Plot with title \"Histogram of normales\""
      ]
     },
     "metadata": {
      "image/png": {
       "height": 420,
       "width": 420
      }
     },
     "output_type": "display_data"
    }
   ],
   "source": [
    "hist(uniformes)\n",
    "hist(normales, breaks=30)"
   ]
  }
 ],
 "metadata": {
  "kernelspec": {
   "display_name": "R",
   "language": "R",
   "name": "ir"
  },
  "language_info": {
   "codemirror_mode": "r",
   "file_extension": ".r",
   "mimetype": "text/x-r-source",
   "name": "R",
   "pygments_lexer": "r",
   "version": "4.0.3"
  }
 },
 "nbformat": 4,
 "nbformat_minor": 2
}
