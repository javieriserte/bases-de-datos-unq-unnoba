{
 "cells": [
  {
   "cell_type": "markdown",
   "metadata": {},
   "source": [
    "# Elementos básicos de R\n",
    "\n",
    "En el día de hoy vamos a comenzar viendo los elementos básicos de la sintaxis de R.\n",
    "\n",
    "Entre las muchas cosas que podemos hacer con R, lo podemos usar como si fuera una calculadora.\n",
    "\n",
    "Con ctrl+enter ejecutamos en la consola de R la linea sobra la que estamos parados."
   ]
  },
  {
   "cell_type": "code",
   "execution_count": null,
   "metadata": {},
   "outputs": [],
   "source": [
    "2+10"
   ]
  },
  {
   "cell_type": "code",
   "execution_count": null,
   "metadata": {},
   "outputs": [],
   "source": [
    "315/7"
   ]
  },
  {
   "cell_type": "code",
   "execution_count": null,
   "metadata": {},
   "outputs": [],
   "source": [
    "89*3"
   ]
  },
  {
   "cell_type": "code",
   "execution_count": null,
   "metadata": {},
   "outputs": [],
   "source": [
    "sqrt(99225)"
   ]
  },
  {
   "cell_type": "code",
   "execution_count": null,
   "metadata": {},
   "outputs": [],
   "source": [
    "21^pi"
   ]
  },
  {
   "cell_type": "markdown",
   "metadata": {},
   "source": [
    "# Tipos de Datos\n",
    "\n",
    "En R todo el tiempo vamos a estar trabajando con datos, por lo cual una de las primeras cosas que debemos hacer es crear los distintos objetos, llamados \"variables\" que van a contener nuestros datos.\n",
    "\n",
    "Por ejemplo podemos crear un objeto que se llame cantidad_de_alumnos y asignarle un valor."
   ]
  },
  {
   "cell_type": "code",
   "execution_count": null,
   "metadata": {},
   "outputs": [],
   "source": [
    "cantidad_de_alumnos <- 16\n",
    "#¿Qué tipo de objeto es?\n",
    "cantidad_de_profesores <- 2"
   ]
  },
  {
   "cell_type": "markdown",
   "metadata": {},
   "source": [
    "En R hay varios tipos de objetos que representan algún dato que queramos manejar: numeric, integer, character, logical. Para saber de qué clase es un objetos podemos usar la función class. El ? nos da una ayuda sobre qué hace una determinada función"
   ]
  },
  {
   "cell_type": "code",
   "execution_count": null,
   "metadata": {},
   "outputs": [],
   "source": [
    "nombre_de_profesora    <- \"Cristina\"\n",
    "hace_frio              <- TRUE\n",
    "precio_del_dolar       <- 37.5"
   ]
  },
  {
   "cell_type": "code",
   "execution_count": null,
   "metadata": {},
   "outputs": [],
   "source": [
    "?class"
   ]
  },
  {
   "cell_type": "code",
   "execution_count": null,
   "metadata": {},
   "outputs": [],
   "source": [
    "class(cantidad_de_alumnos)\n",
    "class(nombre_de_profesora)\n",
    "class(hace_frio)\n",
    "class(precio_del_dolar)"
   ]
  },
  {
   "cell_type": "markdown",
   "metadata": {},
   "source": [
    "Con los objetos en R se pueden realizar una gran cantidad de operaciones. Por ejemplo, a un número le podemos sumar otro numero."
   ]
  },
  {
   "cell_type": "code",
   "execution_count": null,
   "metadata": {},
   "outputs": [],
   "source": [
    "cantidad_de_alumnos + cantidad_de_profesores"
   ]
  },
  {
   "cell_type": "markdown",
   "metadata": {},
   "source": [
    "La suma la podemos guardar en un nuevo objeto"
   ]
  },
  {
   "cell_type": "code",
   "execution_count": null,
   "metadata": {},
   "outputs": [],
   "source": [
    "cantidad_de_personas <- ¿? + ¿?"
   ]
  },
  {
   "cell_type": "markdown",
   "metadata": {},
   "source": [
    "Por otro lado, podemos convertir los objetos en R de una clase a otra, aunque con algunas excepciones...."
   ]
  },
  {
   "cell_type": "code",
   "execution_count": null,
   "metadata": {},
   "outputs": [],
   "source": [
    "as.character(hace_frio)"
   ]
  },
  {
   "cell_type": "code",
   "execution_count": null,
   "metadata": {},
   "outputs": [],
   "source": [
    "as.integer(precio_del_dolar)"
   ]
  },
  {
   "cell_type": "code",
   "execution_count": null,
   "metadata": {},
   "outputs": [],
   "source": [
    "as.character(cantidad_de_personas)"
   ]
  },
  {
   "cell_type": "code",
   "execution_count": null,
   "metadata": {},
   "outputs": [],
   "source": [
    "as.logical(cantidad_de_personas)"
   ]
  },
  {
   "cell_type": "code",
   "execution_count": null,
   "metadata": {
    "scrolled": false
   },
   "outputs": [],
   "source": [
    "as.integer(nombre_de_profesora)"
   ]
  },
  {
   "cell_type": "markdown",
   "metadata": {},
   "source": [
    "# Estructuras de Datos\n",
    "\n",
    "Uno de los puntos fuertes de R es que podemos definir un objeto que contenga muchos otros objetos, para luego aplicar la \n",
    "misma operación en todos. Con la función c construimos un vector.\n"
   ]
  },
  {
   "cell_type": "code",
   "execution_count": null,
   "metadata": {},
   "outputs": [],
   "source": [
    "cursos <- c(\"Bases de datos web\", \"Teoría de bases de datos\", \"R\")\n",
    "horas  <- c(8, 12, 20)"
   ]
  },
  {
   "cell_type": "markdown",
   "metadata": {},
   "source": [
    "De la misma manera que podemos realizar cálculos con números también lo podemos hacer con vectores"
   ]
  },
  {
   "cell_type": "code",
   "execution_count": null,
   "metadata": {},
   "outputs": [],
   "source": [
    "horas + 2"
   ]
  },
  {
   "cell_type": "code",
   "execution_count": null,
   "metadata": {},
   "outputs": [],
   "source": [
    "2*horas"
   ]
  },
  {
   "cell_type": "code",
   "execution_count": null,
   "metadata": {},
   "outputs": [],
   "source": [
    "horas + c(1, 2, 3)"
   ]
  },
  {
   "cell_type": "markdown",
   "metadata": {},
   "source": [
    "Los vectores sólo aceptan que todos los elementos que sean guardados en los mismos sean de la misma clase."
   ]
  },
  {
   "cell_type": "code",
   "execution_count": null,
   "metadata": {},
   "outputs": [],
   "source": [
    "cs <- c(\"Bases de datos\", \"R\", 2)\n",
    "#¿Qué ocurrió con el 2?"
   ]
  },
  {
   "cell_type": "markdown",
   "metadata": {},
   "source": [
    "En cambio, existe un objeto llamado lista que nos permite contener elementos de diferentes clases en el mismo objeto."
   ]
  },
  {
   "cell_type": "code",
   "execution_count": null,
   "metadata": {},
   "outputs": [],
   "source": [
    "cs <- list(\"Bases de datos\", \"R\", 2)\n",
    "class(cs[[1]])\n",
    "#¿De que clase es el primer elemento de la lista?"
   ]
  },
  {
   "cell_type": "code",
   "execution_count": null,
   "metadata": {},
   "outputs": [],
   "source": [
    "class(cs[[3]])\n",
    "#¿De que clase es el cuarto elemento de la lista?"
   ]
  },
  {
   "cell_type": "markdown",
   "metadata": {},
   "source": [
    "En R también encontramos estructuras de datos que son de dos dimensionen que nos van a permitir trabajar con\n",
    "tablas (a las que vamos a llamar data.frames) y matrices."
   ]
  },
  {
   "cell_type": "markdown",
   "metadata": {},
   "source": [
    "A partir de los dos vectores que creamos anteriormente vamos a generar un data.frame"
   ]
  },
  {
   "cell_type": "code",
   "execution_count": null,
   "metadata": {},
   "outputs": [],
   "source": [
    "carga_horaria <- data.frame(cursos, horas)"
   ]
  },
  {
   "cell_type": "code",
   "execution_count": null,
   "metadata": {},
   "outputs": [],
   "source": [
    "class(carga_horaria)"
   ]
  },
  {
   "cell_type": "code",
   "execution_count": null,
   "metadata": {},
   "outputs": [],
   "source": [
    "str(carga_horaria)\n",
    "#la función str nos permite analizar la estructura de los datos"
   ]
  },
  {
   "cell_type": "code",
   "execution_count": null,
   "metadata": {},
   "outputs": [],
   "source": [
    "dim(carga_horaria)\n",
    "#dim devuelve las dimensiones del data.frame"
   ]
  },
  {
   "cell_type": "code",
   "execution_count": null,
   "metadata": {},
   "outputs": [],
   "source": [
    "colnames(carga_horaria)\n",
    "#colnames nos devuelve los nombres de las columnas, de forma similar existe rownames"
   ]
  },
  {
   "cell_type": "markdown",
   "metadata": {},
   "source": [
    "También podemos agregar más columnas o filas a un dataframe"
   ]
  },
  {
   "cell_type": "code",
   "execution_count": null,
   "metadata": {},
   "outputs": [],
   "source": [
    "?cbind"
   ]
  },
  {
   "cell_type": "code",
   "execution_count": null,
   "metadata": {},
   "outputs": [],
   "source": [
    "?rbind"
   ]
  },
  {
   "cell_type": "code",
   "execution_count": null,
   "metadata": {},
   "outputs": [],
   "source": [
    "profesores <- c(\"Cristina\", \"Cristina\", \"Andrés\")"
   ]
  },
  {
   "cell_type": "code",
   "execution_count": null,
   "metadata": {},
   "outputs": [],
   "source": [
    "carga_horaria <- cbind(carga_horaria, profesores)\n",
    "#fijense que estoy pisando la variable vieja\n",
    "# agregando una nueva columna\n",
    "#de forma similar puedo agregar filas con rbind "
   ]
  },
  {
   "cell_type": "markdown",
   "metadata": {},
   "source": [
    "Las matrices de forma similar a los vectores, sólo van a permitir contener un único tipo de dato"
   ]
  },
  {
   "cell_type": "code",
   "execution_count": null,
   "metadata": {},
   "outputs": [],
   "source": [
    "?matrix"
   ]
  },
  {
   "cell_type": "code",
   "execution_count": null,
   "metadata": {},
   "outputs": [],
   "source": [
    "?seq"
   ]
  },
  {
   "cell_type": "code",
   "execution_count": null,
   "metadata": {},
   "outputs": [],
   "source": [
    "v      <- seq(1, 9)"
   ]
  },
  {
   "cell_type": "code",
   "execution_count": null,
   "metadata": {},
   "outputs": [],
   "source": [
    "m1     <- matrix(data = v, nrow = 3, ncol = 3, byrow = TRUE)\n",
    "m2     <- matrix(data = v, nrow = 3, ncol = 3, byrow = FALSE)"
   ]
  },
  {
   "cell_type": "code",
   "execution_count": null,
   "metadata": {},
   "outputs": [],
   "source": [
    "m1\n",
    "m2"
   ]
  },
  {
   "cell_type": "markdown",
   "metadata": {},
   "source": [
    "# Subsetting\n",
    "\n",
    "Vamos a trabajar con un dataset que se encuentra dentro del paquete 'datasets' que se llama PlantGrowth, que \n",
    "contiene los datos de peso seco de plantas crecidas bajo distintas condiciones. R es un lenguaje que permite extender su\n",
    "funcionalidad básica a partir de paquetes instalables y cargables a gusto del consumidor. "
   ]
  },
  {
   "cell_type": "code",
   "execution_count": null,
   "metadata": {},
   "outputs": [],
   "source": [
    "plantas <- datasets::PlantGrowth\n",
    "# Al dataset lo nombro como \"plantas\"\n",
    "head(plantas)\n",
    "# Nos muestra las primeras filas del dataset"
   ]
  },
  {
   "cell_type": "code",
   "execution_count": null,
   "metadata": {},
   "outputs": [],
   "source": [
    "colnames(plantas)"
   ]
  },
  {
   "cell_type": "code",
   "execution_count": null,
   "metadata": {},
   "outputs": [],
   "source": [
    "dim(plantas)"
   ]
  },
  {
   "cell_type": "code",
   "execution_count": null,
   "metadata": {},
   "outputs": [],
   "source": [
    "str(plantas)          "
   ]
  },
  {
   "cell_type": "code",
   "execution_count": null,
   "metadata": {},
   "outputs": [],
   "source": [
    "class(plantas$group)\n",
    "# factor es una clase de escructura de datos\n",
    "# similar a un vector que se reserva para asignar \n",
    "# variables cualitativas"
   ]
  },
  {
   "cell_type": "code",
   "execution_count": null,
   "metadata": {},
   "outputs": [],
   "source": [
    "levels(plantas$group)\n",
    "# levels son los distintos valores que pueden \n",
    "# tomar los elementos dentro del objeto factor, en \n",
    "# este caso serían los distintos tratamiento a \n",
    "# los que se sometieron las plantas."
   ]
  },
  {
   "cell_type": "code",
   "execution_count": null,
   "metadata": {},
   "outputs": [],
   "source": [
    "plantas$weight\n",
    "# imprimir en pantalla la primera columna del dataset"
   ]
  },
  {
   "cell_type": "code",
   "execution_count": null,
   "metadata": {},
   "outputs": [],
   "source": [
    "plantas[, 1] \n",
    "# otra forma de hacer lo mismo"
   ]
  },
  {
   "cell_type": "code",
   "execution_count": null,
   "metadata": {},
   "outputs": [],
   "source": [
    "plantas[, \"weight\"]\n",
    "# y otra más..."
   ]
  },
  {
   "cell_type": "code",
   "execution_count": null,
   "metadata": {},
   "outputs": [],
   "source": [
    "plantas[15, 1]\n",
    "# imprimo en pantalla el valor que toma el peso\n",
    "# (primera columna) en la planta número 15\n",
    "# el primer valor entre corchetes indica a\n",
    "# qué fila quiero acceder, y el segundo\n",
    "# valor a qué columna"
   ]
  },
  {
   "cell_type": "markdown",
   "metadata": {},
   "source": [
    "#¿cómo haría si quiero que me muestre en pantalla solamente las filas que corresponden al tratamiento 2?"
   ]
  },
  {
   "cell_type": "code",
   "execution_count": null,
   "metadata": {},
   "outputs": [],
   "source": [
    "?which"
   ]
  },
  {
   "cell_type": "code",
   "execution_count": null,
   "metadata": {
    "scrolled": true
   },
   "outputs": [],
   "source": [
    "plantas[which(plantas$group == \"trt2\"), ]\n",
    "# con which le estoy preguntando cuáles son\n",
    "# las filas en las que en la columna\n",
    "# \"group\" el valor sea igual a \"trt2\""
   ]
  },
  {
   "cell_type": "markdown",
   "metadata": {},
   "source": [
    "¿Y si quiero que me muestre las plantas que pesan más que 5.5?"
   ]
  },
  {
   "cell_type": "code",
   "execution_count": null,
   "metadata": {},
   "outputs": [],
   "source": [
    "plantas[which(plantas$weight > 5.5), ]"
   ]
  },
  {
   "cell_type": "code",
   "execution_count": null,
   "metadata": {},
   "outputs": [],
   "source": [
    "mayor5.5 <- plantas$weight > 5.5\n",
    "# otra manera de hacer lo mismo, pero antes\n",
    "# genero un vector logico que va a evaluar en\n",
    "# cada fila si el valor de peso es mayor a 5.5 o no\n",
    "mayor5.5"
   ]
  },
  {
   "cell_type": "code",
   "execution_count": null,
   "metadata": {},
   "outputs": [],
   "source": [
    "plantas[mayor5.5, ]\n",
    "# uso ese vector para subsettear el data.frame"
   ]
  },
  {
   "cell_type": "markdown",
   "metadata": {},
   "source": [
    "Ahora vamos a hacer lo mismo pero con dos condiciones: \n",
    "  * voy a querer imprimir en pantalla las plantas que pertenecen\n",
    "  * al tratamiento 2 y que pesan más de 5.5"
   ]
  },
  {
   "cell_type": "code",
   "execution_count": null,
   "metadata": {},
   "outputs": [],
   "source": [
    "plantas[which(plantas$weight > 5.5 & plantas$group == \"trt2\"), ]"
   ]
  },
  {
   "cell_type": "markdown",
   "metadata": {},
   "source": [
    "También puedo guardar la tabla subseteada como un nuevo objeto"
   ]
  },
  {
   "cell_type": "code",
   "execution_count": null,
   "metadata": {},
   "outputs": [],
   "source": [
    "plantas2 <- plantas[which(plantas$weight > 5.5 & plantas$group == \"trt2\"), ]"
   ]
  },
  {
   "cell_type": "markdown",
   "metadata": {},
   "source": [
    "Ahora vamos a ver cómo se subsetea una lista.\n",
    "En las listas, al poder contener objetos muy variados, hay que tener \n",
    "ciertas consideraciones a la hora de subsetear."
   ]
  },
  {
   "cell_type": "code",
   "execution_count": null,
   "metadata": {},
   "outputs": [],
   "source": [
    "tecnicas_BioMol <- list(\"Southern\", \"Western\" , c(\"Northern\", \"RNASeq\", \"RTPCR\"))"
   ]
  },
  {
   "cell_type": "code",
   "execution_count": null,
   "metadata": {},
   "outputs": [],
   "source": [
    "length(tecnicas_BioMol)\n",
    "# ¿cuántos elementos tiene la lista? ¿por qué?"
   ]
  },
  {
   "cell_type": "code",
   "execution_count": null,
   "metadata": {},
   "outputs": [],
   "source": [
    "tecnicas_BioMol[1]\n",
    "# quiero imprimir el primer elemento de la lista..."
   ]
  },
  {
   "cell_type": "code",
   "execution_count": null,
   "metadata": {},
   "outputs": [],
   "source": [
    "class(tecnicas_BioMol[1])\n",
    "# pero..."
   ]
  },
  {
   "cell_type": "code",
   "execution_count": null,
   "metadata": {},
   "outputs": [],
   "source": [
    "tecnicas_BioMol[[1]]\n",
    "# ¿cuál es la diferencias con el paso anterior?"
   ]
  },
  {
   "cell_type": "code",
   "execution_count": null,
   "metadata": {},
   "outputs": [],
   "source": [
    "class(tecnicas_BioMol[[1]])"
   ]
  },
  {
   "cell_type": "code",
   "execution_count": null,
   "metadata": {},
   "outputs": [],
   "source": [
    "tecnicas_BioMol[[3]]\n",
    "# ¿qué ocurre cuando tengo un vector dentro de una lista?"
   ]
  },
  {
   "cell_type": "code",
   "execution_count": null,
   "metadata": {},
   "outputs": [],
   "source": [
    "tecnicas_BioMol[[3]][2]\n",
    "# para llegar al elemento que se encuentra en la 2da posición en la lista"
   ]
  },
  {
   "cell_type": "markdown",
   "metadata": {},
   "source": [
    "También puedo nombrar a cada elemento de la lista y usarlos para subsetear"
   ]
  },
  {
   "cell_type": "code",
   "execution_count": null,
   "metadata": {},
   "outputs": [],
   "source": [
    "tecnicas_BioMol <- list(DNA = \"Southern\", Proteinas = \"Western\" , RNA = c(\"Northern\", \"RNASeq\", \"RTPCR\"))\n",
    "tecnicas_BioMol$RNA"
   ]
  },
  {
   "cell_type": "markdown",
   "metadata": {},
   "source": [
    "# Estructuras de Control\n",
    "\n",
    "Bamos a usar un ejemplo: queremos saber cuanto vale la suma de los primeros 100 números naturales.\n",
    "Para eso tenemos que tener una variable que vaya acumulando el resultado de la suma en cada iteración (n), y otra \n",
    "variable que vaya recorriendo los números desde 1 hasta 100 (i)"
   ]
  },
  {
   "cell_type": "code",
   "execution_count": null,
   "metadata": {},
   "outputs": [],
   "source": [
    "n=0\n",
    "for (i in 1:100) {\n",
    "  n <- n+i\n",
    "}\n",
    "print(n)"
   ]
  },
  {
   "cell_type": "markdown",
   "metadata": {},
   "source": [
    "¿Hay alguna forma de hacer lo mismo pero sin utilizar un for?"
   ]
  },
  {
   "cell_type": "code",
   "execution_count": null,
   "metadata": {},
   "outputs": [],
   "source": [
    "sum(1:100)"
   ]
  },
  {
   "cell_type": "markdown",
   "metadata": {},
   "source": [
    "Queremos saber si un número es par o impar, entonces debemos usar la estructura if - else"
   ]
  },
  {
   "cell_type": "code",
   "execution_count": null,
   "metadata": {},
   "outputs": [],
   "source": [
    "numero = 10\n",
    "if (numero%%2 == 0){\n",
    "  print(\"El número es par\")\n",
    "} else {\n",
    "  print(\"El número es impar\")\n",
    "}"
   ]
  },
  {
   "cell_type": "markdown",
   "metadata": {},
   "source": [
    "Esta es otra forma pero imprimiendo de otra manera los resultados (más fachero)"
   ]
  },
  {
   "cell_type": "code",
   "execution_count": null,
   "metadata": {},
   "outputs": [],
   "source": [
    "numero = 10\n",
    "if (numero%%2 == 0){\n",
    "  print(paste(\"El número\", numero, \"es par\"))\n",
    "} else {\n",
    "  print(paste(\"El número\", numero, \"es impar\"))\n",
    "}"
   ]
  },
  {
   "cell_type": "code",
   "execution_count": null,
   "metadata": {},
   "outputs": [],
   "source": [
    "?paste"
   ]
  },
  {
   "cell_type": "markdown",
   "metadata": {},
   "source": [
    "Ahora queremos guardar en una variable la suma de los números pares desde 1 a 100 y en otra variable la suma de \n",
    "los números impares. En este caso vamos a necesitar un \"if\" que me permita saber si un número es par o impar. \n",
    "\n",
    "El operador %% me permite saber el resto de la división, por ej. 48%%2 va a devolver 0, que 48 es divisible \n",
    "por 2"
   ]
  },
  {
   "cell_type": "code",
   "execution_count": null,
   "metadata": {},
   "outputs": [],
   "source": [
    "pares   = 0\n",
    "impares = 0\n",
    "\n",
    "for (i in 1:100){\n",
    "  if (i%%2 == 0)\n",
    "    pares = pares + i\n",
    "  else{\n",
    "    impares = impares +i\n",
    "  }\n",
    "}\n",
    "\n",
    "print(pares)\n",
    "print(impares)"
   ]
  },
  {
   "cell_type": "markdown",
   "metadata": {},
   "source": [
    "¿Hay alguna forma de hacer lo mismo pero sin utilizar un for ni un if?"
   ]
  },
  {
   "cell_type": "code",
   "execution_count": null,
   "metadata": {},
   "outputs": [],
   "source": [
    "pares = sum(seq(2, 100, by = 2))\n",
    "impares = sum(seq(1, 100, by = 2))"
   ]
  },
  {
   "cell_type": "code",
   "execution_count": null,
   "metadata": {},
   "outputs": [],
   "source": [
    "?seq"
   ]
  },
  {
   "cell_type": "markdown",
   "metadata": {},
   "source": [
    "# Crear Funciones"
   ]
  },
  {
   "cell_type": "markdown",
   "metadata": {},
   "source": [
    "Primer ejemplo sencillo para definir una función en R"
   ]
  },
  {
   "cell_type": "code",
   "execution_count": null,
   "metadata": {},
   "outputs": [],
   "source": [
    "sumar <- function(x, y) {\n",
    "  print(x+y)\n",
    "}"
   ]
  },
  {
   "cell_type": "code",
   "execution_count": null,
   "metadata": {},
   "outputs": [],
   "source": [
    "sumar(2, 3)"
   ]
  },
  {
   "cell_type": "code",
   "execution_count": null,
   "metadata": {},
   "outputs": [],
   "source": [
    "sumar <- function(x, y) {\n",
    "  suma <- x+y\n",
    "  return(suma)\n",
    "}"
   ]
  },
  {
   "cell_type": "code",
   "execution_count": null,
   "metadata": {},
   "outputs": [],
   "source": [
    "total <- sumar(2, 3)\n",
    "print(total)"
   ]
  },
  {
   "cell_type": "code",
   "execution_count": null,
   "metadata": {},
   "outputs": [],
   "source": [
    "total <- sumar(total, 10)"
   ]
  },
  {
   "cell_type": "markdown",
   "metadata": {},
   "source": [
    "Otro ejemplo pero usando un for dentro de la función..."
   ]
  },
  {
   "cell_type": "code",
   "execution_count": null,
   "metadata": {},
   "outputs": [],
   "source": [
    "sumar_hasta <- function(n){\n",
    "  suma_i <- 0\n",
    "  for(i in 1:n){\n",
    "    suma_i = suma_i + i\n",
    "  }\n",
    "  return(suma_i)\n",
    "}"
   ]
  },
  {
   "cell_type": "code",
   "execution_count": null,
   "metadata": {},
   "outputs": [],
   "source": [
    "sumar_hasta(100)"
   ]
  },
  {
   "cell_type": "code",
   "execution_count": null,
   "metadata": {},
   "outputs": [],
   "source": [
    "sumar_hasta(1010)"
   ]
  },
  {
   "cell_type": "markdown",
   "metadata": {},
   "source": [
    "# Importación de Paquetes"
   ]
  },
  {
   "cell_type": "code",
   "execution_count": null,
   "metadata": {},
   "outputs": [],
   "source": [
    "install.packages(\"ggplot2\")"
   ]
  },
  {
   "cell_type": "code",
   "execution_count": null,
   "metadata": {},
   "outputs": [],
   "source": [
    "library(ggplot2)"
   ]
  },
  {
   "cell_type": "markdown",
   "metadata": {},
   "source": [
    "# Exportación e Importación"
   ]
  },
  {
   "cell_type": "markdown",
   "metadata": {},
   "source": [
    "Vamos a exportar la tabla del experimento de crecimiento de plantas filtrada por tipo de tratamiento (trt2) y por \n",
    "peso (plantas con peso mayor a 5.5)"
   ]
  },
  {
   "cell_type": "code",
   "execution_count": null,
   "metadata": {},
   "outputs": [],
   "source": [
    "getwd()\n",
    "# Para saber donde estamos parados"
   ]
  },
  {
   "cell_type": "code",
   "execution_count": null,
   "metadata": {},
   "outputs": [],
   "source": [
    "setwd()\n",
    "# Para elegir donde estamos parados"
   ]
  },
  {
   "cell_type": "code",
   "execution_count": null,
   "metadata": {},
   "outputs": [],
   "source": [
    "?write.csv"
   ]
  },
  {
   "cell_type": "code",
   "execution_count": null,
   "metadata": {},
   "outputs": [],
   "source": [
    "write.table(plantas2, file = \"plantas_filtradas.csv\", sep=\",\", quote = F, row.names = F) #Probar otros sep \" \", \"\\t\""
   ]
  },
  {
   "cell_type": "markdown",
   "metadata": {},
   "source": [
    "También se puede exportar en un tipo de archivo especial que permite guardar en un solo archivo uno o más objetos de R. Vamos a exportar tanto la tabla original como la tabla filtrada en el archivo \"plantas_filtradas.RData\""
   ]
  },
  {
   "cell_type": "code",
   "execution_count": null,
   "metadata": {},
   "outputs": [],
   "source": [
    "?save"
   ]
  },
  {
   "cell_type": "code",
   "execution_count": null,
   "metadata": {},
   "outputs": [],
   "source": [
    "save(plantas, plantas2, file = \"plantas_filtradas.RData\")"
   ]
  },
  {
   "cell_type": "markdown",
   "metadata": {},
   "source": [
    "Vamos a borrar los objetos que acabamos de guardar para ver cómo los importamos de nuevo a nuestra sesión"
   ]
  },
  {
   "cell_type": "code",
   "execution_count": null,
   "metadata": {},
   "outputs": [],
   "source": [
    "rm(plantas, plantas2)\n",
    "# este comando eliminará de nuestra sesión estos dos objetos"
   ]
  },
  {
   "cell_type": "code",
   "execution_count": null,
   "metadata": {},
   "outputs": [],
   "source": [
    "load(\"plantas_filtradas.RData\")\n",
    "# ahora los volvemos a importar desde el archivo plantas_filtradas.RData"
   ]
  },
  {
   "cell_type": "markdown",
   "metadata": {},
   "source": [
    "También podemos levantar un archivo de tabla tipo csv o separado por tabs u espacios"
   ]
  },
  {
   "cell_type": "code",
   "execution_count": null,
   "metadata": {},
   "outputs": [],
   "source": [
    "plantas_leidas <- read.table(file = \"plantas_filtradas.csv\", header = T, sep=\",\")\n",
    "# Probar otros sep \" \", \"\\t\""
   ]
  },
  {
   "cell_type": "markdown",
   "metadata": {},
   "source": [
    "# Algunos gráficos"
   ]
  },
  {
   "cell_type": "markdown",
   "metadata": {},
   "source": [
    "Generamos algunos datos para graficar"
   ]
  },
  {
   "cell_type": "code",
   "execution_count": null,
   "metadata": {},
   "outputs": [],
   "source": [
    "x <- seq(from=-2*pi, to=2*pi, by=0.1)\n",
    "y <- sin(x)\n",
    "w <- cos(x)\n",
    "z <- tan(x)"
   ]
  },
  {
   "cell_type": "markdown",
   "metadata": {},
   "source": [
    "Los graficamos con la libreria gráfica de r"
   ]
  },
  {
   "cell_type": "code",
   "execution_count": null,
   "metadata": {},
   "outputs": [],
   "source": [
    "plot(x, y)\n",
    "points(x, w, col=\"red\")\n",
    "lines(x, z, col=\"blue\")\n",
    "abline(h=0, col=\"green\")\n",
    "abline(v=1, col=\"green\")\n",
    "abline(a=0, b=0.5, col=\"cyan\")"
   ]
  },
  {
   "cell_type": "markdown",
   "metadata": {},
   "source": [
    "Generamos datos de distribuciones uniforme y normal"
   ]
  },
  {
   "cell_type": "code",
   "execution_count": null,
   "metadata": {},
   "outputs": [],
   "source": [
    "uniformes <- runif(100000)\n",
    "normales  <- rnorm(100000)"
   ]
  },
  {
   "cell_type": "markdown",
   "metadata": {},
   "source": [
    "Graficamos los histogramas"
   ]
  },
  {
   "cell_type": "code",
   "execution_count": null,
   "metadata": {},
   "outputs": [],
   "source": [
    "hist(uniformes)\n",
    "hist(normales, breaks=30)"
   ]
  },
  {
   "cell_type": "code",
   "execution_count": null,
   "metadata": {},
   "outputs": [],
   "source": []
  }
 ],
 "metadata": {
  "kernelspec": {
   "display_name": "R",
   "language": "R",
   "name": "ir"
  },
  "language_info": {
   "codemirror_mode": "r",
   "file_extension": ".r",
   "mimetype": "text/x-r-source",
   "name": "R",
   "pygments_lexer": "r",
   "version": "3.6.1"
  }
 },
 "nbformat": 4,
 "nbformat_minor": 2
}